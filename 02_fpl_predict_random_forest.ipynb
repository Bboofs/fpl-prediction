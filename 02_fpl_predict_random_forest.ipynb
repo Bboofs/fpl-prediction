{
 "cells": [
  {
   "cell_type": "code",
   "execution_count": 47,
   "metadata": {},
   "outputs": [],
   "source": [
    "import pandas as pd\n",
    "import numpy as np\n",
    "from pathlib import Path\n",
    "import matplotlib.pyplot as plt\n",
    "from sklearn.preprocessing import LabelEncoder\n",
    "from sklearn.feature_extraction import DictVectorizer\n",
    "from sklearn.ensemble import RandomForestRegressor\n",
    "from sklearn.impute import SimpleImputer\n",
    "# from dtreeviz.trees import *\n",
    "from helpers import *"
   ]
  },
  {
   "cell_type": "code",
   "execution_count": 22,
   "metadata": {},
   "outputs": [],
   "source": [
    "# path to project directory\n",
    "path = Path('./')"
   ]
  },
  {
   "cell_type": "code",
   "execution_count": 23,
   "metadata": {},
   "outputs": [],
   "source": [
    "# read in training dataset\n",
    "train_df = pd.read_csv(path/'data/train_v4.csv', index_col=0, dtype={'season':str})"
   ]
  },
  {
   "cell_type": "markdown",
   "metadata": {},
   "source": [
    "## Random Forest\n",
    "\n",
    "Random Forest is an ensemble tree-based predictive algorithm. In this case we will be using it for regression - we want to predict a continuous number, predicted points, for each player each game. It works by training many separate decision trees, each using a subset of the training data, and outputs the average prediction across all trees.\n",
    "\n",
    "Applying it to a time series problem, where metrics from recent time periods can be predicitve, requires us to add in window features (e.g. points scored last gameweek). These are created using the player_lag_features function from 00_fpl_features."
   ]
  },
  {
   "cell_type": "code",
   "execution_count": 24,
   "metadata": {},
   "outputs": [],
   "source": [
    "# add a bunch of player lag features\n",
    "lag_train_df, team_lag_vars = team_lag_features(train_df, ['total_points'], ['all', 1, 2, 3, 4, 5, 10])\n",
    "lag_train_df, player_lag_vars = player_lag_features(lag_train_df, ['total_points'], ['all', 1, 2, 3, 4, 5, 10])"
   ]
  },
  {
   "cell_type": "code",
   "execution_count": 25,
   "metadata": {},
   "outputs": [],
   "source": [
    "# imp = SimpleImputer(missing_values=np.nan, strategy='mean')"
   ]
  },
  {
   "cell_type": "code",
   "execution_count": null,
   "metadata": {},
   "outputs": [],
   "source": []
  },
  {
   "cell_type": "code",
   "execution_count": null,
   "metadata": {},
   "outputs": [],
   "source": []
  },
  {
   "cell_type": "code",
   "execution_count": 26,
   "metadata": {},
   "outputs": [
    {
     "data": {
      "text/html": [
       "<div>\n",
       "<style scoped>\n",
       "    .dataframe tbody tr th:only-of-type {\n",
       "        vertical-align: middle;\n",
       "    }\n",
       "\n",
       "    .dataframe tbody tr th {\n",
       "        vertical-align: top;\n",
       "    }\n",
       "\n",
       "    .dataframe thead th {\n",
       "        text-align: right;\n",
       "    }\n",
       "</style>\n",
       "<table border=\"1\" class=\"dataframe\">\n",
       "  <thead>\n",
       "    <tr style=\"text-align: right;\">\n",
       "      <th></th>\n",
       "      <th>player</th>\n",
       "      <th>gw</th>\n",
       "      <th>position</th>\n",
       "      <th>minutes</th>\n",
       "      <th>team</th>\n",
       "      <th>opponent_team</th>\n",
       "      <th>relative_market_value_team</th>\n",
       "      <th>relative_market_value_opponent_team</th>\n",
       "      <th>was_home</th>\n",
       "      <th>total_points</th>\n",
       "      <th>...</th>\n",
       "      <th>total_points_last_2</th>\n",
       "      <th>total_points_pg_last_2</th>\n",
       "      <th>total_points_last_3</th>\n",
       "      <th>total_points_pg_last_3</th>\n",
       "      <th>total_points_last_4</th>\n",
       "      <th>total_points_pg_last_4</th>\n",
       "      <th>total_points_last_5</th>\n",
       "      <th>total_points_pg_last_5</th>\n",
       "      <th>total_points_last_10</th>\n",
       "      <th>total_points_pg_last_10</th>\n",
       "    </tr>\n",
       "  </thead>\n",
       "  <tbody>\n",
       "    <tr>\n",
       "      <td>0</td>\n",
       "      <td>Aaron_Cresswell</td>\n",
       "      <td>1</td>\n",
       "      <td>2</td>\n",
       "      <td>0</td>\n",
       "      <td>West Ham United</td>\n",
       "      <td>Chelsea</td>\n",
       "      <td>NaN</td>\n",
       "      <td>NaN</td>\n",
       "      <td>False</td>\n",
       "      <td>0</td>\n",
       "      <td>...</td>\n",
       "      <td>0.0</td>\n",
       "      <td>NaN</td>\n",
       "      <td>0.0</td>\n",
       "      <td>NaN</td>\n",
       "      <td>0.0</td>\n",
       "      <td>NaN</td>\n",
       "      <td>0.0</td>\n",
       "      <td>NaN</td>\n",
       "      <td>0.0</td>\n",
       "      <td>NaN</td>\n",
       "    </tr>\n",
       "    <tr>\n",
       "      <td>1</td>\n",
       "      <td>Aaron_Lennon</td>\n",
       "      <td>1</td>\n",
       "      <td>3</td>\n",
       "      <td>15</td>\n",
       "      <td>Everton</td>\n",
       "      <td>Tottenham Hotspur</td>\n",
       "      <td>NaN</td>\n",
       "      <td>NaN</td>\n",
       "      <td>True</td>\n",
       "      <td>1</td>\n",
       "      <td>...</td>\n",
       "      <td>0.0</td>\n",
       "      <td>NaN</td>\n",
       "      <td>0.0</td>\n",
       "      <td>NaN</td>\n",
       "      <td>0.0</td>\n",
       "      <td>NaN</td>\n",
       "      <td>0.0</td>\n",
       "      <td>NaN</td>\n",
       "      <td>0.0</td>\n",
       "      <td>NaN</td>\n",
       "    </tr>\n",
       "    <tr>\n",
       "      <td>2</td>\n",
       "      <td>Aaron_Ramsey</td>\n",
       "      <td>1</td>\n",
       "      <td>3</td>\n",
       "      <td>60</td>\n",
       "      <td>Arsenal</td>\n",
       "      <td>Liverpool</td>\n",
       "      <td>NaN</td>\n",
       "      <td>NaN</td>\n",
       "      <td>True</td>\n",
       "      <td>2</td>\n",
       "      <td>...</td>\n",
       "      <td>0.0</td>\n",
       "      <td>NaN</td>\n",
       "      <td>0.0</td>\n",
       "      <td>NaN</td>\n",
       "      <td>0.0</td>\n",
       "      <td>NaN</td>\n",
       "      <td>0.0</td>\n",
       "      <td>NaN</td>\n",
       "      <td>0.0</td>\n",
       "      <td>NaN</td>\n",
       "    </tr>\n",
       "    <tr>\n",
       "      <td>3</td>\n",
       "      <td>Abdoulaye_Doucouré</td>\n",
       "      <td>1</td>\n",
       "      <td>3</td>\n",
       "      <td>0</td>\n",
       "      <td>Watford</td>\n",
       "      <td>Southampton</td>\n",
       "      <td>NaN</td>\n",
       "      <td>NaN</td>\n",
       "      <td>False</td>\n",
       "      <td>0</td>\n",
       "      <td>...</td>\n",
       "      <td>0.0</td>\n",
       "      <td>NaN</td>\n",
       "      <td>0.0</td>\n",
       "      <td>NaN</td>\n",
       "      <td>0.0</td>\n",
       "      <td>NaN</td>\n",
       "      <td>0.0</td>\n",
       "      <td>NaN</td>\n",
       "      <td>0.0</td>\n",
       "      <td>NaN</td>\n",
       "    </tr>\n",
       "    <tr>\n",
       "      <td>4</td>\n",
       "      <td>Abdul Rahman_Baba</td>\n",
       "      <td>1</td>\n",
       "      <td>2</td>\n",
       "      <td>0</td>\n",
       "      <td>Chelsea</td>\n",
       "      <td>West Ham United</td>\n",
       "      <td>NaN</td>\n",
       "      <td>NaN</td>\n",
       "      <td>True</td>\n",
       "      <td>0</td>\n",
       "      <td>...</td>\n",
       "      <td>0.0</td>\n",
       "      <td>NaN</td>\n",
       "      <td>0.0</td>\n",
       "      <td>NaN</td>\n",
       "      <td>0.0</td>\n",
       "      <td>NaN</td>\n",
       "      <td>0.0</td>\n",
       "      <td>NaN</td>\n",
       "      <td>0.0</td>\n",
       "      <td>NaN</td>\n",
       "    </tr>\n",
       "    <tr>\n",
       "      <td>...</td>\n",
       "      <td>...</td>\n",
       "      <td>...</td>\n",
       "      <td>...</td>\n",
       "      <td>...</td>\n",
       "      <td>...</td>\n",
       "      <td>...</td>\n",
       "      <td>...</td>\n",
       "      <td>...</td>\n",
       "      <td>...</td>\n",
       "      <td>...</td>\n",
       "      <td>...</td>\n",
       "      <td>...</td>\n",
       "      <td>...</td>\n",
       "      <td>...</td>\n",
       "      <td>...</td>\n",
       "      <td>...</td>\n",
       "      <td>...</td>\n",
       "      <td>...</td>\n",
       "      <td>...</td>\n",
       "      <td>...</td>\n",
       "      <td>...</td>\n",
       "    </tr>\n",
       "    <tr>\n",
       "      <td>90431</td>\n",
       "      <td>Heurelho da Silva_Gomes</td>\n",
       "      <td>38</td>\n",
       "      <td>1</td>\n",
       "      <td>0</td>\n",
       "      <td>Watford</td>\n",
       "      <td>Arsenal</td>\n",
       "      <td>0.472917</td>\n",
       "      <td>1.452343</td>\n",
       "      <td>False</td>\n",
       "      <td>0</td>\n",
       "      <td>...</td>\n",
       "      <td>0.0</td>\n",
       "      <td>NaN</td>\n",
       "      <td>0.0</td>\n",
       "      <td>NaN</td>\n",
       "      <td>0.0</td>\n",
       "      <td>NaN</td>\n",
       "      <td>0.0</td>\n",
       "      <td>NaN</td>\n",
       "      <td>0.0</td>\n",
       "      <td>NaN</td>\n",
       "    </tr>\n",
       "    <tr>\n",
       "      <td>90432</td>\n",
       "      <td>Tommy_Doyle</td>\n",
       "      <td>38</td>\n",
       "      <td>3</td>\n",
       "      <td>0</td>\n",
       "      <td>Manchester City</td>\n",
       "      <td>Norwich</td>\n",
       "      <td>2.430397</td>\n",
       "      <td>0.327574</td>\n",
       "      <td>True</td>\n",
       "      <td>0</td>\n",
       "      <td>...</td>\n",
       "      <td>0.0</td>\n",
       "      <td>NaN</td>\n",
       "      <td>0.0</td>\n",
       "      <td>NaN</td>\n",
       "      <td>1.0</td>\n",
       "      <td>6.0</td>\n",
       "      <td>1.0</td>\n",
       "      <td>6.0</td>\n",
       "      <td>1.0</td>\n",
       "      <td>6.000000</td>\n",
       "    </tr>\n",
       "    <tr>\n",
       "      <td>90433</td>\n",
       "      <td>Joseph_Anang</td>\n",
       "      <td>38</td>\n",
       "      <td>1</td>\n",
       "      <td>0</td>\n",
       "      <td>West Ham United</td>\n",
       "      <td>Aston Villa</td>\n",
       "      <td>0.709989</td>\n",
       "      <td>0.553818</td>\n",
       "      <td>True</td>\n",
       "      <td>0</td>\n",
       "      <td>...</td>\n",
       "      <td>0.0</td>\n",
       "      <td>NaN</td>\n",
       "      <td>0.0</td>\n",
       "      <td>NaN</td>\n",
       "      <td>0.0</td>\n",
       "      <td>NaN</td>\n",
       "      <td>0.0</td>\n",
       "      <td>NaN</td>\n",
       "      <td>0.0</td>\n",
       "      <td>NaN</td>\n",
       "    </tr>\n",
       "    <tr>\n",
       "      <td>90435</td>\n",
       "      <td>Japhet_Tanganga</td>\n",
       "      <td>38</td>\n",
       "      <td>2</td>\n",
       "      <td>0</td>\n",
       "      <td>Tottenham Hotspur</td>\n",
       "      <td>Crystal Palace</td>\n",
       "      <td>1.604904</td>\n",
       "      <td>0.430493</td>\n",
       "      <td>False</td>\n",
       "      <td>0</td>\n",
       "      <td>...</td>\n",
       "      <td>0.0</td>\n",
       "      <td>NaN</td>\n",
       "      <td>0.0</td>\n",
       "      <td>NaN</td>\n",
       "      <td>0.0</td>\n",
       "      <td>NaN</td>\n",
       "      <td>0.0</td>\n",
       "      <td>NaN</td>\n",
       "      <td>3.0</td>\n",
       "      <td>1.636364</td>\n",
       "    </tr>\n",
       "    <tr>\n",
       "      <td>90436</td>\n",
       "      <td>Ravel_Morrison</td>\n",
       "      <td>38</td>\n",
       "      <td>3</td>\n",
       "      <td>0</td>\n",
       "      <td>Sheffield United</td>\n",
       "      <td>Southampton</td>\n",
       "      <td>0.348678</td>\n",
       "      <td>0.526987</td>\n",
       "      <td>False</td>\n",
       "      <td>0</td>\n",
       "      <td>...</td>\n",
       "      <td>0.0</td>\n",
       "      <td>NaN</td>\n",
       "      <td>0.0</td>\n",
       "      <td>NaN</td>\n",
       "      <td>0.0</td>\n",
       "      <td>NaN</td>\n",
       "      <td>0.0</td>\n",
       "      <td>NaN</td>\n",
       "      <td>0.0</td>\n",
       "      <td>NaN</td>\n",
       "    </tr>\n",
       "  </tbody>\n",
       "</table>\n",
       "<p>48857 rows × 88 columns</p>\n",
       "</div>"
      ],
      "text/plain": [
       "                        player  gw  position  minutes               team  \\\n",
       "0              Aaron_Cresswell   1         2        0    West Ham United   \n",
       "1                 Aaron_Lennon   1         3       15            Everton   \n",
       "2                 Aaron_Ramsey   1         3       60            Arsenal   \n",
       "3           Abdoulaye_Doucouré   1         3        0            Watford   \n",
       "4            Abdul Rahman_Baba   1         2        0            Chelsea   \n",
       "...                        ...  ..       ...      ...                ...   \n",
       "90431  Heurelho da Silva_Gomes  38         1        0            Watford   \n",
       "90432              Tommy_Doyle  38         3        0    Manchester City   \n",
       "90433             Joseph_Anang  38         1        0    West Ham United   \n",
       "90435          Japhet_Tanganga  38         2        0  Tottenham Hotspur   \n",
       "90436           Ravel_Morrison  38         3        0   Sheffield United   \n",
       "\n",
       "           opponent_team  relative_market_value_team  \\\n",
       "0                Chelsea                         NaN   \n",
       "1      Tottenham Hotspur                         NaN   \n",
       "2              Liverpool                         NaN   \n",
       "3            Southampton                         NaN   \n",
       "4        West Ham United                         NaN   \n",
       "...                  ...                         ...   \n",
       "90431            Arsenal                    0.472917   \n",
       "90432            Norwich                    2.430397   \n",
       "90433        Aston Villa                    0.709989   \n",
       "90435     Crystal Palace                    1.604904   \n",
       "90436        Southampton                    0.348678   \n",
       "\n",
       "       relative_market_value_opponent_team  was_home  total_points  ...  \\\n",
       "0                                      NaN     False             0  ...   \n",
       "1                                      NaN      True             1  ...   \n",
       "2                                      NaN      True             2  ...   \n",
       "3                                      NaN     False             0  ...   \n",
       "4                                      NaN      True             0  ...   \n",
       "...                                    ...       ...           ...  ...   \n",
       "90431                             1.452343     False             0  ...   \n",
       "90432                             0.327574      True             0  ...   \n",
       "90433                             0.553818      True             0  ...   \n",
       "90435                             0.430493     False             0  ...   \n",
       "90436                             0.526987     False             0  ...   \n",
       "\n",
       "       total_points_last_2  total_points_pg_last_2  total_points_last_3  \\\n",
       "0                      0.0                     NaN                  0.0   \n",
       "1                      0.0                     NaN                  0.0   \n",
       "2                      0.0                     NaN                  0.0   \n",
       "3                      0.0                     NaN                  0.0   \n",
       "4                      0.0                     NaN                  0.0   \n",
       "...                    ...                     ...                  ...   \n",
       "90431                  0.0                     NaN                  0.0   \n",
       "90432                  0.0                     NaN                  0.0   \n",
       "90433                  0.0                     NaN                  0.0   \n",
       "90435                  0.0                     NaN                  0.0   \n",
       "90436                  0.0                     NaN                  0.0   \n",
       "\n",
       "       total_points_pg_last_3  total_points_last_4  total_points_pg_last_4  \\\n",
       "0                         NaN                  0.0                     NaN   \n",
       "1                         NaN                  0.0                     NaN   \n",
       "2                         NaN                  0.0                     NaN   \n",
       "3                         NaN                  0.0                     NaN   \n",
       "4                         NaN                  0.0                     NaN   \n",
       "...                       ...                  ...                     ...   \n",
       "90431                     NaN                  0.0                     NaN   \n",
       "90432                     NaN                  1.0                     6.0   \n",
       "90433                     NaN                  0.0                     NaN   \n",
       "90435                     NaN                  0.0                     NaN   \n",
       "90436                     NaN                  0.0                     NaN   \n",
       "\n",
       "       total_points_last_5  total_points_pg_last_5  total_points_last_10  \\\n",
       "0                      0.0                     NaN                   0.0   \n",
       "1                      0.0                     NaN                   0.0   \n",
       "2                      0.0                     NaN                   0.0   \n",
       "3                      0.0                     NaN                   0.0   \n",
       "4                      0.0                     NaN                   0.0   \n",
       "...                    ...                     ...                   ...   \n",
       "90431                  0.0                     NaN                   0.0   \n",
       "90432                  1.0                     6.0                   1.0   \n",
       "90433                  0.0                     NaN                   0.0   \n",
       "90435                  0.0                     NaN                   3.0   \n",
       "90436                  0.0                     NaN                   0.0   \n",
       "\n",
       "       total_points_pg_last_10  \n",
       "0                          NaN  \n",
       "1                          NaN  \n",
       "2                          NaN  \n",
       "3                          NaN  \n",
       "4                          NaN  \n",
       "...                        ...  \n",
       "90431                      NaN  \n",
       "90432                 6.000000  \n",
       "90433                      NaN  \n",
       "90435                 1.636364  \n",
       "90436                      NaN  \n",
       "\n",
       "[48857 rows x 88 columns]"
      ]
     },
     "execution_count": 26,
     "metadata": {},
     "output_type": "execute_result"
    }
   ],
   "source": [
    "lag_train_df[~np.isfinite(lag_train_df['total_points_pg_last_1'])]"
   ]
  },
  {
   "cell_type": "code",
   "execution_count": 90,
   "metadata": {},
   "outputs": [],
   "source": [
    "# set validaton point/length and categorical/continuous variables\n",
    "valid_season = '1920'\n",
    "valid_gw = 33\n",
    "valid_len = 6\n",
    "cat_vars = ['season', 'position', 'was_home', 'team', 'opponent_team']\n",
    "cont_vars = ['gw', 'minutes']\n",
    "dep_var = ['total_points']"
   ]
  },
  {
   "cell_type": "code",
   "execution_count": 91,
   "metadata": {},
   "outputs": [],
   "source": [
    "# cat_vars = cat_vars + ['minutes_last_all', \n",
    "#                        'minutes_last_1', \n",
    "#                        'minutes_last_2', \n",
    "#                        'minutes_last_3', \n",
    "#                        'minutes_last_4', \n",
    "#                        'minutes_last_5', \n",
    "#                        'minutes_last_10']"
   ]
  },
  {
   "cell_type": "code",
   "execution_count": 92,
   "metadata": {},
   "outputs": [],
   "source": [
    "# we want to set gw and season as ordered categorical variables\n",
    "# need lists with ordered categories\n",
    "ordered_gws = list(range(1,39))\n",
    "ordered_seasons = ['1617', '1718', '1819', '1920', '2021']\n",
    "\n",
    "# set as categories with correct order \n",
    "lag_train_df['gw'] = lag_train_df['gw'].astype('category')\n",
    "lag_train_df['season'] = lag_train_df['season'].astype('category')\n",
    "\n",
    "lag_train_df['gw'].cat.set_categories(ordered_gws, ordered=True, inplace=True)\n",
    "lag_train_df['season'].cat.set_categories(ordered_seasons, ordered=True, inplace=True)"
   ]
  },
  {
   "cell_type": "code",
   "execution_count": 93,
   "metadata": {},
   "outputs": [],
   "source": [
    "# create dataset with adjusted post-validation lag numbers\n",
    "train_valid_df, train_idx, valid_idx = create_lag_train(lag_train_df, \n",
    "                                                      cat_vars, cont_vars, \n",
    "                                                      player_lag_vars, team_lag_vars, dep_var,\n",
    "                                                      valid_season, valid_gw, valid_len)"
   ]
  },
  {
   "cell_type": "code",
   "execution_count": 94,
   "metadata": {},
   "outputs": [],
   "source": [
    "train_valid_df[team_lag_vars + player_lag_vars] = train_valid_df[team_lag_vars + player_lag_vars].fillna(0)"
   ]
  },
  {
   "cell_type": "code",
   "execution_count": 95,
   "metadata": {},
   "outputs": [],
   "source": [
    "# split out dependent variable\n",
    "X, y = train_valid_df[cat_vars + cont_vars + team_lag_vars + player_lag_vars].copy(), train_valid_df[dep_var].copy()"
   ]
  },
  {
   "cell_type": "code",
   "execution_count": 96,
   "metadata": {},
   "outputs": [],
   "source": [
    "# since position is categorical, it should be a string\n",
    "X['position'] = X['position'].apply(str)\n",
    "\n",
    "# need to transform season\n",
    "enc = LabelEncoder()\n",
    "X['season'] = enc.fit_transform(X['season'])\n",
    "X_dict = X.to_dict(\"records\")\n",
    "\n",
    "# Create the DictVectorizer object: dv\n",
    "dv = DictVectorizer(sparse=False, separator='_')\n",
    "\n",
    "# Apply dv on df: df_encoded\n",
    "X_encoded = dv.fit_transform(X_dict)\n",
    "\n",
    "X_df = pd.DataFrame(X_encoded, columns=dv.feature_names_)"
   ]
  },
  {
   "cell_type": "code",
   "execution_count": 97,
   "metadata": {},
   "outputs": [],
   "source": [
    "# split out training and validation sets\n",
    "X_train = X_df.iloc[train_idx]\n",
    "y_train = y.iloc[train_idx]\n",
    "X_test = X_df.iloc[valid_idx]\n",
    "y_test = y.iloc[valid_idx]"
   ]
  },
  {
   "cell_type": "code",
   "execution_count": 98,
   "metadata": {},
   "outputs": [],
   "source": [
    "# need to think about imputing NaN instead of setting to zero\n",
    "# imp.fit(X_train[team_lag_vars + player_lag_vars])"
   ]
  },
  {
   "cell_type": "code",
   "execution_count": 99,
   "metadata": {},
   "outputs": [],
   "source": [
    "def rf(xs, y, n_estimators=40, max_samples=50_000,\n",
    "       max_features=0.5, min_samples_leaf=5, **kwargs):\n",
    "    return RandomForestRegressor(n_jobs=-1, n_estimators=n_estimators,\n",
    "        max_samples=max_samples, max_features=max_features,\n",
    "        min_samples_leaf=min_samples_leaf, oob_score=True).fit(xs, y)"
   ]
  },
  {
   "cell_type": "code",
   "execution_count": 100,
   "metadata": {},
   "outputs": [],
   "source": [
    "m = rf(X_train, y_train.values.ravel())"
   ]
  },
  {
   "cell_type": "code",
   "execution_count": 101,
   "metadata": {},
   "outputs": [
    {
     "data": {
      "text/plain": [
       "0.824507"
      ]
     },
     "execution_count": 101,
     "metadata": {},
     "output_type": "execute_result"
    }
   ],
   "source": [
    "mae(m.predict(X_test), y_test.values.ravel())"
   ]
  },
  {
   "cell_type": "code",
   "execution_count": 50,
   "metadata": {},
   "outputs": [],
   "source": [
    "def rf_season(df, valid_season='1920'):\n",
    "    # empty list for scores\n",
    "    scores = []\n",
    "    valid_len = 6\n",
    "    \n",
    "    for valid_gw in range(1,40-valid_len):\n",
    "        # create dataset with adjusted post-validation lag numbers\n",
    "        train_valid_df, train_idx, valid_idx = create_lag_train(df, cat_vars, cont_vars, \n",
    "                                                                player_lag_vars, team_lag_vars, dep_var,\n",
    "                                                                valid_season, valid_gw, valid_len)\n",
    "        \n",
    "        train_valid_df[team_lag_vars + player_lag_vars] = train_valid_df[team_lag_vars + player_lag_vars].fillna(0)\n",
    "        \n",
    "        # split out dependent variable\n",
    "        X, y = train_valid_df[cat_vars + cont_vars + team_lag_vars + player_lag_vars].copy(), train_valid_df[dep_var].copy()\n",
    "        \n",
    "        # since position is categorical, it should be a string\n",
    "        X['position'] = X['position'].apply(str)\n",
    "\n",
    "        # need to transform season\n",
    "        enc = LabelEncoder()\n",
    "        X['season'] = enc.fit_transform(X['season'])\n",
    "        X_dict = X.to_dict(\"records\")\n",
    "\n",
    "        # Create the DictVectorizer object: dv\n",
    "        dv = DictVectorizer(sparse=False, separator='_')\n",
    "\n",
    "        # Apply dv on df: df_encoded\n",
    "        X_encoded = dv.fit_transform(X_dict)\n",
    "        X_df = pd.DataFrame(X_encoded, columns=dv.feature_names_)\n",
    "        \n",
    "        # split out training and validation sets\n",
    "        X_train = X_df.iloc[train_idx]\n",
    "        y_train = y.iloc[train_idx]\n",
    "        X_test = X_df.iloc[valid_idx]\n",
    "        y_test = y.iloc[valid_idx]\n",
    "        \n",
    "        m = rf(X_train, y_train.values.ravel()) \n",
    "        preds, targs = m.predict(X_test), y_test.values.ravel()\n",
    "        gw_mae = mae(preds, targs)\n",
    "        print(\"GW%d MAE: %f\" % (valid_gw, gw_mae))\n",
    "        \n",
    "        scores.append(gw_mae)\n",
    "        \n",
    "    return scores"
   ]
  },
  {
   "cell_type": "code",
   "execution_count": 51,
   "metadata": {},
   "outputs": [
    {
     "name": "stdout",
     "output_type": "stream",
     "text": [
      "GW1 MAE: 1.055717\n",
      "GW2 MAE: 1.051313\n",
      "GW3 MAE: 1.023638\n",
      "GW4 MAE: 0.990693\n",
      "GW5 MAE: 1.012531\n",
      "GW6 MAE: 1.000750\n",
      "GW7 MAE: 0.958488\n",
      "GW8 MAE: 0.991329\n",
      "GW9 MAE: 0.963497\n",
      "GW10 MAE: 0.982659\n",
      "GW11 MAE: 0.965372\n",
      "GW12 MAE: 0.954792\n",
      "GW13 MAE: 0.962902\n",
      "GW14 MAE: 0.948510\n",
      "GW15 MAE: 0.912756\n",
      "GW16 MAE: 0.898274\n",
      "GW17 MAE: 0.868056\n",
      "GW18 MAE: 0.862473\n",
      "GW19 MAE: 0.853625\n",
      "GW20 MAE: 0.873902\n",
      "GW21 MAE: 0.881360\n",
      "GW22 MAE: 0.858597\n",
      "GW23 MAE: 0.881897\n",
      "GW24 MAE: 0.876587\n",
      "GW25 MAE: 0.871095\n",
      "GW26 MAE: 0.842891\n",
      "GW27 MAE: 0.854503\n",
      "GW28 MAE: 0.849532\n",
      "GW29 MAE: 0.819249\n",
      "GW30 MAE: 0.843696\n",
      "GW31 MAE: 0.837069\n",
      "GW32 MAE: 0.834646\n",
      "GW33 MAE: 0.814498\n"
     ]
    }
   ],
   "source": [
    "scores = rf_season(lag_train_df)"
   ]
  },
  {
   "cell_type": "code",
   "execution_count": 52,
   "metadata": {},
   "outputs": [
    {
     "data": {
      "image/png": "[encoded data removed]",
      "text/plain": [
       "<Figure size 432x288 with 1 Axes>"
      ]
     },
     "metadata": {
      "needs_background": "light"
     },
     "output_type": "display_data"
    }
   ],
   "source": [
    "plt.plot(scores)\n",
    "plt.ylabel('GW MAE')\n",
    "plt.xlabel('GW')\n",
    "plt.text(15, 1, 'Season Avg MAE: %.2f' % np.mean(scores), bbox={'facecolor':'white', 'alpha':1, 'pad':5})\n",
    "plt.show()"
   ]
  },
  {
   "cell_type": "code",
   "execution_count": null,
   "metadata": {},
   "outputs": [],
   "source": []
  },
  {
   "cell_type": "code",
   "execution_count": 53,
   "metadata": {},
   "outputs": [
    {
     "data": {
      "text/plain": [
       "2.757057"
      ]
     },
     "execution_count": 53,
     "metadata": {},
     "output_type": "execute_result"
    }
   ],
   "source": [
    "r_mse(m.predict(X_test[X_test['minutes'] > 0]), y_test[X_test['minutes'] > 0].values.ravel())"
   ]
  },
  {
   "cell_type": "code",
   "execution_count": 66,
   "metadata": {},
   "outputs": [],
   "source": [
    "def rf_feat_importance(m, df):\n",
    "    return pd.DataFrame({'cols':df.columns, 'imp':m.feature_importances_}\n",
    "                       ).sort_values('imp', ascending=False)"
   ]
  },
  {
   "cell_type": "code",
   "execution_count": 102,
   "metadata": {},
   "outputs": [
    {
     "data": {
      "text/html": [
       "<div>\n",
       "<style scoped>\n",
       "    .dataframe tbody tr th:only-of-type {\n",
       "        vertical-align: middle;\n",
       "    }\n",
       "\n",
       "    .dataframe tbody tr th {\n",
       "        vertical-align: top;\n",
       "    }\n",
       "\n",
       "    .dataframe thead th {\n",
       "        text-align: right;\n",
       "    }\n",
       "</style>\n",
       "<table border=\"1\" class=\"dataframe\">\n",
       "  <thead>\n",
       "    <tr style=\"text-align: right;\">\n",
       "      <th></th>\n",
       "      <th>cols</th>\n",
       "      <th>imp</th>\n",
       "    </tr>\n",
       "  </thead>\n",
       "  <tbody>\n",
       "    <tr>\n",
       "      <td>1</td>\n",
       "      <td>minutes</td>\n",
       "      <td>0.374765</td>\n",
       "    </tr>\n",
       "    <tr>\n",
       "      <td>2</td>\n",
       "      <td>minutes_last_1</td>\n",
       "      <td>0.082968</td>\n",
       "    </tr>\n",
       "    <tr>\n",
       "      <td>4</td>\n",
       "      <td>minutes_last_2</td>\n",
       "      <td>0.053763</td>\n",
       "    </tr>\n",
       "    <tr>\n",
       "      <td>78</td>\n",
       "      <td>total_points_pg_last_all</td>\n",
       "      <td>0.040620</td>\n",
       "    </tr>\n",
       "    <tr>\n",
       "      <td>92</td>\n",
       "      <td>total_points_team_pg_last_all_opponent</td>\n",
       "      <td>0.029858</td>\n",
       "    </tr>\n",
       "    <tr>\n",
       "      <td>91</td>\n",
       "      <td>total_points_team_pg_last_all</td>\n",
       "      <td>0.023842</td>\n",
       "    </tr>\n",
       "    <tr>\n",
       "      <td>73</td>\n",
       "      <td>total_points_pg_last_10</td>\n",
       "      <td>0.022116</td>\n",
       "    </tr>\n",
       "    <tr>\n",
       "      <td>5</td>\n",
       "      <td>minutes_last_3</td>\n",
       "      <td>0.021552</td>\n",
       "    </tr>\n",
       "    <tr>\n",
       "      <td>8</td>\n",
       "      <td>minutes_last_all</td>\n",
       "      <td>0.020103</td>\n",
       "    </tr>\n",
       "    <tr>\n",
       "      <td>81</td>\n",
       "      <td>total_points_team_pg_last_10_opponent</td>\n",
       "      <td>0.018521</td>\n",
       "    </tr>\n",
       "    <tr>\n",
       "      <td>80</td>\n",
       "      <td>total_points_team_pg_last_10</td>\n",
       "      <td>0.016498</td>\n",
       "    </tr>\n",
       "    <tr>\n",
       "      <td>90</td>\n",
       "      <td>total_points_team_pg_last_5_opponent</td>\n",
       "      <td>0.015451</td>\n",
       "    </tr>\n",
       "    <tr>\n",
       "      <td>72</td>\n",
       "      <td>total_points_pg_last_1</td>\n",
       "      <td>0.015287</td>\n",
       "    </tr>\n",
       "    <tr>\n",
       "      <td>84</td>\n",
       "      <td>total_points_team_pg_last_2_opponent</td>\n",
       "      <td>0.014965</td>\n",
       "    </tr>\n",
       "    <tr>\n",
       "      <td>89</td>\n",
       "      <td>total_points_team_pg_last_5</td>\n",
       "      <td>0.014680</td>\n",
       "    </tr>\n",
       "    <tr>\n",
       "      <td>0</td>\n",
       "      <td>gw</td>\n",
       "      <td>0.014516</td>\n",
       "    </tr>\n",
       "    <tr>\n",
       "      <td>3</td>\n",
       "      <td>minutes_last_10</td>\n",
       "      <td>0.014255</td>\n",
       "    </tr>\n",
       "    <tr>\n",
       "      <td>82</td>\n",
       "      <td>total_points_team_pg_last_1_opponent</td>\n",
       "      <td>0.014196</td>\n",
       "    </tr>\n",
       "    <tr>\n",
       "      <td>88</td>\n",
       "      <td>total_points_team_pg_last_4_opponent</td>\n",
       "      <td>0.013975</td>\n",
       "    </tr>\n",
       "    <tr>\n",
       "      <td>83</td>\n",
       "      <td>total_points_team_pg_last_2</td>\n",
       "      <td>0.013700</td>\n",
       "    </tr>\n",
       "    <tr>\n",
       "      <td>77</td>\n",
       "      <td>total_points_pg_last_5</td>\n",
       "      <td>0.013631</td>\n",
       "    </tr>\n",
       "    <tr>\n",
       "      <td>86</td>\n",
       "      <td>total_points_team_pg_last_3_opponent</td>\n",
       "      <td>0.013304</td>\n",
       "    </tr>\n",
       "    <tr>\n",
       "      <td>79</td>\n",
       "      <td>total_points_team_pg_last_1</td>\n",
       "      <td>0.013223</td>\n",
       "    </tr>\n",
       "    <tr>\n",
       "      <td>87</td>\n",
       "      <td>total_points_team_pg_last_4</td>\n",
       "      <td>0.013158</td>\n",
       "    </tr>\n",
       "    <tr>\n",
       "      <td>75</td>\n",
       "      <td>total_points_pg_last_3</td>\n",
       "      <td>0.012903</td>\n",
       "    </tr>\n",
       "    <tr>\n",
       "      <td>85</td>\n",
       "      <td>total_points_team_pg_last_3</td>\n",
       "      <td>0.012354</td>\n",
       "    </tr>\n",
       "    <tr>\n",
       "      <td>76</td>\n",
       "      <td>total_points_pg_last_4</td>\n",
       "      <td>0.012278</td>\n",
       "    </tr>\n",
       "    <tr>\n",
       "      <td>74</td>\n",
       "      <td>total_points_pg_last_2</td>\n",
       "      <td>0.012108</td>\n",
       "    </tr>\n",
       "    <tr>\n",
       "      <td>7</td>\n",
       "      <td>minutes_last_5</td>\n",
       "      <td>0.008969</td>\n",
       "    </tr>\n",
       "    <tr>\n",
       "      <td>6</td>\n",
       "      <td>minutes_last_4</td>\n",
       "      <td>0.007985</td>\n",
       "    </tr>\n",
       "  </tbody>\n",
       "</table>\n",
       "</div>"
      ],
      "text/plain": [
       "                                      cols       imp\n",
       "1                                  minutes  0.374765\n",
       "2                           minutes_last_1  0.082968\n",
       "4                           minutes_last_2  0.053763\n",
       "78                total_points_pg_last_all  0.040620\n",
       "92  total_points_team_pg_last_all_opponent  0.029858\n",
       "91           total_points_team_pg_last_all  0.023842\n",
       "73                 total_points_pg_last_10  0.022116\n",
       "5                           minutes_last_3  0.021552\n",
       "8                         minutes_last_all  0.020103\n",
       "81   total_points_team_pg_last_10_opponent  0.018521\n",
       "80            total_points_team_pg_last_10  0.016498\n",
       "90    total_points_team_pg_last_5_opponent  0.015451\n",
       "72                  total_points_pg_last_1  0.015287\n",
       "84    total_points_team_pg_last_2_opponent  0.014965\n",
       "89             total_points_team_pg_last_5  0.014680\n",
       "0                                       gw  0.014516\n",
       "3                          minutes_last_10  0.014255\n",
       "82    total_points_team_pg_last_1_opponent  0.014196\n",
       "88    total_points_team_pg_last_4_opponent  0.013975\n",
       "83             total_points_team_pg_last_2  0.013700\n",
       "77                  total_points_pg_last_5  0.013631\n",
       "86    total_points_team_pg_last_3_opponent  0.013304\n",
       "79             total_points_team_pg_last_1  0.013223\n",
       "87             total_points_team_pg_last_4  0.013158\n",
       "75                  total_points_pg_last_3  0.012903\n",
       "85             total_points_team_pg_last_3  0.012354\n",
       "76                  total_points_pg_last_4  0.012278\n",
       "74                  total_points_pg_last_2  0.012108\n",
       "7                           minutes_last_5  0.008969\n",
       "6                           minutes_last_4  0.007985"
      ]
     },
     "execution_count": 102,
     "metadata": {},
     "output_type": "execute_result"
    }
   ],
   "source": [
    "fi = rf_feat_importance(m, X_train)\n",
    "fi[:30]"
   ]
  },
  {
   "cell_type": "code",
   "execution_count": 70,
   "metadata": {},
   "outputs": [
    {
     "data": {
      "image/png": "[encoded data removed]",
      "text/plain": [
       "<Figure size 864x504 with 1 Axes>"
      ]
     },
     "metadata": {
      "needs_background": "light"
     },
     "output_type": "display_data"
    }
   ],
   "source": [
    "def plot_fi(fi):\n",
    "    return fi.plot('cols', 'imp', 'barh', figsize=(12,7), legend=False)\n",
    "\n",
    "plot_fi(fi[:30]);"
   ]
  },
  {
   "cell_type": "code",
   "execution_count": 71,
   "metadata": {},
   "outputs": [
    {
     "data": {
      "text/plain": [
       "32"
      ]
     },
     "execution_count": 71,
     "metadata": {},
     "output_type": "execute_result"
    }
   ],
   "source": [
    "to_keep = fi[fi.imp>0.005].cols\n",
    "len(to_keep)"
   ]
  },
  {
   "cell_type": "code",
   "execution_count": 72,
   "metadata": {},
   "outputs": [
    {
     "data": {
      "text/plain": [
       "94"
      ]
     },
     "execution_count": 72,
     "metadata": {},
     "output_type": "execute_result"
    }
   ],
   "source": [
    "len(X_train.columns)"
   ]
  },
  {
   "cell_type": "code",
   "execution_count": 73,
   "metadata": {},
   "outputs": [],
   "source": [
    "X_train_imp = X_train[to_keep]\n",
    "X_test_imp = X_test[to_keep]"
   ]
  },
  {
   "cell_type": "code",
   "execution_count": 74,
   "metadata": {},
   "outputs": [],
   "source": [
    "m = rf(X_train_imp, y_train.values.ravel())"
   ]
  },
  {
   "cell_type": "code",
   "execution_count": 75,
   "metadata": {},
   "outputs": [
    {
     "data": {
      "text/plain": [
       "(1.278555, 1.978146)"
      ]
     },
     "execution_count": 75,
     "metadata": {},
     "output_type": "execute_result"
    }
   ],
   "source": [
    "r_mse(m.predict(X_train_imp), y_train.values.ravel()), r_mse(m.predict(X_test_imp), y_test.values.ravel())"
   ]
  },
  {
   "cell_type": "code",
   "execution_count": 76,
   "metadata": {},
   "outputs": [
    {
     "data": {
      "text/plain": [
       "2.746316"
      ]
     },
     "execution_count": 76,
     "metadata": {},
     "output_type": "execute_result"
    }
   ],
   "source": [
    "r_mse(m.predict(X_test_imp[X_test_imp['minutes'] > 0]), y_test[X_test_imp['minutes'] > 0].values.ravel())"
   ]
  },
  {
   "cell_type": "code",
   "execution_count": 39,
   "metadata": {},
   "outputs": [
    {
     "data": {
      "image/png": "[encoded data removed]",
      "text/plain": [
       "<Figure size 720x432 with 1 Axes>"
      ]
     },
     "metadata": {
      "needs_background": "light"
     },
     "output_type": "display_data"
    }
   ],
   "source": [
    "cluster_columns(X_train_imp)"
   ]
  },
  {
   "cell_type": "code",
   "execution_count": 38,
   "metadata": {},
   "outputs": [],
   "source": [
    "import scipy as sp\n",
    "from scipy.cluster import hierarchy as hc\n",
    "\n",
    "def cluster_columns(df, figsize=(10,6), font_size=12):\n",
    "    corr = np.round(sp.stats.spearmanr(df).correlation, 4)\n",
    "    corr_condensed = hc.distance.squareform(1-corr)\n",
    "    z = hc.linkage(corr_condensed, method='average')\n",
    "    fig = plt.figure(figsize=figsize)\n",
    "    hc.dendrogram(z, labels=df.columns, orientation='left', leaf_font_size=font_size)\n",
    "    plt.show()"
   ]
  },
  {
   "cell_type": "code",
   "execution_count": 89,
   "metadata": {},
   "outputs": [
    {
     "data": {
      "image/png": "[encoded data removed]",
      "text/plain": [
       "<Figure size 864x288 with 3 Axes>"
      ]
     },
     "metadata": {
      "needs_background": "light"
     },
     "output_type": "display_data"
    }
   ],
   "source": [
    "from sklearn.inspection import plot_partial_dependence\n",
    "\n",
    "fig,ax = plt.subplots(figsize=(12, 4))\n",
    "plot_partial_dependence(m, X_test, ['total_points_pg_last_1', 'minutes_last_1'],\n",
    "                        grid_resolution=20, ax=ax);"
   ]
  },
  {
   "cell_type": "code",
   "execution_count": null,
   "metadata": {},
   "outputs": [],
   "source": []
  }
 ],
 "metadata": {
  "kernelspec": {
   "display_name": "Python 3",
   "language": "python",
   "name": "python3"
  },
  "language_info": {
   "codemirror_mode": {
    "name": "ipython",
    "version": 3
   },
   "file_extension": ".py",
   "mimetype": "text/x-python",
   "name": "python",
   "nbconvert_exporter": "python",
   "pygments_lexer": "ipython3",
   "version": "3.7.4"
  }
 },
 "nbformat": 4,
 "nbformat_minor": 4
}
