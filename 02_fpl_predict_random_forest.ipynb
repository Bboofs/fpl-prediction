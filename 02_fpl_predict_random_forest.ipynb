{
 "cells": [
  {
   "cell_type": "code",
   "execution_count": 82,
   "metadata": {},
   "outputs": [
    {
     "ename": "ModuleNotFoundError",
     "evalue": "No module named 'dtreeviz'",
     "output_type": "error",
     "traceback": [
      "\u001b[1;31m---------------------------------------------------------------------------\u001b[0m",
      "\u001b[1;31mModuleNotFoundError\u001b[0m                       Traceback (most recent call last)",
      "\u001b[1;32m<ipython-input-82-c714d87fe615>\u001b[0m in \u001b[0;36m<module>\u001b[1;34m\u001b[0m\n\u001b[0;32m      7\u001b[0m \u001b[1;32mfrom\u001b[0m \u001b[0msklearn\u001b[0m\u001b[1;33m.\u001b[0m\u001b[0mensemble\u001b[0m \u001b[1;32mimport\u001b[0m \u001b[0mRandomForestRegressor\u001b[0m\u001b[1;33m\u001b[0m\u001b[1;33m\u001b[0m\u001b[0m\n\u001b[0;32m      8\u001b[0m \u001b[1;32mfrom\u001b[0m \u001b[0msklearn\u001b[0m\u001b[1;33m.\u001b[0m\u001b[0mimpute\u001b[0m \u001b[1;32mimport\u001b[0m \u001b[0mSimpleImputer\u001b[0m\u001b[1;33m\u001b[0m\u001b[1;33m\u001b[0m\u001b[0m\n\u001b[1;32m----> 9\u001b[1;33m \u001b[1;32mfrom\u001b[0m \u001b[0mdtreeviz\u001b[0m\u001b[1;33m.\u001b[0m\u001b[0mtrees\u001b[0m \u001b[1;32mimport\u001b[0m \u001b[1;33m*\u001b[0m\u001b[1;33m\u001b[0m\u001b[1;33m\u001b[0m\u001b[0m\n\u001b[0m\u001b[0;32m     10\u001b[0m \u001b[1;32mfrom\u001b[0m \u001b[0mhelpers\u001b[0m \u001b[1;32mimport\u001b[0m \u001b[1;33m*\u001b[0m\u001b[1;33m\u001b[0m\u001b[1;33m\u001b[0m\u001b[0m\n",
      "\u001b[1;31mModuleNotFoundError\u001b[0m: No module named 'dtreeviz'"
     ]
    }
   ],
   "source": [
    "import pandas as pd\n",
    "import numpy as np\n",
    "from pathlib import Path\n",
    "import matplotlib.pyplot as plt\n",
    "from sklearn.preprocessing import LabelEncoder\n",
    "from sklearn.feature_extraction import DictVectorizer\n",
    "from sklearn.ensemble import RandomForestRegressor\n",
    "from sklearn.impute import SimpleImputer\n",
    "from dtreeviz.trees import *\n",
    "from helpers import *"
   ]
  },
  {
   "cell_type": "code",
   "execution_count": 4,
   "metadata": {},
   "outputs": [],
   "source": [
    "# path to project directory\n",
    "path = Path('./')"
   ]
  },
  {
   "cell_type": "code",
   "execution_count": 60,
   "metadata": {},
   "outputs": [],
   "source": [
    "# read in training dataset\n",
    "train_df = pd.read_csv(path/'data/train_v4.csv', index_col=0, dtype={'season':str})"
   ]
  },
  {
   "cell_type": "markdown",
   "metadata": {},
   "source": [
    "## Random Forest\n",
    "\n",
    "Random Forest is an ensemble tree-based predictive algorithm. In this case we will be using it for regression - we want to predict a continuous number, predicted points, for each player each game. It works by training many separate decision trees, each using a subset of the training data, and outputs the average prediction across all trees.\n",
    "\n",
    "Applying it to a time series problem, where metrics from recent time periods can be predicitve, requires us to add in window features (e.g. points scored last gameweek). These are created using the player_lag_features function from 00_fpl_features."
   ]
  },
  {
   "cell_type": "code",
   "execution_count": 61,
   "metadata": {},
   "outputs": [],
   "source": [
    "# add a bunch of player lag features\n",
    "lag_train_df, team_lag_vars = team_lag_features(train_df, ['total_points'], ['all', 1, 2, 3, 4, 5, 10])\n",
    "lag_train_df, player_lag_vars = player_lag_features(lag_train_df, ['total_points'], ['all', 1, 2, 3, 4, 5, 10])"
   ]
  },
  {
   "cell_type": "markdown",
   "metadata": {},
   "source": [
    "Similar to the simple model, we'll set the validation period to be gameweeks 20-25 of the 2019/20 season - the model will be trained on all data prior to that period. This time however, we'll be using some additional features: the season, gameweek, player position, home/away, and both teams, as well as all the lagging features we created above."
   ]
  },
  {
   "cell_type": "code",
   "execution_count": 62,
   "metadata": {},
   "outputs": [],
   "source": [
    "# set validaton point/length and categorical/continuous variables\n",
    "valid_season = '1920'\n",
    "valid_gw = 20\n",
    "valid_len = 6\n",
    "cat_vars = ['season', 'position', 'was_home', 'team', 'opponent_team']\n",
    "cont_vars = ['gw', 'minutes']\n",
    "dep_var = ['total_points']"
   ]
  },
  {
   "cell_type": "markdown",
   "metadata": {},
   "source": [
    "Some of the features have an order (2019/20 season is after 2019 season) whereas others do not (position). We can set this in the data where appropriate using an ordered category (e.g. 1617 < 1718 < 1819 < 1920 < 2021)."
   ]
  },
  {
   "cell_type": "code",
   "execution_count": 63,
   "metadata": {},
   "outputs": [],
   "source": [
    "# we want to set gw and season as ordered categorical variables\n",
    "# need lists with ordered categories\n",
    "ordered_gws = list(range(1,39))\n",
    "ordered_seasons = ['1617', '1718', '1819', '1920', '2021']\n",
    "\n",
    "# set as categories with correct order \n",
    "lag_train_df['gw'] = lag_train_df['gw'].astype('category')\n",
    "lag_train_df['season'] = lag_train_df['season'].astype('category')\n",
    "\n",
    "lag_train_df['gw'].cat.set_categories(ordered_gws, ordered=True, inplace=True)\n",
    "lag_train_df['season'].cat.set_categories(ordered_seasons, ordered=True, inplace=True)"
   ]
  },
  {
   "cell_type": "code",
   "execution_count": 64,
   "metadata": {},
   "outputs": [
    {
     "data": {
      "text/plain": [
       "0        1617\n",
       "1        1617\n",
       "2        1617\n",
       "3        1617\n",
       "4        1617\n",
       "         ... \n",
       "90432    1920\n",
       "90433    1920\n",
       "90434    1920\n",
       "90435    1920\n",
       "90436    1920\n",
       "Name: season, Length: 90437, dtype: category\n",
       "Categories (5, object): [1617 < 1718 < 1819 < 1920 < 2021]"
      ]
     },
     "execution_count": 64,
     "metadata": {},
     "output_type": "execute_result"
    }
   ],
   "source": [
    "lag_train_df['season']"
   ]
  },
  {
   "cell_type": "markdown",
   "metadata": {},
   "source": [
    "And now we can go ahead and create our training and validation sets using the function we definted in the last notebook."
   ]
  },
  {
   "cell_type": "code",
   "execution_count": 65,
   "metadata": {},
   "outputs": [],
   "source": [
    "# create dataset with adjusted post-validation lag numbers\n",
    "train_valid_df, train_idx, valid_idx = create_lag_train(lag_train_df, \n",
    "                                                      cat_vars, cont_vars, \n",
    "                                                      player_lag_vars, team_lag_vars, dep_var,\n",
    "                                                      valid_season, valid_gw, valid_len)"
   ]
  },
  {
   "cell_type": "markdown",
   "metadata": {},
   "source": [
    "The way we calculate our lag features means that there will be null values in our dataset. This will cause an erro when using random forest in scikit learn, so we will set them all to zero for now (although note that this may not be the best fill strategy). "
   ]
  },
  {
   "cell_type": "code",
   "execution_count": 66,
   "metadata": {},
   "outputs": [
    {
     "data": {
      "text/html": [
       "<div>\n",
       "<style scoped>\n",
       "    .dataframe tbody tr th:only-of-type {\n",
       "        vertical-align: middle;\n",
       "    }\n",
       "\n",
       "    .dataframe tbody tr th {\n",
       "        vertical-align: top;\n",
       "    }\n",
       "\n",
       "    .dataframe thead th {\n",
       "        text-align: right;\n",
       "    }\n",
       "</style>\n",
       "<table border=\"1\" class=\"dataframe\">\n",
       "  <thead>\n",
       "    <tr style=\"text-align: right;\">\n",
       "      <th></th>\n",
       "      <th>player</th>\n",
       "      <th>gw</th>\n",
       "      <th>position</th>\n",
       "      <th>minutes</th>\n",
       "      <th>team</th>\n",
       "      <th>opponent_team</th>\n",
       "      <th>relative_market_value_team</th>\n",
       "      <th>relative_market_value_opponent_team</th>\n",
       "      <th>was_home</th>\n",
       "      <th>total_points</th>\n",
       "      <th>...</th>\n",
       "      <th>total_points_last_2</th>\n",
       "      <th>total_points_pg_last_2</th>\n",
       "      <th>total_points_last_3</th>\n",
       "      <th>total_points_pg_last_3</th>\n",
       "      <th>total_points_last_4</th>\n",
       "      <th>total_points_pg_last_4</th>\n",
       "      <th>total_points_last_5</th>\n",
       "      <th>total_points_pg_last_5</th>\n",
       "      <th>total_points_last_10</th>\n",
       "      <th>total_points_pg_last_10</th>\n",
       "    </tr>\n",
       "  </thead>\n",
       "  <tbody>\n",
       "    <tr>\n",
       "      <td>0</td>\n",
       "      <td>Aaron_Cresswell</td>\n",
       "      <td>1</td>\n",
       "      <td>2</td>\n",
       "      <td>0</td>\n",
       "      <td>West Ham United</td>\n",
       "      <td>Chelsea</td>\n",
       "      <td>NaN</td>\n",
       "      <td>NaN</td>\n",
       "      <td>False</td>\n",
       "      <td>0</td>\n",
       "      <td>...</td>\n",
       "      <td>0.0</td>\n",
       "      <td>NaN</td>\n",
       "      <td>0.0</td>\n",
       "      <td>NaN</td>\n",
       "      <td>0.0</td>\n",
       "      <td>NaN</td>\n",
       "      <td>0.0</td>\n",
       "      <td>NaN</td>\n",
       "      <td>0.0</td>\n",
       "      <td>NaN</td>\n",
       "    </tr>\n",
       "    <tr>\n",
       "      <td>1</td>\n",
       "      <td>Aaron_Lennon</td>\n",
       "      <td>1</td>\n",
       "      <td>3</td>\n",
       "      <td>15</td>\n",
       "      <td>Everton</td>\n",
       "      <td>Tottenham Hotspur</td>\n",
       "      <td>NaN</td>\n",
       "      <td>NaN</td>\n",
       "      <td>True</td>\n",
       "      <td>1</td>\n",
       "      <td>...</td>\n",
       "      <td>0.0</td>\n",
       "      <td>NaN</td>\n",
       "      <td>0.0</td>\n",
       "      <td>NaN</td>\n",
       "      <td>0.0</td>\n",
       "      <td>NaN</td>\n",
       "      <td>0.0</td>\n",
       "      <td>NaN</td>\n",
       "      <td>0.0</td>\n",
       "      <td>NaN</td>\n",
       "    </tr>\n",
       "    <tr>\n",
       "      <td>2</td>\n",
       "      <td>Aaron_Ramsey</td>\n",
       "      <td>1</td>\n",
       "      <td>3</td>\n",
       "      <td>60</td>\n",
       "      <td>Arsenal</td>\n",
       "      <td>Liverpool</td>\n",
       "      <td>NaN</td>\n",
       "      <td>NaN</td>\n",
       "      <td>True</td>\n",
       "      <td>2</td>\n",
       "      <td>...</td>\n",
       "      <td>0.0</td>\n",
       "      <td>NaN</td>\n",
       "      <td>0.0</td>\n",
       "      <td>NaN</td>\n",
       "      <td>0.0</td>\n",
       "      <td>NaN</td>\n",
       "      <td>0.0</td>\n",
       "      <td>NaN</td>\n",
       "      <td>0.0</td>\n",
       "      <td>NaN</td>\n",
       "    </tr>\n",
       "    <tr>\n",
       "      <td>3</td>\n",
       "      <td>Abdoulaye_Doucouré</td>\n",
       "      <td>1</td>\n",
       "      <td>3</td>\n",
       "      <td>0</td>\n",
       "      <td>Watford</td>\n",
       "      <td>Southampton</td>\n",
       "      <td>NaN</td>\n",
       "      <td>NaN</td>\n",
       "      <td>False</td>\n",
       "      <td>0</td>\n",
       "      <td>...</td>\n",
       "      <td>0.0</td>\n",
       "      <td>NaN</td>\n",
       "      <td>0.0</td>\n",
       "      <td>NaN</td>\n",
       "      <td>0.0</td>\n",
       "      <td>NaN</td>\n",
       "      <td>0.0</td>\n",
       "      <td>NaN</td>\n",
       "      <td>0.0</td>\n",
       "      <td>NaN</td>\n",
       "    </tr>\n",
       "    <tr>\n",
       "      <td>4</td>\n",
       "      <td>Abdul Rahman_Baba</td>\n",
       "      <td>1</td>\n",
       "      <td>2</td>\n",
       "      <td>0</td>\n",
       "      <td>Chelsea</td>\n",
       "      <td>West Ham United</td>\n",
       "      <td>NaN</td>\n",
       "      <td>NaN</td>\n",
       "      <td>True</td>\n",
       "      <td>0</td>\n",
       "      <td>...</td>\n",
       "      <td>0.0</td>\n",
       "      <td>NaN</td>\n",
       "      <td>0.0</td>\n",
       "      <td>NaN</td>\n",
       "      <td>0.0</td>\n",
       "      <td>NaN</td>\n",
       "      <td>0.0</td>\n",
       "      <td>NaN</td>\n",
       "      <td>0.0</td>\n",
       "      <td>NaN</td>\n",
       "    </tr>\n",
       "    <tr>\n",
       "      <td>...</td>\n",
       "      <td>...</td>\n",
       "      <td>...</td>\n",
       "      <td>...</td>\n",
       "      <td>...</td>\n",
       "      <td>...</td>\n",
       "      <td>...</td>\n",
       "      <td>...</td>\n",
       "      <td>...</td>\n",
       "      <td>...</td>\n",
       "      <td>...</td>\n",
       "      <td>...</td>\n",
       "      <td>...</td>\n",
       "      <td>...</td>\n",
       "      <td>...</td>\n",
       "      <td>...</td>\n",
       "      <td>...</td>\n",
       "      <td>...</td>\n",
       "      <td>...</td>\n",
       "      <td>...</td>\n",
       "      <td>...</td>\n",
       "      <td>...</td>\n",
       "    </tr>\n",
       "    <tr>\n",
       "      <td>90431</td>\n",
       "      <td>Heurelho da Silva_Gomes</td>\n",
       "      <td>38</td>\n",
       "      <td>1</td>\n",
       "      <td>0</td>\n",
       "      <td>Watford</td>\n",
       "      <td>Arsenal</td>\n",
       "      <td>0.472917</td>\n",
       "      <td>1.452343</td>\n",
       "      <td>False</td>\n",
       "      <td>0</td>\n",
       "      <td>...</td>\n",
       "      <td>0.0</td>\n",
       "      <td>NaN</td>\n",
       "      <td>0.0</td>\n",
       "      <td>NaN</td>\n",
       "      <td>0.0</td>\n",
       "      <td>NaN</td>\n",
       "      <td>0.0</td>\n",
       "      <td>NaN</td>\n",
       "      <td>0.0</td>\n",
       "      <td>NaN</td>\n",
       "    </tr>\n",
       "    <tr>\n",
       "      <td>90432</td>\n",
       "      <td>Tommy_Doyle</td>\n",
       "      <td>38</td>\n",
       "      <td>3</td>\n",
       "      <td>0</td>\n",
       "      <td>Manchester City</td>\n",
       "      <td>Norwich</td>\n",
       "      <td>2.430397</td>\n",
       "      <td>0.327574</td>\n",
       "      <td>True</td>\n",
       "      <td>0</td>\n",
       "      <td>...</td>\n",
       "      <td>0.0</td>\n",
       "      <td>NaN</td>\n",
       "      <td>0.0</td>\n",
       "      <td>NaN</td>\n",
       "      <td>1.0</td>\n",
       "      <td>6.0</td>\n",
       "      <td>1.0</td>\n",
       "      <td>6.0</td>\n",
       "      <td>1.0</td>\n",
       "      <td>6.000000</td>\n",
       "    </tr>\n",
       "    <tr>\n",
       "      <td>90433</td>\n",
       "      <td>Joseph_Anang</td>\n",
       "      <td>38</td>\n",
       "      <td>1</td>\n",
       "      <td>0</td>\n",
       "      <td>West Ham United</td>\n",
       "      <td>Aston Villa</td>\n",
       "      <td>0.709989</td>\n",
       "      <td>0.553818</td>\n",
       "      <td>True</td>\n",
       "      <td>0</td>\n",
       "      <td>...</td>\n",
       "      <td>0.0</td>\n",
       "      <td>NaN</td>\n",
       "      <td>0.0</td>\n",
       "      <td>NaN</td>\n",
       "      <td>0.0</td>\n",
       "      <td>NaN</td>\n",
       "      <td>0.0</td>\n",
       "      <td>NaN</td>\n",
       "      <td>0.0</td>\n",
       "      <td>NaN</td>\n",
       "    </tr>\n",
       "    <tr>\n",
       "      <td>90435</td>\n",
       "      <td>Japhet_Tanganga</td>\n",
       "      <td>38</td>\n",
       "      <td>2</td>\n",
       "      <td>0</td>\n",
       "      <td>Tottenham Hotspur</td>\n",
       "      <td>Crystal Palace</td>\n",
       "      <td>1.604904</td>\n",
       "      <td>0.430493</td>\n",
       "      <td>False</td>\n",
       "      <td>0</td>\n",
       "      <td>...</td>\n",
       "      <td>0.0</td>\n",
       "      <td>NaN</td>\n",
       "      <td>0.0</td>\n",
       "      <td>NaN</td>\n",
       "      <td>0.0</td>\n",
       "      <td>NaN</td>\n",
       "      <td>0.0</td>\n",
       "      <td>NaN</td>\n",
       "      <td>3.0</td>\n",
       "      <td>1.636364</td>\n",
       "    </tr>\n",
       "    <tr>\n",
       "      <td>90436</td>\n",
       "      <td>Ravel_Morrison</td>\n",
       "      <td>38</td>\n",
       "      <td>3</td>\n",
       "      <td>0</td>\n",
       "      <td>Sheffield United</td>\n",
       "      <td>Southampton</td>\n",
       "      <td>0.348678</td>\n",
       "      <td>0.526987</td>\n",
       "      <td>False</td>\n",
       "      <td>0</td>\n",
       "      <td>...</td>\n",
       "      <td>0.0</td>\n",
       "      <td>NaN</td>\n",
       "      <td>0.0</td>\n",
       "      <td>NaN</td>\n",
       "      <td>0.0</td>\n",
       "      <td>NaN</td>\n",
       "      <td>0.0</td>\n",
       "      <td>NaN</td>\n",
       "      <td>0.0</td>\n",
       "      <td>NaN</td>\n",
       "    </tr>\n",
       "  </tbody>\n",
       "</table>\n",
       "<p>48857 rows × 88 columns</p>\n",
       "</div>"
      ],
      "text/plain": [
       "                        player  gw  position  minutes               team  \\\n",
       "0              Aaron_Cresswell   1         2        0    West Ham United   \n",
       "1                 Aaron_Lennon   1         3       15            Everton   \n",
       "2                 Aaron_Ramsey   1         3       60            Arsenal   \n",
       "3           Abdoulaye_Doucouré   1         3        0            Watford   \n",
       "4            Abdul Rahman_Baba   1         2        0            Chelsea   \n",
       "...                        ...  ..       ...      ...                ...   \n",
       "90431  Heurelho da Silva_Gomes  38         1        0            Watford   \n",
       "90432              Tommy_Doyle  38         3        0    Manchester City   \n",
       "90433             Joseph_Anang  38         1        0    West Ham United   \n",
       "90435          Japhet_Tanganga  38         2        0  Tottenham Hotspur   \n",
       "90436           Ravel_Morrison  38         3        0   Sheffield United   \n",
       "\n",
       "           opponent_team  relative_market_value_team  \\\n",
       "0                Chelsea                         NaN   \n",
       "1      Tottenham Hotspur                         NaN   \n",
       "2              Liverpool                         NaN   \n",
       "3            Southampton                         NaN   \n",
       "4        West Ham United                         NaN   \n",
       "...                  ...                         ...   \n",
       "90431            Arsenal                    0.472917   \n",
       "90432            Norwich                    2.430397   \n",
       "90433        Aston Villa                    0.709989   \n",
       "90435     Crystal Palace                    1.604904   \n",
       "90436        Southampton                    0.348678   \n",
       "\n",
       "       relative_market_value_opponent_team  was_home  total_points  ...  \\\n",
       "0                                      NaN     False             0  ...   \n",
       "1                                      NaN      True             1  ...   \n",
       "2                                      NaN      True             2  ...   \n",
       "3                                      NaN     False             0  ...   \n",
       "4                                      NaN      True             0  ...   \n",
       "...                                    ...       ...           ...  ...   \n",
       "90431                             1.452343     False             0  ...   \n",
       "90432                             0.327574      True             0  ...   \n",
       "90433                             0.553818      True             0  ...   \n",
       "90435                             0.430493     False             0  ...   \n",
       "90436                             0.526987     False             0  ...   \n",
       "\n",
       "       total_points_last_2  total_points_pg_last_2  total_points_last_3  \\\n",
       "0                      0.0                     NaN                  0.0   \n",
       "1                      0.0                     NaN                  0.0   \n",
       "2                      0.0                     NaN                  0.0   \n",
       "3                      0.0                     NaN                  0.0   \n",
       "4                      0.0                     NaN                  0.0   \n",
       "...                    ...                     ...                  ...   \n",
       "90431                  0.0                     NaN                  0.0   \n",
       "90432                  0.0                     NaN                  0.0   \n",
       "90433                  0.0                     NaN                  0.0   \n",
       "90435                  0.0                     NaN                  0.0   \n",
       "90436                  0.0                     NaN                  0.0   \n",
       "\n",
       "       total_points_pg_last_3  total_points_last_4  total_points_pg_last_4  \\\n",
       "0                         NaN                  0.0                     NaN   \n",
       "1                         NaN                  0.0                     NaN   \n",
       "2                         NaN                  0.0                     NaN   \n",
       "3                         NaN                  0.0                     NaN   \n",
       "4                         NaN                  0.0                     NaN   \n",
       "...                       ...                  ...                     ...   \n",
       "90431                     NaN                  0.0                     NaN   \n",
       "90432                     NaN                  1.0                     6.0   \n",
       "90433                     NaN                  0.0                     NaN   \n",
       "90435                     NaN                  0.0                     NaN   \n",
       "90436                     NaN                  0.0                     NaN   \n",
       "\n",
       "       total_points_last_5  total_points_pg_last_5  total_points_last_10  \\\n",
       "0                      0.0                     NaN                   0.0   \n",
       "1                      0.0                     NaN                   0.0   \n",
       "2                      0.0                     NaN                   0.0   \n",
       "3                      0.0                     NaN                   0.0   \n",
       "4                      0.0                     NaN                   0.0   \n",
       "...                    ...                     ...                   ...   \n",
       "90431                  0.0                     NaN                   0.0   \n",
       "90432                  1.0                     6.0                   1.0   \n",
       "90433                  0.0                     NaN                   0.0   \n",
       "90435                  0.0                     NaN                   3.0   \n",
       "90436                  0.0                     NaN                   0.0   \n",
       "\n",
       "       total_points_pg_last_10  \n",
       "0                          NaN  \n",
       "1                          NaN  \n",
       "2                          NaN  \n",
       "3                          NaN  \n",
       "4                          NaN  \n",
       "...                        ...  \n",
       "90431                      NaN  \n",
       "90432                 6.000000  \n",
       "90433                      NaN  \n",
       "90435                 1.636364  \n",
       "90436                      NaN  \n",
       "\n",
       "[48857 rows x 88 columns]"
      ]
     },
     "execution_count": 66,
     "metadata": {},
     "output_type": "execute_result"
    }
   ],
   "source": [
    "lag_train_df[~np.isfinite(lag_train_df['total_points_pg_last_1'])]"
   ]
  },
  {
   "cell_type": "code",
   "execution_count": 67,
   "metadata": {},
   "outputs": [],
   "source": [
    "# imp = SimpleImputer(missing_values=np.nan, strategy='mean')\n",
    "# need to think about imputing NaN instead of setting to zero\n",
    "# imp.fit(X_train[team_lag_vars + player_lag_vars])\n",
    "train_valid_df[team_lag_vars + player_lag_vars] = train_valid_df[team_lag_vars + player_lag_vars].fillna(0)"
   ]
  },
  {
   "cell_type": "markdown",
   "metadata": {},
   "source": [
    "The random forest regressor will only take numbers as inputs, so we need to transform our caterogical features \n",
    "Now we can convert our dataset into a format that the random forest regressor object will be able to use. This includes transforming categorical features so that they are represented by numbers instead of strings."
   ]
  },
  {
   "cell_type": "code",
   "execution_count": 68,
   "metadata": {},
   "outputs": [],
   "source": [
    "# split out dependent variable\n",
    "X, y = train_valid_df[cat_vars + cont_vars + team_lag_vars + player_lag_vars].copy(), train_valid_df[dep_var].copy()"
   ]
  },
  {
   "cell_type": "code",
   "execution_count": 69,
   "metadata": {},
   "outputs": [],
   "source": [
    "# since position is categorical, it should be a string\n",
    "X['position'] = X['position'].apply(str)\n",
    "\n",
    "# need to transform season\n",
    "enc = LabelEncoder()\n",
    "X['season'] = enc.fit_transform(X['season'])\n",
    "X_dict = X.to_dict(\"records\")\n",
    "\n",
    "# Create the DictVectorizer object: dv\n",
    "dv = DictVectorizer(sparse=False, separator='_')\n",
    "\n",
    "# Apply dv on df: df_encoded\n",
    "X_encoded = dv.fit_transform(X_dict)\n",
    "\n",
    "X_df = pd.DataFrame(X_encoded, columns=dv.feature_names_)"
   ]
  },
  {
   "cell_type": "markdown",
   "metadata": {},
   "source": [
    "For example, season is now represented by a number (0 -> 2016/17, 1 -> 2017/18, etc.) in a single column, and position is represented by a 1 or 0 in multiple columns."
   ]
  },
  {
   "cell_type": "code",
   "execution_count": 70,
   "metadata": {},
   "outputs": [
    {
     "data": {
      "text/html": [
       "<div>\n",
       "<style scoped>\n",
       "    .dataframe tbody tr th:only-of-type {\n",
       "        vertical-align: middle;\n",
       "    }\n",
       "\n",
       "    .dataframe tbody tr th {\n",
       "        vertical-align: top;\n",
       "    }\n",
       "\n",
       "    .dataframe thead th {\n",
       "        text-align: right;\n",
       "    }\n",
       "</style>\n",
       "<table border=\"1\" class=\"dataframe\">\n",
       "  <thead>\n",
       "    <tr style=\"text-align: right;\">\n",
       "      <th></th>\n",
       "      <th>season</th>\n",
       "      <th>position_1</th>\n",
       "      <th>position_2</th>\n",
       "      <th>position_3</th>\n",
       "      <th>position_4</th>\n",
       "    </tr>\n",
       "  </thead>\n",
       "  <tbody>\n",
       "    <tr>\n",
       "      <td>0</td>\n",
       "      <td>0.0</td>\n",
       "      <td>0.0</td>\n",
       "      <td>1.0</td>\n",
       "      <td>0.0</td>\n",
       "      <td>0.0</td>\n",
       "    </tr>\n",
       "    <tr>\n",
       "      <td>1</td>\n",
       "      <td>0.0</td>\n",
       "      <td>0.0</td>\n",
       "      <td>0.0</td>\n",
       "      <td>1.0</td>\n",
       "      <td>0.0</td>\n",
       "    </tr>\n",
       "    <tr>\n",
       "      <td>2</td>\n",
       "      <td>0.0</td>\n",
       "      <td>0.0</td>\n",
       "      <td>0.0</td>\n",
       "      <td>1.0</td>\n",
       "      <td>0.0</td>\n",
       "    </tr>\n",
       "    <tr>\n",
       "      <td>3</td>\n",
       "      <td>0.0</td>\n",
       "      <td>0.0</td>\n",
       "      <td>0.0</td>\n",
       "      <td>1.0</td>\n",
       "      <td>0.0</td>\n",
       "    </tr>\n",
       "    <tr>\n",
       "      <td>4</td>\n",
       "      <td>0.0</td>\n",
       "      <td>0.0</td>\n",
       "      <td>1.0</td>\n",
       "      <td>0.0</td>\n",
       "      <td>0.0</td>\n",
       "    </tr>\n",
       "    <tr>\n",
       "      <td>...</td>\n",
       "      <td>...</td>\n",
       "      <td>...</td>\n",
       "      <td>...</td>\n",
       "      <td>...</td>\n",
       "      <td>...</td>\n",
       "    </tr>\n",
       "    <tr>\n",
       "      <td>82049</td>\n",
       "      <td>3.0</td>\n",
       "      <td>0.0</td>\n",
       "      <td>0.0</td>\n",
       "      <td>0.0</td>\n",
       "      <td>1.0</td>\n",
       "    </tr>\n",
       "    <tr>\n",
       "      <td>82050</td>\n",
       "      <td>3.0</td>\n",
       "      <td>0.0</td>\n",
       "      <td>0.0</td>\n",
       "      <td>1.0</td>\n",
       "      <td>0.0</td>\n",
       "    </tr>\n",
       "    <tr>\n",
       "      <td>82051</td>\n",
       "      <td>3.0</td>\n",
       "      <td>0.0</td>\n",
       "      <td>0.0</td>\n",
       "      <td>1.0</td>\n",
       "      <td>0.0</td>\n",
       "    </tr>\n",
       "    <tr>\n",
       "      <td>82052</td>\n",
       "      <td>3.0</td>\n",
       "      <td>0.0</td>\n",
       "      <td>1.0</td>\n",
       "      <td>0.0</td>\n",
       "      <td>0.0</td>\n",
       "    </tr>\n",
       "    <tr>\n",
       "      <td>82053</td>\n",
       "      <td>3.0</td>\n",
       "      <td>1.0</td>\n",
       "      <td>0.0</td>\n",
       "      <td>0.0</td>\n",
       "      <td>0.0</td>\n",
       "    </tr>\n",
       "  </tbody>\n",
       "</table>\n",
       "<p>82054 rows × 5 columns</p>\n",
       "</div>"
      ],
      "text/plain": [
       "       season  position_1  position_2  position_3  position_4\n",
       "0         0.0         0.0         1.0         0.0         0.0\n",
       "1         0.0         0.0         0.0         1.0         0.0\n",
       "2         0.0         0.0         0.0         1.0         0.0\n",
       "3         0.0         0.0         0.0         1.0         0.0\n",
       "4         0.0         0.0         1.0         0.0         0.0\n",
       "...       ...         ...         ...         ...         ...\n",
       "82049     3.0         0.0         0.0         0.0         1.0\n",
       "82050     3.0         0.0         0.0         1.0         0.0\n",
       "82051     3.0         0.0         0.0         1.0         0.0\n",
       "82052     3.0         0.0         1.0         0.0         0.0\n",
       "82053     3.0         1.0         0.0         0.0         0.0\n",
       "\n",
       "[82054 rows x 5 columns]"
      ]
     },
     "execution_count": 70,
     "metadata": {},
     "output_type": "execute_result"
    }
   ],
   "source": [
    "X_df[['season', 'position_1', 'position_2', 'position_3', 'position_4']]"
   ]
  },
  {
   "cell_type": "code",
   "execution_count": 71,
   "metadata": {},
   "outputs": [
    {
     "data": {
      "text/plain": [
       "Index(['gw', 'minutes', 'minutes_last_1', 'minutes_last_10', 'minutes_last_2',\n",
       "       'minutes_last_3', 'minutes_last_4', 'minutes_last_5',\n",
       "       'minutes_last_all', 'opponent_team_Arsenal',\n",
       "       'opponent_team_Aston Villa', 'opponent_team_Bournemouth',\n",
       "       'opponent_team_Brighton and Hove Albion', 'opponent_team_Burnley',\n",
       "       'opponent_team_Cardiff City', 'opponent_team_Chelsea',\n",
       "       'opponent_team_Crystal Palace', 'opponent_team_Everton',\n",
       "       'opponent_team_Fulham', 'opponent_team_Huddersfield Town',\n",
       "       'opponent_team_Hull City', 'opponent_team_Leicester City',\n",
       "       'opponent_team_Liverpool', 'opponent_team_Manchester City',\n",
       "       'opponent_team_Manchester United', 'opponent_team_Middlesbrough',\n",
       "       'opponent_team_Newcastle United', 'opponent_team_Norwich',\n",
       "       'opponent_team_Sheffield United', 'opponent_team_Southampton',\n",
       "       'opponent_team_Stoke City', 'opponent_team_Sunderland',\n",
       "       'opponent_team_Swansea City', 'opponent_team_Tottenham Hotspur',\n",
       "       'opponent_team_Watford', 'opponent_team_West Bromwich Albion',\n",
       "       'opponent_team_West Ham United',\n",
       "       'opponent_team_Wolverhampton Wanderers', 'position_1', 'position_2',\n",
       "       'position_3', 'position_4', 'season', 'team_Arsenal',\n",
       "       'team_Aston Villa', 'team_Bournemouth', 'team_Brighton and Hove Albion',\n",
       "       'team_Burnley', 'team_Cardiff City', 'team_Chelsea',\n",
       "       'team_Crystal Palace', 'team_Everton', 'team_Fulham',\n",
       "       'team_Huddersfield Town', 'team_Hull City', 'team_Leicester City',\n",
       "       'team_Liverpool', 'team_Manchester City', 'team_Manchester United',\n",
       "       'team_Middlesbrough', 'team_Newcastle United', 'team_Norwich',\n",
       "       'team_Sheffield United', 'team_Southampton', 'team_Stoke City',\n",
       "       'team_Sunderland', 'team_Swansea City', 'team_Tottenham Hotspur',\n",
       "       'team_Watford', 'team_West Bromwich Albion', 'team_West Ham United',\n",
       "       'team_Wolverhampton Wanderers', 'total_points_pg_last_1',\n",
       "       'total_points_pg_last_10', 'total_points_pg_last_2',\n",
       "       'total_points_pg_last_3', 'total_points_pg_last_4',\n",
       "       'total_points_pg_last_5', 'total_points_pg_last_all',\n",
       "       'total_points_team_pg_last_1', 'total_points_team_pg_last_10',\n",
       "       'total_points_team_pg_last_10_opponent',\n",
       "       'total_points_team_pg_last_1_opponent', 'total_points_team_pg_last_2',\n",
       "       'total_points_team_pg_last_2_opponent', 'total_points_team_pg_last_3',\n",
       "       'total_points_team_pg_last_3_opponent', 'total_points_team_pg_last_4',\n",
       "       'total_points_team_pg_last_4_opponent', 'total_points_team_pg_last_5',\n",
       "       'total_points_team_pg_last_5_opponent', 'total_points_team_pg_last_all',\n",
       "       'total_points_team_pg_last_all_opponent', 'was_home'],\n",
       "      dtype='object')"
      ]
     },
     "execution_count": 71,
     "metadata": {},
     "output_type": "execute_result"
    }
   ],
   "source": [
    "X_df.columns"
   ]
  },
  {
   "cell_type": "code",
   "execution_count": 72,
   "metadata": {},
   "outputs": [],
   "source": [
    "# split out training and validation sets\n",
    "X_train = X_df.iloc[train_idx]\n",
    "y_train = y.iloc[train_idx]\n",
    "X_test = X_df.iloc[valid_idx]\n",
    "y_test = y.iloc[valid_idx]"
   ]
  },
  {
   "cell_type": "markdown",
   "metadata": {},
   "source": [
    "We can now create the RandomForestRegessor with set parameters, train using the training data, and look at the error on the validation set."
   ]
  },
  {
   "cell_type": "code",
   "execution_count": 73,
   "metadata": {},
   "outputs": [],
   "source": [
    "def rf(xs, y, n_estimators=40, max_samples=50_000,\n",
    "       max_features=0.5, min_samples_leaf=5, **kwargs):\n",
    "    return RandomForestRegressor(n_jobs=-1, n_estimators=n_estimators,\n",
    "        max_samples=max_samples, max_features=max_features,\n",
    "        min_samples_leaf=min_samples_leaf, oob_score=True).fit(xs, y)"
   ]
  },
  {
   "cell_type": "code",
   "execution_count": 37,
   "metadata": {},
   "outputs": [],
   "source": [
    "# fit training data\n",
    "m = rf(X_train, y_train.values.ravel())"
   ]
  },
  {
   "cell_type": "code",
   "execution_count": 38,
   "metadata": {},
   "outputs": [
    {
     "data": {
      "text/plain": [
       "0.866315"
      ]
     },
     "execution_count": 38,
     "metadata": {},
     "output_type": "execute_result"
    }
   ],
   "source": [
    "# predict validation set and output mean absolute error\n",
    "mae(m.predict(X_test), y_test.values.ravel())"
   ]
  },
  {
   "cell_type": "markdown",
   "metadata": {},
   "source": [
    "Right away this looks like it's a significant improvement on the simple model. Let's go ahead and use the same approach with validation across the whole of the 2019/20 season."
   ]
  },
  {
   "cell_type": "code",
   "execution_count": 39,
   "metadata": {},
   "outputs": [],
   "source": [
    "def rf_season(df, valid_season='1920'):\n",
    "    # empty list for scores\n",
    "    scores = []\n",
    "    valid_len = 6\n",
    "    \n",
    "    for valid_gw in range(1,40-valid_len):\n",
    "        # create dataset with adjusted post-validation lag numbers\n",
    "        train_valid_df, train_idx, valid_idx = create_lag_train(df, cat_vars, cont_vars, \n",
    "                                                                player_lag_vars, team_lag_vars, dep_var,\n",
    "                                                                valid_season, valid_gw, valid_len)\n",
    "        \n",
    "        train_valid_df[team_lag_vars + player_lag_vars] = train_valid_df[team_lag_vars + player_lag_vars].fillna(0)\n",
    "        \n",
    "        # split out dependent variable\n",
    "        X, y = train_valid_df[cat_vars + cont_vars + team_lag_vars + player_lag_vars].copy(), train_valid_df[dep_var].copy()\n",
    "        \n",
    "        # since position is categorical, it should be a string\n",
    "        X['position'] = X['position'].apply(str)\n",
    "\n",
    "        # need to transform season\n",
    "        enc = LabelEncoder()\n",
    "        X['season'] = enc.fit_transform(X['season'])\n",
    "        X_dict = X.to_dict(\"records\")\n",
    "\n",
    "        # Create the DictVectorizer object: dv\n",
    "        dv = DictVectorizer(sparse=False, separator='_')\n",
    "\n",
    "        # Apply dv on df: df_encoded\n",
    "        X_encoded = dv.fit_transform(X_dict)\n",
    "        X_df = pd.DataFrame(X_encoded, columns=dv.feature_names_)\n",
    "        \n",
    "        # split out training and validation sets\n",
    "        X_train = X_df.iloc[train_idx]\n",
    "        y_train = y.iloc[train_idx]\n",
    "        X_test = X_df.iloc[valid_idx]\n",
    "        y_test = y.iloc[valid_idx]\n",
    "        \n",
    "        m = rf(X_train, y_train.values.ravel()) \n",
    "        preds, targs = m.predict(X_test), y_test.values.ravel()\n",
    "        gw_mae = mae(preds, targs)\n",
    "        print(\"GW%d MAE: %f\" % (valid_gw, gw_mae))\n",
    "        \n",
    "        scores.append(gw_mae)\n",
    "        \n",
    "    return scores"
   ]
  },
  {
   "cell_type": "code",
   "execution_count": 40,
   "metadata": {},
   "outputs": [
    {
     "name": "stdout",
     "output_type": "stream",
     "text": [
      "GW1 MAE: 1.077141\n",
      "GW2 MAE: 1.047597\n",
      "GW3 MAE: 1.045916\n",
      "GW4 MAE: 0.996283\n",
      "GW5 MAE: 1.001852\n",
      "GW6 MAE: 1.008389\n",
      "GW7 MAE: 0.975421\n",
      "GW8 MAE: 0.983200\n",
      "GW9 MAE: 0.962144\n",
      "GW10 MAE: 0.972289\n",
      "GW11 MAE: 0.964272\n",
      "GW12 MAE: 0.944218\n",
      "GW13 MAE: 0.960362\n",
      "GW14 MAE: 0.936839\n",
      "GW15 MAE: 0.916257\n",
      "GW16 MAE: 0.897852\n",
      "GW17 MAE: 0.881068\n",
      "GW18 MAE: 0.864787\n",
      "GW19 MAE: 0.862956\n",
      "GW20 MAE: 0.866022\n",
      "GW21 MAE: 0.874795\n",
      "GW22 MAE: 0.865928\n",
      "GW23 MAE: 0.889512\n",
      "GW24 MAE: 0.871454\n",
      "GW25 MAE: 0.860991\n",
      "GW26 MAE: 0.839611\n",
      "GW27 MAE: 0.854496\n",
      "GW28 MAE: 0.855356\n",
      "GW29 MAE: 0.826999\n",
      "GW30 MAE: 0.847180\n",
      "GW31 MAE: 0.839788\n",
      "GW32 MAE: 0.836650\n",
      "GW33 MAE: 0.815653\n"
     ]
    }
   ],
   "source": [
    "scores = rf_season(lag_train_df)"
   ]
  },
  {
   "cell_type": "code",
   "execution_count": 41,
   "metadata": {},
   "outputs": [
    {
     "data": {
      "image/png": "[encoded data removed]",
      "text/plain": [
       "<Figure size 432x288 with 1 Axes>"
      ]
     },
     "metadata": {
      "needs_background": "light"
     },
     "output_type": "display_data"
    }
   ],
   "source": [
    "plt.plot(scores)\n",
    "plt.ylabel('GW MAE')\n",
    "plt.xlabel('GW')\n",
    "plt.text(15, 1, 'Season Avg MAE: %.2f' % np.mean(scores), bbox={'facecolor':'white', 'alpha':1, 'pad':5})\n",
    "plt.show()"
   ]
  },
  {
   "cell_type": "code",
   "execution_count": 42,
   "metadata": {},
   "outputs": [],
   "source": [
    "# r_mse(m.predict(X_test[X_test['minutes'] > 0]), y_test[X_test['minutes'] > 0].values.ravel())"
   ]
  },
  {
   "cell_type": "markdown",
   "metadata": {},
   "source": [
    "Looking across the whole season we see about a 10% improvement versus the simple model. Also interesting is that the performance again improves as the season progresses - this makes sense, more data about each of the teams and players means improved ability to predict the next 6 gameweeks."
   ]
  },
  {
   "cell_type": "markdown",
   "metadata": {},
   "source": [
    "A feature of the random forest algorithm is that we can see how often features are being used in trees. This will give us an indication of how important each feature is i.e. is it predictive of todal points scored. Simple models are usually better, so this also gives us a way of seeing if there are any features that are not particularly useful, and can therefore be removed."
   ]
  },
  {
   "cell_type": "code",
   "execution_count": 43,
   "metadata": {},
   "outputs": [],
   "source": [
    "def rf_feat_importance(m, df):\n",
    "    return pd.DataFrame({'cols':df.columns, 'imp':m.feature_importances_}\n",
    "                       ).sort_values('imp', ascending=False)"
   ]
  },
  {
   "cell_type": "code",
   "execution_count": 46,
   "metadata": {},
   "outputs": [
    {
     "data": {
      "text/html": [
       "<div>\n",
       "<style scoped>\n",
       "    .dataframe tbody tr th:only-of-type {\n",
       "        vertical-align: middle;\n",
       "    }\n",
       "\n",
       "    .dataframe tbody tr th {\n",
       "        vertical-align: top;\n",
       "    }\n",
       "\n",
       "    .dataframe thead th {\n",
       "        text-align: right;\n",
       "    }\n",
       "</style>\n",
       "<table border=\"1\" class=\"dataframe\">\n",
       "  <thead>\n",
       "    <tr style=\"text-align: right;\">\n",
       "      <th></th>\n",
       "      <th>cols</th>\n",
       "      <th>imp</th>\n",
       "    </tr>\n",
       "  </thead>\n",
       "  <tbody>\n",
       "    <tr>\n",
       "      <td>1</td>\n",
       "      <td>minutes</td>\n",
       "      <td>0.365542</td>\n",
       "    </tr>\n",
       "    <tr>\n",
       "      <td>2</td>\n",
       "      <td>minutes_last_1</td>\n",
       "      <td>0.089901</td>\n",
       "    </tr>\n",
       "    <tr>\n",
       "      <td>78</td>\n",
       "      <td>total_points_pg_last_all</td>\n",
       "      <td>0.044832</td>\n",
       "    </tr>\n",
       "    <tr>\n",
       "      <td>4</td>\n",
       "      <td>minutes_last_2</td>\n",
       "      <td>0.034298</td>\n",
       "    </tr>\n",
       "    <tr>\n",
       "      <td>92</td>\n",
       "      <td>total_points_team_pg_last_all_opponent</td>\n",
       "      <td>0.030777</td>\n",
       "    </tr>\n",
       "    <tr>\n",
       "      <td>5</td>\n",
       "      <td>minutes_last_3</td>\n",
       "      <td>0.027746</td>\n",
       "    </tr>\n",
       "    <tr>\n",
       "      <td>91</td>\n",
       "      <td>total_points_team_pg_last_all</td>\n",
       "      <td>0.022178</td>\n",
       "    </tr>\n",
       "    <tr>\n",
       "      <td>73</td>\n",
       "      <td>total_points_pg_last_10</td>\n",
       "      <td>0.020460</td>\n",
       "    </tr>\n",
       "    <tr>\n",
       "      <td>72</td>\n",
       "      <td>total_points_pg_last_1</td>\n",
       "      <td>0.020043</td>\n",
       "    </tr>\n",
       "    <tr>\n",
       "      <td>81</td>\n",
       "      <td>total_points_team_pg_last_10_opponent</td>\n",
       "      <td>0.019529</td>\n",
       "    </tr>\n",
       "    <tr>\n",
       "      <td>8</td>\n",
       "      <td>minutes_last_all</td>\n",
       "      <td>0.018807</td>\n",
       "    </tr>\n",
       "    <tr>\n",
       "      <td>80</td>\n",
       "      <td>total_points_team_pg_last_10</td>\n",
       "      <td>0.016801</td>\n",
       "    </tr>\n",
       "    <tr>\n",
       "      <td>90</td>\n",
       "      <td>total_points_team_pg_last_5_opponent</td>\n",
       "      <td>0.015176</td>\n",
       "    </tr>\n",
       "    <tr>\n",
       "      <td>3</td>\n",
       "      <td>minutes_last_10</td>\n",
       "      <td>0.015112</td>\n",
       "    </tr>\n",
       "    <tr>\n",
       "      <td>89</td>\n",
       "      <td>total_points_team_pg_last_5</td>\n",
       "      <td>0.014465</td>\n",
       "    </tr>\n",
       "    <tr>\n",
       "      <td>0</td>\n",
       "      <td>gw</td>\n",
       "      <td>0.014367</td>\n",
       "    </tr>\n",
       "    <tr>\n",
       "      <td>79</td>\n",
       "      <td>total_points_team_pg_last_1</td>\n",
       "      <td>0.014246</td>\n",
       "    </tr>\n",
       "    <tr>\n",
       "      <td>85</td>\n",
       "      <td>total_points_team_pg_last_3</td>\n",
       "      <td>0.014186</td>\n",
       "    </tr>\n",
       "    <tr>\n",
       "      <td>87</td>\n",
       "      <td>total_points_team_pg_last_4</td>\n",
       "      <td>0.014135</td>\n",
       "    </tr>\n",
       "    <tr>\n",
       "      <td>82</td>\n",
       "      <td>total_points_team_pg_last_1_opponent</td>\n",
       "      <td>0.013923</td>\n",
       "    </tr>\n",
       "    <tr>\n",
       "      <td>7</td>\n",
       "      <td>minutes_last_5</td>\n",
       "      <td>0.013854</td>\n",
       "    </tr>\n",
       "    <tr>\n",
       "      <td>88</td>\n",
       "      <td>total_points_team_pg_last_4_opponent</td>\n",
       "      <td>0.013810</td>\n",
       "    </tr>\n",
       "    <tr>\n",
       "      <td>83</td>\n",
       "      <td>total_points_team_pg_last_2</td>\n",
       "      <td>0.013702</td>\n",
       "    </tr>\n",
       "    <tr>\n",
       "      <td>84</td>\n",
       "      <td>total_points_team_pg_last_2_opponent</td>\n",
       "      <td>0.013678</td>\n",
       "    </tr>\n",
       "    <tr>\n",
       "      <td>6</td>\n",
       "      <td>minutes_last_4</td>\n",
       "      <td>0.013585</td>\n",
       "    </tr>\n",
       "    <tr>\n",
       "      <td>86</td>\n",
       "      <td>total_points_team_pg_last_3_opponent</td>\n",
       "      <td>0.013351</td>\n",
       "    </tr>\n",
       "    <tr>\n",
       "      <td>77</td>\n",
       "      <td>total_points_pg_last_5</td>\n",
       "      <td>0.012708</td>\n",
       "    </tr>\n",
       "    <tr>\n",
       "      <td>76</td>\n",
       "      <td>total_points_pg_last_4</td>\n",
       "      <td>0.012205</td>\n",
       "    </tr>\n",
       "    <tr>\n",
       "      <td>75</td>\n",
       "      <td>total_points_pg_last_3</td>\n",
       "      <td>0.011750</td>\n",
       "    </tr>\n",
       "    <tr>\n",
       "      <td>74</td>\n",
       "      <td>total_points_pg_last_2</td>\n",
       "      <td>0.011375</td>\n",
       "    </tr>\n",
       "    <tr>\n",
       "      <td>39</td>\n",
       "      <td>position_2</td>\n",
       "      <td>0.005940</td>\n",
       "    </tr>\n",
       "    <tr>\n",
       "      <td>93</td>\n",
       "      <td>was_home</td>\n",
       "      <td>0.005775</td>\n",
       "    </tr>\n",
       "  </tbody>\n",
       "</table>\n",
       "</div>"
      ],
      "text/plain": [
       "                                      cols       imp\n",
       "1                                  minutes  0.365542\n",
       "2                           minutes_last_1  0.089901\n",
       "78                total_points_pg_last_all  0.044832\n",
       "4                           minutes_last_2  0.034298\n",
       "92  total_points_team_pg_last_all_opponent  0.030777\n",
       "5                           minutes_last_3  0.027746\n",
       "91           total_points_team_pg_last_all  0.022178\n",
       "73                 total_points_pg_last_10  0.020460\n",
       "72                  total_points_pg_last_1  0.020043\n",
       "81   total_points_team_pg_last_10_opponent  0.019529\n",
       "8                         minutes_last_all  0.018807\n",
       "80            total_points_team_pg_last_10  0.016801\n",
       "90    total_points_team_pg_last_5_opponent  0.015176\n",
       "3                          minutes_last_10  0.015112\n",
       "89             total_points_team_pg_last_5  0.014465\n",
       "0                                       gw  0.014367\n",
       "79             total_points_team_pg_last_1  0.014246\n",
       "85             total_points_team_pg_last_3  0.014186\n",
       "87             total_points_team_pg_last_4  0.014135\n",
       "82    total_points_team_pg_last_1_opponent  0.013923\n",
       "7                           minutes_last_5  0.013854\n",
       "88    total_points_team_pg_last_4_opponent  0.013810\n",
       "83             total_points_team_pg_last_2  0.013702\n",
       "84    total_points_team_pg_last_2_opponent  0.013678\n",
       "6                           minutes_last_4  0.013585\n",
       "86    total_points_team_pg_last_3_opponent  0.013351\n",
       "77                  total_points_pg_last_5  0.012708\n",
       "76                  total_points_pg_last_4  0.012205\n",
       "75                  total_points_pg_last_3  0.011750\n",
       "74                  total_points_pg_last_2  0.011375\n",
       "39                              position_2  0.005940\n",
       "93                                was_home  0.005775"
      ]
     },
     "execution_count": 46,
     "metadata": {},
     "output_type": "execute_result"
    }
   ],
   "source": [
    "fi = rf_feat_importance(m, X_train)\n",
    "fi[:32]"
   ]
  },
  {
   "cell_type": "code",
   "execution_count": 45,
   "metadata": {},
   "outputs": [
    {
     "data": {
      "image/png": "[encoded data removed]",
      "text/plain": [
       "<Figure size 864x504 with 1 Axes>"
      ]
     },
     "metadata": {
      "needs_background": "light"
     },
     "output_type": "display_data"
    }
   ],
   "source": [
    "def plot_fi(fi):\n",
    "    return fi.plot('cols', 'imp', 'barh', figsize=(12,7), legend=False).invert_yaxis()\n",
    "\n",
    "plot_fi(fi[:30]);"
   ]
  },
  {
   "cell_type": "markdown",
   "metadata": {},
   "source": [
    "At the moment this algorithm is given minutes played in the gameweek so it's unsurprising that this is by far the most important feature - the more minutes a player plays, the more opportunity to score points. But strictly speaking we don't actually have this information prior to a gameweek (in practice it is estimated using previous minutes and injury status), so we can ignore it for now.\n",
    "\n",
    "Below that the top features are:\n",
    "1. minutes_last_1 - number of minutes in the last fixture for the player\n",
    "2. total_points_pg_last_all - the player's average points per game in all of history (since start of 2016/17 season)\n",
    "3. minutes_last_2 - number of minutes in the last two fixtures for the player\n",
    "4. total_points_team_pg_last_all_opponent - the opposition's average points per game in all of history\n",
    "5. minutes_last_3 - number of minutes in the last three fixtures for the player\n",
    "6. total_points_team_pg_last_all - the player's team's average points per game in all of history\n",
    "7. total_points_pg_last_10 - the player's average points per game in the last 10 fixtures\n",
    "8. total_points_pg_last_1 - the player's average points per game in the last fixture\n",
    "\n",
    "This is interesting. It seems to be saying that the amount of minutes a player has played recently and their underlying ability to score points in all of history, along with their team's and opponent team's ability to score points in all of history, is most important.\n",
    "\n",
    "Recent performance (i.e. 'form') is also important, but to a lesser extent.\n",
    "\n",
    "It also shows that the lag features are far more useful than the categorical features such as team, opponent and position.\n",
    "\n",
    "Let's test this... we can remove anything with a feature importance of less than 0.005 and see how the model performs on the original 2019/20 week 20 validation point (going from 94 features to just 32)."
   ]
  },
  {
   "cell_type": "code",
   "execution_count": 74,
   "metadata": {},
   "outputs": [
    {
     "data": {
      "text/plain": [
       "32"
      ]
     },
     "execution_count": 74,
     "metadata": {},
     "output_type": "execute_result"
    }
   ],
   "source": [
    "to_keep = fi[fi.imp>0.005].cols\n",
    "len(to_keep)"
   ]
  },
  {
   "cell_type": "code",
   "execution_count": 75,
   "metadata": {},
   "outputs": [
    {
     "data": {
      "text/plain": [
       "94"
      ]
     },
     "execution_count": 75,
     "metadata": {},
     "output_type": "execute_result"
    }
   ],
   "source": [
    "len(X_train.columns)"
   ]
  },
  {
   "cell_type": "code",
   "execution_count": 76,
   "metadata": {},
   "outputs": [],
   "source": [
    "X_train_imp = X_train[to_keep]\n",
    "X_test_imp = X_test[to_keep]"
   ]
  },
  {
   "cell_type": "code",
   "execution_count": 77,
   "metadata": {},
   "outputs": [],
   "source": [
    "m = rf(X_train_imp, y_train.values.ravel())"
   ]
  },
  {
   "cell_type": "code",
   "execution_count": 80,
   "metadata": {},
   "outputs": [
    {
     "data": {
      "text/plain": [
       "0.867054"
      ]
     },
     "execution_count": 80,
     "metadata": {},
     "output_type": "execute_result"
    }
   ],
   "source": [
    "mae(m.predict(X_test_imp), y_test.values.ravel())\n",
    "# mae(m.predict(X_train_imp), y_train.values.ravel())"
   ]
  },
  {
   "cell_type": "markdown",
   "metadata": {},
   "source": [
    "Very similar albeit slightly lower than previously as would be expected."
   ]
  },
  {
   "cell_type": "code",
   "execution_count": 81,
   "metadata": {},
   "outputs": [
    {
     "ename": "NameError",
     "evalue": "name 'cluster_columns' is not defined",
     "output_type": "error",
     "traceback": [
      "\u001b[1;31m---------------------------------------------------------------------------\u001b[0m",
      "\u001b[1;31mNameError\u001b[0m                                 Traceback (most recent call last)",
      "\u001b[1;32m<ipython-input-81-a6364730fe14>\u001b[0m in \u001b[0;36m<module>\u001b[1;34m\u001b[0m\n\u001b[1;32m----> 1\u001b[1;33m \u001b[0mcluster_columns\u001b[0m\u001b[1;33m(\u001b[0m\u001b[0mX_train\u001b[0m\u001b[1;33m)\u001b[0m\u001b[1;33m\u001b[0m\u001b[1;33m\u001b[0m\u001b[0m\n\u001b[0m",
      "\u001b[1;31mNameError\u001b[0m: name 'cluster_columns' is not defined"
     ]
    }
   ],
   "source": [
    "cluster_columns(X_train)"
   ]
  },
  {
   "cell_type": "code",
   "execution_count": 38,
   "metadata": {},
   "outputs": [],
   "source": [
    "import scipy as sp\n",
    "from scipy.cluster import hierarchy as hc\n",
    "\n",
    "def cluster_columns(df, figsize=(10,6), font_size=12):\n",
    "    corr = np.round(sp.stats.spearmanr(df).correlation, 4)\n",
    "    corr_condensed = hc.distance.squareform(1-corr)\n",
    "    z = hc.linkage(corr_condensed, method='average')\n",
    "    fig = plt.figure(figsize=figsize)\n",
    "    hc.dendrogram(z, labels=df.columns, orientation='left', leaf_font_size=font_size)\n",
    "    plt.show()"
   ]
  },
  {
   "cell_type": "code",
   "execution_count": 89,
   "metadata": {},
   "outputs": [
    {
     "data": {
      "image/png": "[encoded data removed]",
      "text/plain": [
       "<Figure size 864x288 with 3 Axes>"
      ]
     },
     "metadata": {
      "needs_background": "light"
     },
     "output_type": "display_data"
    }
   ],
   "source": [
    "from sklearn.inspection import plot_partial_dependence\n",
    "\n",
    "fig,ax = plt.subplots(figsize=(12, 4))\n",
    "plot_partial_dependence(m, X_test, ['total_points_pg_last_1', 'minutes_last_1'],\n",
    "                        grid_resolution=20, ax=ax);"
   ]
  },
  {
   "cell_type": "code",
   "execution_count": null,
   "metadata": {},
   "outputs": [],
   "source": []
  }
 ],
 "metadata": {
  "kernelspec": {
   "display_name": "Python 3",
   "language": "python",
   "name": "python3"
  },
  "language_info": {
   "codemirror_mode": {
    "name": "ipython",
    "version": 3
   },
   "file_extension": ".py",
   "mimetype": "text/x-python",
   "name": "python",
   "nbconvert_exporter": "python",
   "pygments_lexer": "ipython3",
   "version": "3.7.4"
  }
 },
 "nbformat": 4,
 "nbformat_minor": 4
}
