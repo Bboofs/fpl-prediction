{
 "cells": [
  {
   "cell_type": "code",
   "execution_count": 1,
   "metadata": {},
   "outputs": [],
   "source": [
    "# import required packages\n",
    "from fastai2.tabular.all import *"
   ]
  },
  {
   "cell_type": "code",
   "execution_count": 2,
   "metadata": {},
   "outputs": [],
   "source": [
    "# path to project directory\n",
    "path = Path()"
   ]
  },
  {
   "cell_type": "code",
   "execution_count": 3,
   "metadata": {},
   "outputs": [],
   "source": [
    "# read in training dataset\n",
    "train_df = pd.read_csv(path/'data/train_v3.csv', index_col=0, dtype={'season':str})"
   ]
  },
  {
   "cell_type": "code",
   "execution_count": 4,
   "metadata": {},
   "outputs": [
    {
     "data": {
      "text/html": [
       "<div>\n",
       "<style scoped>\n",
       "    .dataframe tbody tr th:only-of-type {\n",
       "        vertical-align: middle;\n",
       "    }\n",
       "\n",
       "    .dataframe tbody tr th {\n",
       "        vertical-align: top;\n",
       "    }\n",
       "\n",
       "    .dataframe thead th {\n",
       "        text-align: right;\n",
       "    }\n",
       "</style>\n",
       "<table border=\"1\" class=\"dataframe\">\n",
       "  <thead>\n",
       "    <tr style=\"text-align: right;\">\n",
       "      <th></th>\n",
       "      <th>player</th>\n",
       "      <th>gw</th>\n",
       "      <th>position</th>\n",
       "      <th>minutes</th>\n",
       "      <th>team</th>\n",
       "      <th>opponent_team</th>\n",
       "      <th>relative_market_value_team</th>\n",
       "      <th>relative_market_value_opponent_team</th>\n",
       "      <th>was_home</th>\n",
       "      <th>total_points</th>\n",
       "      <th>...</th>\n",
       "      <th>team_a_score</th>\n",
       "      <th>team_h_score</th>\n",
       "      <th>threat</th>\n",
       "      <th>transfers_balance</th>\n",
       "      <th>transfers_in</th>\n",
       "      <th>transfers_out</th>\n",
       "      <th>yellow_cards</th>\n",
       "      <th>kickoff_time</th>\n",
       "      <th>season</th>\n",
       "      <th>play_proba</th>\n",
       "    </tr>\n",
       "  </thead>\n",
       "  <tbody>\n",
       "    <tr>\n",
       "      <th>90432</th>\n",
       "      <td>Tommy_Doyle</td>\n",
       "      <td>38</td>\n",
       "      <td>3</td>\n",
       "      <td>0</td>\n",
       "      <td>Manchester City</td>\n",
       "      <td>Norwich</td>\n",
       "      <td>2.430397</td>\n",
       "      <td>0.327574</td>\n",
       "      <td>True</td>\n",
       "      <td>0</td>\n",
       "      <td>...</td>\n",
       "      <td>0</td>\n",
       "      <td>5</td>\n",
       "      <td>0.0</td>\n",
       "      <td>-2</td>\n",
       "      <td>22</td>\n",
       "      <td>24</td>\n",
       "      <td>0</td>\n",
       "      <td>2020-07-26T15:00:00Z</td>\n",
       "      <td>1920</td>\n",
       "      <td>1.0</td>\n",
       "    </tr>\n",
       "    <tr>\n",
       "      <th>90433</th>\n",
       "      <td>Joseph_Anang</td>\n",
       "      <td>38</td>\n",
       "      <td>1</td>\n",
       "      <td>0</td>\n",
       "      <td>West Ham United</td>\n",
       "      <td>Aston Villa</td>\n",
       "      <td>0.709989</td>\n",
       "      <td>0.553818</td>\n",
       "      <td>True</td>\n",
       "      <td>0</td>\n",
       "      <td>...</td>\n",
       "      <td>1</td>\n",
       "      <td>1</td>\n",
       "      <td>0.0</td>\n",
       "      <td>70</td>\n",
       "      <td>270</td>\n",
       "      <td>200</td>\n",
       "      <td>0</td>\n",
       "      <td>2020-07-26T15:00:00Z</td>\n",
       "      <td>1920</td>\n",
       "      <td>1.0</td>\n",
       "    </tr>\n",
       "    <tr>\n",
       "      <th>90434</th>\n",
       "      <td>Erik_Pieters</td>\n",
       "      <td>38</td>\n",
       "      <td>2</td>\n",
       "      <td>90</td>\n",
       "      <td>Burnley</td>\n",
       "      <td>Brighton and Hove Albion</td>\n",
       "      <td>0.370648</td>\n",
       "      <td>0.541184</td>\n",
       "      <td>True</td>\n",
       "      <td>3</td>\n",
       "      <td>...</td>\n",
       "      <td>2</td>\n",
       "      <td>1</td>\n",
       "      <td>2.0</td>\n",
       "      <td>139816</td>\n",
       "      <td>144388</td>\n",
       "      <td>4572</td>\n",
       "      <td>1</td>\n",
       "      <td>2020-07-26T15:00:00Z</td>\n",
       "      <td>1920</td>\n",
       "      <td>1.0</td>\n",
       "    </tr>\n",
       "    <tr>\n",
       "      <th>90435</th>\n",
       "      <td>Japhet_Tanganga</td>\n",
       "      <td>38</td>\n",
       "      <td>2</td>\n",
       "      <td>0</td>\n",
       "      <td>Tottenham Hotspur</td>\n",
       "      <td>Crystal Palace</td>\n",
       "      <td>1.604904</td>\n",
       "      <td>0.430493</td>\n",
       "      <td>False</td>\n",
       "      <td>0</td>\n",
       "      <td>...</td>\n",
       "      <td>1</td>\n",
       "      <td>1</td>\n",
       "      <td>0.0</td>\n",
       "      <td>7999</td>\n",
       "      <td>14840</td>\n",
       "      <td>6841</td>\n",
       "      <td>0</td>\n",
       "      <td>2020-07-26T15:00:00Z</td>\n",
       "      <td>1920</td>\n",
       "      <td>1.0</td>\n",
       "    </tr>\n",
       "    <tr>\n",
       "      <th>90436</th>\n",
       "      <td>Ravel_Morrison</td>\n",
       "      <td>38</td>\n",
       "      <td>3</td>\n",
       "      <td>0</td>\n",
       "      <td>Sheffield United</td>\n",
       "      <td>Southampton</td>\n",
       "      <td>0.348678</td>\n",
       "      <td>0.526987</td>\n",
       "      <td>False</td>\n",
       "      <td>0</td>\n",
       "      <td>...</td>\n",
       "      <td>1</td>\n",
       "      <td>3</td>\n",
       "      <td>0.0</td>\n",
       "      <td>-23</td>\n",
       "      <td>7</td>\n",
       "      <td>30</td>\n",
       "      <td>0</td>\n",
       "      <td>2020-07-26T15:00:00Z</td>\n",
       "      <td>1920</td>\n",
       "      <td>0.0</td>\n",
       "    </tr>\n",
       "  </tbody>\n",
       "</table>\n",
       "<p>5 rows × 35 columns</p>\n",
       "</div>"
      ],
      "text/plain": [
       "                player  gw  position  minutes               team  \\\n",
       "90432      Tommy_Doyle  38         3        0    Manchester City   \n",
       "90433     Joseph_Anang  38         1        0    West Ham United   \n",
       "90434     Erik_Pieters  38         2       90            Burnley   \n",
       "90435  Japhet_Tanganga  38         2        0  Tottenham Hotspur   \n",
       "90436   Ravel_Morrison  38         3        0   Sheffield United   \n",
       "\n",
       "                  opponent_team  relative_market_value_team  \\\n",
       "90432                   Norwich                    2.430397   \n",
       "90433               Aston Villa                    0.709989   \n",
       "90434  Brighton and Hove Albion                    0.370648   \n",
       "90435            Crystal Palace                    1.604904   \n",
       "90436               Southampton                    0.348678   \n",
       "\n",
       "       relative_market_value_opponent_team  was_home  total_points  ...  \\\n",
       "90432                             0.327574      True             0  ...   \n",
       "90433                             0.553818      True             0  ...   \n",
       "90434                             0.541184      True             3  ...   \n",
       "90435                             0.430493     False             0  ...   \n",
       "90436                             0.526987     False             0  ...   \n",
       "\n",
       "       team_a_score  team_h_score  threat  transfers_balance  transfers_in  \\\n",
       "90432             0             5     0.0                 -2            22   \n",
       "90433             1             1     0.0                 70           270   \n",
       "90434             2             1     2.0             139816        144388   \n",
       "90435             1             1     0.0               7999         14840   \n",
       "90436             1             3     0.0                -23             7   \n",
       "\n",
       "       transfers_out  yellow_cards          kickoff_time  season  play_proba  \n",
       "90432             24             0  2020-07-26T15:00:00Z    1920         1.0  \n",
       "90433            200             0  2020-07-26T15:00:00Z    1920         1.0  \n",
       "90434           4572             1  2020-07-26T15:00:00Z    1920         1.0  \n",
       "90435           6841             0  2020-07-26T15:00:00Z    1920         1.0  \n",
       "90436             30             0  2020-07-26T15:00:00Z    1920         0.0  \n",
       "\n",
       "[5 rows x 35 columns]"
      ]
     },
     "execution_count": 4,
     "metadata": {},
     "output_type": "execute_result"
    }
   ],
   "source": [
    "train_df.tail()"
   ]
  },
  {
   "cell_type": "code",
   "execution_count": 5,
   "metadata": {},
   "outputs": [
    {
     "data": {
      "text/plain": [
       "(90437, 35)"
      ]
     },
     "execution_count": 5,
     "metadata": {},
     "output_type": "execute_result"
    }
   ],
   "source": [
    "train_df.shape"
   ]
  },
  {
   "cell_type": "code",
   "execution_count": 6,
   "metadata": {},
   "outputs": [],
   "source": [
    "# we want to set gw and season as ordered categorical variables\n",
    "# need lists with ordered categories\n",
    "ordered_gws = list(range(1,39))\n",
    "ordered_seasons = ['1617', '1718', '1819', '1920']"
   ]
  },
  {
   "cell_type": "code",
   "execution_count": 7,
   "metadata": {},
   "outputs": [],
   "source": [
    "# set as categories with correct order \n",
    "train_df['gw'] = train_df['gw'].astype('category')\n",
    "train_df['season'] = train_df['season'].astype('category')\n",
    "\n",
    "train_df['gw'].cat.set_categories(ordered_gws, ordered=True, inplace=True)\n",
    "train_df['season'].cat.set_categories(ordered_seasons, ordered=True, inplace=True)"
   ]
  },
  {
   "cell_type": "code",
   "execution_count": 8,
   "metadata": {},
   "outputs": [],
   "source": [
    "# dependent variable needs to be float\n",
    "train_df['total_points'] = train_df['total_points'].astype('float64')"
   ]
  },
  {
   "cell_type": "code",
   "execution_count": 9,
   "metadata": {},
   "outputs": [
    {
     "data": {
      "text/plain": [
       "player                                   object\n",
       "gw                                     category\n",
       "position                                  int64\n",
       "minutes                                   int64\n",
       "team                                     object\n",
       "opponent_team                            object\n",
       "relative_market_value_team              float64\n",
       "relative_market_value_opponent_team     float64\n",
       "was_home                                   bool\n",
       "total_points                            float64\n",
       "assists                                   int64\n",
       "bonus                                     int64\n",
       "bps                                       int64\n",
       "clean_sheets                              int64\n",
       "creativity                              float64\n",
       "goals_conceded                            int64\n",
       "goals_scored                              int64\n",
       "ict_index                               float64\n",
       "influence                               float64\n",
       "own_goals                                 int64\n",
       "penalties_missed                          int64\n",
       "penalties_saved                           int64\n",
       "red_cards                                 int64\n",
       "saves                                     int64\n",
       "selected                                  int64\n",
       "team_a_score                              int64\n",
       "team_h_score                              int64\n",
       "threat                                  float64\n",
       "transfers_balance                         int64\n",
       "transfers_in                              int64\n",
       "transfers_out                             int64\n",
       "yellow_cards                              int64\n",
       "kickoff_time                             object\n",
       "season                                 category\n",
       "play_proba                              float64\n",
       "dtype: object"
      ]
     },
     "execution_count": 9,
     "metadata": {},
     "output_type": "execute_result"
    }
   ],
   "source": [
    "# check data types\n",
    "train_df.dtypes"
   ]
  },
  {
   "cell_type": "code",
   "execution_count": 10,
   "metadata": {},
   "outputs": [],
   "source": [
    "# find validation cut point - index for 19-20 season second half (gw 19)\n",
    "valid_start = train_df[(train_df['gw'] > 18) & (train_df['season'] == '1920')].index.min()\n",
    "valid_end = train_df.index.max()"
   ]
  },
  {
   "cell_type": "code",
   "execution_count": 44,
   "metadata": {},
   "outputs": [
    {
     "data": {
      "text/plain": [
       "range(77810, 90436)"
      ]
     },
     "execution_count": 44,
     "metadata": {},
     "output_type": "execute_result"
    }
   ],
   "source": [
    "# set validation dataset based on indexes\n",
    "train_idx = range(valid_start)\n",
    "valid_idx = range(valid_start, valid_end)\n",
    "\n",
    "splits = (list(train_idx), list(valid_idx))\n",
    "valid_idx"
   ]
  },
  {
   "cell_type": "code",
   "execution_count": 12,
   "metadata": {},
   "outputs": [],
   "source": [
    "# set categorical and continuous variables for tabular learner\n",
    "cat_vars = ['player', 'gw', 'position', 'team', 'opponent_team', 'was_home', 'season']\n",
    "cont_vars = ['minutes', 'relative_market_value_team', 'relative_market_value_opponent_team']"
   ]
  },
  {
   "cell_type": "code",
   "execution_count": 13,
   "metadata": {},
   "outputs": [],
   "source": [
    "# set dependent variable\n",
    "dep_var = 'total_points'"
   ]
  },
  {
   "cell_type": "code",
   "execution_count": 14,
   "metadata": {},
   "outputs": [
    {
     "data": {
      "text/plain": [
       "player           1306\n",
       "gw                 38\n",
       "position            4\n",
       "team               29\n",
       "opponent_team      29\n",
       "was_home            2\n",
       "season              4\n",
       "dtype: int64"
      ]
     },
     "execution_count": 14,
     "metadata": {},
     "output_type": "execute_result"
    }
   ],
   "source": [
    "train_df[cat_vars].nunique()"
   ]
  },
  {
   "cell_type": "code",
   "execution_count": 15,
   "metadata": {},
   "outputs": [],
   "source": [
    "# processors - categorify categorical variables and normalize continuous variables\n",
    "# fill missing not used because new teams are almost certainly well below the league average\n",
    "procs=[Categorify, Normalize]\n",
    "to_nn = TabularPandas(train_df, procs, cat_vars, cont_vars,\n",
    "                      splits=splits, y_names=dep_var)"
   ]
  },
  {
   "cell_type": "code",
   "execution_count": 39,
   "metadata": {},
   "outputs": [],
   "source": [
    "# dls = to_nn.dataloaders()\n",
    "dls = to_nn.dataloaders()"
   ]
  },
  {
   "cell_type": "code",
   "execution_count": 22,
   "metadata": {},
   "outputs": [
    {
     "data": {
      "text/html": [
       "<table border=\"1\" class=\"dataframe\">\n",
       "  <thead>\n",
       "    <tr style=\"text-align: right;\">\n",
       "      <th></th>\n",
       "      <th>player</th>\n",
       "      <th>gw</th>\n",
       "      <th>position</th>\n",
       "      <th>team</th>\n",
       "      <th>opponent_team</th>\n",
       "      <th>was_home</th>\n",
       "      <th>season</th>\n",
       "      <th>minutes</th>\n",
       "      <th>relative_market_value_team</th>\n",
       "      <th>relative_market_value_opponent_team</th>\n",
       "      <th>total_points</th>\n",
       "    </tr>\n",
       "  </thead>\n",
       "  <tbody>\n",
       "    <tr>\n",
       "      <th>0</th>\n",
       "      <td>Andrew_Surman</td>\n",
       "      <td>27</td>\n",
       "      <td>3</td>\n",
       "      <td>Bournemouth</td>\n",
       "      <td>Wolverhampton Wanderers</td>\n",
       "      <td>True</td>\n",
       "      <td>1819</td>\n",
       "      <td>2.833622e-08</td>\n",
       "      <td>0.418108</td>\n",
       "      <td>0.388177</td>\n",
       "      <td>0.0</td>\n",
       "    </tr>\n",
       "    <tr>\n",
       "      <th>1</th>\n",
       "      <td>Dejan_Lovren</td>\n",
       "      <td>11</td>\n",
       "      <td>2</td>\n",
       "      <td>Liverpool</td>\n",
       "      <td>West Ham United</td>\n",
       "      <td>False</td>\n",
       "      <td>1718</td>\n",
       "      <td>3.000001e+00</td>\n",
       "      <td>1.619155</td>\n",
       "      <td>0.866330</td>\n",
       "      <td>1.0</td>\n",
       "    </tr>\n",
       "    <tr>\n",
       "      <th>2</th>\n",
       "      <td>Bamidele_Alli</td>\n",
       "      <td>7</td>\n",
       "      <td>3</td>\n",
       "      <td>Tottenham Hotspur</td>\n",
       "      <td>Huddersfield Town</td>\n",
       "      <td>False</td>\n",
       "      <td>1718</td>\n",
       "      <td>9.000000e+01</td>\n",
       "      <td>1.751141</td>\n",
       "      <td>0.210654</td>\n",
       "      <td>2.0</td>\n",
       "    </tr>\n",
       "    <tr>\n",
       "      <th>3</th>\n",
       "      <td>Jesse_Lingard</td>\n",
       "      <td>32</td>\n",
       "      <td>3</td>\n",
       "      <td>Manchester United</td>\n",
       "      <td>Swansea City</td>\n",
       "      <td>True</td>\n",
       "      <td>1718</td>\n",
       "      <td>7.500000e+01</td>\n",
       "      <td>2.110135</td>\n",
       "      <td>0.560457</td>\n",
       "      <td>6.0</td>\n",
       "    </tr>\n",
       "    <tr>\n",
       "      <th>4</th>\n",
       "      <td>Victor_Lindelöf</td>\n",
       "      <td>6</td>\n",
       "      <td>2</td>\n",
       "      <td>Manchester United</td>\n",
       "      <td>Southampton</td>\n",
       "      <td>False</td>\n",
       "      <td>1718</td>\n",
       "      <td>2.833622e-08</td>\n",
       "      <td>2.110135</td>\n",
       "      <td>0.809578</td>\n",
       "      <td>0.0</td>\n",
       "    </tr>\n",
       "    <tr>\n",
       "      <th>5</th>\n",
       "      <td>Michael_Keane</td>\n",
       "      <td>22</td>\n",
       "      <td>2</td>\n",
       "      <td>Everton</td>\n",
       "      <td>Manchester United</td>\n",
       "      <td>True</td>\n",
       "      <td>1718</td>\n",
       "      <td>9.000000e+01</td>\n",
       "      <td>1.134226</td>\n",
       "      <td>2.110135</td>\n",
       "      <td>1.0</td>\n",
       "    </tr>\n",
       "    <tr>\n",
       "      <th>6</th>\n",
       "      <td>Jeff_Hendrick</td>\n",
       "      <td>33</td>\n",
       "      <td>3</td>\n",
       "      <td>Burnley</td>\n",
       "      <td>Watford</td>\n",
       "      <td>False</td>\n",
       "      <td>1718</td>\n",
       "      <td>8.999999e+00</td>\n",
       "      <td>0.316798</td>\n",
       "      <td>0.547242</td>\n",
       "      <td>1.0</td>\n",
       "    </tr>\n",
       "    <tr>\n",
       "      <th>7</th>\n",
       "      <td>Ethan_Ampadu</td>\n",
       "      <td>1</td>\n",
       "      <td>3</td>\n",
       "      <td>Chelsea</td>\n",
       "      <td>Huddersfield Town</td>\n",
       "      <td>False</td>\n",
       "      <td>1819</td>\n",
       "      <td>2.833622e-08</td>\n",
       "      <td>2.540586</td>\n",
       "      <td>0.273778</td>\n",
       "      <td>0.0</td>\n",
       "    </tr>\n",
       "    <tr>\n",
       "      <th>8</th>\n",
       "      <td>Francis_Coquelin</td>\n",
       "      <td>16</td>\n",
       "      <td>3</td>\n",
       "      <td>Arsenal</td>\n",
       "      <td>Everton</td>\n",
       "      <td>False</td>\n",
       "      <td>1617</td>\n",
       "      <td>8.700000e+01</td>\n",
       "      <td>1.944129</td>\n",
       "      <td>1.057509</td>\n",
       "      <td>5.0</td>\n",
       "    </tr>\n",
       "    <tr>\n",
       "      <th>9</th>\n",
       "      <td>Jack_Stephens</td>\n",
       "      <td>37</td>\n",
       "      <td>2</td>\n",
       "      <td>Southampton</td>\n",
       "      <td>Swansea City</td>\n",
       "      <td>False</td>\n",
       "      <td>1718</td>\n",
       "      <td>9.000000e+01</td>\n",
       "      <td>0.809578</td>\n",
       "      <td>0.560457</td>\n",
       "      <td>6.0</td>\n",
       "    </tr>\n",
       "  </tbody>\n",
       "</table>"
      ],
      "text/plain": [
       "<IPython.core.display.HTML object>"
      ]
     },
     "metadata": {},
     "output_type": "display_data"
    }
   ],
   "source": [
    "dls.show_batch()"
   ]
  },
  {
   "cell_type": "code",
   "execution_count": 18,
   "metadata": {},
   "outputs": [],
   "source": [
    "# set range of predictions - minimum to current max\n",
    "max_y = np.max(train_df['total_points'])\n",
    "min_y = np.min(train_df['total_points'])\n",
    "y_range = (-1, max_y)"
   ]
  },
  {
   "cell_type": "code",
   "execution_count": 54,
   "metadata": {},
   "outputs": [],
   "source": [
    "learn = tabular_learner(dls, y_range=y_range, layers=[1000,500], ps=[0.001,0.01], emb_drop=0.04,\n",
    "                        n_out=1, loss_func=F.mse_loss, metrics=rmse)"
   ]
  },
  {
   "cell_type": "code",
   "execution_count": 48,
   "metadata": {},
   "outputs": [
    {
     "data": {
      "text/html": [],
      "text/plain": [
       "<IPython.core.display.HTML object>"
      ]
     },
     "metadata": {},
     "output_type": "display_data"
    },
    {
     "data": {
      "text/plain": [
       "SuggestedLRs(lr_min=0.33113112449646, lr_steep=0.0012022644514217973)"
      ]
     },
     "execution_count": 48,
     "metadata": {},
     "output_type": "execute_result"
    },
    {
     "data": {
      "image/png": "[encoded data removed]",
      "text/plain": [
       "<Figure size 432x288 with 1 Axes>"
      ]
     },
     "metadata": {
      "needs_background": "light"
     },
     "output_type": "display_data"
    }
   ],
   "source": [
    "learn.lr_find()"
   ]
  },
  {
   "cell_type": "code",
   "execution_count": 55,
   "metadata": {},
   "outputs": [
    {
     "data": {
      "text/html": [
       "<table border=\"1\" class=\"dataframe\">\n",
       "  <thead>\n",
       "    <tr style=\"text-align: left;\">\n",
       "      <th>epoch</th>\n",
       "      <th>train_loss</th>\n",
       "      <th>valid_loss</th>\n",
       "      <th>_rmse</th>\n",
       "      <th>time</th>\n",
       "    </tr>\n",
       "  </thead>\n",
       "  <tbody>\n",
       "    <tr>\n",
       "      <td>0</td>\n",
       "      <td>4.191478</td>\n",
       "      <td>3.762616</td>\n",
       "      <td>1.939746</td>\n",
       "      <td>00:15</td>\n",
       "    </tr>\n",
       "    <tr>\n",
       "      <td>1</td>\n",
       "      <td>3.652228</td>\n",
       "      <td>3.355534</td>\n",
       "      <td>1.831812</td>\n",
       "      <td>00:15</td>\n",
       "    </tr>\n",
       "    <tr>\n",
       "      <td>2</td>\n",
       "      <td>3.328749</td>\n",
       "      <td>3.355761</td>\n",
       "      <td>1.831874</td>\n",
       "      <td>00:15</td>\n",
       "    </tr>\n",
       "    <tr>\n",
       "      <td>3</td>\n",
       "      <td>3.289095</td>\n",
       "      <td>3.272787</td>\n",
       "      <td>1.809085</td>\n",
       "      <td>00:15</td>\n",
       "    </tr>\n",
       "    <tr>\n",
       "      <td>4</td>\n",
       "      <td>3.067832</td>\n",
       "      <td>3.267130</td>\n",
       "      <td>1.807521</td>\n",
       "      <td>00:15</td>\n",
       "    </tr>\n",
       "  </tbody>\n",
       "</table>"
      ],
      "text/plain": [
       "<IPython.core.display.HTML object>"
      ]
     },
     "metadata": {},
     "output_type": "display_data"
    }
   ],
   "source": [
    "learn.fit_one_cycle(5, 1e-2, wd=0.2)"
   ]
  },
  {
   "cell_type": "code",
   "execution_count": 25,
   "metadata": {},
   "outputs": [],
   "source": [
    "def r_mse(pred,y): return round(math.sqrt(((pred-y)**2).mean()), 6)"
   ]
  },
  {
   "cell_type": "code",
   "execution_count": 57,
   "metadata": {},
   "outputs": [
    {
     "data": {
      "text/html": [],
      "text/plain": [
       "<IPython.core.display.HTML object>"
      ]
     },
     "metadata": {},
     "output_type": "display_data"
    },
    {
     "data": {
      "text/plain": [
       "1.807521"
      ]
     },
     "execution_count": 57,
     "metadata": {},
     "output_type": "execute_result"
    }
   ],
   "source": [
    "preds,targs = learn.get_preds()\n",
    "r_mse(preds,targs)"
   ]
  },
  {
   "cell_type": "code",
   "execution_count": 27,
   "metadata": {},
   "outputs": [
    {
     "data": {
      "text/plain": [
       "tensor([[-0.0926],\n",
       "        [ 0.2595],\n",
       "        [-0.1763],\n",
       "        ...,\n",
       "        [-0.2005],\n",
       "        [ 5.2565],\n",
       "        [-0.1782]])"
      ]
     },
     "execution_count": 27,
     "metadata": {},
     "output_type": "execute_result"
    }
   ],
   "source": [
    "preds"
   ]
  },
  {
   "cell_type": "code",
   "execution_count": 28,
   "metadata": {},
   "outputs": [
    {
     "data": {
      "text/plain": [
       "tensor([[-3.],\n",
       "        [ 0.],\n",
       "        [ 0.],\n",
       "        ...,\n",
       "        [ 0.],\n",
       "        [ 3.],\n",
       "        [ 0.]])"
      ]
     },
     "execution_count": 28,
     "metadata": {},
     "output_type": "execute_result"
    }
   ],
   "source": [
    "targs"
   ]
  },
  {
   "cell_type": "code",
   "execution_count": null,
   "metadata": {},
   "outputs": [],
   "source": []
  }
 ],
 "metadata": {
  "kernelspec": {
   "display_name": "Python 3",
   "language": "python",
   "name": "python3"
  },
  "language_info": {
   "codemirror_mode": {
    "name": "ipython",
    "version": 3
   },
   "file_extension": ".py",
   "mimetype": "text/x-python",
   "name": "python",
   "nbconvert_exporter": "python",
   "pygments_lexer": "ipython3",
   "version": "3.7.6"
  }
 },
 "nbformat": 4,
 "nbformat_minor": 4
}
