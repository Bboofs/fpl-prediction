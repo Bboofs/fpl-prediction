{
 "cells": [
  {
   "cell_type": "code",
   "execution_count": 1,
   "metadata": {},
   "outputs": [],
   "source": [
    "import pandas as pd\n",
    "import numpy as np\n",
    "from pathlib import Path\n",
    "from helpers import *"
   ]
  },
  {
   "cell_type": "code",
   "execution_count": 2,
   "metadata": {},
   "outputs": [],
   "source": [
    "# path to project directory\n",
    "path = Path('./')"
   ]
  },
  {
   "cell_type": "code",
   "execution_count": 3,
   "metadata": {},
   "outputs": [],
   "source": [
    "# read in training dataset\n",
    "train_df = pd.read_csv(path/'data/train_v4.csv', index_col=0, dtype={'season':str})"
   ]
  },
  {
   "cell_type": "code",
   "execution_count": 4,
   "metadata": {},
   "outputs": [],
   "source": [
    "# add all lag points scored to training set\n",
    "train_df = player_lag_features(train_df, ['total_points'], ['all'])"
   ]
  },
  {
   "cell_type": "code",
   "execution_count": 5,
   "metadata": {},
   "outputs": [
    {
     "data": {
      "text/plain": [
       "(78390, 78973, 80156, 82053)"
      ]
     },
     "execution_count": 5,
     "metadata": {},
     "output_type": "execute_result"
    }
   ],
   "source": [
    "# lets grab some indexes for a validation set starting at gw 20 in 2019/20 season\n",
    "idxs = validation_season_idx(train_df, '1920', [20])[0]\n",
    "idxs"
   ]
  },
  {
   "cell_type": "code",
   "execution_count": 6,
   "metadata": {},
   "outputs": [],
   "source": [
    "def simple_model(df, idxs):\n",
    "    valid_start, valid_end_gw1, valid_end_gw3, valid_end_gw6 = idxs\n",
    "    \n",
    "    train_idx = range(valid_start)\n",
    "    valid_idx = range(valid_start, valid_end_gw6 + 1)    \n",
    "    \n",
    "    train = df.iloc[train_idx]\n",
    "    valid = df[['player', 'gw', 'season', 'minutes', 'total_points']].iloc[valid_idx]\n",
    "    \n",
    "    season_point = valid['season'].iloc[0]\n",
    "    gw_point = valid['gw'].iloc[0]\n",
    "    \n",
    "    # get player total per game average at validation point\n",
    "    player_points_pg = train_df[(train_df['season'] == season_point) & \n",
    "                                (train_df['gw'] == gw_point)][['player', 'total_points_pg_last_all']]\n",
    "    \n",
    "    pred_df = valid.merge(player_points_pg, on='player', how='left')   \n",
    "    pred_df.fillna(0, inplace=True)\n",
    "    preds = pred_df['total_points_pg_last_all'] * pred_df['minutes'] / 90\n",
    "    targs = pred_df['total_points']\n",
    "    \n",
    "    return preds, targs"
   ]
  },
  {
   "cell_type": "code",
   "execution_count": 7,
   "metadata": {},
   "outputs": [],
   "source": [
    "preds, targs = simple_model(train_df, idxs)"
   ]
  },
  {
   "cell_type": "code",
   "execution_count": 8,
   "metadata": {},
   "outputs": [
    {
     "data": {
      "text/plain": [
       "1.904038"
      ]
     },
     "execution_count": 8,
     "metadata": {},
     "output_type": "execute_result"
    }
   ],
   "source": [
    "r_mse(preds, targs)"
   ]
  },
  {
   "cell_type": "code",
   "execution_count": 9,
   "metadata": {},
   "outputs": [],
   "source": [
    "# we can calculate the same predictions directly using the season and gameweek\n",
    "# to check the above function \n",
    "# get player total per game average at validation point\n",
    "player_points_pg = train_df[(train_df['season'] == '1920') & \n",
    "                            (train_df['gw'] == 20)][['player', 'total_points_pg_last_all']]\n",
    "\n",
    "valid_df = train_df[(train_df['season'] == '1920') \n",
    "                    & (train_df['gw'] > 19)\n",
    "                    & (train_df['gw'] < 26)][['player', 'minutes', 'total_points']]\n",
    "\n",
    "pred_df = valid_df.merge(player_points_pg, on='player', how='left')\n",
    "pred_df['pred'] = pred_df['total_points_pg_last_all'] * pred_df['minutes'] / 90\n",
    "pred_df.fillna(0, inplace=True)"
   ]
  },
  {
   "cell_type": "code",
   "execution_count": 10,
   "metadata": {},
   "outputs": [
    {
     "data": {
      "text/plain": [
       "1.904038"
      ]
     },
     "execution_count": 10,
     "metadata": {},
     "output_type": "execute_result"
    }
   ],
   "source": [
    "r_mse(pred_df['pred'], pred_df['total_points'])"
   ]
  },
  {
   "cell_type": "code",
   "execution_count": null,
   "metadata": {},
   "outputs": [],
   "source": []
  }
 ],
 "metadata": {
  "kernelspec": {
   "display_name": "Python 3",
   "language": "python",
   "name": "python3"
  },
  "language_info": {
   "codemirror_mode": {
    "name": "ipython",
    "version": 3
   },
   "file_extension": ".py",
   "mimetype": "text/x-python",
   "name": "python",
   "nbconvert_exporter": "python",
   "pygments_lexer": "ipython3",
   "version": "3.7.6"
  }
 },
 "nbformat": 4,
 "nbformat_minor": 4
}
