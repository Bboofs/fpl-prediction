{
 "cells": [
  {
   "cell_type": "code",
   "execution_count": 1,
   "metadata": {},
   "outputs": [],
   "source": [
    "import xgboost as xgb\n",
    "from sklearn.metrics import mean_squared_error\n",
    "import pandas as pd\n",
    "import numpy as np\n",
    "from pathlib import Path\n",
    "from sklearn.preprocessing import LabelEncoder, OneHotEncoder\n",
    "from sklearn.model_selection import train_test_split, RandomizedSearchCV, PredefinedSplit\n",
    "from sklearn.feature_extraction import DictVectorizer\n",
    "from scipy.stats import uniform, randint\n",
    "from matplotlib import pyplot as plt\n",
    "from helpers import *"
   ]
  },
  {
   "cell_type": "code",
   "execution_count": 209,
   "metadata": {},
   "outputs": [],
   "source": [
    "# path to project directory\n",
    "path = Path('./')"
   ]
  },
  {
   "cell_type": "code",
   "execution_count": 770,
   "metadata": {},
   "outputs": [],
   "source": [
    "# read in training dataset\n",
    "train_df = pd.read_csv(path/'data/train_v7.csv', index_col=0, dtype={'season':str,\n",
    "                                                                     'squad':str,\n",
    "                                                                     'comp':str})"
   ]
  },
  {
   "cell_type": "code",
   "execution_count": 211,
   "metadata": {},
   "outputs": [],
   "source": [
    "# for experimenting with team points split by position\n",
    "# train_df['total_points_def'] = ((train_df['position'] == 1) | (train_df['position'] == 2)).astype(int) * train_df['total_points']\n",
    "# train_df['total_points_mid'] = (train_df['position'] == 3).astype(int) * train_df['total_points']\n",
    "# train_df['total_points_fwd'] = (train_df['position'] == 4).astype(int) * train_df['total_points']"
   ]
  },
  {
   "cell_type": "code",
   "execution_count": 212,
   "metadata": {},
   "outputs": [],
   "source": [
    "# for experimenting with expected stats\n",
    "# only available from 17/18 season\n",
    "# train_df = train_df[train_df['season'] != '1617']"
   ]
  },
  {
   "cell_type": "markdown",
   "metadata": {},
   "source": [
    "## XGBoost model\n",
    "\n",
    "XGboost is another ensemble tree-based predictive algorithm that performs well across a range of applications. Preparation of the data is very similar to the random forest approach.\n",
    "\n",
    "Again this is a time series problem, where metrics from recent time periods can be predicitve, so we need to add in window features (e.g. points scored last gameweek)."
   ]
  },
  {
   "cell_type": "code",
   "execution_count": 771,
   "metadata": {},
   "outputs": [],
   "source": [
    "# add a bunch of player lag features\n",
    "lag_train_df, team_lag_vars = team_lag_features(train_df, ['total_points', 'xg'], [5, 10, 20])\n",
    "# lag_train_df, team_lag_vars = team_lag_features(train_df, ['total_points'], ['all', 1, 2, 3, 4, 5, 10])\n",
    "# lag_train_df, player_lag_vars = player_lag_features(lag_train_df, ['total_points'], \n",
    "#                                                     ['all', 1, 2, 3, 4, 5, 10])\n",
    "lag_train_df, player_lag_vars = player_lag_features(lag_train_df, ['total_points'], \n",
    "                                                    [3, 5, 10, 20, 38, 'all'])"
   ]
  },
  {
   "cell_type": "code",
   "execution_count": 806,
   "metadata": {},
   "outputs": [
    {
     "data": {
      "text/html": [
       "<div>\n",
       "<style scoped>\n",
       "    .dataframe tbody tr th:only-of-type {\n",
       "        vertical-align: middle;\n",
       "    }\n",
       "\n",
       "    .dataframe tbody tr th {\n",
       "        vertical-align: top;\n",
       "    }\n",
       "\n",
       "    .dataframe thead th {\n",
       "        text-align: right;\n",
       "    }\n",
       "</style>\n",
       "<table border=\"1\" class=\"dataframe\">\n",
       "  <thead>\n",
       "    <tr style=\"text-align: right;\">\n",
       "      <th></th>\n",
       "      <th>season</th>\n",
       "      <th>gw</th>\n",
       "      <th>team</th>\n",
       "      <th>xg_team_conceded_pg_last_10</th>\n",
       "    </tr>\n",
       "  </thead>\n",
       "  <tbody>\n",
       "    <tr>\n",
       "      <th>98471</th>\n",
       "      <td>2021</td>\n",
       "      <td>15</td>\n",
       "      <td>Manchester City</td>\n",
       "      <td>0.65</td>\n",
       "    </tr>\n",
       "    <tr>\n",
       "      <th>98491</th>\n",
       "      <td>2021</td>\n",
       "      <td>15</td>\n",
       "      <td>Chelsea</td>\n",
       "      <td>0.79</td>\n",
       "    </tr>\n",
       "    <tr>\n",
       "      <th>98458</th>\n",
       "      <td>2021</td>\n",
       "      <td>15</td>\n",
       "      <td>Brighton and Hove Albion</td>\n",
       "      <td>0.96</td>\n",
       "    </tr>\n",
       "    <tr>\n",
       "      <th>98462</th>\n",
       "      <td>2021</td>\n",
       "      <td>15</td>\n",
       "      <td>Manchester United</td>\n",
       "      <td>1.02</td>\n",
       "    </tr>\n",
       "    <tr>\n",
       "      <th>98516</th>\n",
       "      <td>2021</td>\n",
       "      <td>15</td>\n",
       "      <td>Tottenham Hotspur</td>\n",
       "      <td>1.12</td>\n",
       "    </tr>\n",
       "    <tr>\n",
       "      <th>98474</th>\n",
       "      <td>2021</td>\n",
       "      <td>15</td>\n",
       "      <td>Aston Villa</td>\n",
       "      <td>1.16</td>\n",
       "    </tr>\n",
       "    <tr>\n",
       "      <th>98472</th>\n",
       "      <td>2021</td>\n",
       "      <td>15</td>\n",
       "      <td>Liverpool</td>\n",
       "      <td>1.16</td>\n",
       "    </tr>\n",
       "    <tr>\n",
       "      <th>98495</th>\n",
       "      <td>2021</td>\n",
       "      <td>15</td>\n",
       "      <td>Crystal Palace</td>\n",
       "      <td>1.17</td>\n",
       "    </tr>\n",
       "    <tr>\n",
       "      <th>98475</th>\n",
       "      <td>2021</td>\n",
       "      <td>15</td>\n",
       "      <td>Arsenal</td>\n",
       "      <td>1.19</td>\n",
       "    </tr>\n",
       "    <tr>\n",
       "      <th>98465</th>\n",
       "      <td>2021</td>\n",
       "      <td>15</td>\n",
       "      <td>Wolverhampton Wanderers</td>\n",
       "      <td>1.21</td>\n",
       "    </tr>\n",
       "    <tr>\n",
       "      <th>98470</th>\n",
       "      <td>2021</td>\n",
       "      <td>15</td>\n",
       "      <td>Leicester City</td>\n",
       "      <td>1.26</td>\n",
       "    </tr>\n",
       "    <tr>\n",
       "      <th>98488</th>\n",
       "      <td>2021</td>\n",
       "      <td>15</td>\n",
       "      <td>Newcastle United</td>\n",
       "      <td>1.27</td>\n",
       "    </tr>\n",
       "    <tr>\n",
       "      <th>98482</th>\n",
       "      <td>2021</td>\n",
       "      <td>15</td>\n",
       "      <td>Southampton</td>\n",
       "      <td>1.28</td>\n",
       "    </tr>\n",
       "    <tr>\n",
       "      <th>98463</th>\n",
       "      <td>2021</td>\n",
       "      <td>15</td>\n",
       "      <td>Everton</td>\n",
       "      <td>1.45</td>\n",
       "    </tr>\n",
       "    <tr>\n",
       "      <th>98501</th>\n",
       "      <td>2021</td>\n",
       "      <td>15</td>\n",
       "      <td>Burnley</td>\n",
       "      <td>1.48</td>\n",
       "    </tr>\n",
       "    <tr>\n",
       "      <th>98464</th>\n",
       "      <td>2021</td>\n",
       "      <td>15</td>\n",
       "      <td>Fulham</td>\n",
       "      <td>1.54</td>\n",
       "    </tr>\n",
       "    <tr>\n",
       "      <th>98459</th>\n",
       "      <td>2021</td>\n",
       "      <td>15</td>\n",
       "      <td>West Ham United</td>\n",
       "      <td>1.56</td>\n",
       "    </tr>\n",
       "    <tr>\n",
       "      <th>98473</th>\n",
       "      <td>2021</td>\n",
       "      <td>15</td>\n",
       "      <td>West Bromwich Albion</td>\n",
       "      <td>1.75</td>\n",
       "    </tr>\n",
       "    <tr>\n",
       "      <th>98466</th>\n",
       "      <td>2021</td>\n",
       "      <td>15</td>\n",
       "      <td>Leeds</td>\n",
       "      <td>1.89</td>\n",
       "    </tr>\n",
       "    <tr>\n",
       "      <th>98461</th>\n",
       "      <td>2021</td>\n",
       "      <td>15</td>\n",
       "      <td>Sheffield United</td>\n",
       "      <td>1.93</td>\n",
       "    </tr>\n",
       "  </tbody>\n",
       "</table>\n",
       "</div>"
      ],
      "text/plain": [
       "      season  gw                      team  xg_team_conceded_pg_last_10\n",
       "98471   2021  15           Manchester City                         0.65\n",
       "98491   2021  15                   Chelsea                         0.79\n",
       "98458   2021  15  Brighton and Hove Albion                         0.96\n",
       "98462   2021  15         Manchester United                         1.02\n",
       "98516   2021  15         Tottenham Hotspur                         1.12\n",
       "98474   2021  15               Aston Villa                         1.16\n",
       "98472   2021  15                 Liverpool                         1.16\n",
       "98495   2021  15            Crystal Palace                         1.17\n",
       "98475   2021  15                   Arsenal                         1.19\n",
       "98465   2021  15   Wolverhampton Wanderers                         1.21\n",
       "98470   2021  15            Leicester City                         1.26\n",
       "98488   2021  15          Newcastle United                         1.27\n",
       "98482   2021  15               Southampton                         1.28\n",
       "98463   2021  15                   Everton                         1.45\n",
       "98501   2021  15                   Burnley                         1.48\n",
       "98464   2021  15                    Fulham                         1.54\n",
       "98459   2021  15           West Ham United                         1.56\n",
       "98473   2021  15      West Bromwich Albion                         1.75\n",
       "98466   2021  15                     Leeds                         1.89\n",
       "98461   2021  15          Sheffield United                         1.93"
      ]
     },
     "execution_count": 806,
     "metadata": {},
     "output_type": "execute_result"
    }
   ],
   "source": [
    "lag_train_df[['season', 'gw', 'team', 'xg_team_conceded_pg_last_10']][(lag_train_df['season'] == '2021') & (lag_train_df['gw'] == 15)].drop_duplicates().sort_values('xg_team_conceded_pg_last_10')"
   ]
  },
  {
   "cell_type": "code",
   "execution_count": 773,
   "metadata": {},
   "outputs": [],
   "source": [
    "# train_df[(train_df['season'] == '2021')][['team', 'xg']].groupby(['team']).sum()"
   ]
  },
  {
   "cell_type": "code",
   "execution_count": 774,
   "metadata": {},
   "outputs": [],
   "source": [
    "# train_df[(train_df['team'] == 'Burnley') & (train_df['season'] == '2021')][['player', 'xg']].groupby(['player']).sum()"
   ]
  },
  {
   "cell_type": "code",
   "execution_count": 775,
   "metadata": {},
   "outputs": [],
   "source": [
    "# train_df[(train_df['team'] == 'Burnley') & (train_df['season'] == '2021') & (train_df['player'] == 'Charlie Taylor')][['gw', 'xg']]"
   ]
  },
  {
   "cell_type": "code",
   "execution_count": 776,
   "metadata": {},
   "outputs": [],
   "source": [
    "# manually add team pg conceded fields for xg \n",
    "team_lag_vars += [x.replace('team', 'team_conceded') for x in team_lag_vars if 'xg' in x]\n",
    "# team_lag_vars += [x.replace('team', 'team_conceded') for x in team_lag_vars if 'total_points_team' in x]"
   ]
  },
  {
   "cell_type": "code",
   "execution_count": 777,
   "metadata": {},
   "outputs": [
    {
     "data": {
      "text/plain": [
       "['total_points_team_pg_last_5',\n",
       " 'total_points_team_pg_last_10',\n",
       " 'total_points_team_pg_last_20',\n",
       " 'xg_team_pg_last_5',\n",
       " 'xg_team_pg_last_10',\n",
       " 'xg_team_pg_last_20',\n",
       " 'total_points_team_pg_last_5_opponent',\n",
       " 'total_points_team_pg_last_10_opponent',\n",
       " 'total_points_team_pg_last_20_opponent',\n",
       " 'xg_team_pg_last_5_opponent',\n",
       " 'xg_team_pg_last_10_opponent',\n",
       " 'xg_team_pg_last_20_opponent',\n",
       " 'xg_team_conceded_pg_last_5',\n",
       " 'xg_team_conceded_pg_last_10',\n",
       " 'xg_team_conceded_pg_last_20',\n",
       " 'xg_team_conceded_pg_last_5_opponent',\n",
       " 'xg_team_conceded_pg_last_10_opponent',\n",
       " 'xg_team_conceded_pg_last_20_opponent']"
      ]
     },
     "execution_count": 777,
     "metadata": {},
     "output_type": "execute_result"
    }
   ],
   "source": [
    "team_lag_vars"
   ]
  },
  {
   "cell_type": "code",
   "execution_count": 778,
   "metadata": {},
   "outputs": [
    {
     "data": {
      "text/plain": [
       "['minutes_last_3',\n",
       " 'minutes_last_5',\n",
       " 'minutes_last_10',\n",
       " 'minutes_last_20',\n",
       " 'minutes_last_38',\n",
       " 'minutes_last_all',\n",
       " 'total_points_pg_last_3',\n",
       " 'total_points_pg_last_5',\n",
       " 'total_points_pg_last_10',\n",
       " 'total_points_pg_last_20',\n",
       " 'total_points_pg_last_38',\n",
       " 'total_points_pg_last_all']"
      ]
     },
     "execution_count": 778,
     "metadata": {},
     "output_type": "execute_result"
    }
   ],
   "source": [
    "player_lag_vars"
   ]
  },
  {
   "cell_type": "markdown",
   "metadata": {},
   "source": [
    "We have introduced a number of lag (window) features for each player's points per game, their team's points per game and the opposition team's points per game over the previous 1, 2, 3, 4, 5, 10 and all gameweeks.\n",
    "\n",
    "Next we can set the validation point and length as well as the categorical and continuous features we'll be using to predict the dependent variable, total points for each game. These are used in the create_lag_train function to get an our training set (including appropriate lag values in the validation set).\n",
    "\n",
    "The gameweeks and seasons are ordered, so we want to have them as ordered categories with the correct order (2016-17 is before 2017-18 etc.)."
   ]
  },
  {
   "cell_type": "code",
   "execution_count": 779,
   "metadata": {},
   "outputs": [],
   "source": [
    "# set validaton point/length and categorical/continuous variables\n",
    "valid_season = '1920'\n",
    "valid_gw = 20\n",
    "valid_len = 6\n",
    "# cat_vars = ['season', 'position', 'team', 'opponent_team', 'was_home']\n",
    "cat_vars = ['season', 'position', 'was_home']#,'relative_market_value_team_season', 'relative_market_value_opponent_team_season']\n",
    "cont_vars = ['gw', 'minutes']\n",
    "dep_var = ['total_points']"
   ]
  },
  {
   "cell_type": "code",
   "execution_count": 780,
   "metadata": {},
   "outputs": [],
   "source": [
    "# we want to set gw and season as ordered categorical variables\n",
    "# need lists with ordered categories\n",
    "ordered_gws = list(range(1,39))\n",
    "ordered_seasons = ['1617', '1718', '1819', '1920', '2021'] \n",
    "\n",
    "# set as categories with correct order \n",
    "lag_train_df['gw'] = lag_train_df['gw'].astype('category')\n",
    "lag_train_df['season'] = lag_train_df['season'].astype('category')\n",
    "\n",
    "lag_train_df['gw'].cat.set_categories(ordered_gws, ordered=True, inplace=True)\n",
    "lag_train_df['season'].cat.set_categories(ordered_seasons, ordered=True, inplace=True)"
   ]
  },
  {
   "cell_type": "code",
   "execution_count": 781,
   "metadata": {},
   "outputs": [
    {
     "data": {
      "text/plain": [
       "['total_points_team_pg_last_5',\n",
       " 'total_points_team_pg_last_10',\n",
       " 'total_points_team_pg_last_20',\n",
       " 'total_points_team_pg_last_5_opponent',\n",
       " 'total_points_team_pg_last_10_opponent',\n",
       " 'total_points_team_pg_last_20_opponent']"
      ]
     },
     "execution_count": 781,
     "metadata": {},
     "output_type": "execute_result"
    }
   ],
   "source": [
    "from itertools import compress\n",
    "\n",
    "mask = [x.startswith('total_points_team_pg_last_') for x in team_lag_vars]\n",
    "list(compress(team_lag_vars, mask))"
   ]
  },
  {
   "cell_type": "code",
   "execution_count": 782,
   "metadata": {},
   "outputs": [],
   "source": [
    "# create dataset with adjusted post-validation lag numbers\n",
    "train_valid_df, train_idx, valid_idx = create_lag_train(lag_train_df, \n",
    "                                                      cat_vars, cont_vars, \n",
    "                                                      player_lag_vars, team_lag_vars, dep_var,\n",
    "                                                      valid_season, valid_gw, valid_len)"
   ]
  },
  {
   "cell_type": "code",
   "execution_count": 783,
   "metadata": {},
   "outputs": [
    {
     "name": "stdout",
     "output_type": "stream",
     "text": [
      "<class 'pandas.core.frame.DataFrame'>\n",
      "RangeIndex: 82054 entries, 0 to 82053\n",
      "Data columns (total 39 columns):\n",
      " #   Column                                 Non-Null Count  Dtype   \n",
      "---  ------                                 --------------  -----   \n",
      " 0   gw                                     82054 non-null  category\n",
      " 1   minutes                                82054 non-null  int64   \n",
      " 2   minutes_last_10                        81953 non-null  float64 \n",
      " 3   minutes_last_20                        81953 non-null  float64 \n",
      " 4   minutes_last_3                         81953 non-null  float64 \n",
      " 5   minutes_last_38                        81953 non-null  float64 \n",
      " 6   minutes_last_5                         81953 non-null  float64 \n",
      " 7   minutes_last_all                       81953 non-null  float64 \n",
      " 8   opponent_team                          82054 non-null  object  \n",
      " 9   player                                 82054 non-null  object  \n",
      " 10  position                               82054 non-null  int64   \n",
      " 11  season                                 82054 non-null  category\n",
      " 12  team                                   82054 non-null  object  \n",
      " 13  total_points                           82054 non-null  int64   \n",
      " 14  total_points_pg_last_10                57643 non-null  float64 \n",
      " 15  total_points_pg_last_20                63275 non-null  float64 \n",
      " 16  total_points_pg_last_3                 47807 non-null  float64 \n",
      " 17  total_points_pg_last_38                67364 non-null  float64 \n",
      " 18  total_points_pg_last_5                 52087 non-null  float64 \n",
      " 19  total_points_pg_last_all               68667 non-null  float64 \n",
      " 20  total_points_team_pg_last_10           81297 non-null  float64 \n",
      " 21  total_points_team_pg_last_10_opponent  81295 non-null  float64 \n",
      " 22  total_points_team_pg_last_20           81297 non-null  float64 \n",
      " 23  total_points_team_pg_last_20_opponent  81295 non-null  float64 \n",
      " 24  total_points_team_pg_last_5            81297 non-null  float64 \n",
      " 25  total_points_team_pg_last_5_opponent   81295 non-null  float64 \n",
      " 26  was_home                               82054 non-null  bool    \n",
      " 27  xg_team_conceded_pg_last_10            81297 non-null  float64 \n",
      " 28  xg_team_conceded_pg_last_10_opponent   81295 non-null  float64 \n",
      " 29  xg_team_conceded_pg_last_20            81297 non-null  float64 \n",
      " 30  xg_team_conceded_pg_last_20_opponent   81295 non-null  float64 \n",
      " 31  xg_team_conceded_pg_last_5             81297 non-null  float64 \n",
      " 32  xg_team_conceded_pg_last_5_opponent    81295 non-null  float64 \n",
      " 33  xg_team_pg_last_10                     81297 non-null  float64 \n",
      " 34  xg_team_pg_last_10_opponent            81295 non-null  float64 \n",
      " 35  xg_team_pg_last_20                     81297 non-null  float64 \n",
      " 36  xg_team_pg_last_20_opponent            81295 non-null  float64 \n",
      " 37  xg_team_pg_last_5                      81297 non-null  float64 \n",
      " 38  xg_team_pg_last_5_opponent             81295 non-null  float64 \n",
      "dtypes: bool(1), category(2), float64(30), int64(3), object(3)\n",
      "memory usage: 22.8+ MB\n"
     ]
    }
   ],
   "source": [
    "# take a look at the dataframe\n",
    "train_valid_df.info()"
   ]
  },
  {
   "cell_type": "markdown",
   "metadata": {},
   "source": [
    "We can now build the input (X) and dependent (y) variable datasets. Again this includes encoding the categorical features so that each level is represented in it's own column (e.g. postition_1, position_2, etc.)."
   ]
  },
  {
   "cell_type": "code",
   "execution_count": 784,
   "metadata": {},
   "outputs": [],
   "source": [
    "# split out dependent variable\n",
    "X, y = train_valid_df[cat_vars + cont_vars + player_lag_vars + team_lag_vars].copy(), train_valid_df[dep_var].copy()"
   ]
  },
  {
   "cell_type": "code",
   "execution_count": 785,
   "metadata": {},
   "outputs": [],
   "source": [
    "# since position is categorical, it should be a string\n",
    "X['position'] = X['position'].apply(str)\n",
    "\n",
    "# need to transform season\n",
    "enc = LabelEncoder()\n",
    "X['season'] = enc.fit_transform(X['season'])\n",
    "X_dict = X.to_dict(\"records\")\n",
    "\n",
    "# Create the DictVectorizer object: dv\n",
    "dv = DictVectorizer(sparse=False, separator='_')\n",
    "\n",
    "# Apply dv on df: df_encoded\n",
    "X_encoded = dv.fit_transform(X_dict)\n",
    "\n",
    "X_df = pd.DataFrame(X_encoded, columns=dv.feature_names_)"
   ]
  },
  {
   "cell_type": "markdown",
   "metadata": {},
   "source": [
    "You can see the resulting dataset with the categorical features split out into levels. This can now be used in the XGBoost API."
   ]
  },
  {
   "cell_type": "code",
   "execution_count": 786,
   "metadata": {},
   "outputs": [
    {
     "name": "stdout",
     "output_type": "stream",
     "text": [
      "<class 'pandas.core.frame.DataFrame'>\n",
      "RangeIndex: 82054 entries, 0 to 82053\n",
      "Data columns (total 38 columns):\n",
      " #   Column                                 Non-Null Count  Dtype  \n",
      "---  ------                                 --------------  -----  \n",
      " 0   gw                                     82054 non-null  float64\n",
      " 1   minutes                                82054 non-null  float64\n",
      " 2   minutes_last_10                        81953 non-null  float64\n",
      " 3   minutes_last_20                        81953 non-null  float64\n",
      " 4   minutes_last_3                         81953 non-null  float64\n",
      " 5   minutes_last_38                        81953 non-null  float64\n",
      " 6   minutes_last_5                         81953 non-null  float64\n",
      " 7   minutes_last_all                       81953 non-null  float64\n",
      " 8   position_1                             82054 non-null  float64\n",
      " 9   position_2                             82054 non-null  float64\n",
      " 10  position_3                             82054 non-null  float64\n",
      " 11  position_4                             82054 non-null  float64\n",
      " 12  season                                 82054 non-null  float64\n",
      " 13  total_points_pg_last_10                57643 non-null  float64\n",
      " 14  total_points_pg_last_20                63275 non-null  float64\n",
      " 15  total_points_pg_last_3                 47807 non-null  float64\n",
      " 16  total_points_pg_last_38                67364 non-null  float64\n",
      " 17  total_points_pg_last_5                 52087 non-null  float64\n",
      " 18  total_points_pg_last_all               68667 non-null  float64\n",
      " 19  total_points_team_pg_last_10           81297 non-null  float64\n",
      " 20  total_points_team_pg_last_10_opponent  81295 non-null  float64\n",
      " 21  total_points_team_pg_last_20           81297 non-null  float64\n",
      " 22  total_points_team_pg_last_20_opponent  81295 non-null  float64\n",
      " 23  total_points_team_pg_last_5            81297 non-null  float64\n",
      " 24  total_points_team_pg_last_5_opponent   81295 non-null  float64\n",
      " 25  was_home                               82054 non-null  float64\n",
      " 26  xg_team_conceded_pg_last_10            81297 non-null  float64\n",
      " 27  xg_team_conceded_pg_last_10_opponent   81295 non-null  float64\n",
      " 28  xg_team_conceded_pg_last_20            81297 non-null  float64\n",
      " 29  xg_team_conceded_pg_last_20_opponent   81295 non-null  float64\n",
      " 30  xg_team_conceded_pg_last_5             81297 non-null  float64\n",
      " 31  xg_team_conceded_pg_last_5_opponent    81295 non-null  float64\n",
      " 32  xg_team_pg_last_10                     81297 non-null  float64\n",
      " 33  xg_team_pg_last_10_opponent            81295 non-null  float64\n",
      " 34  xg_team_pg_last_20                     81297 non-null  float64\n",
      " 35  xg_team_pg_last_20_opponent            81295 non-null  float64\n",
      " 36  xg_team_pg_last_5                      81297 non-null  float64\n",
      " 37  xg_team_pg_last_5_opponent             81295 non-null  float64\n",
      "dtypes: float64(38)\n",
      "memory usage: 23.8 MB\n"
     ]
    }
   ],
   "source": [
    "X_df.info()"
   ]
  },
  {
   "cell_type": "code",
   "execution_count": 787,
   "metadata": {},
   "outputs": [
    {
     "name": "stdout",
     "output_type": "stream",
     "text": [
      "<class 'pandas.core.frame.DataFrame'>\n",
      "RangeIndex: 82054 entries, 0 to 82053\n",
      "Data columns (total 30 columns):\n",
      " #   Column                                 Non-Null Count  Dtype  \n",
      "---  ------                                 --------------  -----  \n",
      " 0   minutes_last_3                         81953 non-null  float64\n",
      " 1   minutes_last_5                         81953 non-null  float64\n",
      " 2   minutes_last_10                        81953 non-null  float64\n",
      " 3   minutes_last_20                        81953 non-null  float64\n",
      " 4   minutes_last_38                        81953 non-null  float64\n",
      " 5   minutes_last_all                       81953 non-null  float64\n",
      " 6   total_points_pg_last_3                 47807 non-null  float64\n",
      " 7   total_points_pg_last_5                 52087 non-null  float64\n",
      " 8   total_points_pg_last_10                57643 non-null  float64\n",
      " 9   total_points_pg_last_20                63275 non-null  float64\n",
      " 10  total_points_pg_last_38                67364 non-null  float64\n",
      " 11  total_points_pg_last_all               68667 non-null  float64\n",
      " 12  total_points_team_pg_last_5            81297 non-null  float64\n",
      " 13  total_points_team_pg_last_10           81297 non-null  float64\n",
      " 14  total_points_team_pg_last_20           81297 non-null  float64\n",
      " 15  xg_team_pg_last_5                      81297 non-null  float64\n",
      " 16  xg_team_pg_last_10                     81297 non-null  float64\n",
      " 17  xg_team_pg_last_20                     81297 non-null  float64\n",
      " 18  total_points_team_pg_last_5_opponent   81295 non-null  float64\n",
      " 19  total_points_team_pg_last_10_opponent  81295 non-null  float64\n",
      " 20  total_points_team_pg_last_20_opponent  81295 non-null  float64\n",
      " 21  xg_team_pg_last_5_opponent             81295 non-null  float64\n",
      " 22  xg_team_pg_last_10_opponent            81295 non-null  float64\n",
      " 23  xg_team_pg_last_20_opponent            81295 non-null  float64\n",
      " 24  xg_team_conceded_pg_last_5             81297 non-null  float64\n",
      " 25  xg_team_conceded_pg_last_10            81297 non-null  float64\n",
      " 26  xg_team_conceded_pg_last_20            81297 non-null  float64\n",
      " 27  xg_team_conceded_pg_last_5_opponent    81295 non-null  float64\n",
      " 28  xg_team_conceded_pg_last_10_opponent   81295 non-null  float64\n",
      " 29  xg_team_conceded_pg_last_20_opponent   81295 non-null  float64\n",
      "dtypes: float64(30)\n",
      "memory usage: 18.8 MB\n"
     ]
    }
   ],
   "source": [
    "X[player_lag_vars + team_lag_vars].info()"
   ]
  },
  {
   "cell_type": "markdown",
   "metadata": {},
   "source": [
    "Once again we need to split out the validation set and use it after training to create predictions and calculate the error.\n",
    "\n",
    "Finally we instatiate an XGBRegressor (since the dependent variable is continuous) and do a single train with arbitrary parameters."
   ]
  },
  {
   "cell_type": "code",
   "execution_count": 818,
   "metadata": {},
   "outputs": [],
   "source": [
    "# split out training and validation sets\n",
    "X_train = X_df.iloc[train_idx]\n",
    "y_train = y.iloc[train_idx]\n",
    "X_test = X_df.iloc[valid_idx]\n",
    "y_test = y.iloc[valid_idx]"
   ]
  },
  {
   "cell_type": "code",
   "execution_count": 819,
   "metadata": {},
   "outputs": [],
   "source": [
    "# X_train_mins = X_train[X_train['minutes'] > 10]\n",
    "# y_train_mins = y_train[X_train['minutes'] > 10]\n",
    "# X_test_mins = X_test[X_test['minutes'] > 10]\n",
    "# y_test_mins = y_test[X_test['minutes'] > 10]"
   ]
  },
  {
   "cell_type": "code",
   "execution_count": 820,
   "metadata": {},
   "outputs": [],
   "source": [
    "# def xgb___(xs, y, gamma=0.3, learning_rate=0.08, max_depth=4, \n",
    "#         n_estimators=50, subsample=0.7, **kwargs):\n",
    "#     return RandomForestRegressor(n_jobs=-1, gamma=gamma,\n",
    "#         learning_rate=learning_rate, max_depth=max-depth,\n",
    "#         n_estimators=n_estimators, subsample=subsample).fit(xs, y)"
   ]
  },
  {
   "cell_type": "code",
   "execution_count": 821,
   "metadata": {},
   "outputs": [],
   "source": [
    "def huber_approx_obj(preds, dtrain):\n",
    "    d = preds - dtrain.get_labels() #remove .get_labels() for sklearn\n",
    "    h = 1  #h is delta in the graphic\n",
    "    scale = 1 + (d / h) ** 2\n",
    "    scale_sqrt = np.sqrt(scale)\n",
    "    grad = d / scale_sqrt\n",
    "    hess = 1 / scale / scale_sqrt\n",
    "    return grad, hess"
   ]
  },
  {
   "cell_type": "code",
   "execution_count": 822,
   "metadata": {},
   "outputs": [
    {
     "name": "stdout",
     "output_type": "stream",
     "text": [
      "RMSE: 1.764047\n"
     ]
    }
   ],
   "source": [
    "# instatiate and train XGB Regressor\n",
    "# print result\n",
    "# xg_reg = xgb.XGBRegressor(objective=\"reg:squarederror\",\n",
    "#                           gamma=0.043256447370879914, learning_rate=0.09131119220082666, \n",
    "#                           max_depth=5, n_estimators=103, subsample=0.6159698898484126)\n",
    "# xg_reg = xgb.XGBRegressor(objective=\"reg:squarederror\", \n",
    "#                           gamma=0.3, learning_rate=0.08, max_depth=5, n_estimators=50, subsample=0.7)\n",
    "xg_reg = xgb.XGBRegressor(objective=\"reg:squarederror\", \n",
    "                          gamma=0.35, learning_rate=0.11, max_depth=5, n_estimators=61, subsample=0.87)\n",
    "xg_reg.fit(X_train, y_train)\n",
    "preds = xg_reg.predict(X_test)\n",
    "print(\"RMSE: %f\" % (r_mse(preds, y_test['total_points'])))"
   ]
  },
  {
   "cell_type": "code",
   "execution_count": 823,
   "metadata": {},
   "outputs": [
    {
     "data": {
      "text/plain": [
       "0.84078"
      ]
     },
     "execution_count": 823,
     "metadata": {},
     "output_type": "execute_result"
    }
   ],
   "source": [
    "mae(preds, y_test['total_points'])"
   ]
  },
  {
   "cell_type": "code",
   "execution_count": 153,
   "metadata": {},
   "outputs": [
    {
     "name": "stdout",
     "output_type": "stream",
     "text": [
      "1.67148\n",
      "1.830329\n",
      "1.694619\n",
      "1.910426\n"
     ]
    }
   ],
   "source": [
    "for i in range(1,5):\n",
    "    position = 'position_' + str(i)\n",
    "    mask = X_test[position] == 1\n",
    "    print(r_mse(xg_reg.predict(X_test[mask]), y_test[mask]['total_points']))"
   ]
  },
  {
   "cell_type": "code",
   "execution_count": 170,
   "metadata": {},
   "outputs": [],
   "source": [
    "mask = (X_test['total_points_pg_last_10'] > X_test['total_points_pg_last_10'].mean() + 2)"
   ]
  },
  {
   "cell_type": "code",
   "execution_count": 175,
   "metadata": {},
   "outputs": [
    {
     "data": {
      "text/plain": [
       "102.33333333333333"
      ]
     },
     "execution_count": 175,
     "metadata": {},
     "output_type": "execute_result"
    }
   ],
   "source": [
    "sum(X_test['total_points_pg_last_10'] > X_test['total_points_pg_last_10'].mean())/6"
   ]
  },
  {
   "cell_type": "code",
   "execution_count": 176,
   "metadata": {},
   "outputs": [
    {
     "data": {
      "text/plain": [
       "610.6666666666666"
      ]
     },
     "execution_count": 176,
     "metadata": {},
     "output_type": "execute_result"
    }
   ],
   "source": [
    "len(X_test)/6"
   ]
  },
  {
   "cell_type": "code",
   "execution_count": 167,
   "metadata": {},
   "outputs": [
    {
     "data": {
      "text/plain": [
       "0.778424"
      ]
     },
     "execution_count": 167,
     "metadata": {},
     "output_type": "execute_result"
    }
   ],
   "source": [
    "mae(xg_reg.predict(X_test[mask]), y_test[mask]['total_points'])"
   ]
  },
  {
   "cell_type": "code",
   "execution_count": 118,
   "metadata": {},
   "outputs": [
    {
     "data": {
      "text/html": [
       "<div>\n",
       "<style scoped>\n",
       "    .dataframe tbody tr th:only-of-type {\n",
       "        vertical-align: middle;\n",
       "    }\n",
       "\n",
       "    .dataframe tbody tr th {\n",
       "        vertical-align: top;\n",
       "    }\n",
       "\n",
       "    .dataframe thead th {\n",
       "        text-align: right;\n",
       "    }\n",
       "</style>\n",
       "<table border=\"1\" class=\"dataframe\">\n",
       "  <thead>\n",
       "    <tr style=\"text-align: right;\">\n",
       "      <th></th>\n",
       "      <th>total_points</th>\n",
       "    </tr>\n",
       "  </thead>\n",
       "  <tbody>\n",
       "    <tr>\n",
       "      <th>0</th>\n",
       "      <td>0</td>\n",
       "    </tr>\n",
       "    <tr>\n",
       "      <th>1</th>\n",
       "      <td>0</td>\n",
       "    </tr>\n",
       "    <tr>\n",
       "      <th>2</th>\n",
       "      <td>6</td>\n",
       "    </tr>\n",
       "    <tr>\n",
       "      <th>3</th>\n",
       "      <td>6</td>\n",
       "    </tr>\n",
       "    <tr>\n",
       "      <th>4</th>\n",
       "      <td>9</td>\n",
       "    </tr>\n",
       "    <tr>\n",
       "      <th>...</th>\n",
       "      <td>...</td>\n",
       "    </tr>\n",
       "    <tr>\n",
       "      <th>54706</th>\n",
       "      <td>2</td>\n",
       "    </tr>\n",
       "    <tr>\n",
       "      <th>54707</th>\n",
       "      <td>1</td>\n",
       "    </tr>\n",
       "    <tr>\n",
       "      <th>54708</th>\n",
       "      <td>0</td>\n",
       "    </tr>\n",
       "    <tr>\n",
       "      <th>54709</th>\n",
       "      <td>3</td>\n",
       "    </tr>\n",
       "    <tr>\n",
       "      <th>54710</th>\n",
       "      <td>5</td>\n",
       "    </tr>\n",
       "  </tbody>\n",
       "</table>\n",
       "<p>54711 rows × 1 columns</p>\n",
       "</div>"
      ],
      "text/plain": [
       "       total_points\n",
       "0                 0\n",
       "1                 0\n",
       "2                 6\n",
       "3                 6\n",
       "4                 9\n",
       "...             ...\n",
       "54706             2\n",
       "54707             1\n",
       "54708             0\n",
       "54709             3\n",
       "54710             5\n",
       "\n",
       "[54711 rows x 1 columns]"
      ]
     },
     "execution_count": 118,
     "metadata": {},
     "output_type": "execute_result"
    }
   ],
   "source": [
    "r_mse(xg_reg.fit(X_train))"
   ]
  },
  {
   "cell_type": "code",
   "execution_count": 113,
   "metadata": {},
   "outputs": [
    {
     "data": {
      "text/plain": [
       "0.833286"
      ]
     },
     "execution_count": 113,
     "metadata": {},
     "output_type": "execute_result"
    }
   ],
   "source": [
    "mae(preds, y_test['total_points'])\n",
    "# mae(preds[X_test['minutes'] > 0], y_test[X_test['minutes'] > 0]['total_points'])"
   ]
  },
  {
   "cell_type": "code",
   "execution_count": 75,
   "metadata": {},
   "outputs": [
    {
     "data": {
      "text/plain": [
       "0.850011"
      ]
     },
     "execution_count": 75,
     "metadata": {},
     "output_type": "execute_result"
    }
   ],
   "source": [
    "mae(preds, y_test['total_points'])"
   ]
  },
  {
   "cell_type": "code",
   "execution_count": 81,
   "metadata": {},
   "outputs": [
    {
     "data": {
      "text/plain": [
       "0.848"
      ]
     },
     "execution_count": 81,
     "metadata": {},
     "output_type": "execute_result"
    }
   ],
   "source": [
    "# current best\n",
    "mae(preds, y_test['total_points'])\n",
    "# mae(preds[X_test['minutes'] > 0], y_test[X_test['minutes'] > 0]['total_points'])"
   ]
  },
  {
   "cell_type": "markdown",
   "metadata": {},
   "source": [
    "This is another clear improvement on the previous best (random forest), but perhaps it can be improved by doing a parameter search.\n",
    "\n",
    "To do this we will first define the grid of parameters to be searched."
   ]
  },
  {
   "cell_type": "code",
   "execution_count": 104,
   "metadata": {},
   "outputs": [],
   "source": [
    "# parameter search space\n",
    "params = {#\"colsample_bytree\": uniform(0.7, 0.3),\n",
    "          \"gamma\": uniform(0, 0.5),\n",
    "          \"learning_rate\": uniform(0.003, 0.3), # default 0.1 \n",
    "          \"max_depth\": randint(2, 6), # default 3\n",
    "          \"n_estimators\": randint(25, 200), # default 100\n",
    "          \"subsample\": uniform(0.6, 0.4)}"
   ]
  },
  {
   "cell_type": "code",
   "execution_count": 811,
   "metadata": {},
   "outputs": [],
   "source": [
    "# parameter search space\n",
    "params = {#\"colsample_bytree\": uniform(0.7, 0.3),\n",
    "          \"gamma\": uniform(0.3, 0.05),\n",
    "          \"learning_rate\": uniform(0.08, 0.04), # default 0.1 \n",
    "          \"max_depth\": randint(3, 6), # default 3\n",
    "          \"n_estimators\": randint(25, 150), # default 100\n",
    "          \"subsample\": uniform(0.7, 0.2)}"
   ]
  },
  {
   "cell_type": "markdown",
   "metadata": {},
   "source": [
    "In this case we will pass both train and validation parts of the dataset, along with a series telling the XGBRegressor object which rows to use for training, and which for validation."
   ]
  },
  {
   "cell_type": "code",
   "execution_count": 812,
   "metadata": {},
   "outputs": [],
   "source": [
    "X_train = X_df\n",
    "y_train = y\n",
    "test_fold = np.repeat([-1, 0], [valid_idx[0], valid_idx[-1] - valid_idx[0] + 1])\n",
    "ps = PredefinedSplit(test_fold)"
   ]
  },
  {
   "cell_type": "code",
   "execution_count": 813,
   "metadata": {},
   "outputs": [
    {
     "data": {
      "text/html": [
       "<div>\n",
       "<style scoped>\n",
       "    .dataframe tbody tr th:only-of-type {\n",
       "        vertical-align: middle;\n",
       "    }\n",
       "\n",
       "    .dataframe tbody tr th {\n",
       "        vertical-align: top;\n",
       "    }\n",
       "\n",
       "    .dataframe thead th {\n",
       "        text-align: right;\n",
       "    }\n",
       "</style>\n",
       "<table border=\"1\" class=\"dataframe\">\n",
       "  <thead>\n",
       "    <tr style=\"text-align: right;\">\n",
       "      <th></th>\n",
       "      <th>gw</th>\n",
       "      <th>minutes</th>\n",
       "      <th>minutes_last_10</th>\n",
       "      <th>minutes_last_20</th>\n",
       "      <th>minutes_last_3</th>\n",
       "      <th>minutes_last_38</th>\n",
       "      <th>minutes_last_5</th>\n",
       "      <th>minutes_last_all</th>\n",
       "      <th>position_1</th>\n",
       "      <th>position_2</th>\n",
       "      <th>...</th>\n",
       "      <th>xg_team_conceded_pg_last_20</th>\n",
       "      <th>xg_team_conceded_pg_last_20_opponent</th>\n",
       "      <th>xg_team_conceded_pg_last_5</th>\n",
       "      <th>xg_team_conceded_pg_last_5_opponent</th>\n",
       "      <th>xg_team_pg_last_10</th>\n",
       "      <th>xg_team_pg_last_10_opponent</th>\n",
       "      <th>xg_team_pg_last_20</th>\n",
       "      <th>xg_team_pg_last_20_opponent</th>\n",
       "      <th>xg_team_pg_last_5</th>\n",
       "      <th>xg_team_pg_last_5_opponent</th>\n",
       "    </tr>\n",
       "  </thead>\n",
       "  <tbody>\n",
       "    <tr>\n",
       "      <th>78390</th>\n",
       "      <td>20.0</td>\n",
       "      <td>0.0</td>\n",
       "      <td>731.0</td>\n",
       "      <td>1631.0</td>\n",
       "      <td>191.0</td>\n",
       "      <td>3251.0</td>\n",
       "      <td>371.0</td>\n",
       "      <td>8156.0</td>\n",
       "      <td>1.0</td>\n",
       "      <td>0.0</td>\n",
       "      <td>...</td>\n",
       "      <td>0.935000</td>\n",
       "      <td>1.063158</td>\n",
       "      <td>1.02</td>\n",
       "      <td>0.76</td>\n",
       "      <td>2.10</td>\n",
       "      <td>1.43</td>\n",
       "      <td>2.415000</td>\n",
       "      <td>1.242105</td>\n",
       "      <td>2.10</td>\n",
       "      <td>1.40</td>\n",
       "    </tr>\n",
       "    <tr>\n",
       "      <th>78391</th>\n",
       "      <td>20.0</td>\n",
       "      <td>0.0</td>\n",
       "      <td>162.0</td>\n",
       "      <td>197.0</td>\n",
       "      <td>72.0</td>\n",
       "      <td>603.0</td>\n",
       "      <td>162.0</td>\n",
       "      <td>5963.0</td>\n",
       "      <td>0.0</td>\n",
       "      <td>0.0</td>\n",
       "      <td>...</td>\n",
       "      <td>0.900000</td>\n",
       "      <td>1.055000</td>\n",
       "      <td>0.84</td>\n",
       "      <td>1.06</td>\n",
       "      <td>2.01</td>\n",
       "      <td>1.39</td>\n",
       "      <td>1.900000</td>\n",
       "      <td>1.230000</td>\n",
       "      <td>2.30</td>\n",
       "      <td>1.44</td>\n",
       "    </tr>\n",
       "    <tr>\n",
       "      <th>78392</th>\n",
       "      <td>20.0</td>\n",
       "      <td>0.0</td>\n",
       "      <td>0.0</td>\n",
       "      <td>638.0</td>\n",
       "      <td>0.0</td>\n",
       "      <td>2168.0</td>\n",
       "      <td>0.0</td>\n",
       "      <td>9762.0</td>\n",
       "      <td>1.0</td>\n",
       "      <td>0.0</td>\n",
       "      <td>...</td>\n",
       "      <td>1.285000</td>\n",
       "      <td>1.600000</td>\n",
       "      <td>0.88</td>\n",
       "      <td>1.06</td>\n",
       "      <td>1.29</td>\n",
       "      <td>1.06</td>\n",
       "      <td>1.250000</td>\n",
       "      <td>1.136842</td>\n",
       "      <td>1.18</td>\n",
       "      <td>1.10</td>\n",
       "    </tr>\n",
       "    <tr>\n",
       "      <th>78393</th>\n",
       "      <td>20.0</td>\n",
       "      <td>0.0</td>\n",
       "      <td>253.0</td>\n",
       "      <td>378.0</td>\n",
       "      <td>68.0</td>\n",
       "      <td>723.0</td>\n",
       "      <td>68.0</td>\n",
       "      <td>2316.0</td>\n",
       "      <td>0.0</td>\n",
       "      <td>0.0</td>\n",
       "      <td>...</td>\n",
       "      <td>1.280000</td>\n",
       "      <td>1.500000</td>\n",
       "      <td>1.24</td>\n",
       "      <td>1.50</td>\n",
       "      <td>0.99</td>\n",
       "      <td>1.02</td>\n",
       "      <td>1.210000</td>\n",
       "      <td>0.810000</td>\n",
       "      <td>1.06</td>\n",
       "      <td>0.80</td>\n",
       "    </tr>\n",
       "    <tr>\n",
       "      <th>78394</th>\n",
       "      <td>20.0</td>\n",
       "      <td>58.0</td>\n",
       "      <td>92.0</td>\n",
       "      <td>576.0</td>\n",
       "      <td>0.0</td>\n",
       "      <td>576.0</td>\n",
       "      <td>25.0</td>\n",
       "      <td>576.0</td>\n",
       "      <td>0.0</td>\n",
       "      <td>0.0</td>\n",
       "      <td>...</td>\n",
       "      <td>1.063158</td>\n",
       "      <td>0.935000</td>\n",
       "      <td>0.76</td>\n",
       "      <td>1.02</td>\n",
       "      <td>1.43</td>\n",
       "      <td>2.10</td>\n",
       "      <td>1.242105</td>\n",
       "      <td>2.415000</td>\n",
       "      <td>1.40</td>\n",
       "      <td>2.10</td>\n",
       "    </tr>\n",
       "    <tr>\n",
       "      <th>...</th>\n",
       "      <td>...</td>\n",
       "      <td>...</td>\n",
       "      <td>...</td>\n",
       "      <td>...</td>\n",
       "      <td>...</td>\n",
       "      <td>...</td>\n",
       "      <td>...</td>\n",
       "      <td>...</td>\n",
       "      <td>...</td>\n",
       "      <td>...</td>\n",
       "      <td>...</td>\n",
       "      <td>...</td>\n",
       "      <td>...</td>\n",
       "      <td>...</td>\n",
       "      <td>...</td>\n",
       "      <td>...</td>\n",
       "      <td>...</td>\n",
       "      <td>...</td>\n",
       "      <td>...</td>\n",
       "      <td>...</td>\n",
       "      <td>...</td>\n",
       "    </tr>\n",
       "    <tr>\n",
       "      <th>82049</th>\n",
       "      <td>25.0</td>\n",
       "      <td>0.0</td>\n",
       "      <td>10.0</td>\n",
       "      <td>135.0</td>\n",
       "      <td>10.0</td>\n",
       "      <td>175.0</td>\n",
       "      <td>10.0</td>\n",
       "      <td>625.0</td>\n",
       "      <td>0.0</td>\n",
       "      <td>0.0</td>\n",
       "      <td>...</td>\n",
       "      <td>1.500000</td>\n",
       "      <td>1.600000</td>\n",
       "      <td>1.50</td>\n",
       "      <td>1.06</td>\n",
       "      <td>1.02</td>\n",
       "      <td>1.06</td>\n",
       "      <td>0.810000</td>\n",
       "      <td>1.136842</td>\n",
       "      <td>0.80</td>\n",
       "      <td>1.10</td>\n",
       "    </tr>\n",
       "    <tr>\n",
       "      <th>82050</th>\n",
       "      <td>25.0</td>\n",
       "      <td>79.0</td>\n",
       "      <td>864.0</td>\n",
       "      <td>1755.0</td>\n",
       "      <td>256.0</td>\n",
       "      <td>2752.0</td>\n",
       "      <td>414.0</td>\n",
       "      <td>2752.0</td>\n",
       "      <td>0.0</td>\n",
       "      <td>0.0</td>\n",
       "      <td>...</td>\n",
       "      <td>1.230000</td>\n",
       "      <td>0.990000</td>\n",
       "      <td>1.88</td>\n",
       "      <td>0.88</td>\n",
       "      <td>2.27</td>\n",
       "      <td>1.53</td>\n",
       "      <td>1.575000</td>\n",
       "      <td>1.615000</td>\n",
       "      <td>2.02</td>\n",
       "      <td>1.28</td>\n",
       "    </tr>\n",
       "    <tr>\n",
       "      <th>82051</th>\n",
       "      <td>25.0</td>\n",
       "      <td>0.0</td>\n",
       "      <td>206.0</td>\n",
       "      <td>359.0</td>\n",
       "      <td>125.0</td>\n",
       "      <td>1172.0</td>\n",
       "      <td>125.0</td>\n",
       "      <td>2033.0</td>\n",
       "      <td>0.0</td>\n",
       "      <td>0.0</td>\n",
       "      <td>...</td>\n",
       "      <td>1.490000</td>\n",
       "      <td>1.665000</td>\n",
       "      <td>1.20</td>\n",
       "      <td>1.62</td>\n",
       "      <td>1.34</td>\n",
       "      <td>0.95</td>\n",
       "      <td>1.140000</td>\n",
       "      <td>1.270000</td>\n",
       "      <td>1.38</td>\n",
       "      <td>0.76</td>\n",
       "    </tr>\n",
       "    <tr>\n",
       "      <th>82052</th>\n",
       "      <td>25.0</td>\n",
       "      <td>90.0</td>\n",
       "      <td>900.0</td>\n",
       "      <td>1710.0</td>\n",
       "      <td>270.0</td>\n",
       "      <td>1890.0</td>\n",
       "      <td>450.0</td>\n",
       "      <td>2081.0</td>\n",
       "      <td>0.0</td>\n",
       "      <td>1.0</td>\n",
       "      <td>...</td>\n",
       "      <td>1.230000</td>\n",
       "      <td>0.990000</td>\n",
       "      <td>1.88</td>\n",
       "      <td>0.88</td>\n",
       "      <td>2.27</td>\n",
       "      <td>1.53</td>\n",
       "      <td>1.575000</td>\n",
       "      <td>1.615000</td>\n",
       "      <td>2.02</td>\n",
       "      <td>1.28</td>\n",
       "    </tr>\n",
       "    <tr>\n",
       "      <th>82053</th>\n",
       "      <td>25.0</td>\n",
       "      <td>0.0</td>\n",
       "      <td>82.0</td>\n",
       "      <td>82.0</td>\n",
       "      <td>0.0</td>\n",
       "      <td>82.0</td>\n",
       "      <td>0.0</td>\n",
       "      <td>82.0</td>\n",
       "      <td>1.0</td>\n",
       "      <td>0.0</td>\n",
       "      <td>...</td>\n",
       "      <td>1.931579</td>\n",
       "      <td>1.480000</td>\n",
       "      <td>2.58</td>\n",
       "      <td>1.14</td>\n",
       "      <td>0.99</td>\n",
       "      <td>0.92</td>\n",
       "      <td>1.147368</td>\n",
       "      <td>1.040000</td>\n",
       "      <td>0.90</td>\n",
       "      <td>0.44</td>\n",
       "    </tr>\n",
       "  </tbody>\n",
       "</table>\n",
       "<p>3664 rows × 38 columns</p>\n",
       "</div>"
      ],
      "text/plain": [
       "         gw  minutes  minutes_last_10  minutes_last_20  minutes_last_3  \\\n",
       "78390  20.0      0.0            731.0           1631.0           191.0   \n",
       "78391  20.0      0.0            162.0            197.0            72.0   \n",
       "78392  20.0      0.0              0.0            638.0             0.0   \n",
       "78393  20.0      0.0            253.0            378.0            68.0   \n",
       "78394  20.0     58.0             92.0            576.0             0.0   \n",
       "...     ...      ...              ...              ...             ...   \n",
       "82049  25.0      0.0             10.0            135.0            10.0   \n",
       "82050  25.0     79.0            864.0           1755.0           256.0   \n",
       "82051  25.0      0.0            206.0            359.0           125.0   \n",
       "82052  25.0     90.0            900.0           1710.0           270.0   \n",
       "82053  25.0      0.0             82.0             82.0             0.0   \n",
       "\n",
       "       minutes_last_38  minutes_last_5  minutes_last_all  position_1  \\\n",
       "78390           3251.0           371.0            8156.0         1.0   \n",
       "78391            603.0           162.0            5963.0         0.0   \n",
       "78392           2168.0             0.0            9762.0         1.0   \n",
       "78393            723.0            68.0            2316.0         0.0   \n",
       "78394            576.0            25.0             576.0         0.0   \n",
       "...                ...             ...               ...         ...   \n",
       "82049            175.0            10.0             625.0         0.0   \n",
       "82050           2752.0           414.0            2752.0         0.0   \n",
       "82051           1172.0           125.0            2033.0         0.0   \n",
       "82052           1890.0           450.0            2081.0         0.0   \n",
       "82053             82.0             0.0              82.0         1.0   \n",
       "\n",
       "       position_2  ...  xg_team_conceded_pg_last_20  \\\n",
       "78390         0.0  ...                     0.935000   \n",
       "78391         0.0  ...                     0.900000   \n",
       "78392         0.0  ...                     1.285000   \n",
       "78393         0.0  ...                     1.280000   \n",
       "78394         0.0  ...                     1.063158   \n",
       "...           ...  ...                          ...   \n",
       "82049         0.0  ...                     1.500000   \n",
       "82050         0.0  ...                     1.230000   \n",
       "82051         0.0  ...                     1.490000   \n",
       "82052         1.0  ...                     1.230000   \n",
       "82053         0.0  ...                     1.931579   \n",
       "\n",
       "       xg_team_conceded_pg_last_20_opponent  xg_team_conceded_pg_last_5  \\\n",
       "78390                              1.063158                        1.02   \n",
       "78391                              1.055000                        0.84   \n",
       "78392                              1.600000                        0.88   \n",
       "78393                              1.500000                        1.24   \n",
       "78394                              0.935000                        0.76   \n",
       "...                                     ...                         ...   \n",
       "82049                              1.600000                        1.50   \n",
       "82050                              0.990000                        1.88   \n",
       "82051                              1.665000                        1.20   \n",
       "82052                              0.990000                        1.88   \n",
       "82053                              1.480000                        2.58   \n",
       "\n",
       "       xg_team_conceded_pg_last_5_opponent  xg_team_pg_last_10  \\\n",
       "78390                                 0.76                2.10   \n",
       "78391                                 1.06                2.01   \n",
       "78392                                 1.06                1.29   \n",
       "78393                                 1.50                0.99   \n",
       "78394                                 1.02                1.43   \n",
       "...                                    ...                 ...   \n",
       "82049                                 1.06                1.02   \n",
       "82050                                 0.88                2.27   \n",
       "82051                                 1.62                1.34   \n",
       "82052                                 0.88                2.27   \n",
       "82053                                 1.14                0.99   \n",
       "\n",
       "       xg_team_pg_last_10_opponent  xg_team_pg_last_20  \\\n",
       "78390                         1.43            2.415000   \n",
       "78391                         1.39            1.900000   \n",
       "78392                         1.06            1.250000   \n",
       "78393                         1.02            1.210000   \n",
       "78394                         2.10            1.242105   \n",
       "...                            ...                 ...   \n",
       "82049                         1.06            0.810000   \n",
       "82050                         1.53            1.575000   \n",
       "82051                         0.95            1.140000   \n",
       "82052                         1.53            1.575000   \n",
       "82053                         0.92            1.147368   \n",
       "\n",
       "       xg_team_pg_last_20_opponent  xg_team_pg_last_5  \\\n",
       "78390                     1.242105               2.10   \n",
       "78391                     1.230000               2.30   \n",
       "78392                     1.136842               1.18   \n",
       "78393                     0.810000               1.06   \n",
       "78394                     2.415000               1.40   \n",
       "...                            ...                ...   \n",
       "82049                     1.136842               0.80   \n",
       "82050                     1.615000               2.02   \n",
       "82051                     1.270000               1.38   \n",
       "82052                     1.615000               2.02   \n",
       "82053                     1.040000               0.90   \n",
       "\n",
       "       xg_team_pg_last_5_opponent  \n",
       "78390                        1.40  \n",
       "78391                        1.44  \n",
       "78392                        1.10  \n",
       "78393                        0.80  \n",
       "78394                        2.10  \n",
       "...                           ...  \n",
       "82049                        1.10  \n",
       "82050                        1.28  \n",
       "82051                        0.76  \n",
       "82052                        1.28  \n",
       "82053                        0.44  \n",
       "\n",
       "[3664 rows x 38 columns]"
      ]
     },
     "execution_count": 813,
     "metadata": {},
     "output_type": "execute_result"
    }
   ],
   "source": [
    "X_df[test_fold == 0]"
   ]
  },
  {
   "cell_type": "markdown",
   "metadata": {},
   "source": [
    "We can then again instatiate the XGBRegressor object, but this time pass it to a randomised search validation object, along with the parameter grid, validation splits, and number of iterations we want to run.\n",
    "\n",
    "We then fit this to the training data - 25 random parameter selections will be made and the best parameters for the validation set can be found (may take a few minutes to run)."
   ]
  },
  {
   "cell_type": "code",
   "execution_count": null,
   "metadata": {},
   "outputs": [],
   "source": [
    "# Instantiate the regressor: gbm\n",
    "gbm = xgb.XGBRegressor(objective=\"reg:squarederror\")\n",
    "\n",
    "# Perform random search: grid_mse\n",
    "randomized_mse = RandomizedSearchCV(estimator=gbm, \n",
    "                            param_distributions=params, \n",
    "                            scoring=\"neg_mean_squared_error\", \n",
    "                            n_iter=25, \n",
    "                            cv=ps, \n",
    "                            verbose=1)\n",
    "\n",
    "# Fit randomized_mse to the data\n",
    "randomized_mse.fit(X_train, y_train)\n",
    "\n",
    "# Print the best parameters and lowest RMSE\n",
    "print(\"Best parameters found: \", randomized_mse.best_params_)\n",
    "print(\"Lowest RMSE found: \", np.sqrt(np.abs(randomized_mse.best_score_)))"
   ]
  },
  {
   "cell_type": "code",
   "execution_count": 814,
   "metadata": {},
   "outputs": [
    {
     "name": "stdout",
     "output_type": "stream",
     "text": [
      "Fitting 1 folds for each of 100 candidates, totalling 100 fits\n"
     ]
    },
    {
     "name": "stderr",
     "output_type": "stream",
     "text": [
      "[Parallel(n_jobs=1)]: Using backend SequentialBackend with 1 concurrent workers.\n",
      "[Parallel(n_jobs=1)]: Done 100 out of 100 | elapsed: 25.9min finished\n"
     ]
    },
    {
     "name": "stdout",
     "output_type": "stream",
     "text": [
      "Best parameters found:  {'gamma': 0.3468714124464386, 'learning_rate': 0.11256303013405033, 'max_depth': 5, 'n_estimators': 61, 'subsample': 0.86801243798777}\n",
      "Lowest RMSE found:  1.7602952794371773\n"
     ]
    }
   ],
   "source": [
    "# Instantiate the regressor: gbm\n",
    "gbm = xgb.XGBRegressor(objective=\"reg:squarederror\")\n",
    "\n",
    "# Perform random search: grid_mse\n",
    "randomized_mse = RandomizedSearchCV(estimator=gbm, \n",
    "                            param_distributions=params, \n",
    "                            scoring=\"neg_mean_squared_error\", \n",
    "                            n_iter=100, \n",
    "                            cv=ps, \n",
    "                            verbose=1)\n",
    "\n",
    "# Fit randomized_mse to the data\n",
    "randomized_mse.fit(X_train, y_train)\n",
    "\n",
    "# Print the best parameters and lowest RMSE\n",
    "print(\"Best parameters found: \", randomized_mse.best_params_)\n",
    "print(\"Lowest RMSE found: \", np.sqrt(np.abs(randomized_mse.best_score_)))"
   ]
  },
  {
   "cell_type": "code",
   "execution_count": 817,
   "metadata": {},
   "outputs": [
    {
     "data": {
      "text/plain": [
       "1.684503"
      ]
     },
     "execution_count": 817,
     "metadata": {},
     "output_type": "execute_result"
    }
   ],
   "source": [
    "r_mse(randomized_mse.predict(X_test), y_test['total_points'])"
   ]
  },
  {
   "cell_type": "code",
   "execution_count": 22,
   "metadata": {},
   "outputs": [
    {
     "data": {
      "text/html": [
       "<div>\n",
       "<style scoped>\n",
       "    .dataframe tbody tr th:only-of-type {\n",
       "        vertical-align: middle;\n",
       "    }\n",
       "\n",
       "    .dataframe tbody tr th {\n",
       "        vertical-align: top;\n",
       "    }\n",
       "\n",
       "    .dataframe thead th {\n",
       "        text-align: right;\n",
       "    }\n",
       "</style>\n",
       "<table border=\"1\" class=\"dataframe\">\n",
       "  <thead>\n",
       "    <tr style=\"text-align: right;\">\n",
       "      <th></th>\n",
       "      <th>gw</th>\n",
       "      <th>minutes</th>\n",
       "      <th>minutes_last_1</th>\n",
       "      <th>minutes_last_10</th>\n",
       "      <th>minutes_last_2</th>\n",
       "      <th>minutes_last_3</th>\n",
       "      <th>minutes_last_4</th>\n",
       "      <th>minutes_last_5</th>\n",
       "      <th>minutes_last_all</th>\n",
       "      <th>position_1</th>\n",
       "      <th>...</th>\n",
       "      <th>total_points_team_pg_last_2_opponent</th>\n",
       "      <th>total_points_team_pg_last_3</th>\n",
       "      <th>total_points_team_pg_last_3_opponent</th>\n",
       "      <th>total_points_team_pg_last_4</th>\n",
       "      <th>total_points_team_pg_last_4_opponent</th>\n",
       "      <th>total_points_team_pg_last_5</th>\n",
       "      <th>total_points_team_pg_last_5_opponent</th>\n",
       "      <th>total_points_team_pg_last_all</th>\n",
       "      <th>total_points_team_pg_last_all_opponent</th>\n",
       "      <th>was_home</th>\n",
       "    </tr>\n",
       "  </thead>\n",
       "  <tbody>\n",
       "    <tr>\n",
       "      <td>0</td>\n",
       "      <td>1.0</td>\n",
       "      <td>0.0</td>\n",
       "      <td>0.0</td>\n",
       "      <td>0.0</td>\n",
       "      <td>0.0</td>\n",
       "      <td>0.0</td>\n",
       "      <td>0.0</td>\n",
       "      <td>0.0</td>\n",
       "      <td>0.0</td>\n",
       "      <td>0.0</td>\n",
       "      <td>...</td>\n",
       "      <td>NaN</td>\n",
       "      <td>NaN</td>\n",
       "      <td>NaN</td>\n",
       "      <td>NaN</td>\n",
       "      <td>NaN</td>\n",
       "      <td>NaN</td>\n",
       "      <td>NaN</td>\n",
       "      <td>NaN</td>\n",
       "      <td>NaN</td>\n",
       "      <td>0.0</td>\n",
       "    </tr>\n",
       "    <tr>\n",
       "      <td>1</td>\n",
       "      <td>1.0</td>\n",
       "      <td>15.0</td>\n",
       "      <td>0.0</td>\n",
       "      <td>0.0</td>\n",
       "      <td>0.0</td>\n",
       "      <td>0.0</td>\n",
       "      <td>0.0</td>\n",
       "      <td>0.0</td>\n",
       "      <td>0.0</td>\n",
       "      <td>0.0</td>\n",
       "      <td>...</td>\n",
       "      <td>NaN</td>\n",
       "      <td>NaN</td>\n",
       "      <td>NaN</td>\n",
       "      <td>NaN</td>\n",
       "      <td>NaN</td>\n",
       "      <td>NaN</td>\n",
       "      <td>NaN</td>\n",
       "      <td>NaN</td>\n",
       "      <td>NaN</td>\n",
       "      <td>1.0</td>\n",
       "    </tr>\n",
       "    <tr>\n",
       "      <td>2</td>\n",
       "      <td>1.0</td>\n",
       "      <td>60.0</td>\n",
       "      <td>0.0</td>\n",
       "      <td>0.0</td>\n",
       "      <td>0.0</td>\n",
       "      <td>0.0</td>\n",
       "      <td>0.0</td>\n",
       "      <td>0.0</td>\n",
       "      <td>0.0</td>\n",
       "      <td>0.0</td>\n",
       "      <td>...</td>\n",
       "      <td>NaN</td>\n",
       "      <td>NaN</td>\n",
       "      <td>NaN</td>\n",
       "      <td>NaN</td>\n",
       "      <td>NaN</td>\n",
       "      <td>NaN</td>\n",
       "      <td>NaN</td>\n",
       "      <td>NaN</td>\n",
       "      <td>NaN</td>\n",
       "      <td>1.0</td>\n",
       "    </tr>\n",
       "    <tr>\n",
       "      <td>3</td>\n",
       "      <td>1.0</td>\n",
       "      <td>0.0</td>\n",
       "      <td>0.0</td>\n",
       "      <td>0.0</td>\n",
       "      <td>0.0</td>\n",
       "      <td>0.0</td>\n",
       "      <td>0.0</td>\n",
       "      <td>0.0</td>\n",
       "      <td>0.0</td>\n",
       "      <td>0.0</td>\n",
       "      <td>...</td>\n",
       "      <td>NaN</td>\n",
       "      <td>NaN</td>\n",
       "      <td>NaN</td>\n",
       "      <td>NaN</td>\n",
       "      <td>NaN</td>\n",
       "      <td>NaN</td>\n",
       "      <td>NaN</td>\n",
       "      <td>NaN</td>\n",
       "      <td>NaN</td>\n",
       "      <td>0.0</td>\n",
       "    </tr>\n",
       "    <tr>\n",
       "      <td>4</td>\n",
       "      <td>1.0</td>\n",
       "      <td>0.0</td>\n",
       "      <td>0.0</td>\n",
       "      <td>0.0</td>\n",
       "      <td>0.0</td>\n",
       "      <td>0.0</td>\n",
       "      <td>0.0</td>\n",
       "      <td>0.0</td>\n",
       "      <td>0.0</td>\n",
       "      <td>0.0</td>\n",
       "      <td>...</td>\n",
       "      <td>NaN</td>\n",
       "      <td>NaN</td>\n",
       "      <td>NaN</td>\n",
       "      <td>NaN</td>\n",
       "      <td>NaN</td>\n",
       "      <td>NaN</td>\n",
       "      <td>NaN</td>\n",
       "      <td>NaN</td>\n",
       "      <td>NaN</td>\n",
       "      <td>1.0</td>\n",
       "    </tr>\n",
       "    <tr>\n",
       "      <td>...</td>\n",
       "      <td>...</td>\n",
       "      <td>...</td>\n",
       "      <td>...</td>\n",
       "      <td>...</td>\n",
       "      <td>...</td>\n",
       "      <td>...</td>\n",
       "      <td>...</td>\n",
       "      <td>...</td>\n",
       "      <td>...</td>\n",
       "      <td>...</td>\n",
       "      <td>...</td>\n",
       "      <td>...</td>\n",
       "      <td>...</td>\n",
       "      <td>...</td>\n",
       "      <td>...</td>\n",
       "      <td>...</td>\n",
       "      <td>...</td>\n",
       "      <td>...</td>\n",
       "      <td>...</td>\n",
       "      <td>...</td>\n",
       "      <td>...</td>\n",
       "    </tr>\n",
       "    <tr>\n",
       "      <td>82049</td>\n",
       "      <td>25.0</td>\n",
       "      <td>0.0</td>\n",
       "      <td>0.0</td>\n",
       "      <td>10.0</td>\n",
       "      <td>0.0</td>\n",
       "      <td>10.0</td>\n",
       "      <td>10.0</td>\n",
       "      <td>10.0</td>\n",
       "      <td>625.0</td>\n",
       "      <td>0.0</td>\n",
       "      <td>...</td>\n",
       "      <td>25.5</td>\n",
       "      <td>35.000000</td>\n",
       "      <td>27.000000</td>\n",
       "      <td>37.25</td>\n",
       "      <td>27.75</td>\n",
       "      <td>45.2</td>\n",
       "      <td>27.8</td>\n",
       "      <td>38.452632</td>\n",
       "      <td>31.789474</td>\n",
       "      <td>1.0</td>\n",
       "    </tr>\n",
       "    <tr>\n",
       "      <td>82050</td>\n",
       "      <td>25.0</td>\n",
       "      <td>79.0</td>\n",
       "      <td>90.0</td>\n",
       "      <td>864.0</td>\n",
       "      <td>166.0</td>\n",
       "      <td>256.0</td>\n",
       "      <td>346.0</td>\n",
       "      <td>414.0</td>\n",
       "      <td>2752.0</td>\n",
       "      <td>0.0</td>\n",
       "      <td>...</td>\n",
       "      <td>44.0</td>\n",
       "      <td>24.333333</td>\n",
       "      <td>38.333333</td>\n",
       "      <td>33.00</td>\n",
       "      <td>35.50</td>\n",
       "      <td>39.6</td>\n",
       "      <td>36.8</td>\n",
       "      <td>40.533835</td>\n",
       "      <td>49.721805</td>\n",
       "      <td>1.0</td>\n",
       "    </tr>\n",
       "    <tr>\n",
       "      <td>82051</td>\n",
       "      <td>25.0</td>\n",
       "      <td>0.0</td>\n",
       "      <td>7.0</td>\n",
       "      <td>206.0</td>\n",
       "      <td>41.0</td>\n",
       "      <td>125.0</td>\n",
       "      <td>125.0</td>\n",
       "      <td>125.0</td>\n",
       "      <td>2033.0</td>\n",
       "      <td>0.0</td>\n",
       "      <td>...</td>\n",
       "      <td>43.0</td>\n",
       "      <td>28.666667</td>\n",
       "      <td>37.333333</td>\n",
       "      <td>30.50</td>\n",
       "      <td>32.75</td>\n",
       "      <td>33.2</td>\n",
       "      <td>39.2</td>\n",
       "      <td>35.242105</td>\n",
       "      <td>38.621212</td>\n",
       "      <td>0.0</td>\n",
       "    </tr>\n",
       "    <tr>\n",
       "      <td>82052</td>\n",
       "      <td>25.0</td>\n",
       "      <td>90.0</td>\n",
       "      <td>90.0</td>\n",
       "      <td>900.0</td>\n",
       "      <td>180.0</td>\n",
       "      <td>270.0</td>\n",
       "      <td>360.0</td>\n",
       "      <td>450.0</td>\n",
       "      <td>2081.0</td>\n",
       "      <td>0.0</td>\n",
       "      <td>...</td>\n",
       "      <td>44.0</td>\n",
       "      <td>24.333333</td>\n",
       "      <td>38.333333</td>\n",
       "      <td>33.00</td>\n",
       "      <td>35.50</td>\n",
       "      <td>39.6</td>\n",
       "      <td>36.8</td>\n",
       "      <td>40.533835</td>\n",
       "      <td>49.721805</td>\n",
       "      <td>1.0</td>\n",
       "    </tr>\n",
       "    <tr>\n",
       "      <td>82053</td>\n",
       "      <td>25.0</td>\n",
       "      <td>0.0</td>\n",
       "      <td>0.0</td>\n",
       "      <td>82.0</td>\n",
       "      <td>0.0</td>\n",
       "      <td>0.0</td>\n",
       "      <td>0.0</td>\n",
       "      <td>0.0</td>\n",
       "      <td>82.0</td>\n",
       "      <td>1.0</td>\n",
       "      <td>...</td>\n",
       "      <td>28.0</td>\n",
       "      <td>33.333333</td>\n",
       "      <td>39.000000</td>\n",
       "      <td>29.50</td>\n",
       "      <td>34.25</td>\n",
       "      <td>29.6</td>\n",
       "      <td>33.4</td>\n",
       "      <td>38.421053</td>\n",
       "      <td>38.345865</td>\n",
       "      <td>0.0</td>\n",
       "    </tr>\n",
       "  </tbody>\n",
       "</table>\n",
       "<p>82054 rows × 36 columns</p>\n",
       "</div>"
      ],
      "text/plain": [
       "         gw  minutes  minutes_last_1  minutes_last_10  minutes_last_2  \\\n",
       "0       1.0      0.0             0.0              0.0             0.0   \n",
       "1       1.0     15.0             0.0              0.0             0.0   \n",
       "2       1.0     60.0             0.0              0.0             0.0   \n",
       "3       1.0      0.0             0.0              0.0             0.0   \n",
       "4       1.0      0.0             0.0              0.0             0.0   \n",
       "...     ...      ...             ...              ...             ...   \n",
       "82049  25.0      0.0             0.0             10.0             0.0   \n",
       "82050  25.0     79.0            90.0            864.0           166.0   \n",
       "82051  25.0      0.0             7.0            206.0            41.0   \n",
       "82052  25.0     90.0            90.0            900.0           180.0   \n",
       "82053  25.0      0.0             0.0             82.0             0.0   \n",
       "\n",
       "       minutes_last_3  minutes_last_4  minutes_last_5  minutes_last_all  \\\n",
       "0                 0.0             0.0             0.0               0.0   \n",
       "1                 0.0             0.0             0.0               0.0   \n",
       "2                 0.0             0.0             0.0               0.0   \n",
       "3                 0.0             0.0             0.0               0.0   \n",
       "4                 0.0             0.0             0.0               0.0   \n",
       "...               ...             ...             ...               ...   \n",
       "82049            10.0            10.0            10.0             625.0   \n",
       "82050           256.0           346.0           414.0            2752.0   \n",
       "82051           125.0           125.0           125.0            2033.0   \n",
       "82052           270.0           360.0           450.0            2081.0   \n",
       "82053             0.0             0.0             0.0              82.0   \n",
       "\n",
       "       position_1  ...  total_points_team_pg_last_2_opponent  \\\n",
       "0             0.0  ...                                   NaN   \n",
       "1             0.0  ...                                   NaN   \n",
       "2             0.0  ...                                   NaN   \n",
       "3             0.0  ...                                   NaN   \n",
       "4             0.0  ...                                   NaN   \n",
       "...           ...  ...                                   ...   \n",
       "82049         0.0  ...                                  25.5   \n",
       "82050         0.0  ...                                  44.0   \n",
       "82051         0.0  ...                                  43.0   \n",
       "82052         0.0  ...                                  44.0   \n",
       "82053         1.0  ...                                  28.0   \n",
       "\n",
       "       total_points_team_pg_last_3  total_points_team_pg_last_3_opponent  \\\n",
       "0                              NaN                                   NaN   \n",
       "1                              NaN                                   NaN   \n",
       "2                              NaN                                   NaN   \n",
       "3                              NaN                                   NaN   \n",
       "4                              NaN                                   NaN   \n",
       "...                            ...                                   ...   \n",
       "82049                    35.000000                             27.000000   \n",
       "82050                    24.333333                             38.333333   \n",
       "82051                    28.666667                             37.333333   \n",
       "82052                    24.333333                             38.333333   \n",
       "82053                    33.333333                             39.000000   \n",
       "\n",
       "       total_points_team_pg_last_4  total_points_team_pg_last_4_opponent  \\\n",
       "0                              NaN                                   NaN   \n",
       "1                              NaN                                   NaN   \n",
       "2                              NaN                                   NaN   \n",
       "3                              NaN                                   NaN   \n",
       "4                              NaN                                   NaN   \n",
       "...                            ...                                   ...   \n",
       "82049                        37.25                                 27.75   \n",
       "82050                        33.00                                 35.50   \n",
       "82051                        30.50                                 32.75   \n",
       "82052                        33.00                                 35.50   \n",
       "82053                        29.50                                 34.25   \n",
       "\n",
       "       total_points_team_pg_last_5  total_points_team_pg_last_5_opponent  \\\n",
       "0                              NaN                                   NaN   \n",
       "1                              NaN                                   NaN   \n",
       "2                              NaN                                   NaN   \n",
       "3                              NaN                                   NaN   \n",
       "4                              NaN                                   NaN   \n",
       "...                            ...                                   ...   \n",
       "82049                         45.2                                  27.8   \n",
       "82050                         39.6                                  36.8   \n",
       "82051                         33.2                                  39.2   \n",
       "82052                         39.6                                  36.8   \n",
       "82053                         29.6                                  33.4   \n",
       "\n",
       "       total_points_team_pg_last_all  total_points_team_pg_last_all_opponent  \\\n",
       "0                                NaN                                     NaN   \n",
       "1                                NaN                                     NaN   \n",
       "2                                NaN                                     NaN   \n",
       "3                                NaN                                     NaN   \n",
       "4                                NaN                                     NaN   \n",
       "...                              ...                                     ...   \n",
       "82049                      38.452632                               31.789474   \n",
       "82050                      40.533835                               49.721805   \n",
       "82051                      35.242105                               38.621212   \n",
       "82052                      40.533835                               49.721805   \n",
       "82053                      38.421053                               38.345865   \n",
       "\n",
       "       was_home  \n",
       "0           0.0  \n",
       "1           1.0  \n",
       "2           1.0  \n",
       "3           0.0  \n",
       "4           1.0  \n",
       "...         ...  \n",
       "82049       1.0  \n",
       "82050       1.0  \n",
       "82051       0.0  \n",
       "82052       1.0  \n",
       "82053       0.0  \n",
       "\n",
       "[82054 rows x 36 columns]"
      ]
     },
     "execution_count": 22,
     "metadata": {},
     "output_type": "execute_result"
    }
   ],
   "source": [
    "X_df"
   ]
  },
  {
   "cell_type": "markdown",
   "metadata": {},
   "source": [
    "Another reasonable improvement on the above."
   ]
  },
  {
   "cell_type": "markdown",
   "metadata": {},
   "source": [
    "The XGBoost package also allows us to look at features importance, just like with Random Forest in sklearn."
   ]
  },
  {
   "cell_type": "code",
   "execution_count": 803,
   "metadata": {},
   "outputs": [
    {
     "data": {
      "image/png": "[encoded data removed]",
      "text/plain": [
       "<Figure size 432x288 with 1 Axes>"
      ]
     },
     "metadata": {
      "needs_background": "light"
     },
     "output_type": "display_data"
    }
   ],
   "source": [
    "xgb.plot_importance(xg_reg, max_num_features=25)\n",
    "plt.show()"
   ]
  },
  {
   "cell_type": "markdown",
   "metadata": {},
   "source": [
    "The top features look similar to previously, which is what we'd expect.\n",
    "\n",
    "Now we can go ahead and run validation across the whole 2019/20 season."
   ]
  },
  {
   "cell_type": "code",
   "execution_count": 824,
   "metadata": {},
   "outputs": [],
   "source": [
    "def xgb_season(df, valid_season='1920'):\n",
    "    # empty list for scores\n",
    "    scores = []\n",
    "    valid_len = 6\n",
    "\n",
    "    for valid_gw in range(1,34):\n",
    "        # create dataset with adjusted post-validation lag numbers\n",
    "        train_valid_df, train_idx, valid_idx = create_lag_train(df, \n",
    "                                                        cat_vars, cont_vars, \n",
    "                                                        player_lag_vars, team_lag_vars, dep_var,\n",
    "                                                        valid_season, valid_gw, valid_len)\n",
    "        \n",
    "        X, y = train_valid_df[cat_vars + cont_vars + player_lag_vars + team_lag_vars].copy(), train_valid_df[dep_var].copy()\n",
    "\n",
    "        # since position is categorical, it should be a string\n",
    "        X['position'] = X['position'].apply(str)\n",
    "\n",
    "        # need to transform season\n",
    "        enc = LabelEncoder()\n",
    "        X['season'] = enc.fit_transform(X['season'])\n",
    "        X_dict = X.to_dict(\"records\")\n",
    "\n",
    "        # Create the DictVectorizer object: dv\n",
    "        dv = DictVectorizer(sparse=False, separator='_')\n",
    "\n",
    "        # Apply dv on df: df_encoded\n",
    "        X_encoded = dv.fit_transform(X_dict)\n",
    "\n",
    "        X_df = pd.DataFrame(X_encoded, columns=dv.feature_names_)\n",
    "\n",
    "        # split out training and validation sets\n",
    "        X_train = X_df.iloc[train_idx]\n",
    "        y_train = y.iloc[train_idx]\n",
    "        X_test = X_df.iloc[valid_idx]\n",
    "        y_test = y.iloc[valid_idx]\n",
    "\n",
    "        # instatiate and train XGB Regressor\n",
    "#         xg_reg = xgb.XGBRegressor(objective=\"reg:squarederror\",\n",
    "#                                   gamma=0.05, learning_rate=0.09, max_depth=5, n_estimators=103, subsample=0.62)\n",
    "#         xg_reg = xgb.XGBRegressor(objective=\"reg:squarederror\",\n",
    "#                                   gamma=0.42, learning_rate=0.047, max_depth=4, n_estimators=171, subsample=0.6)\n",
    "\n",
    "        xg_reg = xgb.XGBRegressor(objective=\"reg:squarederror\",\n",
    "                                  gamma=0.34, learning_rate=0.088, max_depth=5, n_estimators=55, subsample=0.78)\n",
    "    \n",
    "\n",
    "\n",
    "        xg_reg.fit(X_train, y_train)\n",
    "        preds = xg_reg.predict(X_test)\n",
    "        gw_mae = mae(preds, y_test['total_points'])\n",
    "        print(\"GW%d MAE: %f\" % (valid_gw, gw_mae))\n",
    "\n",
    "        scores.append(gw_mae)\n",
    "        \n",
    "    return scores\n"
   ]
  },
  {
   "cell_type": "code",
   "execution_count": 86,
   "metadata": {},
   "outputs": [
    {
     "name": "stdout",
     "output_type": "stream",
     "text": [
      "GW1 MAE: 1.021396\n",
      "GW2 MAE: 0.984987\n",
      "GW3 MAE: 1.019020\n",
      "GW4 MAE: 0.977968\n",
      "GW5 MAE: 0.990202\n",
      "GW6 MAE: 1.008944\n",
      "GW7 MAE: 0.975421\n",
      "GW8 MAE: 0.985498\n",
      "GW9 MAE: 0.961561\n",
      "GW10 MAE: 0.972633\n",
      "GW11 MAE: 0.950927\n",
      "GW12 MAE: 0.946452\n",
      "GW13 MAE: 0.950995\n",
      "GW14 MAE: 0.936418\n",
      "GW15 MAE: 0.904181\n",
      "GW16 MAE: 0.905824\n",
      "GW17 MAE: 0.878975\n",
      "GW18 MAE: 0.875562\n",
      "GW19 MAE: 0.854564\n",
      "GW20 MAE: 0.853447\n",
      "GW21 MAE: 0.863834\n",
      "GW22 MAE: 0.853757\n",
      "GW23 MAE: 0.862879\n",
      "GW24 MAE: 0.865527\n",
      "GW25 MAE: 0.859568\n",
      "GW26 MAE: 0.832441\n",
      "GW27 MAE: 0.851655\n",
      "GW28 MAE: 0.838237\n",
      "GW29 MAE: 0.825411\n",
      "GW30 MAE: 0.840220\n",
      "GW31 MAE: 0.835126\n",
      "GW32 MAE: 0.825167\n",
      "GW33 MAE: 0.799813\n"
     ]
    }
   ],
   "source": [
    "scores = xgb_season(lag_train_df)"
   ]
  },
  {
   "cell_type": "code",
   "execution_count": 87,
   "metadata": {},
   "outputs": [
    {
     "data": {
      "text/plain": [
       "0.9063215151515153"
      ]
     },
     "execution_count": 87,
     "metadata": {},
     "output_type": "execute_result"
    }
   ],
   "source": [
    "np.mean(scores)"
   ]
  },
  {
   "cell_type": "code",
   "execution_count": 25,
   "metadata": {},
   "outputs": [
    {
     "name": "stdout",
     "output_type": "stream",
     "text": [
      "GW1 MAE: 1.021820\n",
      "GW2 MAE: 1.000417\n",
      "GW3 MAE: 1.014818\n",
      "GW4 MAE: 0.962099\n",
      "GW5 MAE: 0.990377\n",
      "GW6 MAE: 1.001582\n",
      "GW7 MAE: 0.970430\n",
      "GW8 MAE: 0.983534\n",
      "GW9 MAE: 0.957087\n",
      "GW10 MAE: 0.972183\n",
      "GW11 MAE: 0.964617\n",
      "GW12 MAE: 0.945771\n",
      "GW13 MAE: 0.945942\n",
      "GW14 MAE: 0.933869\n",
      "GW15 MAE: 0.904744\n",
      "GW16 MAE: 0.889615\n",
      "GW17 MAE: 0.868028\n",
      "GW18 MAE: 0.867757\n",
      "GW19 MAE: 0.851423\n",
      "GW20 MAE: 0.851141\n",
      "GW21 MAE: 0.862401\n",
      "GW22 MAE: 0.848762\n",
      "GW23 MAE: 0.863959\n",
      "GW24 MAE: 0.861853\n",
      "GW25 MAE: 0.856602\n",
      "GW26 MAE: 0.830153\n",
      "GW27 MAE: 0.834965\n",
      "GW28 MAE: 0.834843\n",
      "GW29 MAE: 0.819144\n",
      "GW30 MAE: 0.835185\n",
      "GW31 MAE: 0.818470\n",
      "GW32 MAE: 0.820157\n",
      "GW33 MAE: 0.796688\n"
     ]
    }
   ],
   "source": [
    "scores = xgb_season(lag_train_df)"
   ]
  },
  {
   "cell_type": "code",
   "execution_count": 809,
   "metadata": {},
   "outputs": [
    {
     "name": "stdout",
     "output_type": "stream",
     "text": [
      "GW1 MAE: 0.999938\n",
      "GW2 MAE: 0.963308\n",
      "GW3 MAE: 0.991039\n",
      "GW4 MAE: 0.956243\n",
      "GW5 MAE: 0.984736\n",
      "GW6 MAE: 0.980555\n",
      "GW7 MAE: 0.965026\n",
      "GW8 MAE: 0.966793\n",
      "GW9 MAE: 0.941723\n",
      "GW10 MAE: 0.973335\n",
      "GW11 MAE: 0.945183\n",
      "GW12 MAE: 0.929462\n",
      "GW13 MAE: 0.923943\n",
      "GW14 MAE: 0.932950\n",
      "GW15 MAE: 0.890329\n",
      "GW16 MAE: 0.884515\n",
      "GW17 MAE: 0.851034\n",
      "GW18 MAE: 0.860648\n",
      "GW19 MAE: 0.842291\n",
      "GW20 MAE: 0.834850\n",
      "GW21 MAE: 0.854136\n",
      "GW22 MAE: 0.829281\n",
      "GW23 MAE: 0.854987\n",
      "GW24 MAE: 0.854213\n",
      "GW25 MAE: 0.857622\n",
      "GW26 MAE: 0.835322\n",
      "GW27 MAE: 0.846913\n",
      "GW28 MAE: 0.848188\n",
      "GW29 MAE: 0.823252\n",
      "GW30 MAE: 0.838188\n",
      "GW31 MAE: 0.807210\n",
      "GW32 MAE: 0.813371\n",
      "GW33 MAE: 0.786702\n"
     ]
    }
   ],
   "source": [
    "scores = xgb_season(lag_train_df)"
   ]
  },
  {
   "cell_type": "code",
   "execution_count": null,
   "metadata": {},
   "outputs": [],
   "source": [
    "np.mean(scores)"
   ]
  },
  {
   "cell_type": "code",
   "execution_count": 80,
   "metadata": {},
   "outputs": [
    {
     "data": {
      "image/png": "[encoded data removed]",
      "text/plain": [
       "<Figure size 432x288 with 1 Axes>"
      ]
     },
     "metadata": {
      "needs_background": "light"
     },
     "output_type": "display_data"
    }
   ],
   "source": [
    "plt.plot(scores)\n",
    "plt.ylabel('GW MAE')\n",
    "plt.xlabel('GW')\n",
    "plt.text(15, 1, 'Season Avg MAE: %.2f' % np.mean(scores), bbox={'facecolor':'white', 'alpha':1, 'pad':5})\n",
    "plt.show()"
   ]
  },
  {
   "cell_type": "markdown",
   "metadata": {},
   "source": [
    "It appears that the performance improvement is sustained across the whole season, which is good to see.\n",
    "\n",
    "Again, we'll add these scores to the comparison dataset."
   ]
  },
  {
   "cell_type": "code",
   "execution_count": 5,
   "metadata": {},
   "outputs": [],
   "source": [
    "model_validation_scores = pd.read_csv(path/'charts/model_validation_scores.csv', index_col=0)\n",
    "model_validation_scores['xgboost'] = scores\n",
    "model_validation_scores.to_csv(path/'charts/model_validation_scores.csv')"
   ]
  },
  {
   "cell_type": "markdown",
   "metadata": {},
   "source": [
    "Finally, in the next notebook we'll move away from tree-based algorithms and try a neural network with embeddings."
   ]
  }
 ],
 "metadata": {
  "kernelspec": {
   "display_name": "Python 3",
   "language": "python",
   "name": "python3"
  },
  "language_info": {
   "codemirror_mode": {
    "name": "ipython",
    "version": 3
   },
   "file_extension": ".py",
   "mimetype": "text/x-python",
   "name": "python",
   "nbconvert_exporter": "python",
   "pygments_lexer": "ipython3",
   "version": "3.7.9"
  }
 },
 "nbformat": 4,
 "nbformat_minor": 2
}
