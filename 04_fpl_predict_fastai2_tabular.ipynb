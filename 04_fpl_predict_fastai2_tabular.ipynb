{
 "cells": [
  {
   "cell_type": "code",
   "execution_count": 20,
   "metadata": {},
   "outputs": [],
   "source": [
    "# import required packages\n",
    "from fastai2.tabular.all import *\n",
    "from helpers import *"
   ]
  },
  {
   "cell_type": "code",
   "execution_count": 21,
   "metadata": {},
   "outputs": [],
   "source": [
    "# path to project directory\n",
    "path = Path('./')"
   ]
  },
  {
   "cell_type": "code",
   "execution_count": 30,
   "metadata": {},
   "outputs": [],
   "source": [
    "# read in training dataset\n",
    "train_df = pd.read_csv(path/'data/train_v4.csv', index_col=0, dtype={'season':str})"
   ]
  },
  {
   "cell_type": "markdown",
   "metadata": {},
   "source": [
    "## Neural network model\n",
    "\n",
    "Fastai have an neural network architecture that can be applied to tabular data, including for time series. In practice this creates embeddings for categorical features, combines them with continuous variables and passes this through a number of fully connected layers to produce a prediction for the dependent variable. They also include a number of tricks and default parameters that should produce decent performance.\n",
    "\n",
    "Once again we'll first create some lag features."
   ]
  },
  {
   "cell_type": "code",
   "execution_count": 32,
   "metadata": {},
   "outputs": [],
   "source": [
    "# add a bunch of lag features\n",
    "lag_train_df, team_lag_vars = team_lag_features(train_df, ['total_points'], ['all', 1, 2, 3, 4, 5, 10])\n",
    "lag_train_df, player_lag_vars = player_lag_features(lag_train_df, ['total_points'], ['all', 1, 2, 3, 4, 5, 10])"
   ]
  },
  {
   "cell_type": "markdown",
   "metadata": {},
   "source": [
    "And go ahead and create our training set.\n",
    "\n",
    "The gameweeks and seasons are ordered, so we want to have them as ordered categories with the correct order (2016-17, 2017-18, etc.). And for this model we need to make the dependent variable a float."
   ]
  },
  {
   "cell_type": "code",
   "execution_count": 33,
   "metadata": {},
   "outputs": [],
   "source": [
    "# set validaton point/length and categorical/continuous variables\n",
    "valid_season = '1920'\n",
    "valid_gw = 1\n",
    "valid_len = 6\n",
    "cat_vars = ['gw', 'season', 'position', 'team', 'opponent_team', 'was_home']\n",
    "cont_vars = ['minutes', 'relative_market_value_team_season', 'relative_market_value_opponent_team_season']\n",
    "dep_var = ['total_points']"
   ]
  },
  {
   "cell_type": "code",
   "execution_count": 34,
   "metadata": {},
   "outputs": [],
   "source": [
    "# we want to set gw and season as ordered categorical variables\n",
    "# need lists with ordered categories\n",
    "ordered_gws = list(range(1,39))\n",
    "ordered_seasons = ['1617', '1718', '1819', '1920']"
   ]
  },
  {
   "cell_type": "code",
   "execution_count": 35,
   "metadata": {},
   "outputs": [],
   "source": [
    "# set as categories with correct order \n",
    "lag_train_df['gw'] = lag_train_df['gw'].astype('category')\n",
    "lag_train_df['season'] = lag_train_df['season'].astype('category')\n",
    "\n",
    "lag_train_df['gw'].cat.set_categories(ordered_gws, ordered=True, inplace=True)\n",
    "lag_train_df['season'].cat.set_categories(ordered_seasons, ordered=True, inplace=True)"
   ]
  },
  {
   "cell_type": "code",
   "execution_count": 36,
   "metadata": {},
   "outputs": [],
   "source": [
    "# dependent variable needs to be float\n",
    "lag_train_df['total_points'] = lag_train_df['total_points'].astype('float64')"
   ]
  },
  {
   "cell_type": "code",
   "execution_count": 37,
   "metadata": {},
   "outputs": [],
   "source": [
    "# create dataset with adjusted post-validation lag numbers\n",
    "lag_train_df, train_idx, valid_idx = create_lag_train(lag_train_df, \n",
    "                                                      cat_vars, cont_vars, \n",
    "                                                      player_lag_vars, team_lag_vars, dep_var,\n",
    "                                                      valid_season, valid_gw, valid_len)\n",
    "\n",
    "lag_train_df[player_lag_vars + team_lag_vars] = lag_train_df[player_lag_vars + team_lag_vars].fillna(0)"
   ]
  },
  {
   "cell_type": "code",
   "execution_count": 38,
   "metadata": {},
   "outputs": [
    {
     "name": "stdout",
     "output_type": "stream",
     "text": [
      "<class 'pandas.core.frame.DataFrame'>\n",
      "RangeIndex: 71132 entries, 0 to 71131\n",
      "Data columns (total 33 columns):\n",
      " #   Column                                      Non-Null Count  Dtype   \n",
      "---  ------                                      --------------  -----   \n",
      " 0   index                                       71132 non-null  int64   \n",
      " 1   was_home                                    71132 non-null  bool    \n",
      " 2   position                                    71132 non-null  int64   \n",
      " 3   player                                      71132 non-null  object  \n",
      " 4   gw                                          71132 non-null  category\n",
      " 5   opponent_team                               71132 non-null  object  \n",
      " 6   team                                        71132 non-null  object  \n",
      " 7   season                                      71132 non-null  category\n",
      " 8   minutes                                     71132 non-null  int64   \n",
      " 9   relative_market_value_team_season           71132 non-null  float64 \n",
      " 10  relative_market_value_opponent_team_season  71132 non-null  float64 \n",
      " 11  total_points_pg_last_all                    71132 non-null  float64 \n",
      " 12  total_points_pg_last_1                      71132 non-null  float64 \n",
      " 13  total_points_pg_last_2                      71132 non-null  float64 \n",
      " 14  total_points_pg_last_3                      71132 non-null  float64 \n",
      " 15  total_points_pg_last_4                      71132 non-null  float64 \n",
      " 16  total_points_pg_last_5                      71132 non-null  float64 \n",
      " 17  total_points_pg_last_10                     71132 non-null  float64 \n",
      " 18  total_points_team_pg_last_all               71132 non-null  float64 \n",
      " 19  total_points_team_pg_last_1                 71132 non-null  float64 \n",
      " 20  total_points_team_pg_last_2                 71132 non-null  float64 \n",
      " 21  total_points_team_pg_last_3                 71132 non-null  float64 \n",
      " 22  total_points_team_pg_last_4                 71132 non-null  float64 \n",
      " 23  total_points_team_pg_last_5                 71132 non-null  float64 \n",
      " 24  total_points_team_pg_last_10                71132 non-null  float64 \n",
      " 25  total_points_team_pg_last_all_opponent      71132 non-null  float64 \n",
      " 26  total_points_team_pg_last_1_opponent        71132 non-null  float64 \n",
      " 27  total_points_team_pg_last_2_opponent        71132 non-null  float64 \n",
      " 28  total_points_team_pg_last_3_opponent        71132 non-null  float64 \n",
      " 29  total_points_team_pg_last_4_opponent        71132 non-null  float64 \n",
      " 30  total_points_team_pg_last_5_opponent        71132 non-null  float64 \n",
      " 31  total_points_team_pg_last_10_opponent       71132 non-null  float64 \n",
      " 32  total_points                                71132 non-null  float64 \n",
      "dtypes: bool(1), category(2), float64(24), int64(3), object(3)\n",
      "memory usage: 16.5+ MB\n"
     ]
    }
   ],
   "source": [
    "# take a look at the dataframe\n",
    "lag_train_df.info()"
   ]
  },
  {
   "cell_type": "code",
   "execution_count": 39,
   "metadata": {},
   "outputs": [
    {
     "data": {
      "text/plain": [
       "range(67936, 71132)"
      ]
     },
     "execution_count": 39,
     "metadata": {},
     "output_type": "execute_result"
    }
   ],
   "source": [
    "# create train/valid splits\n",
    "splits = (list(train_idx), list(valid_idx))\n",
    "valid_idx"
   ]
  },
  {
   "cell_type": "code",
   "execution_count": 40,
   "metadata": {},
   "outputs": [
    {
     "data": {
      "text/plain": [
       "gw                 38\n",
       "season              4\n",
       "position            4\n",
       "team               29\n",
       "opponent_team      29\n",
       "was_home            2\n",
       "player           1211\n",
       "dtype: int64"
      ]
     },
     "execution_count": 40,
     "metadata": {},
     "output_type": "execute_result"
    }
   ],
   "source": [
    "lag_train_df[cat_vars + ['player']].nunique()"
   ]
  },
  {
   "cell_type": "code",
   "execution_count": 41,
   "metadata": {},
   "outputs": [
    {
     "data": {
      "text/plain": [
       "['gw', 'season', 'position', 'team', 'opponent_team', 'was_home', 'player']"
      ]
     },
     "execution_count": 41,
     "metadata": {},
     "output_type": "execute_result"
    }
   ],
   "source": [
    "cat_vars + ['player']"
   ]
  },
  {
   "cell_type": "code",
   "execution_count": 42,
   "metadata": {},
   "outputs": [
    {
     "data": {
      "text/plain": [
       "['minutes',\n",
       " 'relative_market_value_team_season',\n",
       " 'relative_market_value_opponent_team_season',\n",
       " 'total_points_pg_last_all',\n",
       " 'total_points_pg_last_1',\n",
       " 'total_points_pg_last_2',\n",
       " 'total_points_pg_last_3',\n",
       " 'total_points_pg_last_4',\n",
       " 'total_points_pg_last_5',\n",
       " 'total_points_pg_last_10',\n",
       " 'total_points_team_pg_last_all',\n",
       " 'total_points_team_pg_last_1',\n",
       " 'total_points_team_pg_last_2',\n",
       " 'total_points_team_pg_last_3',\n",
       " 'total_points_team_pg_last_4',\n",
       " 'total_points_team_pg_last_5',\n",
       " 'total_points_team_pg_last_10',\n",
       " 'total_points_team_pg_last_all_opponent',\n",
       " 'total_points_team_pg_last_1_opponent',\n",
       " 'total_points_team_pg_last_2_opponent',\n",
       " 'total_points_team_pg_last_3_opponent',\n",
       " 'total_points_team_pg_last_4_opponent',\n",
       " 'total_points_team_pg_last_5_opponent',\n",
       " 'total_points_team_pg_last_10_opponent']"
      ]
     },
     "execution_count": 42,
     "metadata": {},
     "output_type": "execute_result"
    }
   ],
   "source": [
    "cont_vars + player_lag_vars + team_lag_vars"
   ]
  },
  {
   "cell_type": "code",
   "execution_count": 43,
   "metadata": {},
   "outputs": [],
   "source": [
    "# processors - categorify categorical variables and normalize continuous variables\n",
    "# fill missing not used because new teams are almost certainly well below the league average\n",
    "procs=[Categorify, Normalize]\n",
    "to_nn = TabularPandas(lag_train_df, procs, cat_vars + ['player'], cont_vars, #+ player_lag_vars + team_lag_vars,\n",
    "                      splits=splits, y_names=dep_var)"
   ]
  },
  {
   "cell_type": "code",
   "execution_count": 44,
   "metadata": {},
   "outputs": [],
   "source": [
    "# dls = to_nn.dataloaders()\n",
    "dls = to_nn.dataloaders()"
   ]
  },
  {
   "cell_type": "code",
   "execution_count": 45,
   "metadata": {},
   "outputs": [
    {
     "data": {
      "text/html": [
       "<table border=\"1\" class=\"dataframe\">\n",
       "  <thead>\n",
       "    <tr style=\"text-align: right;\">\n",
       "      <th></th>\n",
       "      <th>gw</th>\n",
       "      <th>season</th>\n",
       "      <th>position</th>\n",
       "      <th>team</th>\n",
       "      <th>opponent_team</th>\n",
       "      <th>was_home</th>\n",
       "      <th>player</th>\n",
       "      <th>minutes</th>\n",
       "      <th>relative_market_value_team_season</th>\n",
       "      <th>relative_market_value_opponent_team_season</th>\n",
       "      <th>total_points</th>\n",
       "    </tr>\n",
       "  </thead>\n",
       "  <tbody>\n",
       "    <tr>\n",
       "      <th>0</th>\n",
       "      <td>2</td>\n",
       "      <td>1617</td>\n",
       "      <td>3</td>\n",
       "      <td>Stoke City</td>\n",
       "      <td>Manchester City</td>\n",
       "      <td>True</td>\n",
       "      <td>Joe_Allen</td>\n",
       "      <td>9.000000e+01</td>\n",
       "      <td>0.718705</td>\n",
       "      <td>2.311012</td>\n",
       "      <td>1.0</td>\n",
       "    </tr>\n",
       "    <tr>\n",
       "      <th>1</th>\n",
       "      <td>33</td>\n",
       "      <td>1718</td>\n",
       "      <td>3</td>\n",
       "      <td>Huddersfield Town</td>\n",
       "      <td>Brighton and Hove Albion</td>\n",
       "      <td>False</td>\n",
       "      <td>Rajiv_van La Parra</td>\n",
       "      <td>8.900000e+01</td>\n",
       "      <td>0.210654</td>\n",
       "      <td>0.349181</td>\n",
       "      <td>2.0</td>\n",
       "    </tr>\n",
       "    <tr>\n",
       "      <th>2</th>\n",
       "      <td>8</td>\n",
       "      <td>1617</td>\n",
       "      <td>3</td>\n",
       "      <td>West Ham United</td>\n",
       "      <td>Crystal Palace</td>\n",
       "      <td>False</td>\n",
       "      <td>Edimilson_Fernandes</td>\n",
       "      <td>1.300000e+01</td>\n",
       "      <td>0.895471</td>\n",
       "      <td>0.802197</td>\n",
       "      <td>1.0</td>\n",
       "    </tr>\n",
       "    <tr>\n",
       "      <th>3</th>\n",
       "      <td>23</td>\n",
       "      <td>1617</td>\n",
       "      <td>4</td>\n",
       "      <td>Leicester City</td>\n",
       "      <td>Burnley</td>\n",
       "      <td>False</td>\n",
       "      <td>Shinji_Okazaki</td>\n",
       "      <td>1.400000e+01</td>\n",
       "      <td>0.650832</td>\n",
       "      <td>0.304218</td>\n",
       "      <td>1.0</td>\n",
       "    </tr>\n",
       "    <tr>\n",
       "      <th>4</th>\n",
       "      <td>29</td>\n",
       "      <td>1617</td>\n",
       "      <td>3</td>\n",
       "      <td>Burnley</td>\n",
       "      <td>Sunderland</td>\n",
       "      <td>False</td>\n",
       "      <td>Joey_Barton</td>\n",
       "      <td>9.000000e+01</td>\n",
       "      <td>0.304218</td>\n",
       "      <td>0.418392</td>\n",
       "      <td>2.0</td>\n",
       "    </tr>\n",
       "    <tr>\n",
       "      <th>5</th>\n",
       "      <td>7</td>\n",
       "      <td>1718</td>\n",
       "      <td>3</td>\n",
       "      <td>West Bromwich Albion</td>\n",
       "      <td>Watford</td>\n",
       "      <td>True</td>\n",
       "      <td>Gareth_Barry</td>\n",
       "      <td>9.000000e+01</td>\n",
       "      <td>0.541354</td>\n",
       "      <td>0.547242</td>\n",
       "      <td>2.0</td>\n",
       "    </tr>\n",
       "    <tr>\n",
       "      <th>6</th>\n",
       "      <td>7</td>\n",
       "      <td>1617</td>\n",
       "      <td>2</td>\n",
       "      <td>Watford</td>\n",
       "      <td>Bournemouth</td>\n",
       "      <td>True</td>\n",
       "      <td>Daryl_Janmaat</td>\n",
       "      <td>3.971288e-07</td>\n",
       "      <td>0.704200</td>\n",
       "      <td>0.384921</td>\n",
       "      <td>0.0</td>\n",
       "    </tr>\n",
       "    <tr>\n",
       "      <th>7</th>\n",
       "      <td>27</td>\n",
       "      <td>1617</td>\n",
       "      <td>3</td>\n",
       "      <td>Bournemouth</td>\n",
       "      <td>Manchester United</td>\n",
       "      <td>False</td>\n",
       "      <td>Dan_Gosling</td>\n",
       "      <td>4.500000e+01</td>\n",
       "      <td>0.384921</td>\n",
       "      <td>1.983179</td>\n",
       "      <td>0.0</td>\n",
       "    </tr>\n",
       "    <tr>\n",
       "      <th>8</th>\n",
       "      <td>26</td>\n",
       "      <td>1718</td>\n",
       "      <td>4</td>\n",
       "      <td>Arsenal</td>\n",
       "      <td>Everton</td>\n",
       "      <td>True</td>\n",
       "      <td>Edward_Nketiah</td>\n",
       "      <td>3.971288e-07</td>\n",
       "      <td>2.073500</td>\n",
       "      <td>1.134226</td>\n",
       "      <td>0.0</td>\n",
       "    </tr>\n",
       "    <tr>\n",
       "      <th>9</th>\n",
       "      <td>34</td>\n",
       "      <td>1718</td>\n",
       "      <td>3</td>\n",
       "      <td>Brighton and Hove Albion</td>\n",
       "      <td>Tottenham Hotspur</td>\n",
       "      <td>True</td>\n",
       "      <td>Isaiah_Brown</td>\n",
       "      <td>3.971288e-07</td>\n",
       "      <td>0.349181</td>\n",
       "      <td>1.751141</td>\n",
       "      <td>0.0</td>\n",
       "    </tr>\n",
       "  </tbody>\n",
       "</table>"
      ],
      "text/plain": [
       "<IPython.core.display.HTML object>"
      ]
     },
     "metadata": {},
     "output_type": "display_data"
    }
   ],
   "source": [
    "dls.show_batch()"
   ]
  },
  {
   "cell_type": "code",
   "execution_count": 46,
   "metadata": {},
   "outputs": [],
   "source": [
    "# set range of predictions - minimum to current max\n",
    "max_y = np.max(lag_train_df['total_points'])\n",
    "min_y = np.min(lag_train_df['total_points'])\n",
    "y_range = (-1, max_y)"
   ]
  },
  {
   "cell_type": "code",
   "execution_count": 49,
   "metadata": {},
   "outputs": [],
   "source": [
    "learn = tabular_learner(dls, y_range=y_range, layers=[1000,500], ps=[0.001,0.01], emb_drop=0.04,\n",
    "                        n_out=1, loss_func=F.mse_loss, metrics=rmse)"
   ]
  },
  {
   "cell_type": "code",
   "execution_count": 108,
   "metadata": {},
   "outputs": [
    {
     "data": {
      "text/html": [],
      "text/plain": [
       "<IPython.core.display.HTML object>"
      ]
     },
     "metadata": {},
     "output_type": "display_data"
    },
    {
     "data": {
      "text/plain": [
       "SuggestedLRs(lr_min=0.33113112449646, lr_steep=0.0008317637839354575)"
      ]
     },
     "execution_count": 108,
     "metadata": {},
     "output_type": "execute_result"
    },
    {
     "data": {
      "image/png": "[encoded data removed]",
      "text/plain": [
       "<Figure size 432x288 with 1 Axes>"
      ]
     },
     "metadata": {
      "needs_background": "light"
     },
     "output_type": "display_data"
    }
   ],
   "source": [
    "learn.lr_find()"
   ]
  },
  {
   "cell_type": "code",
   "execution_count": 50,
   "metadata": {},
   "outputs": [
    {
     "data": {
      "text/html": [
       "<table border=\"1\" class=\"dataframe\">\n",
       "  <thead>\n",
       "    <tr style=\"text-align: left;\">\n",
       "      <th>epoch</th>\n",
       "      <th>train_loss</th>\n",
       "      <th>valid_loss</th>\n",
       "      <th>_rmse</th>\n",
       "      <th>time</th>\n",
       "    </tr>\n",
       "  </thead>\n",
       "  <tbody>\n",
       "    <tr>\n",
       "      <td>0</td>\n",
       "      <td>4.617392</td>\n",
       "      <td>4.823207</td>\n",
       "      <td>2.196180</td>\n",
       "      <td>00:14</td>\n",
       "    </tr>\n",
       "    <tr>\n",
       "      <td>1</td>\n",
       "      <td>4.143771</td>\n",
       "      <td>4.283218</td>\n",
       "      <td>2.069594</td>\n",
       "      <td>00:15</td>\n",
       "    </tr>\n",
       "    <tr>\n",
       "      <td>2</td>\n",
       "      <td>3.942878</td>\n",
       "      <td>3.868781</td>\n",
       "      <td>1.966922</td>\n",
       "      <td>00:14</td>\n",
       "    </tr>\n",
       "    <tr>\n",
       "      <td>3</td>\n",
       "      <td>3.636048</td>\n",
       "      <td>4.033024</td>\n",
       "      <td>2.008239</td>\n",
       "      <td>00:14</td>\n",
       "    </tr>\n",
       "    <tr>\n",
       "      <td>4</td>\n",
       "      <td>3.669619</td>\n",
       "      <td>3.973552</td>\n",
       "      <td>1.993377</td>\n",
       "      <td>00:14</td>\n",
       "    </tr>\n",
       "    <tr>\n",
       "      <td>5</td>\n",
       "      <td>3.291937</td>\n",
       "      <td>3.820120</td>\n",
       "      <td>1.954513</td>\n",
       "      <td>00:14</td>\n",
       "    </tr>\n",
       "    <tr>\n",
       "      <td>6</td>\n",
       "      <td>3.382424</td>\n",
       "      <td>3.697486</td>\n",
       "      <td>1.922885</td>\n",
       "      <td>00:14</td>\n",
       "    </tr>\n",
       "    <tr>\n",
       "      <td>7</td>\n",
       "      <td>3.373975</td>\n",
       "      <td>3.685714</td>\n",
       "      <td>1.919821</td>\n",
       "      <td>00:14</td>\n",
       "    </tr>\n",
       "    <tr>\n",
       "      <td>8</td>\n",
       "      <td>3.206806</td>\n",
       "      <td>3.726507</td>\n",
       "      <td>1.930416</td>\n",
       "      <td>00:14</td>\n",
       "    </tr>\n",
       "    <tr>\n",
       "      <td>9</td>\n",
       "      <td>3.109817</td>\n",
       "      <td>3.701175</td>\n",
       "      <td>1.923844</td>\n",
       "      <td>00:14</td>\n",
       "    </tr>\n",
       "  </tbody>\n",
       "</table>"
      ],
      "text/plain": [
       "<IPython.core.display.HTML object>"
      ]
     },
     "metadata": {},
     "output_type": "display_data"
    }
   ],
   "source": [
    "# seems to work ok without the lag vars\n",
    "learn.fit_one_cycle(10, 1e-2, wd=0.2)"
   ]
  },
  {
   "cell_type": "code",
   "execution_count": 173,
   "metadata": {},
   "outputs": [
    {
     "data": {
      "text/html": [],
      "text/plain": [
       "<IPython.core.display.HTML object>"
      ]
     },
     "metadata": {},
     "output_type": "display_data"
    },
    {
     "data": {
      "text/plain": [
       "1.931613"
      ]
     },
     "execution_count": 173,
     "metadata": {},
     "output_type": "execute_result"
    }
   ],
   "source": [
    "preds,targs = learn.get_preds()\n",
    "r_mse(preds,targs)"
   ]
  },
  {
   "cell_type": "code",
   "execution_count": 174,
   "metadata": {},
   "outputs": [],
   "source": [
    "targs_no_zero = targs[(lag_train_df.iloc[valid_idx]['minutes'] > 0).to_numpy()]"
   ]
  },
  {
   "cell_type": "code",
   "execution_count": 175,
   "metadata": {},
   "outputs": [],
   "source": [
    "preds_no_zero = preds[(lag_train_df.iloc[valid_idx]['minutes'] > 0).to_numpy()]"
   ]
  },
  {
   "cell_type": "code",
   "execution_count": 176,
   "metadata": {},
   "outputs": [
    {
     "data": {
      "text/plain": [
       "2.677255"
      ]
     },
     "execution_count": 176,
     "metadata": {},
     "output_type": "execute_result"
    }
   ],
   "source": [
    "r_mse(preds_no_zero,targs_no_zero)"
   ]
  },
  {
   "cell_type": "code",
   "execution_count": null,
   "metadata": {},
   "outputs": [],
   "source": []
  },
  {
   "cell_type": "code",
   "execution_count": null,
   "metadata": {},
   "outputs": [],
   "source": []
  },
  {
   "cell_type": "code",
   "execution_count": 177,
   "metadata": {},
   "outputs": [
    {
     "data": {
      "text/html": [
       "<table border=\"1\" class=\"dataframe\">\n",
       "  <thead>\n",
       "    <tr style=\"text-align: left;\">\n",
       "      <th>epoch</th>\n",
       "      <th>train_loss</th>\n",
       "      <th>valid_loss</th>\n",
       "      <th>_rmse</th>\n",
       "      <th>time</th>\n",
       "    </tr>\n",
       "  </thead>\n",
       "  <tbody>\n",
       "    <tr>\n",
       "      <td>0</td>\n",
       "      <td>4.679718</td>\n",
       "      <td>4.372705</td>\n",
       "      <td>2.091101</td>\n",
       "      <td>00:13</td>\n",
       "    </tr>\n",
       "    <tr>\n",
       "      <td>1</td>\n",
       "      <td>3.419559</td>\n",
       "      <td>3.836582</td>\n",
       "      <td>1.958719</td>\n",
       "      <td>00:13</td>\n",
       "    </tr>\n",
       "    <tr>\n",
       "      <td>2</td>\n",
       "      <td>3.405428</td>\n",
       "      <td>3.900655</td>\n",
       "      <td>1.975008</td>\n",
       "      <td>00:14</td>\n",
       "    </tr>\n",
       "    <tr>\n",
       "      <td>3</td>\n",
       "      <td>3.473175</td>\n",
       "      <td>3.844222</td>\n",
       "      <td>1.960668</td>\n",
       "      <td>00:16</td>\n",
       "    </tr>\n",
       "    <tr>\n",
       "      <td>4</td>\n",
       "      <td>3.452193</td>\n",
       "      <td>3.778932</td>\n",
       "      <td>1.943947</td>\n",
       "      <td>00:16</td>\n",
       "    </tr>\n",
       "    <tr>\n",
       "      <td>5</td>\n",
       "      <td>3.564863</td>\n",
       "      <td>3.779060</td>\n",
       "      <td>1.943980</td>\n",
       "      <td>00:15</td>\n",
       "    </tr>\n",
       "    <tr>\n",
       "      <td>6</td>\n",
       "      <td>3.251488</td>\n",
       "      <td>3.742179</td>\n",
       "      <td>1.934471</td>\n",
       "      <td>00:15</td>\n",
       "    </tr>\n",
       "  </tbody>\n",
       "</table>"
      ],
      "text/plain": [
       "<IPython.core.display.HTML object>"
      ]
     },
     "metadata": {},
     "output_type": "display_data"
    },
    {
     "data": {
      "text/html": [],
      "text/plain": [
       "<IPython.core.display.HTML object>"
      ]
     },
     "metadata": {},
     "output_type": "display_data"
    },
    {
     "name": "stdout",
     "output_type": "stream",
     "text": [
      "GW1 RMSE: 1.934471\n"
     ]
    },
    {
     "data": {
      "text/html": [
       "<table border=\"1\" class=\"dataframe\">\n",
       "  <thead>\n",
       "    <tr style=\"text-align: left;\">\n",
       "      <th>epoch</th>\n",
       "      <th>train_loss</th>\n",
       "      <th>valid_loss</th>\n",
       "      <th>_rmse</th>\n",
       "      <th>time</th>\n",
       "    </tr>\n",
       "  </thead>\n",
       "  <tbody>\n",
       "    <tr>\n",
       "      <td>0</td>\n",
       "      <td>4.473999</td>\n",
       "      <td>4.383136</td>\n",
       "      <td>2.093594</td>\n",
       "      <td>00:15</td>\n",
       "    </tr>\n",
       "    <tr>\n",
       "      <td>1</td>\n",
       "      <td>3.664589</td>\n",
       "      <td>3.770123</td>\n",
       "      <td>1.941680</td>\n",
       "      <td>00:14</td>\n",
       "    </tr>\n",
       "    <tr>\n",
       "      <td>2</td>\n",
       "      <td>3.544630</td>\n",
       "      <td>3.721098</td>\n",
       "      <td>1.929015</td>\n",
       "      <td>00:17</td>\n",
       "    </tr>\n",
       "    <tr>\n",
       "      <td>3</td>\n",
       "      <td>3.493375</td>\n",
       "      <td>3.653754</td>\n",
       "      <td>1.911480</td>\n",
       "      <td>00:17</td>\n",
       "    </tr>\n",
       "    <tr>\n",
       "      <td>4</td>\n",
       "      <td>3.354404</td>\n",
       "      <td>3.704698</td>\n",
       "      <td>1.924759</td>\n",
       "      <td>00:14</td>\n",
       "    </tr>\n",
       "    <tr>\n",
       "      <td>5</td>\n",
       "      <td>3.600748</td>\n",
       "      <td>3.476466</td>\n",
       "      <td>1.864528</td>\n",
       "      <td>00:14</td>\n",
       "    </tr>\n",
       "    <tr>\n",
       "      <td>6</td>\n",
       "      <td>3.297228</td>\n",
       "      <td>3.513678</td>\n",
       "      <td>1.874481</td>\n",
       "      <td>00:14</td>\n",
       "    </tr>\n",
       "  </tbody>\n",
       "</table>"
      ],
      "text/plain": [
       "<IPython.core.display.HTML object>"
      ]
     },
     "metadata": {},
     "output_type": "display_data"
    },
    {
     "data": {
      "text/html": [],
      "text/plain": [
       "<IPython.core.display.HTML object>"
      ]
     },
     "metadata": {},
     "output_type": "display_data"
    },
    {
     "name": "stdout",
     "output_type": "stream",
     "text": [
      "GW2 RMSE: 1.874481\n"
     ]
    },
    {
     "data": {
      "text/html": [
       "<table border=\"1\" class=\"dataframe\">\n",
       "  <thead>\n",
       "    <tr style=\"text-align: left;\">\n",
       "      <th>epoch</th>\n",
       "      <th>train_loss</th>\n",
       "      <th>valid_loss</th>\n",
       "      <th>_rmse</th>\n",
       "      <th>time</th>\n",
       "    </tr>\n",
       "  </thead>\n",
       "  <tbody>\n",
       "    <tr>\n",
       "      <td>0</td>\n",
       "      <td>4.814409</td>\n",
       "      <td>4.586755</td>\n",
       "      <td>2.141671</td>\n",
       "      <td>00:14</td>\n",
       "    </tr>\n",
       "    <tr>\n",
       "      <td>1</td>\n",
       "      <td>3.871508</td>\n",
       "      <td>4.266780</td>\n",
       "      <td>2.065619</td>\n",
       "      <td>00:15</td>\n",
       "    </tr>\n",
       "    <tr>\n",
       "      <td>2</td>\n",
       "      <td>3.762259</td>\n",
       "      <td>4.097618</td>\n",
       "      <td>2.024257</td>\n",
       "      <td>00:15</td>\n",
       "    </tr>\n",
       "    <tr>\n",
       "      <td>3</td>\n",
       "      <td>3.531635</td>\n",
       "      <td>3.953190</td>\n",
       "      <td>1.988263</td>\n",
       "      <td>00:14</td>\n",
       "    </tr>\n",
       "    <tr>\n",
       "      <td>4</td>\n",
       "      <td>3.452917</td>\n",
       "      <td>3.839509</td>\n",
       "      <td>1.959466</td>\n",
       "      <td>00:14</td>\n",
       "    </tr>\n",
       "    <tr>\n",
       "      <td>5</td>\n",
       "      <td>3.208500</td>\n",
       "      <td>3.769277</td>\n",
       "      <td>1.941463</td>\n",
       "      <td>00:14</td>\n",
       "    </tr>\n",
       "    <tr>\n",
       "      <td>6</td>\n",
       "      <td>3.397262</td>\n",
       "      <td>3.753011</td>\n",
       "      <td>1.937269</td>\n",
       "      <td>00:14</td>\n",
       "    </tr>\n",
       "  </tbody>\n",
       "</table>"
      ],
      "text/plain": [
       "<IPython.core.display.HTML object>"
      ]
     },
     "metadata": {},
     "output_type": "display_data"
    },
    {
     "data": {
      "text/html": [],
      "text/plain": [
       "<IPython.core.display.HTML object>"
      ]
     },
     "metadata": {},
     "output_type": "display_data"
    },
    {
     "name": "stdout",
     "output_type": "stream",
     "text": [
      "GW3 RMSE: 1.937269\n"
     ]
    },
    {
     "data": {
      "text/html": [
       "<table border=\"1\" class=\"dataframe\">\n",
       "  <thead>\n",
       "    <tr style=\"text-align: left;\">\n",
       "      <th>epoch</th>\n",
       "      <th>train_loss</th>\n",
       "      <th>valid_loss</th>\n",
       "      <th>_rmse</th>\n",
       "      <th>time</th>\n",
       "    </tr>\n",
       "  </thead>\n",
       "  <tbody>\n",
       "    <tr>\n",
       "      <td>0</td>\n",
       "      <td>4.434787</td>\n",
       "      <td>4.664695</td>\n",
       "      <td>2.159791</td>\n",
       "      <td>00:14</td>\n",
       "    </tr>\n",
       "    <tr>\n",
       "      <td>1</td>\n",
       "      <td>3.512414</td>\n",
       "      <td>3.876123</td>\n",
       "      <td>1.968787</td>\n",
       "      <td>00:14</td>\n",
       "    </tr>\n",
       "    <tr>\n",
       "      <td>2</td>\n",
       "      <td>3.441065</td>\n",
       "      <td>3.805533</td>\n",
       "      <td>1.950778</td>\n",
       "      <td>00:15</td>\n",
       "    </tr>\n",
       "    <tr>\n",
       "      <td>3</td>\n",
       "      <td>3.832964</td>\n",
       "      <td>3.743109</td>\n",
       "      <td>1.934711</td>\n",
       "      <td>00:14</td>\n",
       "    </tr>\n",
       "    <tr>\n",
       "      <td>4</td>\n",
       "      <td>3.551181</td>\n",
       "      <td>3.668312</td>\n",
       "      <td>1.915284</td>\n",
       "      <td>00:14</td>\n",
       "    </tr>\n",
       "    <tr>\n",
       "      <td>5</td>\n",
       "      <td>3.386670</td>\n",
       "      <td>3.635370</td>\n",
       "      <td>1.906664</td>\n",
       "      <td>00:14</td>\n",
       "    </tr>\n",
       "    <tr>\n",
       "      <td>6</td>\n",
       "      <td>3.104625</td>\n",
       "      <td>3.654297</td>\n",
       "      <td>1.911622</td>\n",
       "      <td>00:15</td>\n",
       "    </tr>\n",
       "  </tbody>\n",
       "</table>"
      ],
      "text/plain": [
       "<IPython.core.display.HTML object>"
      ]
     },
     "metadata": {},
     "output_type": "display_data"
    },
    {
     "data": {
      "text/html": [],
      "text/plain": [
       "<IPython.core.display.HTML object>"
      ]
     },
     "metadata": {},
     "output_type": "display_data"
    },
    {
     "name": "stdout",
     "output_type": "stream",
     "text": [
      "GW4 RMSE: 1.911622\n"
     ]
    },
    {
     "data": {
      "text/html": [
       "<table border=\"1\" class=\"dataframe\">\n",
       "  <thead>\n",
       "    <tr style=\"text-align: left;\">\n",
       "      <th>epoch</th>\n",
       "      <th>train_loss</th>\n",
       "      <th>valid_loss</th>\n",
       "      <th>_rmse</th>\n",
       "      <th>time</th>\n",
       "    </tr>\n",
       "  </thead>\n",
       "  <tbody>\n",
       "    <tr>\n",
       "      <td>0</td>\n",
       "      <td>4.303678</td>\n",
       "      <td>4.395681</td>\n",
       "      <td>2.096588</td>\n",
       "      <td>00:14</td>\n",
       "    </tr>\n",
       "    <tr>\n",
       "      <td>1</td>\n",
       "      <td>3.604323</td>\n",
       "      <td>4.085420</td>\n",
       "      <td>2.021242</td>\n",
       "      <td>00:14</td>\n",
       "    </tr>\n",
       "    <tr>\n",
       "      <td>2</td>\n",
       "      <td>3.605970</td>\n",
       "      <td>4.507588</td>\n",
       "      <td>2.123108</td>\n",
       "      <td>00:14</td>\n",
       "    </tr>\n",
       "    <tr>\n",
       "      <td>3</td>\n",
       "      <td>3.327379</td>\n",
       "      <td>4.006512</td>\n",
       "      <td>2.001627</td>\n",
       "      <td>00:14</td>\n",
       "    </tr>\n",
       "    <tr>\n",
       "      <td>4</td>\n",
       "      <td>3.430398</td>\n",
       "      <td>3.972346</td>\n",
       "      <td>1.993074</td>\n",
       "      <td>00:18</td>\n",
       "    </tr>\n",
       "    <tr>\n",
       "      <td>5</td>\n",
       "      <td>3.115519</td>\n",
       "      <td>3.945995</td>\n",
       "      <td>1.986453</td>\n",
       "      <td>00:18</td>\n",
       "    </tr>\n",
       "    <tr>\n",
       "      <td>6</td>\n",
       "      <td>3.152565</td>\n",
       "      <td>3.928983</td>\n",
       "      <td>1.982166</td>\n",
       "      <td>00:18</td>\n",
       "    </tr>\n",
       "  </tbody>\n",
       "</table>"
      ],
      "text/plain": [
       "<IPython.core.display.HTML object>"
      ]
     },
     "metadata": {},
     "output_type": "display_data"
    },
    {
     "data": {
      "text/html": [],
      "text/plain": [
       "<IPython.core.display.HTML object>"
      ]
     },
     "metadata": {},
     "output_type": "display_data"
    },
    {
     "name": "stdout",
     "output_type": "stream",
     "text": [
      "GW5 RMSE: 1.982166\n"
     ]
    },
    {
     "data": {
      "text/html": [
       "<table border=\"1\" class=\"dataframe\">\n",
       "  <thead>\n",
       "    <tr style=\"text-align: left;\">\n",
       "      <th>epoch</th>\n",
       "      <th>train_loss</th>\n",
       "      <th>valid_loss</th>\n",
       "      <th>_rmse</th>\n",
       "      <th>time</th>\n",
       "    </tr>\n",
       "  </thead>\n",
       "  <tbody>\n",
       "    <tr>\n",
       "      <td>0</td>\n",
       "      <td>4.385588</td>\n",
       "      <td>4.514813</td>\n",
       "      <td>2.124809</td>\n",
       "      <td>00:17</td>\n",
       "    </tr>\n",
       "    <tr>\n",
       "      <td>1</td>\n",
       "      <td>3.456364</td>\n",
       "      <td>4.056135</td>\n",
       "      <td>2.013985</td>\n",
       "      <td>00:17</td>\n",
       "    </tr>\n",
       "    <tr>\n",
       "      <td>2</td>\n",
       "      <td>3.121047</td>\n",
       "      <td>4.434883</td>\n",
       "      <td>2.105916</td>\n",
       "      <td>00:17</td>\n",
       "    </tr>\n",
       "    <tr>\n",
       "      <td>3</td>\n",
       "      <td>3.612665</td>\n",
       "      <td>4.171891</td>\n",
       "      <td>2.042521</td>\n",
       "      <td>00:15</td>\n",
       "    </tr>\n",
       "    <tr>\n",
       "      <td>4</td>\n",
       "      <td>3.548631</td>\n",
       "      <td>4.078929</td>\n",
       "      <td>2.019636</td>\n",
       "      <td>00:18</td>\n",
       "    </tr>\n",
       "    <tr>\n",
       "      <td>5</td>\n",
       "      <td>3.270743</td>\n",
       "      <td>4.078430</td>\n",
       "      <td>2.019512</td>\n",
       "      <td>00:19</td>\n",
       "    </tr>\n",
       "    <tr>\n",
       "      <td>6</td>\n",
       "      <td>3.284454</td>\n",
       "      <td>4.110157</td>\n",
       "      <td>2.027352</td>\n",
       "      <td>00:18</td>\n",
       "    </tr>\n",
       "  </tbody>\n",
       "</table>"
      ],
      "text/plain": [
       "<IPython.core.display.HTML object>"
      ]
     },
     "metadata": {},
     "output_type": "display_data"
    },
    {
     "data": {
      "text/html": [],
      "text/plain": [
       "<IPython.core.display.HTML object>"
      ]
     },
     "metadata": {},
     "output_type": "display_data"
    },
    {
     "name": "stdout",
     "output_type": "stream",
     "text": [
      "GW6 RMSE: 2.027352\n"
     ]
    },
    {
     "data": {
      "text/html": [
       "<table border=\"1\" class=\"dataframe\">\n",
       "  <thead>\n",
       "    <tr style=\"text-align: left;\">\n",
       "      <th>epoch</th>\n",
       "      <th>train_loss</th>\n",
       "      <th>valid_loss</th>\n",
       "      <th>_rmse</th>\n",
       "      <th>time</th>\n",
       "    </tr>\n",
       "  </thead>\n",
       "  <tbody>\n",
       "    <tr>\n",
       "      <td>0</td>\n",
       "      <td>4.483690</td>\n",
       "      <td>4.343461</td>\n",
       "      <td>2.084097</td>\n",
       "      <td>00:18</td>\n",
       "    </tr>\n",
       "    <tr>\n",
       "      <td>1</td>\n",
       "      <td>3.821623</td>\n",
       "      <td>3.892992</td>\n",
       "      <td>1.973067</td>\n",
       "      <td>00:16</td>\n",
       "    </tr>\n",
       "    <tr>\n",
       "      <td>2</td>\n",
       "      <td>3.399232</td>\n",
       "      <td>3.908937</td>\n",
       "      <td>1.977103</td>\n",
       "      <td>00:14</td>\n",
       "    </tr>\n",
       "    <tr>\n",
       "      <td>3</td>\n",
       "      <td>3.321360</td>\n",
       "      <td>3.719585</td>\n",
       "      <td>1.928623</td>\n",
       "      <td>00:14</td>\n",
       "    </tr>\n",
       "    <tr>\n",
       "      <td>4</td>\n",
       "      <td>3.576911</td>\n",
       "      <td>3.807709</td>\n",
       "      <td>1.951335</td>\n",
       "      <td>00:14</td>\n",
       "    </tr>\n",
       "    <tr>\n",
       "      <td>5</td>\n",
       "      <td>3.183024</td>\n",
       "      <td>3.677313</td>\n",
       "      <td>1.917632</td>\n",
       "      <td>00:15</td>\n",
       "    </tr>\n",
       "    <tr>\n",
       "      <td>6</td>\n",
       "      <td>3.415154</td>\n",
       "      <td>3.674143</td>\n",
       "      <td>1.916805</td>\n",
       "      <td>00:15</td>\n",
       "    </tr>\n",
       "  </tbody>\n",
       "</table>"
      ],
      "text/plain": [
       "<IPython.core.display.HTML object>"
      ]
     },
     "metadata": {},
     "output_type": "display_data"
    },
    {
     "data": {
      "text/html": [],
      "text/plain": [
       "<IPython.core.display.HTML object>"
      ]
     },
     "metadata": {},
     "output_type": "display_data"
    },
    {
     "name": "stdout",
     "output_type": "stream",
     "text": [
      "GW7 RMSE: 1.916805\n"
     ]
    },
    {
     "data": {
      "text/html": [
       "<table border=\"1\" class=\"dataframe\">\n",
       "  <thead>\n",
       "    <tr style=\"text-align: left;\">\n",
       "      <th>epoch</th>\n",
       "      <th>train_loss</th>\n",
       "      <th>valid_loss</th>\n",
       "      <th>_rmse</th>\n",
       "      <th>time</th>\n",
       "    </tr>\n",
       "  </thead>\n",
       "  <tbody>\n",
       "    <tr>\n",
       "      <td>0</td>\n",
       "      <td>4.089822</td>\n",
       "      <td>4.465019</td>\n",
       "      <td>2.113059</td>\n",
       "      <td>00:15</td>\n",
       "    </tr>\n",
       "    <tr>\n",
       "      <td>1</td>\n",
       "      <td>3.625603</td>\n",
       "      <td>3.915182</td>\n",
       "      <td>1.978682</td>\n",
       "      <td>00:14</td>\n",
       "    </tr>\n",
       "    <tr>\n",
       "      <td>2</td>\n",
       "      <td>3.770120</td>\n",
       "      <td>3.984156</td>\n",
       "      <td>1.996035</td>\n",
       "      <td>00:14</td>\n",
       "    </tr>\n",
       "    <tr>\n",
       "      <td>3</td>\n",
       "      <td>3.499440</td>\n",
       "      <td>3.852774</td>\n",
       "      <td>1.962848</td>\n",
       "      <td>00:15</td>\n",
       "    </tr>\n",
       "    <tr>\n",
       "      <td>4</td>\n",
       "      <td>3.566265</td>\n",
       "      <td>3.839113</td>\n",
       "      <td>1.959365</td>\n",
       "      <td>00:14</td>\n",
       "    </tr>\n",
       "    <tr>\n",
       "      <td>5</td>\n",
       "      <td>3.383183</td>\n",
       "      <td>3.817661</td>\n",
       "      <td>1.953884</td>\n",
       "      <td>00:14</td>\n",
       "    </tr>\n",
       "    <tr>\n",
       "      <td>6</td>\n",
       "      <td>3.309204</td>\n",
       "      <td>3.795341</td>\n",
       "      <td>1.948164</td>\n",
       "      <td>00:14</td>\n",
       "    </tr>\n",
       "  </tbody>\n",
       "</table>"
      ],
      "text/plain": [
       "<IPython.core.display.HTML object>"
      ]
     },
     "metadata": {},
     "output_type": "display_data"
    },
    {
     "data": {
      "text/html": [],
      "text/plain": [
       "<IPython.core.display.HTML object>"
      ]
     },
     "metadata": {},
     "output_type": "display_data"
    },
    {
     "name": "stdout",
     "output_type": "stream",
     "text": [
      "GW8 RMSE: 1.948164\n"
     ]
    },
    {
     "data": {
      "text/html": [
       "<table border=\"1\" class=\"dataframe\">\n",
       "  <thead>\n",
       "    <tr style=\"text-align: left;\">\n",
       "      <th>epoch</th>\n",
       "      <th>train_loss</th>\n",
       "      <th>valid_loss</th>\n",
       "      <th>_rmse</th>\n",
       "      <th>time</th>\n",
       "    </tr>\n",
       "  </thead>\n",
       "  <tbody>\n",
       "    <tr>\n",
       "      <td>0</td>\n",
       "      <td>4.507533</td>\n",
       "      <td>4.618957</td>\n",
       "      <td>2.149176</td>\n",
       "      <td>00:15</td>\n",
       "    </tr>\n",
       "    <tr>\n",
       "      <td>1</td>\n",
       "      <td>3.826657</td>\n",
       "      <td>3.962845</td>\n",
       "      <td>1.990690</td>\n",
       "      <td>00:14</td>\n",
       "    </tr>\n",
       "    <tr>\n",
       "      <td>2</td>\n",
       "      <td>3.663444</td>\n",
       "      <td>3.836766</td>\n",
       "      <td>1.958766</td>\n",
       "      <td>00:15</td>\n",
       "    </tr>\n",
       "    <tr>\n",
       "      <td>3</td>\n",
       "      <td>3.719138</td>\n",
       "      <td>3.707511</td>\n",
       "      <td>1.925490</td>\n",
       "      <td>00:15</td>\n",
       "    </tr>\n",
       "    <tr>\n",
       "      <td>4</td>\n",
       "      <td>3.387632</td>\n",
       "      <td>3.749584</td>\n",
       "      <td>1.936384</td>\n",
       "      <td>00:14</td>\n",
       "    </tr>\n",
       "    <tr>\n",
       "      <td>5</td>\n",
       "      <td>3.581089</td>\n",
       "      <td>3.660687</td>\n",
       "      <td>1.913292</td>\n",
       "      <td>00:15</td>\n",
       "    </tr>\n",
       "    <tr>\n",
       "      <td>6</td>\n",
       "      <td>2.902468</td>\n",
       "      <td>3.702017</td>\n",
       "      <td>1.924063</td>\n",
       "      <td>00:14</td>\n",
       "    </tr>\n",
       "  </tbody>\n",
       "</table>"
      ],
      "text/plain": [
       "<IPython.core.display.HTML object>"
      ]
     },
     "metadata": {},
     "output_type": "display_data"
    },
    {
     "data": {
      "text/html": [],
      "text/plain": [
       "<IPython.core.display.HTML object>"
      ]
     },
     "metadata": {},
     "output_type": "display_data"
    },
    {
     "name": "stdout",
     "output_type": "stream",
     "text": [
      "GW9 RMSE: 1.924063\n"
     ]
    },
    {
     "data": {
      "text/html": [
       "<table border=\"1\" class=\"dataframe\">\n",
       "  <thead>\n",
       "    <tr style=\"text-align: left;\">\n",
       "      <th>epoch</th>\n",
       "      <th>train_loss</th>\n",
       "      <th>valid_loss</th>\n",
       "      <th>_rmse</th>\n",
       "      <th>time</th>\n",
       "    </tr>\n",
       "  </thead>\n",
       "  <tbody>\n",
       "    <tr>\n",
       "      <td>0</td>\n",
       "      <td>4.675838</td>\n",
       "      <td>5.246420</td>\n",
       "      <td>2.290507</td>\n",
       "      <td>00:15</td>\n",
       "    </tr>\n",
       "    <tr>\n",
       "      <td>1</td>\n",
       "      <td>3.315452</td>\n",
       "      <td>3.918501</td>\n",
       "      <td>1.979520</td>\n",
       "      <td>00:15</td>\n",
       "    </tr>\n",
       "    <tr>\n",
       "      <td>2</td>\n",
       "      <td>3.523069</td>\n",
       "      <td>3.867964</td>\n",
       "      <td>1.966714</td>\n",
       "      <td>00:15</td>\n",
       "    </tr>\n",
       "    <tr>\n",
       "      <td>3</td>\n",
       "      <td>3.490291</td>\n",
       "      <td>3.829177</td>\n",
       "      <td>1.956828</td>\n",
       "      <td>00:15</td>\n",
       "    </tr>\n",
       "    <tr>\n",
       "      <td>4</td>\n",
       "      <td>3.502853</td>\n",
       "      <td>3.926597</td>\n",
       "      <td>1.981565</td>\n",
       "      <td>00:15</td>\n",
       "    </tr>\n",
       "    <tr>\n",
       "      <td>5</td>\n",
       "      <td>3.543338</td>\n",
       "      <td>3.825822</td>\n",
       "      <td>1.955971</td>\n",
       "      <td>00:15</td>\n",
       "    </tr>\n",
       "    <tr>\n",
       "      <td>6</td>\n",
       "      <td>3.228210</td>\n",
       "      <td>3.784886</td>\n",
       "      <td>1.945478</td>\n",
       "      <td>00:15</td>\n",
       "    </tr>\n",
       "  </tbody>\n",
       "</table>"
      ],
      "text/plain": [
       "<IPython.core.display.HTML object>"
      ]
     },
     "metadata": {},
     "output_type": "display_data"
    },
    {
     "data": {
      "text/html": [],
      "text/plain": [
       "<IPython.core.display.HTML object>"
      ]
     },
     "metadata": {},
     "output_type": "display_data"
    },
    {
     "name": "stdout",
     "output_type": "stream",
     "text": [
      "GW10 RMSE: 1.945478\n"
     ]
    },
    {
     "data": {
      "text/html": [
       "<table border=\"1\" class=\"dataframe\">\n",
       "  <thead>\n",
       "    <tr style=\"text-align: left;\">\n",
       "      <th>epoch</th>\n",
       "      <th>train_loss</th>\n",
       "      <th>valid_loss</th>\n",
       "      <th>_rmse</th>\n",
       "      <th>time</th>\n",
       "    </tr>\n",
       "  </thead>\n",
       "  <tbody>\n",
       "    <tr>\n",
       "      <td>0</td>\n",
       "      <td>4.546714</td>\n",
       "      <td>4.598467</td>\n",
       "      <td>2.144404</td>\n",
       "      <td>00:15</td>\n",
       "    </tr>\n",
       "    <tr>\n",
       "      <td>1</td>\n",
       "      <td>3.791237</td>\n",
       "      <td>3.796382</td>\n",
       "      <td>1.948431</td>\n",
       "      <td>00:15</td>\n",
       "    </tr>\n",
       "    <tr>\n",
       "      <td>2</td>\n",
       "      <td>3.366019</td>\n",
       "      <td>3.702507</td>\n",
       "      <td>1.924190</td>\n",
       "      <td>00:15</td>\n",
       "    </tr>\n",
       "    <tr>\n",
       "      <td>3</td>\n",
       "      <td>3.343556</td>\n",
       "      <td>3.939521</td>\n",
       "      <td>1.984823</td>\n",
       "      <td>00:15</td>\n",
       "    </tr>\n",
       "    <tr>\n",
       "      <td>4</td>\n",
       "      <td>3.512874</td>\n",
       "      <td>3.559295</td>\n",
       "      <td>1.886609</td>\n",
       "      <td>00:15</td>\n",
       "    </tr>\n",
       "    <tr>\n",
       "      <td>5</td>\n",
       "      <td>3.418818</td>\n",
       "      <td>3.577725</td>\n",
       "      <td>1.891487</td>\n",
       "      <td>00:15</td>\n",
       "    </tr>\n",
       "    <tr>\n",
       "      <td>6</td>\n",
       "      <td>3.510669</td>\n",
       "      <td>3.611341</td>\n",
       "      <td>1.900353</td>\n",
       "      <td>00:14</td>\n",
       "    </tr>\n",
       "  </tbody>\n",
       "</table>"
      ],
      "text/plain": [
       "<IPython.core.display.HTML object>"
      ]
     },
     "metadata": {},
     "output_type": "display_data"
    },
    {
     "data": {
      "text/html": [],
      "text/plain": [
       "<IPython.core.display.HTML object>"
      ]
     },
     "metadata": {},
     "output_type": "display_data"
    },
    {
     "name": "stdout",
     "output_type": "stream",
     "text": [
      "GW11 RMSE: 1.900353\n"
     ]
    },
    {
     "data": {
      "text/html": [
       "<table border=\"1\" class=\"dataframe\">\n",
       "  <thead>\n",
       "    <tr style=\"text-align: left;\">\n",
       "      <th>epoch</th>\n",
       "      <th>train_loss</th>\n",
       "      <th>valid_loss</th>\n",
       "      <th>_rmse</th>\n",
       "      <th>time</th>\n",
       "    </tr>\n",
       "  </thead>\n",
       "  <tbody>\n",
       "    <tr>\n",
       "      <td>0</td>\n",
       "      <td>4.851478</td>\n",
       "      <td>4.477588</td>\n",
       "      <td>2.116031</td>\n",
       "      <td>00:15</td>\n",
       "    </tr>\n",
       "    <tr>\n",
       "      <td>1</td>\n",
       "      <td>3.383029</td>\n",
       "      <td>3.579957</td>\n",
       "      <td>1.892077</td>\n",
       "      <td>00:15</td>\n",
       "    </tr>\n",
       "    <tr>\n",
       "      <td>2</td>\n",
       "      <td>3.419891</td>\n",
       "      <td>3.480417</td>\n",
       "      <td>1.865588</td>\n",
       "      <td>00:15</td>\n",
       "    </tr>\n",
       "    <tr>\n",
       "      <td>3</td>\n",
       "      <td>3.648249</td>\n",
       "      <td>3.534047</td>\n",
       "      <td>1.879906</td>\n",
       "      <td>00:15</td>\n",
       "    </tr>\n",
       "    <tr>\n",
       "      <td>4</td>\n",
       "      <td>3.380061</td>\n",
       "      <td>3.479779</td>\n",
       "      <td>1.865417</td>\n",
       "      <td>00:15</td>\n",
       "    </tr>\n",
       "    <tr>\n",
       "      <td>5</td>\n",
       "      <td>3.664760</td>\n",
       "      <td>3.421380</td>\n",
       "      <td>1.849697</td>\n",
       "      <td>00:15</td>\n",
       "    </tr>\n",
       "    <tr>\n",
       "      <td>6</td>\n",
       "      <td>3.403966</td>\n",
       "      <td>3.424443</td>\n",
       "      <td>1.850525</td>\n",
       "      <td>00:15</td>\n",
       "    </tr>\n",
       "  </tbody>\n",
       "</table>"
      ],
      "text/plain": [
       "<IPython.core.display.HTML object>"
      ]
     },
     "metadata": {},
     "output_type": "display_data"
    },
    {
     "data": {
      "text/html": [],
      "text/plain": [
       "<IPython.core.display.HTML object>"
      ]
     },
     "metadata": {},
     "output_type": "display_data"
    },
    {
     "name": "stdout",
     "output_type": "stream",
     "text": [
      "GW12 RMSE: 1.850525\n"
     ]
    },
    {
     "data": {
      "text/html": [
       "<table border=\"1\" class=\"dataframe\">\n",
       "  <thead>\n",
       "    <tr style=\"text-align: left;\">\n",
       "      <th>epoch</th>\n",
       "      <th>train_loss</th>\n",
       "      <th>valid_loss</th>\n",
       "      <th>_rmse</th>\n",
       "      <th>time</th>\n",
       "    </tr>\n",
       "  </thead>\n",
       "  <tbody>\n",
       "    <tr>\n",
       "      <td>0</td>\n",
       "      <td>4.557912</td>\n",
       "      <td>4.171356</td>\n",
       "      <td>2.042390</td>\n",
       "      <td>00:15</td>\n",
       "    </tr>\n",
       "    <tr>\n",
       "      <td>1</td>\n",
       "      <td>3.680160</td>\n",
       "      <td>3.710998</td>\n",
       "      <td>1.926395</td>\n",
       "      <td>00:15</td>\n",
       "    </tr>\n",
       "    <tr>\n",
       "      <td>2</td>\n",
       "      <td>3.552330</td>\n",
       "      <td>3.745265</td>\n",
       "      <td>1.935269</td>\n",
       "      <td>00:15</td>\n",
       "    </tr>\n",
       "    <tr>\n",
       "      <td>3</td>\n",
       "      <td>3.442641</td>\n",
       "      <td>3.724696</td>\n",
       "      <td>1.929947</td>\n",
       "      <td>00:15</td>\n",
       "    </tr>\n",
       "    <tr>\n",
       "      <td>4</td>\n",
       "      <td>3.298145</td>\n",
       "      <td>3.562038</td>\n",
       "      <td>1.887336</td>\n",
       "      <td>00:15</td>\n",
       "    </tr>\n",
       "    <tr>\n",
       "      <td>5</td>\n",
       "      <td>3.340767</td>\n",
       "      <td>3.475800</td>\n",
       "      <td>1.864350</td>\n",
       "      <td>00:15</td>\n",
       "    </tr>\n",
       "    <tr>\n",
       "      <td>6</td>\n",
       "      <td>3.044135</td>\n",
       "      <td>3.566284</td>\n",
       "      <td>1.888461</td>\n",
       "      <td>00:15</td>\n",
       "    </tr>\n",
       "  </tbody>\n",
       "</table>"
      ],
      "text/plain": [
       "<IPython.core.display.HTML object>"
      ]
     },
     "metadata": {},
     "output_type": "display_data"
    },
    {
     "data": {
      "text/html": [],
      "text/plain": [
       "<IPython.core.display.HTML object>"
      ]
     },
     "metadata": {},
     "output_type": "display_data"
    },
    {
     "name": "stdout",
     "output_type": "stream",
     "text": [
      "GW13 RMSE: 1.888461\n"
     ]
    },
    {
     "data": {
      "text/html": [
       "<table border=\"1\" class=\"dataframe\">\n",
       "  <thead>\n",
       "    <tr style=\"text-align: left;\">\n",
       "      <th>epoch</th>\n",
       "      <th>train_loss</th>\n",
       "      <th>valid_loss</th>\n",
       "      <th>_rmse</th>\n",
       "      <th>time</th>\n",
       "    </tr>\n",
       "  </thead>\n",
       "  <tbody>\n",
       "    <tr>\n",
       "      <td>0</td>\n",
       "      <td>4.234728</td>\n",
       "      <td>4.416968</td>\n",
       "      <td>2.101658</td>\n",
       "      <td>00:15</td>\n",
       "    </tr>\n",
       "    <tr>\n",
       "      <td>1</td>\n",
       "      <td>3.616341</td>\n",
       "      <td>3.713530</td>\n",
       "      <td>1.927052</td>\n",
       "      <td>00:15</td>\n",
       "    </tr>\n",
       "    <tr>\n",
       "      <td>2</td>\n",
       "      <td>3.573661</td>\n",
       "      <td>3.628572</td>\n",
       "      <td>1.904881</td>\n",
       "      <td>00:15</td>\n",
       "    </tr>\n",
       "    <tr>\n",
       "      <td>3</td>\n",
       "      <td>3.488865</td>\n",
       "      <td>3.578966</td>\n",
       "      <td>1.891816</td>\n",
       "      <td>00:15</td>\n",
       "    </tr>\n",
       "    <tr>\n",
       "      <td>4</td>\n",
       "      <td>3.351523</td>\n",
       "      <td>3.527413</td>\n",
       "      <td>1.878141</td>\n",
       "      <td>00:15</td>\n",
       "    </tr>\n",
       "    <tr>\n",
       "      <td>5</td>\n",
       "      <td>3.468962</td>\n",
       "      <td>3.552025</td>\n",
       "      <td>1.884682</td>\n",
       "      <td>00:15</td>\n",
       "    </tr>\n",
       "    <tr>\n",
       "      <td>6</td>\n",
       "      <td>2.811245</td>\n",
       "      <td>3.564867</td>\n",
       "      <td>1.888085</td>\n",
       "      <td>00:15</td>\n",
       "    </tr>\n",
       "  </tbody>\n",
       "</table>"
      ],
      "text/plain": [
       "<IPython.core.display.HTML object>"
      ]
     },
     "metadata": {},
     "output_type": "display_data"
    },
    {
     "data": {
      "text/html": [],
      "text/plain": [
       "<IPython.core.display.HTML object>"
      ]
     },
     "metadata": {},
     "output_type": "display_data"
    },
    {
     "name": "stdout",
     "output_type": "stream",
     "text": [
      "GW14 RMSE: 1.888086\n"
     ]
    },
    {
     "data": {
      "text/html": [
       "<table border=\"1\" class=\"dataframe\">\n",
       "  <thead>\n",
       "    <tr style=\"text-align: left;\">\n",
       "      <th>epoch</th>\n",
       "      <th>train_loss</th>\n",
       "      <th>valid_loss</th>\n",
       "      <th>_rmse</th>\n",
       "      <th>time</th>\n",
       "    </tr>\n",
       "  </thead>\n",
       "  <tbody>\n",
       "    <tr>\n",
       "      <td>0</td>\n",
       "      <td>4.765471</td>\n",
       "      <td>3.994291</td>\n",
       "      <td>1.998572</td>\n",
       "      <td>00:15</td>\n",
       "    </tr>\n",
       "    <tr>\n",
       "      <td>1</td>\n",
       "      <td>3.425007</td>\n",
       "      <td>3.523594</td>\n",
       "      <td>1.877124</td>\n",
       "      <td>00:15</td>\n",
       "    </tr>\n",
       "    <tr>\n",
       "      <td>2</td>\n",
       "      <td>3.713520</td>\n",
       "      <td>3.528669</td>\n",
       "      <td>1.878475</td>\n",
       "      <td>00:15</td>\n",
       "    </tr>\n",
       "    <tr>\n",
       "      <td>3</td>\n",
       "      <td>3.746975</td>\n",
       "      <td>3.368717</td>\n",
       "      <td>1.835407</td>\n",
       "      <td>00:15</td>\n",
       "    </tr>\n",
       "    <tr>\n",
       "      <td>4</td>\n",
       "      <td>3.693465</td>\n",
       "      <td>3.416466</td>\n",
       "      <td>1.848369</td>\n",
       "      <td>00:15</td>\n",
       "    </tr>\n",
       "    <tr>\n",
       "      <td>5</td>\n",
       "      <td>3.248689</td>\n",
       "      <td>3.294901</td>\n",
       "      <td>1.815186</td>\n",
       "      <td>00:15</td>\n",
       "    </tr>\n",
       "    <tr>\n",
       "      <td>6</td>\n",
       "      <td>3.243245</td>\n",
       "      <td>3.316695</td>\n",
       "      <td>1.821179</td>\n",
       "      <td>00:15</td>\n",
       "    </tr>\n",
       "  </tbody>\n",
       "</table>"
      ],
      "text/plain": [
       "<IPython.core.display.HTML object>"
      ]
     },
     "metadata": {},
     "output_type": "display_data"
    },
    {
     "data": {
      "text/html": [],
      "text/plain": [
       "<IPython.core.display.HTML object>"
      ]
     },
     "metadata": {},
     "output_type": "display_data"
    },
    {
     "name": "stdout",
     "output_type": "stream",
     "text": [
      "GW15 RMSE: 1.821179\n"
     ]
    },
    {
     "data": {
      "text/html": [
       "<table border=\"1\" class=\"dataframe\">\n",
       "  <thead>\n",
       "    <tr style=\"text-align: left;\">\n",
       "      <th>epoch</th>\n",
       "      <th>train_loss</th>\n",
       "      <th>valid_loss</th>\n",
       "      <th>_rmse</th>\n",
       "      <th>time</th>\n",
       "    </tr>\n",
       "  </thead>\n",
       "  <tbody>\n",
       "    <tr>\n",
       "      <td>0</td>\n",
       "      <td>4.360810</td>\n",
       "      <td>4.145474</td>\n",
       "      <td>2.036044</td>\n",
       "      <td>00:16</td>\n",
       "    </tr>\n",
       "    <tr>\n",
       "      <td>1</td>\n",
       "      <td>3.882447</td>\n",
       "      <td>3.551369</td>\n",
       "      <td>1.884507</td>\n",
       "      <td>00:15</td>\n",
       "    </tr>\n",
       "    <tr>\n",
       "      <td>2</td>\n",
       "      <td>3.771545</td>\n",
       "      <td>3.413226</td>\n",
       "      <td>1.847492</td>\n",
       "      <td>00:16</td>\n",
       "    </tr>\n",
       "    <tr>\n",
       "      <td>3</td>\n",
       "      <td>3.308179</td>\n",
       "      <td>3.444523</td>\n",
       "      <td>1.855942</td>\n",
       "      <td>00:16</td>\n",
       "    </tr>\n",
       "    <tr>\n",
       "      <td>4</td>\n",
       "      <td>3.261040</td>\n",
       "      <td>3.417044</td>\n",
       "      <td>1.848525</td>\n",
       "      <td>00:15</td>\n",
       "    </tr>\n",
       "    <tr>\n",
       "      <td>5</td>\n",
       "      <td>3.226461</td>\n",
       "      <td>3.404685</td>\n",
       "      <td>1.845179</td>\n",
       "      <td>00:15</td>\n",
       "    </tr>\n",
       "    <tr>\n",
       "      <td>6</td>\n",
       "      <td>3.029284</td>\n",
       "      <td>3.382008</td>\n",
       "      <td>1.839024</td>\n",
       "      <td>00:15</td>\n",
       "    </tr>\n",
       "  </tbody>\n",
       "</table>"
      ],
      "text/plain": [
       "<IPython.core.display.HTML object>"
      ]
     },
     "metadata": {},
     "output_type": "display_data"
    },
    {
     "data": {
      "text/html": [],
      "text/plain": [
       "<IPython.core.display.HTML object>"
      ]
     },
     "metadata": {},
     "output_type": "display_data"
    },
    {
     "name": "stdout",
     "output_type": "stream",
     "text": [
      "GW16 RMSE: 1.839024\n"
     ]
    },
    {
     "data": {
      "text/html": [
       "<table border=\"1\" class=\"dataframe\">\n",
       "  <thead>\n",
       "    <tr style=\"text-align: left;\">\n",
       "      <th>epoch</th>\n",
       "      <th>train_loss</th>\n",
       "      <th>valid_loss</th>\n",
       "      <th>_rmse</th>\n",
       "      <th>time</th>\n",
       "    </tr>\n",
       "  </thead>\n",
       "  <tbody>\n",
       "    <tr>\n",
       "      <td>0</td>\n",
       "      <td>4.360347</td>\n",
       "      <td>4.009480</td>\n",
       "      <td>2.002369</td>\n",
       "      <td>00:16</td>\n",
       "    </tr>\n",
       "    <tr>\n",
       "      <td>1</td>\n",
       "      <td>3.736099</td>\n",
       "      <td>3.671840</td>\n",
       "      <td>1.916205</td>\n",
       "      <td>00:16</td>\n",
       "    </tr>\n",
       "    <tr>\n",
       "      <td>2</td>\n",
       "      <td>3.717471</td>\n",
       "      <td>3.748733</td>\n",
       "      <td>1.936165</td>\n",
       "      <td>00:16</td>\n",
       "    </tr>\n",
       "    <tr>\n",
       "      <td>3</td>\n",
       "      <td>3.477133</td>\n",
       "      <td>3.350311</td>\n",
       "      <td>1.830385</td>\n",
       "      <td>00:15</td>\n",
       "    </tr>\n",
       "    <tr>\n",
       "      <td>4</td>\n",
       "      <td>3.313524</td>\n",
       "      <td>3.308980</td>\n",
       "      <td>1.819060</td>\n",
       "      <td>00:16</td>\n",
       "    </tr>\n",
       "    <tr>\n",
       "      <td>5</td>\n",
       "      <td>3.330945</td>\n",
       "      <td>3.305427</td>\n",
       "      <td>1.818083</td>\n",
       "      <td>00:16</td>\n",
       "    </tr>\n",
       "    <tr>\n",
       "      <td>6</td>\n",
       "      <td>3.347841</td>\n",
       "      <td>3.310063</td>\n",
       "      <td>1.819358</td>\n",
       "      <td>00:16</td>\n",
       "    </tr>\n",
       "  </tbody>\n",
       "</table>"
      ],
      "text/plain": [
       "<IPython.core.display.HTML object>"
      ]
     },
     "metadata": {},
     "output_type": "display_data"
    },
    {
     "data": {
      "text/html": [],
      "text/plain": [
       "<IPython.core.display.HTML object>"
      ]
     },
     "metadata": {},
     "output_type": "display_data"
    },
    {
     "name": "stdout",
     "output_type": "stream",
     "text": [
      "GW17 RMSE: 1.819358\n"
     ]
    },
    {
     "data": {
      "text/html": [
       "<table border=\"1\" class=\"dataframe\">\n",
       "  <thead>\n",
       "    <tr style=\"text-align: left;\">\n",
       "      <th>epoch</th>\n",
       "      <th>train_loss</th>\n",
       "      <th>valid_loss</th>\n",
       "      <th>_rmse</th>\n",
       "      <th>time</th>\n",
       "    </tr>\n",
       "  </thead>\n",
       "  <tbody>\n",
       "    <tr>\n",
       "      <td>0</td>\n",
       "      <td>4.733738</td>\n",
       "      <td>4.262000</td>\n",
       "      <td>2.064461</td>\n",
       "      <td>00:16</td>\n",
       "    </tr>\n",
       "    <tr>\n",
       "      <td>1</td>\n",
       "      <td>4.065376</td>\n",
       "      <td>3.450557</td>\n",
       "      <td>1.857567</td>\n",
       "      <td>00:16</td>\n",
       "    </tr>\n",
       "    <tr>\n",
       "      <td>2</td>\n",
       "      <td>3.544220</td>\n",
       "      <td>3.750643</td>\n",
       "      <td>1.936657</td>\n",
       "      <td>00:16</td>\n",
       "    </tr>\n",
       "    <tr>\n",
       "      <td>3</td>\n",
       "      <td>3.347028</td>\n",
       "      <td>3.277728</td>\n",
       "      <td>1.810450</td>\n",
       "      <td>00:16</td>\n",
       "    </tr>\n",
       "    <tr>\n",
       "      <td>4</td>\n",
       "      <td>3.636961</td>\n",
       "      <td>3.372795</td>\n",
       "      <td>1.836517</td>\n",
       "      <td>00:16</td>\n",
       "    </tr>\n",
       "    <tr>\n",
       "      <td>5</td>\n",
       "      <td>3.260601</td>\n",
       "      <td>3.246614</td>\n",
       "      <td>1.801836</td>\n",
       "      <td>00:16</td>\n",
       "    </tr>\n",
       "    <tr>\n",
       "      <td>6</td>\n",
       "      <td>3.307010</td>\n",
       "      <td>3.276836</td>\n",
       "      <td>1.810203</td>\n",
       "      <td>00:16</td>\n",
       "    </tr>\n",
       "  </tbody>\n",
       "</table>"
      ],
      "text/plain": [
       "<IPython.core.display.HTML object>"
      ]
     },
     "metadata": {},
     "output_type": "display_data"
    },
    {
     "data": {
      "text/html": [],
      "text/plain": [
       "<IPython.core.display.HTML object>"
      ]
     },
     "metadata": {},
     "output_type": "display_data"
    },
    {
     "name": "stdout",
     "output_type": "stream",
     "text": [
      "GW18 RMSE: 1.810203\n"
     ]
    },
    {
     "data": {
      "text/html": [
       "<table border=\"1\" class=\"dataframe\">\n",
       "  <thead>\n",
       "    <tr style=\"text-align: left;\">\n",
       "      <th>epoch</th>\n",
       "      <th>train_loss</th>\n",
       "      <th>valid_loss</th>\n",
       "      <th>_rmse</th>\n",
       "      <th>time</th>\n",
       "    </tr>\n",
       "  </thead>\n",
       "  <tbody>\n",
       "    <tr>\n",
       "      <td>0</td>\n",
       "      <td>4.434602</td>\n",
       "      <td>4.586424</td>\n",
       "      <td>2.141594</td>\n",
       "      <td>00:16</td>\n",
       "    </tr>\n",
       "    <tr>\n",
       "      <td>1</td>\n",
       "      <td>3.577831</td>\n",
       "      <td>3.878824</td>\n",
       "      <td>1.969473</td>\n",
       "      <td>00:16</td>\n",
       "    </tr>\n",
       "    <tr>\n",
       "      <td>2</td>\n",
       "      <td>3.627188</td>\n",
       "      <td>3.391794</td>\n",
       "      <td>1.841682</td>\n",
       "      <td>00:16</td>\n",
       "    </tr>\n",
       "    <tr>\n",
       "      <td>3</td>\n",
       "      <td>3.956009</td>\n",
       "      <td>3.394122</td>\n",
       "      <td>1.842314</td>\n",
       "      <td>00:16</td>\n",
       "    </tr>\n",
       "    <tr>\n",
       "      <td>4</td>\n",
       "      <td>3.638274</td>\n",
       "      <td>3.337515</td>\n",
       "      <td>1.826887</td>\n",
       "      <td>00:16</td>\n",
       "    </tr>\n",
       "    <tr>\n",
       "      <td>5</td>\n",
       "      <td>3.403089</td>\n",
       "      <td>3.260332</td>\n",
       "      <td>1.805639</td>\n",
       "      <td>00:16</td>\n",
       "    </tr>\n",
       "    <tr>\n",
       "      <td>6</td>\n",
       "      <td>3.228034</td>\n",
       "      <td>3.249452</td>\n",
       "      <td>1.802624</td>\n",
       "      <td>00:16</td>\n",
       "    </tr>\n",
       "  </tbody>\n",
       "</table>"
      ],
      "text/plain": [
       "<IPython.core.display.HTML object>"
      ]
     },
     "metadata": {},
     "output_type": "display_data"
    },
    {
     "data": {
      "text/html": [],
      "text/plain": [
       "<IPython.core.display.HTML object>"
      ]
     },
     "metadata": {},
     "output_type": "display_data"
    },
    {
     "name": "stdout",
     "output_type": "stream",
     "text": [
      "GW19 RMSE: 1.802624\n"
     ]
    },
    {
     "data": {
      "text/html": [
       "<table border=\"1\" class=\"dataframe\">\n",
       "  <thead>\n",
       "    <tr style=\"text-align: left;\">\n",
       "      <th>epoch</th>\n",
       "      <th>train_loss</th>\n",
       "      <th>valid_loss</th>\n",
       "      <th>_rmse</th>\n",
       "      <th>time</th>\n",
       "    </tr>\n",
       "  </thead>\n",
       "  <tbody>\n",
       "    <tr>\n",
       "      <td>0</td>\n",
       "      <td>4.268923</td>\n",
       "      <td>4.407372</td>\n",
       "      <td>2.099375</td>\n",
       "      <td>00:15</td>\n",
       "    </tr>\n",
       "    <tr>\n",
       "      <td>1</td>\n",
       "      <td>3.620832</td>\n",
       "      <td>3.393808</td>\n",
       "      <td>1.842229</td>\n",
       "      <td>00:15</td>\n",
       "    </tr>\n",
       "    <tr>\n",
       "      <td>2</td>\n",
       "      <td>3.828731</td>\n",
       "      <td>3.449401</td>\n",
       "      <td>1.857256</td>\n",
       "      <td>00:15</td>\n",
       "    </tr>\n",
       "    <tr>\n",
       "      <td>3</td>\n",
       "      <td>3.746972</td>\n",
       "      <td>3.322394</td>\n",
       "      <td>1.822743</td>\n",
       "      <td>00:16</td>\n",
       "    </tr>\n",
       "    <tr>\n",
       "      <td>4</td>\n",
       "      <td>3.448337</td>\n",
       "      <td>3.296066</td>\n",
       "      <td>1.815507</td>\n",
       "      <td>00:16</td>\n",
       "    </tr>\n",
       "    <tr>\n",
       "      <td>5</td>\n",
       "      <td>3.602534</td>\n",
       "      <td>3.254722</td>\n",
       "      <td>1.804085</td>\n",
       "      <td>00:15</td>\n",
       "    </tr>\n",
       "    <tr>\n",
       "      <td>6</td>\n",
       "      <td>3.335333</td>\n",
       "      <td>3.251924</td>\n",
       "      <td>1.803309</td>\n",
       "      <td>00:16</td>\n",
       "    </tr>\n",
       "  </tbody>\n",
       "</table>"
      ],
      "text/plain": [
       "<IPython.core.display.HTML object>"
      ]
     },
     "metadata": {},
     "output_type": "display_data"
    },
    {
     "data": {
      "text/html": [],
      "text/plain": [
       "<IPython.core.display.HTML object>"
      ]
     },
     "metadata": {},
     "output_type": "display_data"
    },
    {
     "name": "stdout",
     "output_type": "stream",
     "text": [
      "GW20 RMSE: 1.803309\n"
     ]
    },
    {
     "data": {
      "text/html": [
       "<table border=\"1\" class=\"dataframe\">\n",
       "  <thead>\n",
       "    <tr style=\"text-align: left;\">\n",
       "      <th>epoch</th>\n",
       "      <th>train_loss</th>\n",
       "      <th>valid_loss</th>\n",
       "      <th>_rmse</th>\n",
       "      <th>time</th>\n",
       "    </tr>\n",
       "  </thead>\n",
       "  <tbody>\n",
       "    <tr>\n",
       "      <td>0</td>\n",
       "      <td>4.496151</td>\n",
       "      <td>4.093732</td>\n",
       "      <td>2.023297</td>\n",
       "      <td>00:16</td>\n",
       "    </tr>\n",
       "    <tr>\n",
       "      <td>1</td>\n",
       "      <td>3.503132</td>\n",
       "      <td>3.516291</td>\n",
       "      <td>1.875178</td>\n",
       "      <td>00:16</td>\n",
       "    </tr>\n",
       "    <tr>\n",
       "      <td>2</td>\n",
       "      <td>3.684103</td>\n",
       "      <td>3.569721</td>\n",
       "      <td>1.889371</td>\n",
       "      <td>00:16</td>\n",
       "    </tr>\n",
       "    <tr>\n",
       "      <td>3</td>\n",
       "      <td>3.739830</td>\n",
       "      <td>3.629031</td>\n",
       "      <td>1.905001</td>\n",
       "      <td>00:16</td>\n",
       "    </tr>\n",
       "    <tr>\n",
       "      <td>4</td>\n",
       "      <td>3.345412</td>\n",
       "      <td>3.387688</td>\n",
       "      <td>1.840567</td>\n",
       "      <td>00:16</td>\n",
       "    </tr>\n",
       "    <tr>\n",
       "      <td>5</td>\n",
       "      <td>3.586452</td>\n",
       "      <td>3.374814</td>\n",
       "      <td>1.837067</td>\n",
       "      <td>00:16</td>\n",
       "    </tr>\n",
       "    <tr>\n",
       "      <td>6</td>\n",
       "      <td>3.241435</td>\n",
       "      <td>3.380367</td>\n",
       "      <td>1.838577</td>\n",
       "      <td>00:16</td>\n",
       "    </tr>\n",
       "  </tbody>\n",
       "</table>"
      ],
      "text/plain": [
       "<IPython.core.display.HTML object>"
      ]
     },
     "metadata": {},
     "output_type": "display_data"
    },
    {
     "data": {
      "text/html": [],
      "text/plain": [
       "<IPython.core.display.HTML object>"
      ]
     },
     "metadata": {},
     "output_type": "display_data"
    },
    {
     "name": "stdout",
     "output_type": "stream",
     "text": [
      "GW21 RMSE: 1.838577\n"
     ]
    },
    {
     "data": {
      "text/html": [
       "<table border=\"1\" class=\"dataframe\">\n",
       "  <thead>\n",
       "    <tr style=\"text-align: left;\">\n",
       "      <th>epoch</th>\n",
       "      <th>train_loss</th>\n",
       "      <th>valid_loss</th>\n",
       "      <th>_rmse</th>\n",
       "      <th>time</th>\n",
       "    </tr>\n",
       "  </thead>\n",
       "  <tbody>\n",
       "    <tr>\n",
       "      <td>0</td>\n",
       "      <td>4.633378</td>\n",
       "      <td>4.489448</td>\n",
       "      <td>2.118831</td>\n",
       "      <td>00:16</td>\n",
       "    </tr>\n",
       "    <tr>\n",
       "      <td>1</td>\n",
       "      <td>4.098565</td>\n",
       "      <td>4.310953</td>\n",
       "      <td>2.076284</td>\n",
       "      <td>00:16</td>\n",
       "    </tr>\n",
       "    <tr>\n",
       "      <td>2</td>\n",
       "      <td>3.817204</td>\n",
       "      <td>3.423748</td>\n",
       "      <td>1.850337</td>\n",
       "      <td>00:16</td>\n",
       "    </tr>\n",
       "    <tr>\n",
       "      <td>3</td>\n",
       "      <td>3.560246</td>\n",
       "      <td>3.388249</td>\n",
       "      <td>1.840720</td>\n",
       "      <td>00:16</td>\n",
       "    </tr>\n",
       "    <tr>\n",
       "      <td>4</td>\n",
       "      <td>3.513434</td>\n",
       "      <td>3.338905</td>\n",
       "      <td>1.827267</td>\n",
       "      <td>00:16</td>\n",
       "    </tr>\n",
       "    <tr>\n",
       "      <td>5</td>\n",
       "      <td>3.534752</td>\n",
       "      <td>3.274557</td>\n",
       "      <td>1.809574</td>\n",
       "      <td>00:16</td>\n",
       "    </tr>\n",
       "    <tr>\n",
       "      <td>6</td>\n",
       "      <td>2.961794</td>\n",
       "      <td>3.268569</td>\n",
       "      <td>1.807919</td>\n",
       "      <td>00:16</td>\n",
       "    </tr>\n",
       "  </tbody>\n",
       "</table>"
      ],
      "text/plain": [
       "<IPython.core.display.HTML object>"
      ]
     },
     "metadata": {},
     "output_type": "display_data"
    },
    {
     "data": {
      "text/html": [],
      "text/plain": [
       "<IPython.core.display.HTML object>"
      ]
     },
     "metadata": {},
     "output_type": "display_data"
    },
    {
     "name": "stdout",
     "output_type": "stream",
     "text": [
      "GW22 RMSE: 1.807919\n"
     ]
    },
    {
     "data": {
      "text/html": [
       "<table border=\"1\" class=\"dataframe\">\n",
       "  <thead>\n",
       "    <tr style=\"text-align: left;\">\n",
       "      <th>epoch</th>\n",
       "      <th>train_loss</th>\n",
       "      <th>valid_loss</th>\n",
       "      <th>_rmse</th>\n",
       "      <th>time</th>\n",
       "    </tr>\n",
       "  </thead>\n",
       "  <tbody>\n",
       "    <tr>\n",
       "      <td>0</td>\n",
       "      <td>4.605183</td>\n",
       "      <td>4.601461</td>\n",
       "      <td>2.145102</td>\n",
       "      <td>00:16</td>\n",
       "    </tr>\n",
       "    <tr>\n",
       "      <td>1</td>\n",
       "      <td>3.654315</td>\n",
       "      <td>4.126451</td>\n",
       "      <td>2.031367</td>\n",
       "      <td>00:16</td>\n",
       "    </tr>\n",
       "    <tr>\n",
       "      <td>2</td>\n",
       "      <td>3.646238</td>\n",
       "      <td>3.440639</td>\n",
       "      <td>1.854896</td>\n",
       "      <td>00:16</td>\n",
       "    </tr>\n",
       "    <tr>\n",
       "      <td>3</td>\n",
       "      <td>3.341960</td>\n",
       "      <td>3.583042</td>\n",
       "      <td>1.892892</td>\n",
       "      <td>00:16</td>\n",
       "    </tr>\n",
       "    <tr>\n",
       "      <td>4</td>\n",
       "      <td>3.497173</td>\n",
       "      <td>3.476377</td>\n",
       "      <td>1.864505</td>\n",
       "      <td>00:16</td>\n",
       "    </tr>\n",
       "    <tr>\n",
       "      <td>5</td>\n",
       "      <td>3.164144</td>\n",
       "      <td>3.415246</td>\n",
       "      <td>1.848039</td>\n",
       "      <td>00:16</td>\n",
       "    </tr>\n",
       "    <tr>\n",
       "      <td>6</td>\n",
       "      <td>3.216530</td>\n",
       "      <td>3.392501</td>\n",
       "      <td>1.841874</td>\n",
       "      <td>00:16</td>\n",
       "    </tr>\n",
       "  </tbody>\n",
       "</table>"
      ],
      "text/plain": [
       "<IPython.core.display.HTML object>"
      ]
     },
     "metadata": {},
     "output_type": "display_data"
    },
    {
     "data": {
      "text/html": [],
      "text/plain": [
       "<IPython.core.display.HTML object>"
      ]
     },
     "metadata": {},
     "output_type": "display_data"
    },
    {
     "name": "stdout",
     "output_type": "stream",
     "text": [
      "GW23 RMSE: 1.841874\n"
     ]
    },
    {
     "data": {
      "text/html": [
       "<table border=\"1\" class=\"dataframe\">\n",
       "  <thead>\n",
       "    <tr style=\"text-align: left;\">\n",
       "      <th>epoch</th>\n",
       "      <th>train_loss</th>\n",
       "      <th>valid_loss</th>\n",
       "      <th>_rmse</th>\n",
       "      <th>time</th>\n",
       "    </tr>\n",
       "  </thead>\n",
       "  <tbody>\n",
       "    <tr>\n",
       "      <td>0</td>\n",
       "      <td>4.657389</td>\n",
       "      <td>4.273294</td>\n",
       "      <td>2.067195</td>\n",
       "      <td>00:16</td>\n",
       "    </tr>\n",
       "    <tr>\n",
       "      <td>1</td>\n",
       "      <td>3.546503</td>\n",
       "      <td>3.489932</td>\n",
       "      <td>1.868136</td>\n",
       "      <td>00:16</td>\n",
       "    </tr>\n",
       "    <tr>\n",
       "      <td>2</td>\n",
       "      <td>3.550026</td>\n",
       "      <td>3.720711</td>\n",
       "      <td>1.928914</td>\n",
       "      <td>00:16</td>\n",
       "    </tr>\n",
       "    <tr>\n",
       "      <td>3</td>\n",
       "      <td>3.266376</td>\n",
       "      <td>3.822926</td>\n",
       "      <td>1.955230</td>\n",
       "      <td>00:16</td>\n",
       "    </tr>\n",
       "    <tr>\n",
       "      <td>4</td>\n",
       "      <td>3.402722</td>\n",
       "      <td>3.381066</td>\n",
       "      <td>1.838767</td>\n",
       "      <td>00:16</td>\n",
       "    </tr>\n",
       "    <tr>\n",
       "      <td>5</td>\n",
       "      <td>3.197695</td>\n",
       "      <td>3.350285</td>\n",
       "      <td>1.830378</td>\n",
       "      <td>00:16</td>\n",
       "    </tr>\n",
       "    <tr>\n",
       "      <td>6</td>\n",
       "      <td>3.207690</td>\n",
       "      <td>3.431696</td>\n",
       "      <td>1.852484</td>\n",
       "      <td>00:17</td>\n",
       "    </tr>\n",
       "  </tbody>\n",
       "</table>"
      ],
      "text/plain": [
       "<IPython.core.display.HTML object>"
      ]
     },
     "metadata": {},
     "output_type": "display_data"
    },
    {
     "data": {
      "text/html": [],
      "text/plain": [
       "<IPython.core.display.HTML object>"
      ]
     },
     "metadata": {},
     "output_type": "display_data"
    },
    {
     "name": "stdout",
     "output_type": "stream",
     "text": [
      "GW24 RMSE: 1.852484\n"
     ]
    },
    {
     "data": {
      "text/html": [
       "<table border=\"1\" class=\"dataframe\">\n",
       "  <thead>\n",
       "    <tr style=\"text-align: left;\">\n",
       "      <th>epoch</th>\n",
       "      <th>train_loss</th>\n",
       "      <th>valid_loss</th>\n",
       "      <th>_rmse</th>\n",
       "      <th>time</th>\n",
       "    </tr>\n",
       "  </thead>\n",
       "  <tbody>\n",
       "    <tr>\n",
       "      <td>0</td>\n",
       "      <td>4.321330</td>\n",
       "      <td>3.710476</td>\n",
       "      <td>1.926260</td>\n",
       "      <td>00:17</td>\n",
       "    </tr>\n",
       "    <tr>\n",
       "      <td>1</td>\n",
       "      <td>3.722853</td>\n",
       "      <td>3.655656</td>\n",
       "      <td>1.911977</td>\n",
       "      <td>00:17</td>\n",
       "    </tr>\n",
       "    <tr>\n",
       "      <td>2</td>\n",
       "      <td>3.823508</td>\n",
       "      <td>3.517634</td>\n",
       "      <td>1.875536</td>\n",
       "      <td>00:16</td>\n",
       "    </tr>\n",
       "    <tr>\n",
       "      <td>3</td>\n",
       "      <td>3.526166</td>\n",
       "      <td>3.680806</td>\n",
       "      <td>1.918543</td>\n",
       "      <td>00:17</td>\n",
       "    </tr>\n",
       "    <tr>\n",
       "      <td>4</td>\n",
       "      <td>3.566289</td>\n",
       "      <td>3.441049</td>\n",
       "      <td>1.855006</td>\n",
       "      <td>00:17</td>\n",
       "    </tr>\n",
       "    <tr>\n",
       "      <td>5</td>\n",
       "      <td>3.327420</td>\n",
       "      <td>3.345417</td>\n",
       "      <td>1.829048</td>\n",
       "      <td>00:16</td>\n",
       "    </tr>\n",
       "    <tr>\n",
       "      <td>6</td>\n",
       "      <td>3.181458</td>\n",
       "      <td>3.396100</td>\n",
       "      <td>1.842851</td>\n",
       "      <td>00:17</td>\n",
       "    </tr>\n",
       "  </tbody>\n",
       "</table>"
      ],
      "text/plain": [
       "<IPython.core.display.HTML object>"
      ]
     },
     "metadata": {},
     "output_type": "display_data"
    },
    {
     "data": {
      "text/html": [],
      "text/plain": [
       "<IPython.core.display.HTML object>"
      ]
     },
     "metadata": {},
     "output_type": "display_data"
    },
    {
     "name": "stdout",
     "output_type": "stream",
     "text": [
      "GW25 RMSE: 1.842851\n"
     ]
    },
    {
     "data": {
      "text/html": [
       "<table border=\"1\" class=\"dataframe\">\n",
       "  <thead>\n",
       "    <tr style=\"text-align: left;\">\n",
       "      <th>epoch</th>\n",
       "      <th>train_loss</th>\n",
       "      <th>valid_loss</th>\n",
       "      <th>_rmse</th>\n",
       "      <th>time</th>\n",
       "    </tr>\n",
       "  </thead>\n",
       "  <tbody>\n",
       "    <tr>\n",
       "      <td>0</td>\n",
       "      <td>4.899784</td>\n",
       "      <td>4.026147</td>\n",
       "      <td>2.006526</td>\n",
       "      <td>00:17</td>\n",
       "    </tr>\n",
       "    <tr>\n",
       "      <td>1</td>\n",
       "      <td>3.718155</td>\n",
       "      <td>3.533557</td>\n",
       "      <td>1.879776</td>\n",
       "      <td>00:17</td>\n",
       "    </tr>\n",
       "    <tr>\n",
       "      <td>2</td>\n",
       "      <td>3.541857</td>\n",
       "      <td>3.359174</td>\n",
       "      <td>1.832805</td>\n",
       "      <td>00:17</td>\n",
       "    </tr>\n",
       "    <tr>\n",
       "      <td>3</td>\n",
       "      <td>3.585105</td>\n",
       "      <td>3.322653</td>\n",
       "      <td>1.822814</td>\n",
       "      <td>00:17</td>\n",
       "    </tr>\n",
       "    <tr>\n",
       "      <td>4</td>\n",
       "      <td>3.730359</td>\n",
       "      <td>3.290943</td>\n",
       "      <td>1.814096</td>\n",
       "      <td>00:17</td>\n",
       "    </tr>\n",
       "    <tr>\n",
       "      <td>5</td>\n",
       "      <td>3.567374</td>\n",
       "      <td>3.209522</td>\n",
       "      <td>1.791514</td>\n",
       "      <td>00:17</td>\n",
       "    </tr>\n",
       "    <tr>\n",
       "      <td>6</td>\n",
       "      <td>3.104742</td>\n",
       "      <td>3.220982</td>\n",
       "      <td>1.794709</td>\n",
       "      <td>00:17</td>\n",
       "    </tr>\n",
       "  </tbody>\n",
       "</table>"
      ],
      "text/plain": [
       "<IPython.core.display.HTML object>"
      ]
     },
     "metadata": {},
     "output_type": "display_data"
    },
    {
     "data": {
      "text/html": [],
      "text/plain": [
       "<IPython.core.display.HTML object>"
      ]
     },
     "metadata": {},
     "output_type": "display_data"
    },
    {
     "name": "stdout",
     "output_type": "stream",
     "text": [
      "GW26 RMSE: 1.794709\n"
     ]
    },
    {
     "data": {
      "text/html": [
       "<table border=\"1\" class=\"dataframe\">\n",
       "  <thead>\n",
       "    <tr style=\"text-align: left;\">\n",
       "      <th>epoch</th>\n",
       "      <th>train_loss</th>\n",
       "      <th>valid_loss</th>\n",
       "      <th>_rmse</th>\n",
       "      <th>time</th>\n",
       "    </tr>\n",
       "  </thead>\n",
       "  <tbody>\n",
       "    <tr>\n",
       "      <td>0</td>\n",
       "      <td>4.459151</td>\n",
       "      <td>3.872878</td>\n",
       "      <td>1.967963</td>\n",
       "      <td>00:17</td>\n",
       "    </tr>\n",
       "    <tr>\n",
       "      <td>1</td>\n",
       "      <td>3.708476</td>\n",
       "      <td>3.801082</td>\n",
       "      <td>1.949636</td>\n",
       "      <td>00:17</td>\n",
       "    </tr>\n",
       "    <tr>\n",
       "      <td>2</td>\n",
       "      <td>3.508179</td>\n",
       "      <td>3.607635</td>\n",
       "      <td>1.899378</td>\n",
       "      <td>00:17</td>\n",
       "    </tr>\n",
       "    <tr>\n",
       "      <td>3</td>\n",
       "      <td>3.612942</td>\n",
       "      <td>3.960683</td>\n",
       "      <td>1.990146</td>\n",
       "      <td>00:17</td>\n",
       "    </tr>\n",
       "    <tr>\n",
       "      <td>4</td>\n",
       "      <td>3.291901</td>\n",
       "      <td>3.436973</td>\n",
       "      <td>1.853908</td>\n",
       "      <td>00:17</td>\n",
       "    </tr>\n",
       "    <tr>\n",
       "      <td>5</td>\n",
       "      <td>3.465011</td>\n",
       "      <td>3.348383</td>\n",
       "      <td>1.829859</td>\n",
       "      <td>00:17</td>\n",
       "    </tr>\n",
       "    <tr>\n",
       "      <td>6</td>\n",
       "      <td>3.014528</td>\n",
       "      <td>3.339792</td>\n",
       "      <td>1.827510</td>\n",
       "      <td>00:17</td>\n",
       "    </tr>\n",
       "  </tbody>\n",
       "</table>"
      ],
      "text/plain": [
       "<IPython.core.display.HTML object>"
      ]
     },
     "metadata": {},
     "output_type": "display_data"
    },
    {
     "data": {
      "text/html": [],
      "text/plain": [
       "<IPython.core.display.HTML object>"
      ]
     },
     "metadata": {},
     "output_type": "display_data"
    },
    {
     "name": "stdout",
     "output_type": "stream",
     "text": [
      "GW27 RMSE: 1.827510\n"
     ]
    },
    {
     "data": {
      "text/html": [
       "<table border=\"1\" class=\"dataframe\">\n",
       "  <thead>\n",
       "    <tr style=\"text-align: left;\">\n",
       "      <th>epoch</th>\n",
       "      <th>train_loss</th>\n",
       "      <th>valid_loss</th>\n",
       "      <th>_rmse</th>\n",
       "      <th>time</th>\n",
       "    </tr>\n",
       "  </thead>\n",
       "  <tbody>\n",
       "    <tr>\n",
       "      <td>0</td>\n",
       "      <td>4.387836</td>\n",
       "      <td>4.120857</td>\n",
       "      <td>2.029989</td>\n",
       "      <td>00:17</td>\n",
       "    </tr>\n",
       "    <tr>\n",
       "      <td>1</td>\n",
       "      <td>3.809313</td>\n",
       "      <td>3.483205</td>\n",
       "      <td>1.866335</td>\n",
       "      <td>00:17</td>\n",
       "    </tr>\n",
       "    <tr>\n",
       "      <td>2</td>\n",
       "      <td>11.825463</td>\n",
       "      <td>11.948398</td>\n",
       "      <td>3.456645</td>\n",
       "      <td>00:17</td>\n",
       "    </tr>\n",
       "    <tr>\n",
       "      <td>3</td>\n",
       "      <td>12.104541</td>\n",
       "      <td>11.948398</td>\n",
       "      <td>3.456645</td>\n",
       "      <td>00:17</td>\n",
       "    </tr>\n",
       "    <tr>\n",
       "      <td>4</td>\n",
       "      <td>12.321502</td>\n",
       "      <td>11.948398</td>\n",
       "      <td>3.456645</td>\n",
       "      <td>00:17</td>\n",
       "    </tr>\n",
       "    <tr>\n",
       "      <td>5</td>\n",
       "      <td>3.496428</td>\n",
       "      <td>3.397577</td>\n",
       "      <td>1.843252</td>\n",
       "      <td>00:17</td>\n",
       "    </tr>\n",
       "    <tr>\n",
       "      <td>6</td>\n",
       "      <td>3.225196</td>\n",
       "      <td>3.376643</td>\n",
       "      <td>1.837564</td>\n",
       "      <td>00:17</td>\n",
       "    </tr>\n",
       "  </tbody>\n",
       "</table>"
      ],
      "text/plain": [
       "<IPython.core.display.HTML object>"
      ]
     },
     "metadata": {},
     "output_type": "display_data"
    },
    {
     "data": {
      "text/html": [],
      "text/plain": [
       "<IPython.core.display.HTML object>"
      ]
     },
     "metadata": {},
     "output_type": "display_data"
    },
    {
     "name": "stdout",
     "output_type": "stream",
     "text": [
      "GW28 RMSE: 1.837564\n"
     ]
    },
    {
     "data": {
      "text/html": [
       "<table border=\"1\" class=\"dataframe\">\n",
       "  <thead>\n",
       "    <tr style=\"text-align: left;\">\n",
       "      <th>epoch</th>\n",
       "      <th>train_loss</th>\n",
       "      <th>valid_loss</th>\n",
       "      <th>_rmse</th>\n",
       "      <th>time</th>\n",
       "    </tr>\n",
       "  </thead>\n",
       "  <tbody>\n",
       "    <tr>\n",
       "      <td>0</td>\n",
       "      <td>4.491389</td>\n",
       "      <td>4.043862</td>\n",
       "      <td>2.010936</td>\n",
       "      <td>00:17</td>\n",
       "    </tr>\n",
       "    <tr>\n",
       "      <td>1</td>\n",
       "      <td>3.452032</td>\n",
       "      <td>3.320983</td>\n",
       "      <td>1.822357</td>\n",
       "      <td>00:17</td>\n",
       "    </tr>\n",
       "    <tr>\n",
       "      <td>2</td>\n",
       "      <td>3.730536</td>\n",
       "      <td>3.354996</td>\n",
       "      <td>1.831665</td>\n",
       "      <td>00:17</td>\n",
       "    </tr>\n",
       "    <tr>\n",
       "      <td>3</td>\n",
       "      <td>3.913672</td>\n",
       "      <td>3.474470</td>\n",
       "      <td>1.863993</td>\n",
       "      <td>00:17</td>\n",
       "    </tr>\n",
       "    <tr>\n",
       "      <td>4</td>\n",
       "      <td>3.426760</td>\n",
       "      <td>3.235974</td>\n",
       "      <td>1.798881</td>\n",
       "      <td>00:17</td>\n",
       "    </tr>\n",
       "    <tr>\n",
       "      <td>5</td>\n",
       "      <td>3.494566</td>\n",
       "      <td>3.161720</td>\n",
       "      <td>1.778122</td>\n",
       "      <td>00:17</td>\n",
       "    </tr>\n",
       "    <tr>\n",
       "      <td>6</td>\n",
       "      <td>3.657826</td>\n",
       "      <td>3.157244</td>\n",
       "      <td>1.776864</td>\n",
       "      <td>00:17</td>\n",
       "    </tr>\n",
       "  </tbody>\n",
       "</table>"
      ],
      "text/plain": [
       "<IPython.core.display.HTML object>"
      ]
     },
     "metadata": {},
     "output_type": "display_data"
    },
    {
     "data": {
      "text/html": [],
      "text/plain": [
       "<IPython.core.display.HTML object>"
      ]
     },
     "metadata": {},
     "output_type": "display_data"
    },
    {
     "name": "stdout",
     "output_type": "stream",
     "text": [
      "GW29 RMSE: 1.776864\n"
     ]
    },
    {
     "data": {
      "text/html": [
       "<table border=\"1\" class=\"dataframe\">\n",
       "  <thead>\n",
       "    <tr style=\"text-align: left;\">\n",
       "      <th>epoch</th>\n",
       "      <th>train_loss</th>\n",
       "      <th>valid_loss</th>\n",
       "      <th>_rmse</th>\n",
       "      <th>time</th>\n",
       "    </tr>\n",
       "  </thead>\n",
       "  <tbody>\n",
       "    <tr>\n",
       "      <td>0</td>\n",
       "      <td>4.703590</td>\n",
       "      <td>4.237162</td>\n",
       "      <td>2.058437</td>\n",
       "      <td>00:17</td>\n",
       "    </tr>\n",
       "    <tr>\n",
       "      <td>1</td>\n",
       "      <td>3.742566</td>\n",
       "      <td>3.543962</td>\n",
       "      <td>1.882542</td>\n",
       "      <td>00:17</td>\n",
       "    </tr>\n",
       "    <tr>\n",
       "      <td>2</td>\n",
       "      <td>3.392258</td>\n",
       "      <td>3.668355</td>\n",
       "      <td>1.915295</td>\n",
       "      <td>00:17</td>\n",
       "    </tr>\n",
       "    <tr>\n",
       "      <td>3</td>\n",
       "      <td>3.631624</td>\n",
       "      <td>3.513953</td>\n",
       "      <td>1.874554</td>\n",
       "      <td>00:17</td>\n",
       "    </tr>\n",
       "    <tr>\n",
       "      <td>4</td>\n",
       "      <td>3.479383</td>\n",
       "      <td>3.435422</td>\n",
       "      <td>1.853489</td>\n",
       "      <td>00:17</td>\n",
       "    </tr>\n",
       "    <tr>\n",
       "      <td>5</td>\n",
       "      <td>3.677522</td>\n",
       "      <td>3.409926</td>\n",
       "      <td>1.846598</td>\n",
       "      <td>00:17</td>\n",
       "    </tr>\n",
       "    <tr>\n",
       "      <td>6</td>\n",
       "      <td>3.078892</td>\n",
       "      <td>3.397426</td>\n",
       "      <td>1.843211</td>\n",
       "      <td>00:17</td>\n",
       "    </tr>\n",
       "  </tbody>\n",
       "</table>"
      ],
      "text/plain": [
       "<IPython.core.display.HTML object>"
      ]
     },
     "metadata": {},
     "output_type": "display_data"
    },
    {
     "data": {
      "text/html": [],
      "text/plain": [
       "<IPython.core.display.HTML object>"
      ]
     },
     "metadata": {},
     "output_type": "display_data"
    },
    {
     "name": "stdout",
     "output_type": "stream",
     "text": [
      "GW30 RMSE: 1.843211\n"
     ]
    },
    {
     "data": {
      "text/html": [
       "<table border=\"1\" class=\"dataframe\">\n",
       "  <thead>\n",
       "    <tr style=\"text-align: left;\">\n",
       "      <th>epoch</th>\n",
       "      <th>train_loss</th>\n",
       "      <th>valid_loss</th>\n",
       "      <th>_rmse</th>\n",
       "      <th>time</th>\n",
       "    </tr>\n",
       "  </thead>\n",
       "  <tbody>\n",
       "    <tr>\n",
       "      <td>0</td>\n",
       "      <td>4.473289</td>\n",
       "      <td>4.070945</td>\n",
       "      <td>2.017658</td>\n",
       "      <td>00:18</td>\n",
       "    </tr>\n",
       "    <tr>\n",
       "      <td>1</td>\n",
       "      <td>3.577685</td>\n",
       "      <td>3.360919</td>\n",
       "      <td>1.833281</td>\n",
       "      <td>00:17</td>\n",
       "    </tr>\n",
       "    <tr>\n",
       "      <td>2</td>\n",
       "      <td>3.436943</td>\n",
       "      <td>3.432874</td>\n",
       "      <td>1.852802</td>\n",
       "      <td>00:17</td>\n",
       "    </tr>\n",
       "    <tr>\n",
       "      <td>3</td>\n",
       "      <td>3.538899</td>\n",
       "      <td>3.338412</td>\n",
       "      <td>1.827132</td>\n",
       "      <td>00:18</td>\n",
       "    </tr>\n",
       "    <tr>\n",
       "      <td>4</td>\n",
       "      <td>3.273083</td>\n",
       "      <td>3.305187</td>\n",
       "      <td>1.818017</td>\n",
       "      <td>00:17</td>\n",
       "    </tr>\n",
       "    <tr>\n",
       "      <td>5</td>\n",
       "      <td>3.210530</td>\n",
       "      <td>3.150574</td>\n",
       "      <td>1.774986</td>\n",
       "      <td>00:17</td>\n",
       "    </tr>\n",
       "    <tr>\n",
       "      <td>6</td>\n",
       "      <td>3.227278</td>\n",
       "      <td>3.132473</td>\n",
       "      <td>1.769879</td>\n",
       "      <td>00:17</td>\n",
       "    </tr>\n",
       "  </tbody>\n",
       "</table>"
      ],
      "text/plain": [
       "<IPython.core.display.HTML object>"
      ]
     },
     "metadata": {},
     "output_type": "display_data"
    },
    {
     "data": {
      "text/html": [],
      "text/plain": [
       "<IPython.core.display.HTML object>"
      ]
     },
     "metadata": {},
     "output_type": "display_data"
    },
    {
     "name": "stdout",
     "output_type": "stream",
     "text": [
      "GW31 RMSE: 1.769879\n"
     ]
    },
    {
     "data": {
      "text/html": [
       "<table border=\"1\" class=\"dataframe\">\n",
       "  <thead>\n",
       "    <tr style=\"text-align: left;\">\n",
       "      <th>epoch</th>\n",
       "      <th>train_loss</th>\n",
       "      <th>valid_loss</th>\n",
       "      <th>_rmse</th>\n",
       "      <th>time</th>\n",
       "    </tr>\n",
       "  </thead>\n",
       "  <tbody>\n",
       "    <tr>\n",
       "      <td>0</td>\n",
       "      <td>4.359827</td>\n",
       "      <td>4.321482</td>\n",
       "      <td>2.078817</td>\n",
       "      <td>00:17</td>\n",
       "    </tr>\n",
       "    <tr>\n",
       "      <td>1</td>\n",
       "      <td>3.599325</td>\n",
       "      <td>3.916611</td>\n",
       "      <td>1.979043</td>\n",
       "      <td>00:18</td>\n",
       "    </tr>\n",
       "    <tr>\n",
       "      <td>2</td>\n",
       "      <td>3.420962</td>\n",
       "      <td>3.366088</td>\n",
       "      <td>1.834690</td>\n",
       "      <td>00:17</td>\n",
       "    </tr>\n",
       "    <tr>\n",
       "      <td>3</td>\n",
       "      <td>3.378884</td>\n",
       "      <td>3.441572</td>\n",
       "      <td>1.855147</td>\n",
       "      <td>00:17</td>\n",
       "    </tr>\n",
       "    <tr>\n",
       "      <td>4</td>\n",
       "      <td>3.050773</td>\n",
       "      <td>3.254492</td>\n",
       "      <td>1.804021</td>\n",
       "      <td>00:18</td>\n",
       "    </tr>\n",
       "    <tr>\n",
       "      <td>5</td>\n",
       "      <td>3.308490</td>\n",
       "      <td>3.156699</td>\n",
       "      <td>1.776710</td>\n",
       "      <td>00:17</td>\n",
       "    </tr>\n",
       "    <tr>\n",
       "      <td>6</td>\n",
       "      <td>3.265092</td>\n",
       "      <td>3.191699</td>\n",
       "      <td>1.786533</td>\n",
       "      <td>00:18</td>\n",
       "    </tr>\n",
       "  </tbody>\n",
       "</table>"
      ],
      "text/plain": [
       "<IPython.core.display.HTML object>"
      ]
     },
     "metadata": {},
     "output_type": "display_data"
    },
    {
     "data": {
      "text/html": [],
      "text/plain": [
       "<IPython.core.display.HTML object>"
      ]
     },
     "metadata": {},
     "output_type": "display_data"
    },
    {
     "name": "stdout",
     "output_type": "stream",
     "text": [
      "GW32 RMSE: 1.786533\n"
     ]
    },
    {
     "data": {
      "text/html": [
       "<table border=\"1\" class=\"dataframe\">\n",
       "  <thead>\n",
       "    <tr style=\"text-align: left;\">\n",
       "      <th>epoch</th>\n",
       "      <th>train_loss</th>\n",
       "      <th>valid_loss</th>\n",
       "      <th>_rmse</th>\n",
       "      <th>time</th>\n",
       "    </tr>\n",
       "  </thead>\n",
       "  <tbody>\n",
       "    <tr>\n",
       "      <td>0</td>\n",
       "      <td>4.387812</td>\n",
       "      <td>3.730897</td>\n",
       "      <td>1.931553</td>\n",
       "      <td>00:18</td>\n",
       "    </tr>\n",
       "    <tr>\n",
       "      <td>1</td>\n",
       "      <td>3.497938</td>\n",
       "      <td>3.198606</td>\n",
       "      <td>1.788465</td>\n",
       "      <td>00:18</td>\n",
       "    </tr>\n",
       "    <tr>\n",
       "      <td>2</td>\n",
       "      <td>3.663877</td>\n",
       "      <td>3.598014</td>\n",
       "      <td>1.896844</td>\n",
       "      <td>00:18</td>\n",
       "    </tr>\n",
       "    <tr>\n",
       "      <td>3</td>\n",
       "      <td>3.622041</td>\n",
       "      <td>3.196581</td>\n",
       "      <td>1.787898</td>\n",
       "      <td>00:17</td>\n",
       "    </tr>\n",
       "    <tr>\n",
       "      <td>4</td>\n",
       "      <td>3.298673</td>\n",
       "      <td>3.110228</td>\n",
       "      <td>1.763584</td>\n",
       "      <td>00:18</td>\n",
       "    </tr>\n",
       "    <tr>\n",
       "      <td>5</td>\n",
       "      <td>3.443015</td>\n",
       "      <td>3.034449</td>\n",
       "      <td>1.741967</td>\n",
       "      <td>00:18</td>\n",
       "    </tr>\n",
       "    <tr>\n",
       "      <td>6</td>\n",
       "      <td>3.295913</td>\n",
       "      <td>3.027303</td>\n",
       "      <td>1.739915</td>\n",
       "      <td>00:18</td>\n",
       "    </tr>\n",
       "  </tbody>\n",
       "</table>"
      ],
      "text/plain": [
       "<IPython.core.display.HTML object>"
      ]
     },
     "metadata": {},
     "output_type": "display_data"
    },
    {
     "data": {
      "text/html": [],
      "text/plain": [
       "<IPython.core.display.HTML object>"
      ]
     },
     "metadata": {},
     "output_type": "display_data"
    },
    {
     "name": "stdout",
     "output_type": "stream",
     "text": [
      "GW33 RMSE: 1.739915\n"
     ]
    }
   ],
   "source": [
    "# for loop to run through a season long validation\n",
    "\n",
    "# add a bunch of player lag features\n",
    "lag_train_df, team_lag_vars = team_lag_features(train_df, ['total_points'], ['all', 1, 2, 3, 4, 5, 10])\n",
    "lag_train_df, player_lag_vars = player_lag_features(lag_train_df, ['total_points'], ['all', 1, 2, 3, 4, 5, 10])\n",
    "\n",
    "# we want to set gw and season as ordered categorical variables\n",
    "# need lists with ordered categories\n",
    "ordered_gws = list(range(1,39))\n",
    "ordered_seasons = ['1617', '1718', '1819', '1920']\n",
    "\n",
    "# set as categories with correct order \n",
    "lag_train_df['gw'] = lag_train_df['gw'].astype('category')\n",
    "lag_train_df['season'] = lag_train_df['season'].astype('category')\n",
    "\n",
    "lag_train_df['gw'].cat.set_categories(ordered_gws, ordered=True, inplace=True)\n",
    "lag_train_df['season'].cat.set_categories(ordered_seasons, ordered=True, inplace=True)\n",
    "\n",
    "# dependent variable needs to be float\n",
    "lag_train_df['total_points'] = lag_train_df['total_points'].astype('float64')\n",
    "\n",
    "max_y = np.max(lag_train_df['total_points'])\n",
    "min_y = np.min(lag_train_df['total_points'])\n",
    "y_range = (-1, max_y)\n",
    "\n",
    "season_rsme = []\n",
    "\n",
    "for valid_gw in range(1,34): \n",
    "    \n",
    "    lag_df, train_idx, valid_idx = create_lag_train(lag_train_df, \n",
    "                                                    cat_vars, cont_vars, \n",
    "                                                    player_lag_vars, team_lag_vars, dep_var,\n",
    "                                                    valid_season, valid_gw, valid_len)\n",
    "    \n",
    "    X, y = lag_df[cat_vars + cont_vars + player_lag_vars + team_lag_vars].copy(), lag_df[dep_var].copy()\n",
    "    \n",
    "    # create train/valid splits\n",
    "    splits = (list(train_idx), list(valid_idx))\n",
    "    \n",
    "    # processors - categorify categorical variables and normalize continuous variables\n",
    "    # fill missing not used because new teams are almost certainly well below the league average\n",
    "    procs=[Categorify, Normalize]\n",
    "    to_nn = TabularPandas(lag_train_df, procs, cat_vars + ['player'], cont_vars, #+ player_lag_vars + team_lag_vars,\n",
    "                          splits=splits, y_names=dep_var)\n",
    "    \n",
    "    dls = to_nn.dataloaders()\n",
    "    \n",
    "    learn = tabular_learner(dls, y_range=y_range, layers=[1000,500], ps=[0.001,0.01], emb_drop=0.04,\n",
    "                        n_out=1, loss_func=F.mse_loss, metrics=rmse)\n",
    "    \n",
    "    # seems to work ok without the lag vars\n",
    "    learn.fit_one_cycle(7, 1e-2, wd=0.2)\n",
    "    \n",
    "    preds,targs = learn.get_preds()\n",
    "    gw_rsme = r_mse(preds,targs)\n",
    "    \n",
    "    print(\"GW%d RMSE: %f\" % (valid_gw, gw_rsme))\n",
    "    \n",
    "    season_rsme.append(gw_rsme)"
   ]
  },
  {
   "cell_type": "code",
   "execution_count": 178,
   "metadata": {},
   "outputs": [
    {
     "data": {
      "text/plain": [
       "[1.934471,\n",
       " 1.874481,\n",
       " 1.937269,\n",
       " 1.911622,\n",
       " 1.982166,\n",
       " 2.027352,\n",
       " 1.916805,\n",
       " 1.948164,\n",
       " 1.924063,\n",
       " 1.945478,\n",
       " 1.900353,\n",
       " 1.850525,\n",
       " 1.888461,\n",
       " 1.888086,\n",
       " 1.821179,\n",
       " 1.839024,\n",
       " 1.819358,\n",
       " 1.810203,\n",
       " 1.802624,\n",
       " 1.803309,\n",
       " 1.838577,\n",
       " 1.807919,\n",
       " 1.841874,\n",
       " 1.852484,\n",
       " 1.842851,\n",
       " 1.794709,\n",
       " 1.82751,\n",
       " 1.837564,\n",
       " 1.776864,\n",
       " 1.843211,\n",
       " 1.769879,\n",
       " 1.786533,\n",
       " 1.739915]"
      ]
     },
     "execution_count": 178,
     "metadata": {},
     "output_type": "execute_result"
    }
   ],
   "source": [
    "season_rsme"
   ]
  },
  {
   "cell_type": "code",
   "execution_count": 179,
   "metadata": {},
   "outputs": [
    {
     "data": {
      "text/plain": [
       "1.8601479696969698"
      ]
     },
     "execution_count": 179,
     "metadata": {},
     "output_type": "execute_result"
    }
   ],
   "source": [
    "np.mean(season_rsme)"
   ]
  },
  {
   "cell_type": "code",
   "execution_count": null,
   "metadata": {},
   "outputs": [],
   "source": []
  },
  {
   "cell_type": "code",
   "execution_count": 109,
   "metadata": {},
   "outputs": [
    {
     "data": {
      "text/html": [
       "<table border=\"1\" class=\"dataframe\">\n",
       "  <thead>\n",
       "    <tr style=\"text-align: left;\">\n",
       "      <th>epoch</th>\n",
       "      <th>train_loss</th>\n",
       "      <th>valid_loss</th>\n",
       "      <th>_rmse</th>\n",
       "      <th>time</th>\n",
       "    </tr>\n",
       "  </thead>\n",
       "  <tbody>\n",
       "    <tr>\n",
       "      <td>0</td>\n",
       "      <td>4.622764</td>\n",
       "      <td>4.525353</td>\n",
       "      <td>2.127288</td>\n",
       "      <td>00:21</td>\n",
       "    </tr>\n",
       "    <tr>\n",
       "      <td>1</td>\n",
       "      <td>3.837075</td>\n",
       "      <td>3.359783</td>\n",
       "      <td>1.832971</td>\n",
       "      <td>00:20</td>\n",
       "    </tr>\n",
       "    <tr>\n",
       "      <td>2</td>\n",
       "      <td>3.689406</td>\n",
       "      <td>61.215096</td>\n",
       "      <td>7.824008</td>\n",
       "      <td>00:21</td>\n",
       "    </tr>\n",
       "    <tr>\n",
       "      <td>3</td>\n",
       "      <td>3.891512</td>\n",
       "      <td>3.297080</td>\n",
       "      <td>1.815786</td>\n",
       "      <td>00:21</td>\n",
       "    </tr>\n",
       "    <tr>\n",
       "      <td>4</td>\n",
       "      <td>3.592128</td>\n",
       "      <td>3.358826</td>\n",
       "      <td>1.832710</td>\n",
       "      <td>00:21</td>\n",
       "    </tr>\n",
       "    <tr>\n",
       "      <td>5</td>\n",
       "      <td>3.611894</td>\n",
       "      <td>3.343410</td>\n",
       "      <td>1.828499</td>\n",
       "      <td>00:21</td>\n",
       "    </tr>\n",
       "    <tr>\n",
       "      <td>6</td>\n",
       "      <td>3.563679</td>\n",
       "      <td>3.315732</td>\n",
       "      <td>1.820915</td>\n",
       "      <td>00:20</td>\n",
       "    </tr>\n",
       "    <tr>\n",
       "      <td>7</td>\n",
       "      <td>3.519701</td>\n",
       "      <td>3.260593</td>\n",
       "      <td>1.805711</td>\n",
       "      <td>00:19</td>\n",
       "    </tr>\n",
       "    <tr>\n",
       "      <td>8</td>\n",
       "      <td>3.437519</td>\n",
       "      <td>3.271559</td>\n",
       "      <td>1.808745</td>\n",
       "      <td>00:20</td>\n",
       "    </tr>\n",
       "    <tr>\n",
       "      <td>9</td>\n",
       "      <td>2.909015</td>\n",
       "      <td>3.287473</td>\n",
       "      <td>1.813139</td>\n",
       "      <td>00:21</td>\n",
       "    </tr>\n",
       "  </tbody>\n",
       "</table>"
      ],
      "text/plain": [
       "<IPython.core.display.HTML object>"
      ]
     },
     "metadata": {},
     "output_type": "display_data"
    }
   ],
   "source": [
    "# learn.fit_one_cycle(10, 1e-2, wd=0.2)"
   ]
  },
  {
   "cell_type": "code",
   "execution_count": 10,
   "metadata": {},
   "outputs": [],
   "source": [
    "# find validation cut point - index for 19-20 season second half (gw 19)\n",
    "valid_start = train_df[(train_df['gw'] > 18) & (train_df['season'] == '1920')].index.min()\n",
    "valid_end = train_df.index.max()"
   ]
  },
  {
   "cell_type": "code",
   "execution_count": 44,
   "metadata": {},
   "outputs": [
    {
     "data": {
      "text/plain": [
       "range(77810, 90436)"
      ]
     },
     "execution_count": 44,
     "metadata": {},
     "output_type": "execute_result"
    }
   ],
   "source": [
    "# set validation dataset based on indexes\n",
    "train_idx = range(valid_start)\n",
    "valid_idx = range(valid_start, valid_end)\n",
    "\n",
    "splits = (list(train_idx), list(valid_idx))\n",
    "valid_idx"
   ]
  },
  {
   "cell_type": "code",
   "execution_count": 12,
   "metadata": {},
   "outputs": [],
   "source": [
    "# set categorical and continuous variables for tabular learner\n",
    "cat_vars = ['player', 'gw', 'position', 'team', 'opponent_team', 'was_home', 'season']\n",
    "cont_vars = ['minutes', 'relative_market_value_team', 'relative_market_value_opponent_team']"
   ]
  },
  {
   "cell_type": "code",
   "execution_count": 13,
   "metadata": {},
   "outputs": [],
   "source": [
    "# set dependent variable\n",
    "dep_var = 'total_points'"
   ]
  },
  {
   "cell_type": "code",
   "execution_count": 14,
   "metadata": {},
   "outputs": [
    {
     "data": {
      "text/plain": [
       "player           1306\n",
       "gw                 38\n",
       "position            4\n",
       "team               29\n",
       "opponent_team      29\n",
       "was_home            2\n",
       "season              4\n",
       "dtype: int64"
      ]
     },
     "execution_count": 14,
     "metadata": {},
     "output_type": "execute_result"
    }
   ],
   "source": [
    "train_df[cat_vars].nunique()"
   ]
  },
  {
   "cell_type": "code",
   "execution_count": 15,
   "metadata": {},
   "outputs": [],
   "source": [
    "# processors - categorify categorical variables and normalize continuous variables\n",
    "# fill missing not used because new teams are almost certainly well below the league average\n",
    "procs=[Categorify, Normalize]\n",
    "to_nn = TabularPandas(train_df, procs, cat_vars, cont_vars,\n",
    "                      splits=splits, y_names=dep_var)"
   ]
  },
  {
   "cell_type": "code",
   "execution_count": 39,
   "metadata": {},
   "outputs": [],
   "source": [
    "# dls = to_nn.dataloaders()\n",
    "dls = to_nn.dataloaders()"
   ]
  },
  {
   "cell_type": "code",
   "execution_count": 22,
   "metadata": {},
   "outputs": [
    {
     "data": {
      "text/html": [
       "<table border=\"1\" class=\"dataframe\">\n",
       "  <thead>\n",
       "    <tr style=\"text-align: right;\">\n",
       "      <th></th>\n",
       "      <th>player</th>\n",
       "      <th>gw</th>\n",
       "      <th>position</th>\n",
       "      <th>team</th>\n",
       "      <th>opponent_team</th>\n",
       "      <th>was_home</th>\n",
       "      <th>season</th>\n",
       "      <th>minutes</th>\n",
       "      <th>relative_market_value_team</th>\n",
       "      <th>relative_market_value_opponent_team</th>\n",
       "      <th>total_points</th>\n",
       "    </tr>\n",
       "  </thead>\n",
       "  <tbody>\n",
       "    <tr>\n",
       "      <th>0</th>\n",
       "      <td>Andrew_Surman</td>\n",
       "      <td>27</td>\n",
       "      <td>3</td>\n",
       "      <td>Bournemouth</td>\n",
       "      <td>Wolverhampton Wanderers</td>\n",
       "      <td>True</td>\n",
       "      <td>1819</td>\n",
       "      <td>2.833622e-08</td>\n",
       "      <td>0.418108</td>\n",
       "      <td>0.388177</td>\n",
       "      <td>0.0</td>\n",
       "    </tr>\n",
       "    <tr>\n",
       "      <th>1</th>\n",
       "      <td>Dejan_Lovren</td>\n",
       "      <td>11</td>\n",
       "      <td>2</td>\n",
       "      <td>Liverpool</td>\n",
       "      <td>West Ham United</td>\n",
       "      <td>False</td>\n",
       "      <td>1718</td>\n",
       "      <td>3.000001e+00</td>\n",
       "      <td>1.619155</td>\n",
       "      <td>0.866330</td>\n",
       "      <td>1.0</td>\n",
       "    </tr>\n",
       "    <tr>\n",
       "      <th>2</th>\n",
       "      <td>Bamidele_Alli</td>\n",
       "      <td>7</td>\n",
       "      <td>3</td>\n",
       "      <td>Tottenham Hotspur</td>\n",
       "      <td>Huddersfield Town</td>\n",
       "      <td>False</td>\n",
       "      <td>1718</td>\n",
       "      <td>9.000000e+01</td>\n",
       "      <td>1.751141</td>\n",
       "      <td>0.210654</td>\n",
       "      <td>2.0</td>\n",
       "    </tr>\n",
       "    <tr>\n",
       "      <th>3</th>\n",
       "      <td>Jesse_Lingard</td>\n",
       "      <td>32</td>\n",
       "      <td>3</td>\n",
       "      <td>Manchester United</td>\n",
       "      <td>Swansea City</td>\n",
       "      <td>True</td>\n",
       "      <td>1718</td>\n",
       "      <td>7.500000e+01</td>\n",
       "      <td>2.110135</td>\n",
       "      <td>0.560457</td>\n",
       "      <td>6.0</td>\n",
       "    </tr>\n",
       "    <tr>\n",
       "      <th>4</th>\n",
       "      <td>Victor_Lindelöf</td>\n",
       "      <td>6</td>\n",
       "      <td>2</td>\n",
       "      <td>Manchester United</td>\n",
       "      <td>Southampton</td>\n",
       "      <td>False</td>\n",
       "      <td>1718</td>\n",
       "      <td>2.833622e-08</td>\n",
       "      <td>2.110135</td>\n",
       "      <td>0.809578</td>\n",
       "      <td>0.0</td>\n",
       "    </tr>\n",
       "    <tr>\n",
       "      <th>5</th>\n",
       "      <td>Michael_Keane</td>\n",
       "      <td>22</td>\n",
       "      <td>2</td>\n",
       "      <td>Everton</td>\n",
       "      <td>Manchester United</td>\n",
       "      <td>True</td>\n",
       "      <td>1718</td>\n",
       "      <td>9.000000e+01</td>\n",
       "      <td>1.134226</td>\n",
       "      <td>2.110135</td>\n",
       "      <td>1.0</td>\n",
       "    </tr>\n",
       "    <tr>\n",
       "      <th>6</th>\n",
       "      <td>Jeff_Hendrick</td>\n",
       "      <td>33</td>\n",
       "      <td>3</td>\n",
       "      <td>Burnley</td>\n",
       "      <td>Watford</td>\n",
       "      <td>False</td>\n",
       "      <td>1718</td>\n",
       "      <td>8.999999e+00</td>\n",
       "      <td>0.316798</td>\n",
       "      <td>0.547242</td>\n",
       "      <td>1.0</td>\n",
       "    </tr>\n",
       "    <tr>\n",
       "      <th>7</th>\n",
       "      <td>Ethan_Ampadu</td>\n",
       "      <td>1</td>\n",
       "      <td>3</td>\n",
       "      <td>Chelsea</td>\n",
       "      <td>Huddersfield Town</td>\n",
       "      <td>False</td>\n",
       "      <td>1819</td>\n",
       "      <td>2.833622e-08</td>\n",
       "      <td>2.540586</td>\n",
       "      <td>0.273778</td>\n",
       "      <td>0.0</td>\n",
       "    </tr>\n",
       "    <tr>\n",
       "      <th>8</th>\n",
       "      <td>Francis_Coquelin</td>\n",
       "      <td>16</td>\n",
       "      <td>3</td>\n",
       "      <td>Arsenal</td>\n",
       "      <td>Everton</td>\n",
       "      <td>False</td>\n",
       "      <td>1617</td>\n",
       "      <td>8.700000e+01</td>\n",
       "      <td>1.944129</td>\n",
       "      <td>1.057509</td>\n",
       "      <td>5.0</td>\n",
       "    </tr>\n",
       "    <tr>\n",
       "      <th>9</th>\n",
       "      <td>Jack_Stephens</td>\n",
       "      <td>37</td>\n",
       "      <td>2</td>\n",
       "      <td>Southampton</td>\n",
       "      <td>Swansea City</td>\n",
       "      <td>False</td>\n",
       "      <td>1718</td>\n",
       "      <td>9.000000e+01</td>\n",
       "      <td>0.809578</td>\n",
       "      <td>0.560457</td>\n",
       "      <td>6.0</td>\n",
       "    </tr>\n",
       "  </tbody>\n",
       "</table>"
      ],
      "text/plain": [
       "<IPython.core.display.HTML object>"
      ]
     },
     "metadata": {},
     "output_type": "display_data"
    }
   ],
   "source": [
    "dls.show_batch()"
   ]
  },
  {
   "cell_type": "code",
   "execution_count": 18,
   "metadata": {},
   "outputs": [],
   "source": [
    "# set range of predictions - minimum to current max\n",
    "max_y = np.max(train_df['total_points'])\n",
    "min_y = np.min(train_df['total_points'])\n",
    "y_range = (-1, max_y)"
   ]
  },
  {
   "cell_type": "code",
   "execution_count": 54,
   "metadata": {},
   "outputs": [],
   "source": [
    "learn = tabular_learner(dls, y_range=y_range, layers=[1000,500], ps=[0.001,0.01], emb_drop=0.04,\n",
    "                        n_out=1, loss_func=F.mse_loss, metrics=rmse)"
   ]
  },
  {
   "cell_type": "code",
   "execution_count": 48,
   "metadata": {},
   "outputs": [
    {
     "data": {
      "text/html": [],
      "text/plain": [
       "<IPython.core.display.HTML object>"
      ]
     },
     "metadata": {},
     "output_type": "display_data"
    },
    {
     "data": {
      "text/plain": [
       "SuggestedLRs(lr_min=0.33113112449646, lr_steep=0.0012022644514217973)"
      ]
     },
     "execution_count": 48,
     "metadata": {},
     "output_type": "execute_result"
    },
    {
     "data": {
      "image/png": "[encoded data removed]",
      "text/plain": [
       "<Figure size 432x288 with 1 Axes>"
      ]
     },
     "metadata": {
      "needs_background": "light"
     },
     "output_type": "display_data"
    }
   ],
   "source": [
    "learn.lr_find()"
   ]
  },
  {
   "cell_type": "code",
   "execution_count": 55,
   "metadata": {},
   "outputs": [
    {
     "data": {
      "text/html": [
       "<table border=\"1\" class=\"dataframe\">\n",
       "  <thead>\n",
       "    <tr style=\"text-align: left;\">\n",
       "      <th>epoch</th>\n",
       "      <th>train_loss</th>\n",
       "      <th>valid_loss</th>\n",
       "      <th>_rmse</th>\n",
       "      <th>time</th>\n",
       "    </tr>\n",
       "  </thead>\n",
       "  <tbody>\n",
       "    <tr>\n",
       "      <td>0</td>\n",
       "      <td>4.191478</td>\n",
       "      <td>3.762616</td>\n",
       "      <td>1.939746</td>\n",
       "      <td>00:15</td>\n",
       "    </tr>\n",
       "    <tr>\n",
       "      <td>1</td>\n",
       "      <td>3.652228</td>\n",
       "      <td>3.355534</td>\n",
       "      <td>1.831812</td>\n",
       "      <td>00:15</td>\n",
       "    </tr>\n",
       "    <tr>\n",
       "      <td>2</td>\n",
       "      <td>3.328749</td>\n",
       "      <td>3.355761</td>\n",
       "      <td>1.831874</td>\n",
       "      <td>00:15</td>\n",
       "    </tr>\n",
       "    <tr>\n",
       "      <td>3</td>\n",
       "      <td>3.289095</td>\n",
       "      <td>3.272787</td>\n",
       "      <td>1.809085</td>\n",
       "      <td>00:15</td>\n",
       "    </tr>\n",
       "    <tr>\n",
       "      <td>4</td>\n",
       "      <td>3.067832</td>\n",
       "      <td>3.267130</td>\n",
       "      <td>1.807521</td>\n",
       "      <td>00:15</td>\n",
       "    </tr>\n",
       "  </tbody>\n",
       "</table>"
      ],
      "text/plain": [
       "<IPython.core.display.HTML object>"
      ]
     },
     "metadata": {},
     "output_type": "display_data"
    }
   ],
   "source": [
    "learn.fit_one_cycle(5, 1e-2, wd=0.2)"
   ]
  },
  {
   "cell_type": "code",
   "execution_count": 25,
   "metadata": {},
   "outputs": [],
   "source": [
    "def r_mse(pred,y): return round(math.sqrt(((pred-y)**2).mean()), 6)"
   ]
  },
  {
   "cell_type": "code",
   "execution_count": 57,
   "metadata": {},
   "outputs": [
    {
     "data": {
      "text/html": [],
      "text/plain": [
       "<IPython.core.display.HTML object>"
      ]
     },
     "metadata": {},
     "output_type": "display_data"
    },
    {
     "data": {
      "text/plain": [
       "1.807521"
      ]
     },
     "execution_count": 57,
     "metadata": {},
     "output_type": "execute_result"
    }
   ],
   "source": [
    "preds,targs = learn.get_preds()\n",
    "r_mse(preds,targs)"
   ]
  },
  {
   "cell_type": "code",
   "execution_count": 27,
   "metadata": {},
   "outputs": [
    {
     "data": {
      "text/plain": [
       "tensor([[-0.0926],\n",
       "        [ 0.2595],\n",
       "        [-0.1763],\n",
       "        ...,\n",
       "        [-0.2005],\n",
       "        [ 5.2565],\n",
       "        [-0.1782]])"
      ]
     },
     "execution_count": 27,
     "metadata": {},
     "output_type": "execute_result"
    }
   ],
   "source": [
    "preds"
   ]
  },
  {
   "cell_type": "code",
   "execution_count": 28,
   "metadata": {},
   "outputs": [
    {
     "data": {
      "text/plain": [
       "tensor([[-3.],\n",
       "        [ 0.],\n",
       "        [ 0.],\n",
       "        ...,\n",
       "        [ 0.],\n",
       "        [ 3.],\n",
       "        [ 0.]])"
      ]
     },
     "execution_count": 28,
     "metadata": {},
     "output_type": "execute_result"
    }
   ],
   "source": [
    "targs"
   ]
  },
  {
   "cell_type": "code",
   "execution_count": null,
   "metadata": {},
   "outputs": [],
   "source": []
  }
 ],
 "metadata": {
  "kernelspec": {
   "display_name": "Python 3",
   "language": "python",
   "name": "python3"
  },
  "language_info": {
   "codemirror_mode": {
    "name": "ipython",
    "version": 3
   },
   "file_extension": ".py",
   "mimetype": "text/x-python",
   "name": "python",
   "nbconvert_exporter": "python",
   "pygments_lexer": "ipython3",
   "version": "3.7.6"
  }
 },
 "nbformat": 4,
 "nbformat_minor": 4
}
