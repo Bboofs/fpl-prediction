{
 "cells": [
  {
   "cell_type": "code",
   "execution_count": null,
   "metadata": {},
   "outputs": [],
   "source": [
    "# import required packages\n",
    "from fastai.tabular.all import *\n",
    "from matplotlib import style\n",
    "from helpers import *"
   ]
  },
  {
   "cell_type": "code",
   "execution_count": 8,
   "metadata": {},
   "outputs": [],
   "source": [
    "# path to project directory\n",
    "path = Path('./')"
   ]
  },
  {
   "cell_type": "code",
   "execution_count": 25,
   "metadata": {},
   "outputs": [],
   "source": [
    "# read in training dataset\n",
    "train_df = pd.read_csv(path/'data/train_v5.csv', index_col=0, dtype={'season':str})"
   ]
  },
  {
   "cell_type": "markdown",
   "metadata": {},
   "source": [
    "## Neural network model\n",
    "\n",
    "Fastai have useful a neural network architecture that can be applied to tabular data, including for time series. In practice this creates embeddings for categorical features, combines them with continuous variables and passes this through a number of fully connected layers to produce a prediction for the dependent variable. They also include a number of tricks and default parameters that should produce decent performance.\n",
    "\n",
    "Lag features are not strictly necessary for this approach since the embeddings should in some way be relating performance for recent weeks. In practice this seems to be confirmed in that adding the lag features does not appear to improve performance. However, we'll still create some features to remain consistent in the steps we take in all of these notebooks."
   ]
  },
  {
   "cell_type": "code",
   "execution_count": 12,
   "metadata": {},
   "outputs": [],
   "source": [
    "# add a bunch of lag features\n",
    "lag_train_df, team_lag_vars = team_lag_features(train_df, ['total_points'], ['all', 1, 2, 3, 4, 5, 10])\n",
    "lag_train_df, player_lag_vars = player_lag_features(lag_train_df, ['total_points'], ['all', 1, 2, 3, 4, 5, 10])"
   ]
  },
  {
   "cell_type": "markdown",
   "metadata": {},
   "source": [
    "Again we set the variables to be used, the validation conditions, and order of some categorical features. We also need to set our dependent variable, total_points, to be a floating point number since this is the data type that fastai requires for a regression model."
   ]
  },
  {
   "cell_type": "code",
   "execution_count": 13,
   "metadata": {},
   "outputs": [],
   "source": [
    "# set validaton point/length and categorical/continuous variables\n",
    "valid_season = '1920'\n",
    "valid_gw = 1\n",
    "valid_len = 6\n",
    "cat_vars = ['gw', 'season', 'position', 'team', 'opponent_team', 'was_home']\n",
    "cont_vars = ['minutes', 'relative_market_value_team_season', 'relative_market_value_opponent_team_season']\n",
    "dep_var = ['total_points']"
   ]
  },
  {
   "cell_type": "code",
   "execution_count": 14,
   "metadata": {},
   "outputs": [],
   "source": [
    "# we want to set gw and season as ordered categorical variables\n",
    "# need lists with ordered categories\n",
    "ordered_gws = list(range(1,39))\n",
    "ordered_seasons = ['1617', '1718', '1819', '1920']"
   ]
  },
  {
   "cell_type": "code",
   "execution_count": 15,
   "metadata": {},
   "outputs": [],
   "source": [
    "# set as categories with correct order \n",
    "lag_train_df['gw'] = lag_train_df['gw'].astype('category')\n",
    "lag_train_df['season'] = lag_train_df['season'].astype('category')\n",
    "\n",
    "lag_train_df['gw'].cat.set_categories(ordered_gws, ordered=True, inplace=True)\n",
    "lag_train_df['season'].cat.set_categories(ordered_seasons, ordered=True, inplace=True)"
   ]
  },
  {
   "cell_type": "code",
   "execution_count": 16,
   "metadata": {},
   "outputs": [],
   "source": [
    "# dependent variable needs to be float\n",
    "lag_train_df['total_points'] = lag_train_df['total_points'].astype('float64')"
   ]
  },
  {
   "cell_type": "code",
   "execution_count": 17,
   "metadata": {},
   "outputs": [],
   "source": [
    "# create dataset with adjusted post-validation lag numbers\n",
    "train_valid_df, train_idx, valid_idx = create_lag_train(lag_train_df, \n",
    "                                                      cat_vars, cont_vars, \n",
    "                                                      player_lag_vars, team_lag_vars, dep_var,\n",
    "                                                      valid_season, valid_gw, valid_len)\n",
    "\n",
    "train_valid_df[player_lag_vars + team_lag_vars] = train_valid_df[player_lag_vars + team_lag_vars].fillna(0)"
   ]
  },
  {
   "cell_type": "code",
   "execution_count": 18,
   "metadata": {},
   "outputs": [
    {
     "name": "stdout",
     "output_type": "stream",
     "text": [
      "<class 'pandas.core.frame.DataFrame'>\n",
      "RangeIndex: 71132 entries, 0 to 71131\n",
      "Data columns (total 39 columns):\n",
      "gw                                            71132 non-null category\n",
      "minutes                                       71132 non-null int64\n",
      "minutes_last_1                                71132 non-null float64\n",
      "minutes_last_10                               71132 non-null float64\n",
      "minutes_last_2                                71132 non-null float64\n",
      "minutes_last_3                                71132 non-null float64\n",
      "minutes_last_4                                71132 non-null float64\n",
      "minutes_last_5                                71132 non-null float64\n",
      "minutes_last_all                              71132 non-null float64\n",
      "opponent_team                                 71132 non-null object\n",
      "player                                        71132 non-null object\n",
      "position                                      71132 non-null int64\n",
      "relative_market_value_opponent_team_season    71132 non-null float64\n",
      "relative_market_value_team_season             71132 non-null float64\n",
      "season                                        71132 non-null category\n",
      "team                                          71132 non-null object\n",
      "total_points                                  71132 non-null float64\n",
      "total_points_pg_last_1                        71132 non-null float64\n",
      "total_points_pg_last_10                       71132 non-null float64\n",
      "total_points_pg_last_2                        71132 non-null float64\n",
      "total_points_pg_last_3                        71132 non-null float64\n",
      "total_points_pg_last_4                        71132 non-null float64\n",
      "total_points_pg_last_5                        71132 non-null float64\n",
      "total_points_pg_last_all                      71132 non-null float64\n",
      "total_points_team_pg_last_1                   71132 non-null float64\n",
      "total_points_team_pg_last_10                  71132 non-null float64\n",
      "total_points_team_pg_last_10_opponent         71132 non-null float64\n",
      "total_points_team_pg_last_1_opponent          71132 non-null float64\n",
      "total_points_team_pg_last_2                   71132 non-null float64\n",
      "total_points_team_pg_last_2_opponent          71132 non-null float64\n",
      "total_points_team_pg_last_3                   71132 non-null float64\n",
      "total_points_team_pg_last_3_opponent          71132 non-null float64\n",
      "total_points_team_pg_last_4                   71132 non-null float64\n",
      "total_points_team_pg_last_4_opponent          71132 non-null float64\n",
      "total_points_team_pg_last_5                   71132 non-null float64\n",
      "total_points_team_pg_last_5_opponent          71132 non-null float64\n",
      "total_points_team_pg_last_all                 71132 non-null float64\n",
      "total_points_team_pg_last_all_opponent        71132 non-null float64\n",
      "was_home                                      71132 non-null bool\n",
      "dtypes: bool(1), category(2), float64(31), int64(2), object(3)\n",
      "memory usage: 19.7+ MB\n"
     ]
    }
   ],
   "source": [
    "# take a look at the dataframe\n",
    "train_valid_df.info()"
   ]
  },
  {
   "cell_type": "markdown",
   "metadata": {},
   "source": [
    "We need to create a couple of lists with indexes for the training and validation sets - this can then be passed into the learner object which will handle training and validation automatically."
   ]
  },
  {
   "cell_type": "code",
   "execution_count": 20,
   "metadata": {},
   "outputs": [
    {
     "data": {
      "text/plain": [
       "range(67936, 71132)"
      ]
     },
     "execution_count": 20,
     "metadata": {},
     "output_type": "execute_result"
    }
   ],
   "source": [
    "# create train/valid splits\n",
    "splits = (list(train_idx), list(valid_idx))\n",
    "valid_idx"
   ]
  },
  {
   "cell_type": "markdown",
   "metadata": {},
   "source": [
    "A key difference with this approach is that we will be learning embeddings for all the categorical variables, including players. So, for example, we will learn a vector of numbers for each player that represents them. In theory, this negates the need for the kind of feature engineering that, for example, we are doing when calculating lagging features.\n",
    "\n",
    "In previous approaches we did not use the player as a categorical feature, there were simply too many of them. So we will need to add this feature in, which we can do by simply adding them to the list of categorical features.\n",
    "\n",
    "We can also have a quick look at how many levels there are for each of the categories - fastai creates a default lenght for each of these variables based on the number of levels (but note that this default can be changed if so desired)."
   ]
  },
  {
   "cell_type": "code",
   "execution_count": 21,
   "metadata": {},
   "outputs": [
    {
     "data": {
      "text/plain": [
       "gw                 38\n",
       "season              4\n",
       "position            4\n",
       "team               29\n",
       "opponent_team      29\n",
       "was_home            2\n",
       "player           1211\n",
       "dtype: int64"
      ]
     },
     "execution_count": 21,
     "metadata": {},
     "output_type": "execute_result"
    }
   ],
   "source": [
    "train_valid_df[cat_vars + ['player']].nunique()"
   ]
  },
  {
   "cell_type": "code",
   "execution_count": 13,
   "metadata": {},
   "outputs": [
    {
     "data": {
      "text/plain": [
       "['gw', 'season', 'position', 'team', 'opponent_team', 'was_home', 'player']"
      ]
     },
     "execution_count": 13,
     "metadata": {},
     "output_type": "execute_result"
    }
   ],
   "source": [
    "cat_vars + ['player']"
   ]
  },
  {
   "cell_type": "markdown",
   "metadata": {},
   "source": [
    "Now we can instantiate our tabular object, including processors to handle some transformations we need to apply (handling the categorical features and normalising continuous variables to have a mean and standard deviation that help training). "
   ]
  },
  {
   "cell_type": "code",
   "execution_count": null,
   "metadata": {},
   "outputs": [],
   "source": [
    "# processors - categorify categorical variables and normalize continuous variables\n",
    "# fill missing not used because new teams are almost certainly well below the league average\n",
    "procs=[Categorify, Normalize]\n",
    "to_nn = TabularPandas(train_valid_df, procs, cat_vars + ['player'], cont_vars, #+ player_lag_vars + team_lag_vars,\n",
    "                      splits=splits, y_names=dep_var)"
   ]
  },
  {
   "cell_type": "markdown",
   "metadata": {},
   "source": [
    "The fastai requires us to create dataloaders that will then be used for training. We can do this and then take a look at one batch."
   ]
  },
  {
   "cell_type": "code",
   "execution_count": 16,
   "metadata": {},
   "outputs": [],
   "source": [
    "# dls = to_nn.dataloaders()\n",
    "dls = to_nn.dataloaders()"
   ]
  },
  {
   "cell_type": "code",
   "execution_count": 17,
   "metadata": {},
   "outputs": [
    {
     "data": {
      "text/html": [
       "<table border=\"1\" class=\"dataframe\">\n",
       "  <thead>\n",
       "    <tr style=\"text-align: right;\">\n",
       "      <th></th>\n",
       "      <th>gw</th>\n",
       "      <th>season</th>\n",
       "      <th>position</th>\n",
       "      <th>team</th>\n",
       "      <th>opponent_team</th>\n",
       "      <th>was_home</th>\n",
       "      <th>player</th>\n",
       "      <th>minutes</th>\n",
       "      <th>relative_market_value_team_season</th>\n",
       "      <th>relative_market_value_opponent_team_season</th>\n",
       "      <th>total_points</th>\n",
       "    </tr>\n",
       "  </thead>\n",
       "  <tbody>\n",
       "    <tr>\n",
       "      <th>0</th>\n",
       "      <td>28</td>\n",
       "      <td>1718</td>\n",
       "      <td>4</td>\n",
       "      <td>Tottenham Hotspur</td>\n",
       "      <td>Crystal Palace</td>\n",
       "      <td>False</td>\n",
       "      <td>Fernando_Llorente</td>\n",
       "      <td>3.971288e-07</td>\n",
       "      <td>1.751141</td>\n",
       "      <td>0.635984</td>\n",
       "      <td>0.0</td>\n",
       "    </tr>\n",
       "    <tr>\n",
       "      <th>1</th>\n",
       "      <td>11</td>\n",
       "      <td>1819</td>\n",
       "      <td>2</td>\n",
       "      <td>Huddersfield Town</td>\n",
       "      <td>Fulham</td>\n",
       "      <td>True</td>\n",
       "      <td>Mathias_Jorgensen</td>\n",
       "      <td>9.000000e+01</td>\n",
       "      <td>0.273778</td>\n",
       "      <td>0.405284</td>\n",
       "      <td>8.0</td>\n",
       "    </tr>\n",
       "    <tr>\n",
       "      <th>2</th>\n",
       "      <td>26</td>\n",
       "      <td>1617</td>\n",
       "      <td>1</td>\n",
       "      <td>Stoke City</td>\n",
       "      <td>Tottenham Hotspur</td>\n",
       "      <td>False</td>\n",
       "      <td>Jack_Butland</td>\n",
       "      <td>3.971288e-07</td>\n",
       "      <td>0.718705</td>\n",
       "      <td>1.433690</td>\n",
       "      <td>0.0</td>\n",
       "    </tr>\n",
       "    <tr>\n",
       "      <th>3</th>\n",
       "      <td>29</td>\n",
       "      <td>1718</td>\n",
       "      <td>1</td>\n",
       "      <td>Arsenal</td>\n",
       "      <td>Brighton and Hove Albion</td>\n",
       "      <td>False</td>\n",
       "      <td>Petr_Cech</td>\n",
       "      <td>9.000000e+01</td>\n",
       "      <td>2.073500</td>\n",
       "      <td>0.349181</td>\n",
       "      <td>2.0</td>\n",
       "    </tr>\n",
       "    <tr>\n",
       "      <th>4</th>\n",
       "      <td>17</td>\n",
       "      <td>1617</td>\n",
       "      <td>2</td>\n",
       "      <td>Sunderland</td>\n",
       "      <td>Watford</td>\n",
       "      <td>True</td>\n",
       "      <td>Patrick_van Aanholt</td>\n",
       "      <td>9.000000e+01</td>\n",
       "      <td>0.418392</td>\n",
       "      <td>0.704200</td>\n",
       "      <td>15.0</td>\n",
       "    </tr>\n",
       "    <tr>\n",
       "      <th>5</th>\n",
       "      <td>12</td>\n",
       "      <td>1718</td>\n",
       "      <td>2</td>\n",
       "      <td>Swansea City</td>\n",
       "      <td>Burnley</td>\n",
       "      <td>False</td>\n",
       "      <td>Kyle_Naughton</td>\n",
       "      <td>9.000000e+01</td>\n",
       "      <td>0.560457</td>\n",
       "      <td>0.316798</td>\n",
       "      <td>1.0</td>\n",
       "    </tr>\n",
       "    <tr>\n",
       "      <th>6</th>\n",
       "      <td>14</td>\n",
       "      <td>1617</td>\n",
       "      <td>3</td>\n",
       "      <td>Tottenham Hotspur</td>\n",
       "      <td>Swansea City</td>\n",
       "      <td>True</td>\n",
       "      <td>Christian_Eriksen</td>\n",
       "      <td>9.000000e+01</td>\n",
       "      <td>1.433690</td>\n",
       "      <td>0.509881</td>\n",
       "      <td>18.0</td>\n",
       "    </tr>\n",
       "    <tr>\n",
       "      <th>7</th>\n",
       "      <td>2</td>\n",
       "      <td>1617</td>\n",
       "      <td>2</td>\n",
       "      <td>Manchester City</td>\n",
       "      <td>Stoke City</td>\n",
       "      <td>False</td>\n",
       "      <td>Eliaquim_Mangala</td>\n",
       "      <td>3.971288e-07</td>\n",
       "      <td>2.311012</td>\n",
       "      <td>0.718705</td>\n",
       "      <td>0.0</td>\n",
       "    </tr>\n",
       "    <tr>\n",
       "      <th>8</th>\n",
       "      <td>16</td>\n",
       "      <td>1819</td>\n",
       "      <td>3</td>\n",
       "      <td>Newcastle United</td>\n",
       "      <td>Wolverhampton Wanderers</td>\n",
       "      <td>True</td>\n",
       "      <td>Christian_Atsu</td>\n",
       "      <td>8.800000e+01</td>\n",
       "      <td>0.483921</td>\n",
       "      <td>0.388177</td>\n",
       "      <td>2.0</td>\n",
       "    </tr>\n",
       "    <tr>\n",
       "      <th>9</th>\n",
       "      <td>28</td>\n",
       "      <td>1819</td>\n",
       "      <td>4</td>\n",
       "      <td>Burnley</td>\n",
       "      <td>Newcastle United</td>\n",
       "      <td>False</td>\n",
       "      <td>Sam_Vokes</td>\n",
       "      <td>3.971288e-07</td>\n",
       "      <td>0.449442</td>\n",
       "      <td>0.483921</td>\n",
       "      <td>0.0</td>\n",
       "    </tr>\n",
       "  </tbody>\n",
       "</table>"
      ],
      "text/plain": [
       "<IPython.core.display.HTML object>"
      ]
     },
     "metadata": {},
     "output_type": "display_data"
    }
   ],
   "source": [
    "dls.show_batch()"
   ]
  },
  {
   "cell_type": "markdown",
   "metadata": {},
   "source": [
    "We also need to provide the range of output points that we expect - we set these to the highest score recorded in history at the upper end, and -1 at the lower end."
   ]
  },
  {
   "cell_type": "code",
   "execution_count": 18,
   "metadata": {},
   "outputs": [],
   "source": [
    "# set range of predictions - minimum to current max\n",
    "max_y = np.max(lag_train_df['total_points'])\n",
    "min_y = np.min(lag_train_df['total_points'])\n",
    "y_range = (-1, max_y)"
   ]
  },
  {
   "cell_type": "markdown",
   "metadata": {},
   "source": [
    "Now we can instatiate the learner and use the learning rate finder to get a feel for the best learning rate to use during training."
   ]
  },
  {
   "cell_type": "code",
   "execution_count": 19,
   "metadata": {},
   "outputs": [],
   "source": [
    "learn = tabular_learner(dls, y_range=y_range, layers=[1000,500], ps=[0.001,0.01], emb_drop=0.04,\n",
    "                        n_out=1, loss_func=F.mse_loss, metrics=rmse)"
   ]
  },
  {
   "cell_type": "code",
   "execution_count": 20,
   "metadata": {},
   "outputs": [
    {
     "data": {
      "text/html": [],
      "text/plain": [
       "<IPython.core.display.HTML object>"
      ]
     },
     "metadata": {},
     "output_type": "display_data"
    },
    {
     "data": {
      "text/plain": [
       "SuggestedLRs(lr_min=0.33113112449646, lr_steep=0.0014454397605732083)"
      ]
     },
     "execution_count": 20,
     "metadata": {},
     "output_type": "execute_result"
    },
    {
     "data": {
      "image/png": "[encoded data removed]",
      "text/plain": [
       "<Figure size 432x288 with 1 Axes>"
      ]
     },
     "metadata": {
      "needs_background": "light"
     },
     "output_type": "display_data"
    }
   ],
   "source": [
    "learn.lr_find()"
   ]
  },
  {
   "cell_type": "markdown",
   "metadata": {},
   "source": [
    "Finally, we can fit the training data using one cycle learning and look at the performance."
   ]
  },
  {
   "cell_type": "code",
   "execution_count": 21,
   "metadata": {},
   "outputs": [
    {
     "data": {
      "text/html": [
       "<table border=\"1\" class=\"dataframe\">\n",
       "  <thead>\n",
       "    <tr style=\"text-align: left;\">\n",
       "      <th>epoch</th>\n",
       "      <th>train_loss</th>\n",
       "      <th>valid_loss</th>\n",
       "      <th>_rmse</th>\n",
       "      <th>time</th>\n",
       "    </tr>\n",
       "  </thead>\n",
       "  <tbody>\n",
       "    <tr>\n",
       "      <td>0</td>\n",
       "      <td>3.991505</td>\n",
       "      <td>4.984871</td>\n",
       "      <td>2.232682</td>\n",
       "      <td>00:12</td>\n",
       "    </tr>\n",
       "    <tr>\n",
       "      <td>1</td>\n",
       "      <td>3.961542</td>\n",
       "      <td>4.329923</td>\n",
       "      <td>2.080847</td>\n",
       "      <td>00:12</td>\n",
       "    </tr>\n",
       "    <tr>\n",
       "      <td>2</td>\n",
       "      <td>3.647326</td>\n",
       "      <td>4.893950</td>\n",
       "      <td>2.212228</td>\n",
       "      <td>00:12</td>\n",
       "    </tr>\n",
       "    <tr>\n",
       "      <td>3</td>\n",
       "      <td>3.392024</td>\n",
       "      <td>3.890459</td>\n",
       "      <td>1.972425</td>\n",
       "      <td>00:12</td>\n",
       "    </tr>\n",
       "    <tr>\n",
       "      <td>4</td>\n",
       "      <td>3.599243</td>\n",
       "      <td>3.904349</td>\n",
       "      <td>1.975942</td>\n",
       "      <td>00:13</td>\n",
       "    </tr>\n",
       "    <tr>\n",
       "      <td>5</td>\n",
       "      <td>3.205671</td>\n",
       "      <td>3.714007</td>\n",
       "      <td>1.927176</td>\n",
       "      <td>00:12</td>\n",
       "    </tr>\n",
       "    <tr>\n",
       "      <td>6</td>\n",
       "      <td>3.218670</td>\n",
       "      <td>3.690068</td>\n",
       "      <td>1.920955</td>\n",
       "      <td>00:12</td>\n",
       "    </tr>\n",
       "  </tbody>\n",
       "</table>"
      ],
      "text/plain": [
       "<IPython.core.display.HTML object>"
      ]
     },
     "metadata": {},
     "output_type": "display_data"
    }
   ],
   "source": [
    "# seems to work ok without the lag vars\n",
    "learn.fit_one_cycle(7, 1e-2, wd=0.2)"
   ]
  },
  {
   "cell_type": "code",
   "execution_count": 22,
   "metadata": {},
   "outputs": [
    {
     "data": {
      "text/html": [],
      "text/plain": [
       "<IPython.core.display.HTML object>"
      ]
     },
     "metadata": {},
     "output_type": "display_data"
    },
    {
     "data": {
      "text/plain": [
       "1.920955"
      ]
     },
     "execution_count": 22,
     "metadata": {},
     "output_type": "execute_result"
    }
   ],
   "source": [
    "# check that rmse matches the training output above\n",
    "preds,targs = learn.get_preds()\n",
    "r_mse(preds,targs)"
   ]
  },
  {
   "cell_type": "markdown",
   "metadata": {},
   "source": [
    "get_preds() returns tensors which don't work for our existing mean absolute error function, so we'll create a slightly different function that works in this case."
   ]
  },
  {
   "cell_type": "code",
   "execution_count": 24,
   "metadata": {},
   "outputs": [],
   "source": [
    "def mae_tensor(pred,y): return round((abs(pred-y)).mean().item(), 6)"
   ]
  },
  {
   "cell_type": "code",
   "execution_count": 44,
   "metadata": {},
   "outputs": [
    {
     "data": {
      "text/plain": [
       "1.086671"
      ]
     },
     "execution_count": 44,
     "metadata": {},
     "output_type": "execute_result"
    }
   ],
   "source": [
    "mae_tensor(preds,targs)"
   ]
  },
  {
   "cell_type": "markdown",
   "metadata": {},
   "source": [
    "This actually looks to be worse than both random forest and XGBoost, but let's go ahead and run it across the whole season it see if that is consistently the case."
   ]
  },
  {
   "cell_type": "code",
   "execution_count": 49,
   "metadata": {},
   "outputs": [],
   "source": [
    "def nn_season(df, valid_season='1920'):\n",
    "\n",
    "    # empty list for scores\n",
    "    scores = []\n",
    "    valid_len = 6\n",
    "\n",
    "    # set limits\n",
    "    max_y = np.max(df['total_points'])\n",
    "    min_y = np.min(df['total_points'])\n",
    "    y_range = (-1, max_y)\n",
    "\n",
    "    for valid_gw in range(1,34): \n",
    "\n",
    "        train_valid_df, train_idx, valid_idx = create_lag_train(df, cat_vars, cont_vars, \n",
    "                                                        player_lag_vars, team_lag_vars, dep_var,\n",
    "                                                        valid_season, valid_gw, valid_len)\n",
    "\n",
    "        X, y = train_valid_df[cat_vars + cont_vars + player_lag_vars + team_lag_vars].copy(), train_valid_df[dep_var].copy()\n",
    "\n",
    "        # create train/valid splits\n",
    "        splits = (list(train_idx), list(valid_idx))\n",
    "\n",
    "        # processors - categorify categorical variables and normalize continuous variables\n",
    "        # fill missing not used because new teams are almost certainly well below the league average\n",
    "        procs=[Categorify, Normalize]\n",
    "        to_nn = TabularPandas(train_valid_df, procs, cat_vars + ['player'], cont_vars, #+ player_lag_vars + team_lag_vars,\n",
    "                              splits=splits, y_names=dep_var)\n",
    "\n",
    "        dls = to_nn.dataloaders()\n",
    "\n",
    "        learn = tabular_learner(dls, y_range=y_range, layers=[1000,500], ps=[0.001,0.01], emb_drop=0.04,\n",
    "                            n_out=1, loss_func=F.mse_loss, metrics=rmse)\n",
    "\n",
    "        # seems to work ok without the lag vars\n",
    "        with learn.no_bar() and learn.no_logging():\n",
    "            learn.fit_one_cycle(7, 1e-2, wd=0.2, verbose=False)\n",
    "\n",
    "        preds,targs = learn.get_preds()\n",
    "        gw_mae = mae_tensor(preds,targs)\n",
    "\n",
    "        print(\"GW%d MAE: %f\" % (valid_gw, gw_mae))\n",
    "\n",
    "        scores.append(gw_mae)\n",
    "        \n",
    "    return scores"
   ]
  },
  {
   "cell_type": "code",
   "execution_count": 50,
   "metadata": {},
   "outputs": [
    {
     "data": {
      "text/html": [],
      "text/plain": [
       "<IPython.core.display.HTML object>"
      ]
     },
     "metadata": {},
     "output_type": "display_data"
    },
    {
     "data": {
      "text/html": [],
      "text/plain": [
       "<IPython.core.display.HTML object>"
      ]
     },
     "metadata": {},
     "output_type": "display_data"
    },
    {
     "name": "stdout",
     "output_type": "stream",
     "text": [
      "GW1 MAE: 1.052098\n"
     ]
    },
    {
     "data": {
      "text/html": [],
      "text/plain": [
       "<IPython.core.display.HTML object>"
      ]
     },
     "metadata": {},
     "output_type": "display_data"
    },
    {
     "data": {
      "text/html": [],
      "text/plain": [
       "<IPython.core.display.HTML object>"
      ]
     },
     "metadata": {},
     "output_type": "display_data"
    },
    {
     "name": "stdout",
     "output_type": "stream",
     "text": [
      "GW2 MAE: 1.026132\n"
     ]
    },
    {
     "data": {
      "text/html": [],
      "text/plain": [
       "<IPython.core.display.HTML object>"
      ]
     },
     "metadata": {},
     "output_type": "display_data"
    },
    {
     "data": {
      "text/html": [],
      "text/plain": [
       "<IPython.core.display.HTML object>"
      ]
     },
     "metadata": {},
     "output_type": "display_data"
    },
    {
     "name": "stdout",
     "output_type": "stream",
     "text": [
      "GW3 MAE: 1.060525\n"
     ]
    },
    {
     "data": {
      "text/html": [],
      "text/plain": [
       "<IPython.core.display.HTML object>"
      ]
     },
     "metadata": {},
     "output_type": "display_data"
    },
    {
     "data": {
      "text/html": [],
      "text/plain": [
       "<IPython.core.display.HTML object>"
      ]
     },
     "metadata": {},
     "output_type": "display_data"
    },
    {
     "name": "stdout",
     "output_type": "stream",
     "text": [
      "GW4 MAE: 1.050153\n"
     ]
    },
    {
     "data": {
      "text/html": [],
      "text/plain": [
       "<IPython.core.display.HTML object>"
      ]
     },
     "metadata": {},
     "output_type": "display_data"
    },
    {
     "data": {
      "text/html": [],
      "text/plain": [
       "<IPython.core.display.HTML object>"
      ]
     },
     "metadata": {},
     "output_type": "display_data"
    },
    {
     "name": "stdout",
     "output_type": "stream",
     "text": [
      "GW5 MAE: 1.060475\n"
     ]
    },
    {
     "data": {
      "text/html": [],
      "text/plain": [
       "<IPython.core.display.HTML object>"
      ]
     },
     "metadata": {},
     "output_type": "display_data"
    },
    {
     "data": {
      "text/html": [],
      "text/plain": [
       "<IPython.core.display.HTML object>"
      ]
     },
     "metadata": {},
     "output_type": "display_data"
    },
    {
     "name": "stdout",
     "output_type": "stream",
     "text": [
      "GW6 MAE: 1.059864\n"
     ]
    },
    {
     "data": {
      "text/html": [],
      "text/plain": [
       "<IPython.core.display.HTML object>"
      ]
     },
     "metadata": {},
     "output_type": "display_data"
    },
    {
     "data": {
      "text/html": [],
      "text/plain": [
       "<IPython.core.display.HTML object>"
      ]
     },
     "metadata": {},
     "output_type": "display_data"
    },
    {
     "name": "stdout",
     "output_type": "stream",
     "text": [
      "GW7 MAE: 1.022981\n"
     ]
    },
    {
     "data": {
      "text/html": [],
      "text/plain": [
       "<IPython.core.display.HTML object>"
      ]
     },
     "metadata": {},
     "output_type": "display_data"
    },
    {
     "data": {
      "text/html": [],
      "text/plain": [
       "<IPython.core.display.HTML object>"
      ]
     },
     "metadata": {},
     "output_type": "display_data"
    },
    {
     "name": "stdout",
     "output_type": "stream",
     "text": [
      "GW8 MAE: 1.024074\n"
     ]
    },
    {
     "data": {
      "text/html": [],
      "text/plain": [
       "<IPython.core.display.HTML object>"
      ]
     },
     "metadata": {},
     "output_type": "display_data"
    },
    {
     "data": {
      "text/html": [],
      "text/plain": [
       "<IPython.core.display.HTML object>"
      ]
     },
     "metadata": {},
     "output_type": "display_data"
    },
    {
     "name": "stdout",
     "output_type": "stream",
     "text": [
      "GW9 MAE: 1.027962\n"
     ]
    },
    {
     "data": {
      "text/html": [],
      "text/plain": [
       "<IPython.core.display.HTML object>"
      ]
     },
     "metadata": {},
     "output_type": "display_data"
    },
    {
     "data": {
      "text/html": [],
      "text/plain": [
       "<IPython.core.display.HTML object>"
      ]
     },
     "metadata": {},
     "output_type": "display_data"
    },
    {
     "name": "stdout",
     "output_type": "stream",
     "text": [
      "GW10 MAE: 1.039557\n"
     ]
    },
    {
     "data": {
      "text/html": [],
      "text/plain": [
       "<IPython.core.display.HTML object>"
      ]
     },
     "metadata": {},
     "output_type": "display_data"
    },
    {
     "data": {
      "text/html": [],
      "text/plain": [
       "<IPython.core.display.HTML object>"
      ]
     },
     "metadata": {},
     "output_type": "display_data"
    },
    {
     "name": "stdout",
     "output_type": "stream",
     "text": [
      "GW11 MAE: 0.999333\n"
     ]
    },
    {
     "data": {
      "text/html": [],
      "text/plain": [
       "<IPython.core.display.HTML object>"
      ]
     },
     "metadata": {},
     "output_type": "display_data"
    },
    {
     "data": {
      "text/html": [],
      "text/plain": [
       "<IPython.core.display.HTML object>"
      ]
     },
     "metadata": {},
     "output_type": "display_data"
    },
    {
     "name": "stdout",
     "output_type": "stream",
     "text": [
      "GW12 MAE: 0.986778\n"
     ]
    },
    {
     "data": {
      "text/html": [],
      "text/plain": [
       "<IPython.core.display.HTML object>"
      ]
     },
     "metadata": {},
     "output_type": "display_data"
    },
    {
     "data": {
      "text/html": [],
      "text/plain": [
       "<IPython.core.display.HTML object>"
      ]
     },
     "metadata": {},
     "output_type": "display_data"
    },
    {
     "name": "stdout",
     "output_type": "stream",
     "text": [
      "GW13 MAE: 0.986875\n"
     ]
    },
    {
     "data": {
      "text/html": [],
      "text/plain": [
       "<IPython.core.display.HTML object>"
      ]
     },
     "metadata": {},
     "output_type": "display_data"
    },
    {
     "data": {
      "text/html": [],
      "text/plain": [
       "<IPython.core.display.HTML object>"
      ]
     },
     "metadata": {},
     "output_type": "display_data"
    },
    {
     "name": "stdout",
     "output_type": "stream",
     "text": [
      "GW14 MAE: 0.976821\n"
     ]
    },
    {
     "data": {
      "text/html": [],
      "text/plain": [
       "<IPython.core.display.HTML object>"
      ]
     },
     "metadata": {},
     "output_type": "display_data"
    },
    {
     "data": {
      "text/html": [],
      "text/plain": [
       "<IPython.core.display.HTML object>"
      ]
     },
     "metadata": {},
     "output_type": "display_data"
    },
    {
     "name": "stdout",
     "output_type": "stream",
     "text": [
      "GW15 MAE: 0.959809\n"
     ]
    },
    {
     "data": {
      "text/html": [],
      "text/plain": [
       "<IPython.core.display.HTML object>"
      ]
     },
     "metadata": {},
     "output_type": "display_data"
    },
    {
     "data": {
      "text/html": [],
      "text/plain": [
       "<IPython.core.display.HTML object>"
      ]
     },
     "metadata": {},
     "output_type": "display_data"
    },
    {
     "name": "stdout",
     "output_type": "stream",
     "text": [
      "GW16 MAE: 0.973564\n"
     ]
    },
    {
     "data": {
      "text/html": [],
      "text/plain": [
       "<IPython.core.display.HTML object>"
      ]
     },
     "metadata": {},
     "output_type": "display_data"
    },
    {
     "data": {
      "text/html": [],
      "text/plain": [
       "<IPython.core.display.HTML object>"
      ]
     },
     "metadata": {},
     "output_type": "display_data"
    },
    {
     "name": "stdout",
     "output_type": "stream",
     "text": [
      "GW17 MAE: 0.943456\n"
     ]
    },
    {
     "data": {
      "text/html": [],
      "text/plain": [
       "<IPython.core.display.HTML object>"
      ]
     },
     "metadata": {},
     "output_type": "display_data"
    },
    {
     "data": {
      "text/html": [],
      "text/plain": [
       "<IPython.core.display.HTML object>"
      ]
     },
     "metadata": {},
     "output_type": "display_data"
    },
    {
     "name": "stdout",
     "output_type": "stream",
     "text": [
      "GW18 MAE: 0.896393\n"
     ]
    },
    {
     "data": {
      "text/html": [],
      "text/plain": [
       "<IPython.core.display.HTML object>"
      ]
     },
     "metadata": {},
     "output_type": "display_data"
    },
    {
     "data": {
      "text/html": [],
      "text/plain": [
       "<IPython.core.display.HTML object>"
      ]
     },
     "metadata": {},
     "output_type": "display_data"
    },
    {
     "name": "stdout",
     "output_type": "stream",
     "text": [
      "GW19 MAE: 0.910562\n"
     ]
    },
    {
     "data": {
      "text/html": [],
      "text/plain": [
       "<IPython.core.display.HTML object>"
      ]
     },
     "metadata": {},
     "output_type": "display_data"
    },
    {
     "data": {
      "text/html": [],
      "text/plain": [
       "<IPython.core.display.HTML object>"
      ]
     },
     "metadata": {},
     "output_type": "display_data"
    },
    {
     "name": "stdout",
     "output_type": "stream",
     "text": [
      "GW20 MAE: 0.931715\n"
     ]
    },
    {
     "data": {
      "text/html": [],
      "text/plain": [
       "<IPython.core.display.HTML object>"
      ]
     },
     "metadata": {},
     "output_type": "display_data"
    },
    {
     "data": {
      "text/html": [],
      "text/plain": [
       "<IPython.core.display.HTML object>"
      ]
     },
     "metadata": {},
     "output_type": "display_data"
    },
    {
     "name": "stdout",
     "output_type": "stream",
     "text": [
      "GW21 MAE: 0.916993\n"
     ]
    },
    {
     "data": {
      "text/html": [],
      "text/plain": [
       "<IPython.core.display.HTML object>"
      ]
     },
     "metadata": {},
     "output_type": "display_data"
    },
    {
     "data": {
      "text/html": [],
      "text/plain": [
       "<IPython.core.display.HTML object>"
      ]
     },
     "metadata": {},
     "output_type": "display_data"
    },
    {
     "name": "stdout",
     "output_type": "stream",
     "text": [
      "GW22 MAE: 0.896387\n"
     ]
    },
    {
     "data": {
      "text/html": [],
      "text/plain": [
       "<IPython.core.display.HTML object>"
      ]
     },
     "metadata": {},
     "output_type": "display_data"
    },
    {
     "data": {
      "text/html": [],
      "text/plain": [
       "<IPython.core.display.HTML object>"
      ]
     },
     "metadata": {},
     "output_type": "display_data"
    },
    {
     "name": "stdout",
     "output_type": "stream",
     "text": [
      "GW23 MAE: 0.886316\n"
     ]
    },
    {
     "data": {
      "text/html": [],
      "text/plain": [
       "<IPython.core.display.HTML object>"
      ]
     },
     "metadata": {},
     "output_type": "display_data"
    },
    {
     "data": {
      "text/html": [],
      "text/plain": [
       "<IPython.core.display.HTML object>"
      ]
     },
     "metadata": {},
     "output_type": "display_data"
    },
    {
     "name": "stdout",
     "output_type": "stream",
     "text": [
      "GW24 MAE: 0.926095\n"
     ]
    },
    {
     "data": {
      "text/html": [],
      "text/plain": [
       "<IPython.core.display.HTML object>"
      ]
     },
     "metadata": {},
     "output_type": "display_data"
    },
    {
     "data": {
      "text/html": [],
      "text/plain": [
       "<IPython.core.display.HTML object>"
      ]
     },
     "metadata": {},
     "output_type": "display_data"
    },
    {
     "name": "stdout",
     "output_type": "stream",
     "text": [
      "GW25 MAE: 0.894810\n"
     ]
    },
    {
     "data": {
      "text/html": [],
      "text/plain": [
       "<IPython.core.display.HTML object>"
      ]
     },
     "metadata": {},
     "output_type": "display_data"
    },
    {
     "data": {
      "text/html": [],
      "text/plain": [
       "<IPython.core.display.HTML object>"
      ]
     },
     "metadata": {},
     "output_type": "display_data"
    },
    {
     "name": "stdout",
     "output_type": "stream",
     "text": [
      "GW26 MAE: 0.864132\n"
     ]
    },
    {
     "data": {
      "text/html": [],
      "text/plain": [
       "<IPython.core.display.HTML object>"
      ]
     },
     "metadata": {},
     "output_type": "display_data"
    },
    {
     "data": {
      "text/html": [],
      "text/plain": [
       "<IPython.core.display.HTML object>"
      ]
     },
     "metadata": {},
     "output_type": "display_data"
    },
    {
     "name": "stdout",
     "output_type": "stream",
     "text": [
      "GW27 MAE: 0.918989\n"
     ]
    },
    {
     "data": {
      "text/html": [],
      "text/plain": [
       "<IPython.core.display.HTML object>"
      ]
     },
     "metadata": {},
     "output_type": "display_data"
    },
    {
     "data": {
      "text/html": [],
      "text/plain": [
       "<IPython.core.display.HTML object>"
      ]
     },
     "metadata": {},
     "output_type": "display_data"
    },
    {
     "name": "stdout",
     "output_type": "stream",
     "text": [
      "GW28 MAE: 0.892087\n"
     ]
    },
    {
     "data": {
      "text/html": [],
      "text/plain": [
       "<IPython.core.display.HTML object>"
      ]
     },
     "metadata": {},
     "output_type": "display_data"
    },
    {
     "data": {
      "text/html": [],
      "text/plain": [
       "<IPython.core.display.HTML object>"
      ]
     },
     "metadata": {},
     "output_type": "display_data"
    },
    {
     "name": "stdout",
     "output_type": "stream",
     "text": [
      "GW29 MAE: 0.883615\n"
     ]
    },
    {
     "data": {
      "text/html": [],
      "text/plain": [
       "<IPython.core.display.HTML object>"
      ]
     },
     "metadata": {},
     "output_type": "display_data"
    },
    {
     "data": {
      "text/html": [],
      "text/plain": [
       "<IPython.core.display.HTML object>"
      ]
     },
     "metadata": {},
     "output_type": "display_data"
    },
    {
     "name": "stdout",
     "output_type": "stream",
     "text": [
      "GW30 MAE: 0.921161\n"
     ]
    },
    {
     "data": {
      "text/html": [],
      "text/plain": [
       "<IPython.core.display.HTML object>"
      ]
     },
     "metadata": {},
     "output_type": "display_data"
    },
    {
     "data": {
      "text/html": [],
      "text/plain": [
       "<IPython.core.display.HTML object>"
      ]
     },
     "metadata": {},
     "output_type": "display_data"
    },
    {
     "name": "stdout",
     "output_type": "stream",
     "text": [
      "GW31 MAE: 0.875136\n"
     ]
    },
    {
     "data": {
      "text/html": [],
      "text/plain": [
       "<IPython.core.display.HTML object>"
      ]
     },
     "metadata": {},
     "output_type": "display_data"
    },
    {
     "data": {
      "text/html": [],
      "text/plain": [
       "<IPython.core.display.HTML object>"
      ]
     },
     "metadata": {},
     "output_type": "display_data"
    },
    {
     "name": "stdout",
     "output_type": "stream",
     "text": [
      "GW32 MAE: 0.862223\n"
     ]
    },
    {
     "data": {
      "text/html": [],
      "text/plain": [
       "<IPython.core.display.HTML object>"
      ]
     },
     "metadata": {},
     "output_type": "display_data"
    },
    {
     "data": {
      "text/html": [],
      "text/plain": [
       "<IPython.core.display.HTML object>"
      ]
     },
     "metadata": {},
     "output_type": "display_data"
    },
    {
     "name": "stdout",
     "output_type": "stream",
     "text": [
      "GW33 MAE: 0.869562\n"
     ]
    }
   ],
   "source": [
    "scores = nn_season(lag_train_df)"
   ]
  },
  {
   "cell_type": "code",
   "execution_count": 51,
   "metadata": {},
   "outputs": [
    {
     "data": {
      "image/png": "[encoded data removed]",
      "text/plain": [
       "<Figure size 432x288 with 1 Axes>"
      ]
     },
     "metadata": {
      "needs_background": "light"
     },
     "output_type": "display_data"
    }
   ],
   "source": [
    "plt.plot(scores)\n",
    "plt.ylabel('GW MAE')\n",
    "plt.xlabel('GW')\n",
    "plt.text(15, 1, 'Season Avg MAE: %.2f' % np.mean(scores), bbox={'facecolor':'white', 'alpha':1, 'pad':5})\n",
    "plt.show()"
   ]
  },
  {
   "cell_type": "markdown",
   "metadata": {},
   "source": [
    "The performance does appear to be consistently worse across the season than the current iterations of both random forest and XGBoost, although it still outperforms the baseline model by a significant margin. In practice it may be that playing around with the model architecture, hyperparameters and feature selection could improve performance significantly.\n",
    "\n",
    "Another challenge is that performance varies when repeating the training using the same data - this non-deterministic behaviour is not necessarily a big issue, but it can raise questions from users when they see seemingly unexplainable differences in player forecasts from week to week (or within week if retraining is performed for some reason).\n",
    "\n",
    "Let's add this final model to our scores dataset."
   ]
  },
  {
   "cell_type": "code",
   "execution_count": 9,
   "metadata": {},
   "outputs": [],
   "source": [
    "model_validation_scores = pd.read_csv(path/'charts/model_validation_scores.csv', index_col=0)\n",
    "model_validation_scores['neural_net'] = scores\n",
    "model_validation_scores.to_csv(path/'charts/model_validation_scores.csv')"
   ]
  },
  {
   "cell_type": "code",
   "execution_count": 10,
   "metadata": {},
   "outputs": [],
   "source": [
    "# sort scores by reverse overall mean score\n",
    "model_validation_scores = model_validation_scores.reindex(model_validation_scores.mean()\n",
    "                                                          .sort_values().index[::-1],\n",
    "                                                          axis=1)"
   ]
  },
  {
   "cell_type": "code",
   "execution_count": 13,
   "metadata": {},
   "outputs": [],
   "source": [
    "style.use('fivethirtyeight')"
   ]
  },
  {
   "cell_type": "markdown",
   "metadata": {},
   "source": [
    "And we can create a chart comparing all four approaches."
   ]
  },
  {
   "cell_type": "code",
   "execution_count": 21,
   "metadata": {
    "scrolled": true
   },
   "outputs": [
    {
     "data": {
      "image/png": "[encoded data removed]",
      "text/plain": [
       "<Figure size 1080x576 with 1 Axes>"
      ]
     },
     "metadata": {},
     "output_type": "display_data"
    }
   ],
   "source": [
    "fig = plt.figure(figsize=(15, 8))\n",
    "\n",
    "plt.plot(model_validation_scores)\n",
    "\n",
    "legend_text = ['%s (%.3f)' %(model_validation_scores.columns[x], \n",
    "                             np.mean(model_validation_scores.iloc[:,x])) for x in range(4)]\n",
    "\n",
    "plt.legend(legend_text, title='Model (season average)', title_fontsize='16')\n",
    "plt.ylabel('GW MAE')\n",
    "plt.xlabel('GW')\n",
    "plt.show()\n",
    "\n",
    "fig.savefig(path/'charts/comparison_chart.png')"
   ]
  },
  {
   "cell_type": "markdown",
   "metadata": {},
   "source": [
    "So, based on performance and consistency, we will be using the XGBoost approach for our actual weekly forecasts. "
   ]
  }
 ],
 "metadata": {
  "kernelspec": {
   "display_name": "Python 3",
   "language": "python",
   "name": "python3"
  },
  "language_info": {
   "codemirror_mode": {
    "name": "ipython",
    "version": 3
   },
   "file_extension": ".py",
   "mimetype": "text/x-python",
   "name": "python",
   "nbconvert_exporter": "python",
   "pygments_lexer": "ipython3",
   "version": "3.8.5"
  }
 },
 "nbformat": 4,
 "nbformat_minor": 4
}
