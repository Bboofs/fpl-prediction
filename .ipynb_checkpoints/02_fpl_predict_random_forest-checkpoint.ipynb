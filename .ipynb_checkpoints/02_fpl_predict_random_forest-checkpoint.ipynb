{
 "cells": [
  {
   "cell_type": "code",
   "execution_count": 1,
   "metadata": {},
   "outputs": [],
   "source": [
    "import pandas as pd\n",
    "import numpy as np\n",
    "from pathlib import Path\n",
    "import matplotlib.pyplot as plt\n",
    "from sklearn.preprocessing import LabelEncoder\n",
    "from sklearn.feature_extraction import DictVectorizer\n",
    "from sklearn.ensemble import RandomForestRegressor\n",
    "from sklearn.impute import SimpleImputer\n",
    "from sklearn.inspection import plot_partial_dependence\n",
    "from dtreeviz.trees import *\n",
    "import scipy as sp\n",
    "from scipy.cluster import hierarchy as hc\n",
    "from helpers import *"
   ]
  },
  {
   "cell_type": "code",
   "execution_count": 2,
   "metadata": {},
   "outputs": [],
   "source": [
    "# path to project directory\n",
    "path = Path('./')"
   ]
  },
  {
   "cell_type": "code",
   "execution_count": 3,
   "metadata": {},
   "outputs": [],
   "source": [
    "# read in training dataset\n",
    "train_df = pd.read_csv(path/'data/train_v5.csv', index_col=0, dtype={'season':str})"
   ]
  },
  {
   "cell_type": "markdown",
   "metadata": {},
   "source": [
    "## Random Forest\n",
    "\n",
    "Random Forest is an ensemble tree-based predictive algorithm. In this case we will be using it for regression - we want to predict a continuous number, predicted points, for each player each game. It works by training many separate decision trees, each using a subset of the training data, and outputs the average prediction across all trees.\n",
    "\n",
    "Applying it to a time series problem, where metrics from recent time periods can be predicitve, requires us to add in window features (e.g. points scored last gameweek). These are created using the player_lag_features function from 00_fpl_features."
   ]
  },
  {
   "cell_type": "code",
   "execution_count": 4,
   "metadata": {},
   "outputs": [],
   "source": [
    "# add a bunch of player lag features\n",
    "lag_train_df, team_lag_vars = team_lag_features(train_df, ['total_points'], ['all', 1, 2, 3, 4, 5, 10])\n",
    "lag_train_df, player_lag_vars = player_lag_features(lag_train_df, ['total_points'], ['all', 1, 2, 3, 4, 5, 10])"
   ]
  },
  {
   "cell_type": "markdown",
   "metadata": {},
   "source": [
    "Similar to the simple model, we'll set the validation period to be gameweeks 20-25 of the 2019/20 season - the model will be trained on all data prior to that period. This time however, we'll be using some additional features: the season, gameweek, player position, home/away, and both teams, as well as all the lagging features we created above."
   ]
  },
  {
   "cell_type": "code",
   "execution_count": 5,
   "metadata": {},
   "outputs": [],
   "source": [
    "# set validaton point/length and categorical/continuous variables\n",
    "valid_season = '1920'\n",
    "valid_gw = 20\n",
    "valid_len = 6\n",
    "cat_vars = ['season', 'position', 'was_home', 'team', 'opponent_team']\n",
    "cont_vars = ['gw', 'minutes']\n",
    "dep_var = ['total_points']"
   ]
  },
  {
   "cell_type": "markdown",
   "metadata": {},
   "source": [
    "Some of the features have an order (2019/20 season is after 2019 season) whereas others do not (position). We can set this in the data where appropriate using an ordered category (e.g. 1617 < 1718 < 1819 < 1920 < 2021)."
   ]
  },
  {
   "cell_type": "code",
   "execution_count": 6,
   "metadata": {},
   "outputs": [],
   "source": [
    "# we want to set gw and season as ordered categorical variables\n",
    "# need lists with ordered categories\n",
    "ordered_gws = list(range(1,39))\n",
    "ordered_seasons = ['1617', '1718', '1819', '1920', '2021']\n",
    "\n",
    "# set as categories with correct order \n",
    "lag_train_df['gw'] = lag_train_df['gw'].astype('category')\n",
    "lag_train_df['season'] = lag_train_df['season'].astype('category')\n",
    "\n",
    "lag_train_df['gw'].cat.set_categories(ordered_gws, ordered=True, inplace=True)\n",
    "lag_train_df['season'].cat.set_categories(ordered_seasons, ordered=True, inplace=True)"
   ]
  },
  {
   "cell_type": "code",
   "execution_count": 7,
   "metadata": {},
   "outputs": [
    {
     "data": {
      "text/plain": [
       "0        1617\n",
       "1        1617\n",
       "2        1617\n",
       "3        1617\n",
       "4        1617\n",
       "         ... \n",
       "91950    2021\n",
       "91951    2021\n",
       "91952    2021\n",
       "91953    2021\n",
       "91954    2021\n",
       "Name: season, Length: 91955, dtype: category\n",
       "Categories (5, object): ['1617' < '1718' < '1819' < '1920' < '2021']"
      ]
     },
     "execution_count": 7,
     "metadata": {},
     "output_type": "execute_result"
    }
   ],
   "source": [
    "lag_train_df['season']"
   ]
  },
  {
   "cell_type": "markdown",
   "metadata": {},
   "source": [
    "And now we can go ahead and create our training and validation sets using the function we definted in the last notebook."
   ]
  },
  {
   "cell_type": "code",
   "execution_count": 8,
   "metadata": {},
   "outputs": [],
   "source": [
    "# create dataset with adjusted post-validation lag numbers\n",
    "train_valid_df, train_idx, valid_idx = create_lag_train(lag_train_df, \n",
    "                                                      cat_vars, cont_vars, \n",
    "                                                      player_lag_vars, team_lag_vars, dep_var,\n",
    "                                                      valid_season, valid_gw, valid_len)"
   ]
  },
  {
   "cell_type": "markdown",
   "metadata": {},
   "source": [
    "The way we calculate our lag features means that there will be null values in our dataset. This will cause an error when using random forest in scikit learn, so we will set them all to zero for now (although note that this may not be the best fill strategy). "
   ]
  },
  {
   "cell_type": "code",
   "execution_count": 9,
   "metadata": {},
   "outputs": [
    {
     "data": {
      "text/html": [
       "<div>\n",
       "<style scoped>\n",
       "    .dataframe tbody tr th:only-of-type {\n",
       "        vertical-align: middle;\n",
       "    }\n",
       "\n",
       "    .dataframe tbody tr th {\n",
       "        vertical-align: top;\n",
       "    }\n",
       "\n",
       "    .dataframe thead th {\n",
       "        text-align: right;\n",
       "    }\n",
       "</style>\n",
       "<table border=\"1\" class=\"dataframe\">\n",
       "  <thead>\n",
       "    <tr style=\"text-align: right;\">\n",
       "      <th></th>\n",
       "      <th>player</th>\n",
       "      <th>gw</th>\n",
       "      <th>position</th>\n",
       "      <th>minutes</th>\n",
       "      <th>team</th>\n",
       "      <th>opponent_team</th>\n",
       "      <th>relative_market_value_team</th>\n",
       "      <th>relative_market_value_opponent_team</th>\n",
       "      <th>was_home</th>\n",
       "      <th>total_points</th>\n",
       "      <th>...</th>\n",
       "      <th>total_points_last_2</th>\n",
       "      <th>total_points_pg_last_2</th>\n",
       "      <th>total_points_last_3</th>\n",
       "      <th>total_points_pg_last_3</th>\n",
       "      <th>total_points_last_4</th>\n",
       "      <th>total_points_pg_last_4</th>\n",
       "      <th>total_points_last_5</th>\n",
       "      <th>total_points_pg_last_5</th>\n",
       "      <th>total_points_last_10</th>\n",
       "      <th>total_points_pg_last_10</th>\n",
       "    </tr>\n",
       "  </thead>\n",
       "  <tbody>\n",
       "    <tr>\n",
       "      <th>0</th>\n",
       "      <td>Aaron_Cresswell</td>\n",
       "      <td>1</td>\n",
       "      <td>2</td>\n",
       "      <td>0</td>\n",
       "      <td>West Ham United</td>\n",
       "      <td>Chelsea</td>\n",
       "      <td>NaN</td>\n",
       "      <td>NaN</td>\n",
       "      <td>False</td>\n",
       "      <td>0</td>\n",
       "      <td>...</td>\n",
       "      <td>0.0</td>\n",
       "      <td>NaN</td>\n",
       "      <td>0.0</td>\n",
       "      <td>NaN</td>\n",
       "      <td>0.0</td>\n",
       "      <td>NaN</td>\n",
       "      <td>0.0</td>\n",
       "      <td>NaN</td>\n",
       "      <td>0.0</td>\n",
       "      <td>NaN</td>\n",
       "    </tr>\n",
       "    <tr>\n",
       "      <th>1</th>\n",
       "      <td>Aaron_Lennon</td>\n",
       "      <td>1</td>\n",
       "      <td>3</td>\n",
       "      <td>15</td>\n",
       "      <td>Everton</td>\n",
       "      <td>Tottenham Hotspur</td>\n",
       "      <td>NaN</td>\n",
       "      <td>NaN</td>\n",
       "      <td>True</td>\n",
       "      <td>1</td>\n",
       "      <td>...</td>\n",
       "      <td>0.0</td>\n",
       "      <td>NaN</td>\n",
       "      <td>0.0</td>\n",
       "      <td>NaN</td>\n",
       "      <td>0.0</td>\n",
       "      <td>NaN</td>\n",
       "      <td>0.0</td>\n",
       "      <td>NaN</td>\n",
       "      <td>0.0</td>\n",
       "      <td>NaN</td>\n",
       "    </tr>\n",
       "    <tr>\n",
       "      <th>2</th>\n",
       "      <td>Aaron_Ramsey</td>\n",
       "      <td>1</td>\n",
       "      <td>3</td>\n",
       "      <td>60</td>\n",
       "      <td>Arsenal</td>\n",
       "      <td>Liverpool</td>\n",
       "      <td>NaN</td>\n",
       "      <td>NaN</td>\n",
       "      <td>True</td>\n",
       "      <td>2</td>\n",
       "      <td>...</td>\n",
       "      <td>0.0</td>\n",
       "      <td>NaN</td>\n",
       "      <td>0.0</td>\n",
       "      <td>NaN</td>\n",
       "      <td>0.0</td>\n",
       "      <td>NaN</td>\n",
       "      <td>0.0</td>\n",
       "      <td>NaN</td>\n",
       "      <td>0.0</td>\n",
       "      <td>NaN</td>\n",
       "    </tr>\n",
       "    <tr>\n",
       "      <th>3</th>\n",
       "      <td>Abdoulaye_Doucouré</td>\n",
       "      <td>1</td>\n",
       "      <td>3</td>\n",
       "      <td>0</td>\n",
       "      <td>Watford</td>\n",
       "      <td>Southampton</td>\n",
       "      <td>NaN</td>\n",
       "      <td>NaN</td>\n",
       "      <td>False</td>\n",
       "      <td>0</td>\n",
       "      <td>...</td>\n",
       "      <td>0.0</td>\n",
       "      <td>NaN</td>\n",
       "      <td>0.0</td>\n",
       "      <td>NaN</td>\n",
       "      <td>0.0</td>\n",
       "      <td>NaN</td>\n",
       "      <td>0.0</td>\n",
       "      <td>NaN</td>\n",
       "      <td>0.0</td>\n",
       "      <td>NaN</td>\n",
       "    </tr>\n",
       "    <tr>\n",
       "      <th>4</th>\n",
       "      <td>Abdul Rahman_Baba</td>\n",
       "      <td>1</td>\n",
       "      <td>2</td>\n",
       "      <td>0</td>\n",
       "      <td>Chelsea</td>\n",
       "      <td>West Ham United</td>\n",
       "      <td>NaN</td>\n",
       "      <td>NaN</td>\n",
       "      <td>True</td>\n",
       "      <td>0</td>\n",
       "      <td>...</td>\n",
       "      <td>0.0</td>\n",
       "      <td>NaN</td>\n",
       "      <td>0.0</td>\n",
       "      <td>NaN</td>\n",
       "      <td>0.0</td>\n",
       "      <td>NaN</td>\n",
       "      <td>0.0</td>\n",
       "      <td>NaN</td>\n",
       "      <td>0.0</td>\n",
       "      <td>NaN</td>\n",
       "    </tr>\n",
       "    <tr>\n",
       "      <th>...</th>\n",
       "      <td>...</td>\n",
       "      <td>...</td>\n",
       "      <td>...</td>\n",
       "      <td>...</td>\n",
       "      <td>...</td>\n",
       "      <td>...</td>\n",
       "      <td>...</td>\n",
       "      <td>...</td>\n",
       "      <td>...</td>\n",
       "      <td>...</td>\n",
       "      <td>...</td>\n",
       "      <td>...</td>\n",
       "      <td>...</td>\n",
       "      <td>...</td>\n",
       "      <td>...</td>\n",
       "      <td>...</td>\n",
       "      <td>...</td>\n",
       "      <td>...</td>\n",
       "      <td>...</td>\n",
       "      <td>...</td>\n",
       "      <td>...</td>\n",
       "    </tr>\n",
       "    <tr>\n",
       "      <th>91946</th>\n",
       "      <td>Yan_Valery</td>\n",
       "      <td>3</td>\n",
       "      <td>2</td>\n",
       "      <td>0</td>\n",
       "      <td>Southampton</td>\n",
       "      <td>Burnley</td>\n",
       "      <td>0.483027</td>\n",
       "      <td>0.356232</td>\n",
       "      <td>False</td>\n",
       "      <td>0</td>\n",
       "      <td>...</td>\n",
       "      <td>0.0</td>\n",
       "      <td>NaN</td>\n",
       "      <td>0.0</td>\n",
       "      <td>NaN</td>\n",
       "      <td>0.0</td>\n",
       "      <td>NaN</td>\n",
       "      <td>0.0</td>\n",
       "      <td>NaN</td>\n",
       "      <td>1.0</td>\n",
       "      <td>2.0</td>\n",
       "    </tr>\n",
       "    <tr>\n",
       "      <th>91948</th>\n",
       "      <td>Yoshinori_Muto</td>\n",
       "      <td>3</td>\n",
       "      <td>4</td>\n",
       "      <td>0</td>\n",
       "      <td>Newcastle United</td>\n",
       "      <td>Tottenham Hotspur</td>\n",
       "      <td>0.614499</td>\n",
       "      <td>1.784963</td>\n",
       "      <td>False</td>\n",
       "      <td>0</td>\n",
       "      <td>...</td>\n",
       "      <td>0.0</td>\n",
       "      <td>NaN</td>\n",
       "      <td>0.0</td>\n",
       "      <td>NaN</td>\n",
       "      <td>0.0</td>\n",
       "      <td>NaN</td>\n",
       "      <td>0.0</td>\n",
       "      <td>NaN</td>\n",
       "      <td>1.0</td>\n",
       "      <td>15.0</td>\n",
       "    </tr>\n",
       "    <tr>\n",
       "      <th>91951</th>\n",
       "      <td>Zack_Steffen</td>\n",
       "      <td>3</td>\n",
       "      <td>1</td>\n",
       "      <td>0</td>\n",
       "      <td>Manchester City</td>\n",
       "      <td>Leicester City</td>\n",
       "      <td>2.373652</td>\n",
       "      <td>1.058004</td>\n",
       "      <td>True</td>\n",
       "      <td>0</td>\n",
       "      <td>...</td>\n",
       "      <td>0.0</td>\n",
       "      <td>NaN</td>\n",
       "      <td>0.0</td>\n",
       "      <td>NaN</td>\n",
       "      <td>0.0</td>\n",
       "      <td>NaN</td>\n",
       "      <td>0.0</td>\n",
       "      <td>NaN</td>\n",
       "      <td>0.0</td>\n",
       "      <td>NaN</td>\n",
       "    </tr>\n",
       "    <tr>\n",
       "      <th>91952</th>\n",
       "      <td>Zeze Steven_Sessegnon</td>\n",
       "      <td>3</td>\n",
       "      <td>2</td>\n",
       "      <td>0</td>\n",
       "      <td>Fulham</td>\n",
       "      <td>Aston Villa</td>\n",
       "      <td>0.362385</td>\n",
       "      <td>0.583273</td>\n",
       "      <td>True</td>\n",
       "      <td>0</td>\n",
       "      <td>...</td>\n",
       "      <td>0.0</td>\n",
       "      <td>NaN</td>\n",
       "      <td>0.0</td>\n",
       "      <td>NaN</td>\n",
       "      <td>0.0</td>\n",
       "      <td>NaN</td>\n",
       "      <td>0.0</td>\n",
       "      <td>NaN</td>\n",
       "      <td>0.0</td>\n",
       "      <td>NaN</td>\n",
       "    </tr>\n",
       "    <tr>\n",
       "      <th>91954</th>\n",
       "      <td>Ørjan_Nyland</td>\n",
       "      <td>3</td>\n",
       "      <td>1</td>\n",
       "      <td>0</td>\n",
       "      <td>Aston Villa</td>\n",
       "      <td>Fulham</td>\n",
       "      <td>0.583273</td>\n",
       "      <td>0.362385</td>\n",
       "      <td>False</td>\n",
       "      <td>0</td>\n",
       "      <td>...</td>\n",
       "      <td>0.0</td>\n",
       "      <td>NaN</td>\n",
       "      <td>0.0</td>\n",
       "      <td>NaN</td>\n",
       "      <td>0.0</td>\n",
       "      <td>NaN</td>\n",
       "      <td>0.0</td>\n",
       "      <td>NaN</td>\n",
       "      <td>6.0</td>\n",
       "      <td>2.0</td>\n",
       "    </tr>\n",
       "  </tbody>\n",
       "</table>\n",
       "<p>49615 rows × 88 columns</p>\n",
       "</div>"
      ],
      "text/plain": [
       "                      player gw  position  minutes              team  \\\n",
       "0            Aaron_Cresswell  1         2        0   West Ham United   \n",
       "1               Aaron_Lennon  1         3       15           Everton   \n",
       "2               Aaron_Ramsey  1         3       60           Arsenal   \n",
       "3         Abdoulaye_Doucouré  1         3        0           Watford   \n",
       "4          Abdul Rahman_Baba  1         2        0           Chelsea   \n",
       "...                      ... ..       ...      ...               ...   \n",
       "91946             Yan_Valery  3         2        0       Southampton   \n",
       "91948         Yoshinori_Muto  3         4        0  Newcastle United   \n",
       "91951           Zack_Steffen  3         1        0   Manchester City   \n",
       "91952  Zeze Steven_Sessegnon  3         2        0            Fulham   \n",
       "91954           Ørjan_Nyland  3         1        0       Aston Villa   \n",
       "\n",
       "           opponent_team  relative_market_value_team  \\\n",
       "0                Chelsea                         NaN   \n",
       "1      Tottenham Hotspur                         NaN   \n",
       "2              Liverpool                         NaN   \n",
       "3            Southampton                         NaN   \n",
       "4        West Ham United                         NaN   \n",
       "...                  ...                         ...   \n",
       "91946            Burnley                    0.483027   \n",
       "91948  Tottenham Hotspur                    0.614499   \n",
       "91951     Leicester City                    2.373652   \n",
       "91952        Aston Villa                    0.362385   \n",
       "91954             Fulham                    0.583273   \n",
       "\n",
       "       relative_market_value_opponent_team  was_home  total_points  ...  \\\n",
       "0                                      NaN     False             0  ...   \n",
       "1                                      NaN      True             1  ...   \n",
       "2                                      NaN      True             2  ...   \n",
       "3                                      NaN     False             0  ...   \n",
       "4                                      NaN      True             0  ...   \n",
       "...                                    ...       ...           ...  ...   \n",
       "91946                             0.356232     False             0  ...   \n",
       "91948                             1.784963     False             0  ...   \n",
       "91951                             1.058004      True             0  ...   \n",
       "91952                             0.583273      True             0  ...   \n",
       "91954                             0.362385     False             0  ...   \n",
       "\n",
       "       total_points_last_2  total_points_pg_last_2  total_points_last_3  \\\n",
       "0                      0.0                     NaN                  0.0   \n",
       "1                      0.0                     NaN                  0.0   \n",
       "2                      0.0                     NaN                  0.0   \n",
       "3                      0.0                     NaN                  0.0   \n",
       "4                      0.0                     NaN                  0.0   \n",
       "...                    ...                     ...                  ...   \n",
       "91946                  0.0                     NaN                  0.0   \n",
       "91948                  0.0                     NaN                  0.0   \n",
       "91951                  0.0                     NaN                  0.0   \n",
       "91952                  0.0                     NaN                  0.0   \n",
       "91954                  0.0                     NaN                  0.0   \n",
       "\n",
       "       total_points_pg_last_3  total_points_last_4  total_points_pg_last_4  \\\n",
       "0                         NaN                  0.0                     NaN   \n",
       "1                         NaN                  0.0                     NaN   \n",
       "2                         NaN                  0.0                     NaN   \n",
       "3                         NaN                  0.0                     NaN   \n",
       "4                         NaN                  0.0                     NaN   \n",
       "...                       ...                  ...                     ...   \n",
       "91946                     NaN                  0.0                     NaN   \n",
       "91948                     NaN                  0.0                     NaN   \n",
       "91951                     NaN                  0.0                     NaN   \n",
       "91952                     NaN                  0.0                     NaN   \n",
       "91954                     NaN                  0.0                     NaN   \n",
       "\n",
       "       total_points_last_5  total_points_pg_last_5  total_points_last_10  \\\n",
       "0                      0.0                     NaN                   0.0   \n",
       "1                      0.0                     NaN                   0.0   \n",
       "2                      0.0                     NaN                   0.0   \n",
       "3                      0.0                     NaN                   0.0   \n",
       "4                      0.0                     NaN                   0.0   \n",
       "...                    ...                     ...                   ...   \n",
       "91946                  0.0                     NaN                   1.0   \n",
       "91948                  0.0                     NaN                   1.0   \n",
       "91951                  0.0                     NaN                   0.0   \n",
       "91952                  0.0                     NaN                   0.0   \n",
       "91954                  0.0                     NaN                   6.0   \n",
       "\n",
       "       total_points_pg_last_10  \n",
       "0                          NaN  \n",
       "1                          NaN  \n",
       "2                          NaN  \n",
       "3                          NaN  \n",
       "4                          NaN  \n",
       "...                        ...  \n",
       "91946                      2.0  \n",
       "91948                     15.0  \n",
       "91951                      NaN  \n",
       "91952                      NaN  \n",
       "91954                      2.0  \n",
       "\n",
       "[49615 rows x 88 columns]"
      ]
     },
     "execution_count": 9,
     "metadata": {},
     "output_type": "execute_result"
    }
   ],
   "source": [
    "lag_train_df[~np.isfinite(lag_train_df['total_points_pg_last_1'])]"
   ]
  },
  {
   "cell_type": "code",
   "execution_count": 10,
   "metadata": {},
   "outputs": [],
   "source": [
    "# imp = SimpleImputer(missing_values=np.nan, strategy='mean')\n",
    "# need to think about imputing NaN instead of setting to zero\n",
    "# imp.fit(X_train[team_lag_vars + player_lag_vars])\n",
    "train_valid_df[team_lag_vars + player_lag_vars] = train_valid_df[team_lag_vars + player_lag_vars].fillna(0)"
   ]
  },
  {
   "cell_type": "markdown",
   "metadata": {},
   "source": [
    "The random forest regressor will only take numbers as inputs, so we need to transform our caterogical features into a format that the random forest regressor object will be able to use, numbers instead of strings in one or more columns."
   ]
  },
  {
   "cell_type": "code",
   "execution_count": 11,
   "metadata": {},
   "outputs": [],
   "source": [
    "# split out dependent variable\n",
    "X, y = train_valid_df[cat_vars + cont_vars + team_lag_vars + player_lag_vars].copy(), train_valid_df[dep_var].copy()"
   ]
  },
  {
   "cell_type": "code",
   "execution_count": 12,
   "metadata": {},
   "outputs": [],
   "source": [
    "# since position is categorical, it should be a string\n",
    "X['position'] = X['position'].apply(str)\n",
    "\n",
    "# need to transform season\n",
    "enc = LabelEncoder()\n",
    "X['season'] = enc.fit_transform(X['season'])\n",
    "X_dict = X.to_dict(\"records\")\n",
    "\n",
    "# Create the DictVectorizer object: dv\n",
    "dv = DictVectorizer(sparse=False, separator='_')\n",
    "\n",
    "# Apply dv on df: df_encoded\n",
    "X_encoded = dv.fit_transform(X_dict)\n",
    "\n",
    "X_df = pd.DataFrame(X_encoded, columns=dv.feature_names_)"
   ]
  },
  {
   "cell_type": "markdown",
   "metadata": {},
   "source": [
    "For example, season is now represented by a number (0 -> 2016/17, 1 -> 2017/18, etc.) in a single column, and position is represented by a 1 or 0 in multiple columns."
   ]
  },
  {
   "cell_type": "code",
   "execution_count": 13,
   "metadata": {},
   "outputs": [
    {
     "data": {
      "text/html": [
       "<div>\n",
       "<style scoped>\n",
       "    .dataframe tbody tr th:only-of-type {\n",
       "        vertical-align: middle;\n",
       "    }\n",
       "\n",
       "    .dataframe tbody tr th {\n",
       "        vertical-align: top;\n",
       "    }\n",
       "\n",
       "    .dataframe thead th {\n",
       "        text-align: right;\n",
       "    }\n",
       "</style>\n",
       "<table border=\"1\" class=\"dataframe\">\n",
       "  <thead>\n",
       "    <tr style=\"text-align: right;\">\n",
       "      <th></th>\n",
       "      <th>season</th>\n",
       "      <th>position_1</th>\n",
       "      <th>position_2</th>\n",
       "      <th>position_3</th>\n",
       "      <th>position_4</th>\n",
       "    </tr>\n",
       "  </thead>\n",
       "  <tbody>\n",
       "    <tr>\n",
       "      <th>0</th>\n",
       "      <td>0.0</td>\n",
       "      <td>0.0</td>\n",
       "      <td>1.0</td>\n",
       "      <td>0.0</td>\n",
       "      <td>0.0</td>\n",
       "    </tr>\n",
       "    <tr>\n",
       "      <th>1</th>\n",
       "      <td>0.0</td>\n",
       "      <td>0.0</td>\n",
       "      <td>0.0</td>\n",
       "      <td>1.0</td>\n",
       "      <td>0.0</td>\n",
       "    </tr>\n",
       "    <tr>\n",
       "      <th>2</th>\n",
       "      <td>0.0</td>\n",
       "      <td>0.0</td>\n",
       "      <td>0.0</td>\n",
       "      <td>1.0</td>\n",
       "      <td>0.0</td>\n",
       "    </tr>\n",
       "    <tr>\n",
       "      <th>3</th>\n",
       "      <td>0.0</td>\n",
       "      <td>0.0</td>\n",
       "      <td>0.0</td>\n",
       "      <td>1.0</td>\n",
       "      <td>0.0</td>\n",
       "    </tr>\n",
       "    <tr>\n",
       "      <th>4</th>\n",
       "      <td>0.0</td>\n",
       "      <td>0.0</td>\n",
       "      <td>1.0</td>\n",
       "      <td>0.0</td>\n",
       "      <td>0.0</td>\n",
       "    </tr>\n",
       "    <tr>\n",
       "      <th>...</th>\n",
       "      <td>...</td>\n",
       "      <td>...</td>\n",
       "      <td>...</td>\n",
       "      <td>...</td>\n",
       "      <td>...</td>\n",
       "    </tr>\n",
       "    <tr>\n",
       "      <th>82049</th>\n",
       "      <td>3.0</td>\n",
       "      <td>0.0</td>\n",
       "      <td>0.0</td>\n",
       "      <td>0.0</td>\n",
       "      <td>1.0</td>\n",
       "    </tr>\n",
       "    <tr>\n",
       "      <th>82050</th>\n",
       "      <td>3.0</td>\n",
       "      <td>0.0</td>\n",
       "      <td>0.0</td>\n",
       "      <td>1.0</td>\n",
       "      <td>0.0</td>\n",
       "    </tr>\n",
       "    <tr>\n",
       "      <th>82051</th>\n",
       "      <td>3.0</td>\n",
       "      <td>0.0</td>\n",
       "      <td>0.0</td>\n",
       "      <td>1.0</td>\n",
       "      <td>0.0</td>\n",
       "    </tr>\n",
       "    <tr>\n",
       "      <th>82052</th>\n",
       "      <td>3.0</td>\n",
       "      <td>0.0</td>\n",
       "      <td>1.0</td>\n",
       "      <td>0.0</td>\n",
       "      <td>0.0</td>\n",
       "    </tr>\n",
       "    <tr>\n",
       "      <th>82053</th>\n",
       "      <td>3.0</td>\n",
       "      <td>1.0</td>\n",
       "      <td>0.0</td>\n",
       "      <td>0.0</td>\n",
       "      <td>0.0</td>\n",
       "    </tr>\n",
       "  </tbody>\n",
       "</table>\n",
       "<p>82054 rows × 5 columns</p>\n",
       "</div>"
      ],
      "text/plain": [
       "       season  position_1  position_2  position_3  position_4\n",
       "0         0.0         0.0         1.0         0.0         0.0\n",
       "1         0.0         0.0         0.0         1.0         0.0\n",
       "2         0.0         0.0         0.0         1.0         0.0\n",
       "3         0.0         0.0         0.0         1.0         0.0\n",
       "4         0.0         0.0         1.0         0.0         0.0\n",
       "...       ...         ...         ...         ...         ...\n",
       "82049     3.0         0.0         0.0         0.0         1.0\n",
       "82050     3.0         0.0         0.0         1.0         0.0\n",
       "82051     3.0         0.0         0.0         1.0         0.0\n",
       "82052     3.0         0.0         1.0         0.0         0.0\n",
       "82053     3.0         1.0         0.0         0.0         0.0\n",
       "\n",
       "[82054 rows x 5 columns]"
      ]
     },
     "execution_count": 13,
     "metadata": {},
     "output_type": "execute_result"
    }
   ],
   "source": [
    "X_df[['season', 'position_1', 'position_2', 'position_3', 'position_4']]"
   ]
  },
  {
   "cell_type": "code",
   "execution_count": 14,
   "metadata": {},
   "outputs": [
    {
     "data": {
      "text/plain": [
       "Index(['gw', 'minutes', 'minutes_last_1', 'minutes_last_10', 'minutes_last_2',\n",
       "       'minutes_last_3', 'minutes_last_4', 'minutes_last_5',\n",
       "       'minutes_last_all', 'opponent_team_Arsenal',\n",
       "       'opponent_team_Aston Villa', 'opponent_team_Bournemouth',\n",
       "       'opponent_team_Brighton and Hove Albion', 'opponent_team_Burnley',\n",
       "       'opponent_team_Cardiff City', 'opponent_team_Chelsea',\n",
       "       'opponent_team_Crystal Palace', 'opponent_team_Everton',\n",
       "       'opponent_team_Fulham', 'opponent_team_Huddersfield Town',\n",
       "       'opponent_team_Hull City', 'opponent_team_Leicester City',\n",
       "       'opponent_team_Liverpool', 'opponent_team_Manchester City',\n",
       "       'opponent_team_Manchester United', 'opponent_team_Middlesbrough',\n",
       "       'opponent_team_Newcastle United', 'opponent_team_Norwich',\n",
       "       'opponent_team_Sheffield United', 'opponent_team_Southampton',\n",
       "       'opponent_team_Stoke City', 'opponent_team_Sunderland',\n",
       "       'opponent_team_Swansea City', 'opponent_team_Tottenham Hotspur',\n",
       "       'opponent_team_Watford', 'opponent_team_West Bromwich Albion',\n",
       "       'opponent_team_West Ham United',\n",
       "       'opponent_team_Wolverhampton Wanderers', 'position_1', 'position_2',\n",
       "       'position_3', 'position_4', 'season', 'team_Arsenal',\n",
       "       'team_Aston Villa', 'team_Bournemouth', 'team_Brighton and Hove Albion',\n",
       "       'team_Burnley', 'team_Cardiff City', 'team_Chelsea',\n",
       "       'team_Crystal Palace', 'team_Everton', 'team_Fulham',\n",
       "       'team_Huddersfield Town', 'team_Hull City', 'team_Leicester City',\n",
       "       'team_Liverpool', 'team_Manchester City', 'team_Manchester United',\n",
       "       'team_Middlesbrough', 'team_Newcastle United', 'team_Norwich',\n",
       "       'team_Sheffield United', 'team_Southampton', 'team_Stoke City',\n",
       "       'team_Sunderland', 'team_Swansea City', 'team_Tottenham Hotspur',\n",
       "       'team_Watford', 'team_West Bromwich Albion', 'team_West Ham United',\n",
       "       'team_Wolverhampton Wanderers', 'total_points_pg_last_1',\n",
       "       'total_points_pg_last_10', 'total_points_pg_last_2',\n",
       "       'total_points_pg_last_3', 'total_points_pg_last_4',\n",
       "       'total_points_pg_last_5', 'total_points_pg_last_all',\n",
       "       'total_points_team_pg_last_1', 'total_points_team_pg_last_10',\n",
       "       'total_points_team_pg_last_10_opponent',\n",
       "       'total_points_team_pg_last_1_opponent', 'total_points_team_pg_last_2',\n",
       "       'total_points_team_pg_last_2_opponent', 'total_points_team_pg_last_3',\n",
       "       'total_points_team_pg_last_3_opponent', 'total_points_team_pg_last_4',\n",
       "       'total_points_team_pg_last_4_opponent', 'total_points_team_pg_last_5',\n",
       "       'total_points_team_pg_last_5_opponent', 'total_points_team_pg_last_all',\n",
       "       'total_points_team_pg_last_all_opponent', 'was_home'],\n",
       "      dtype='object')"
      ]
     },
     "execution_count": 14,
     "metadata": {},
     "output_type": "execute_result"
    }
   ],
   "source": [
    "X_df.columns"
   ]
  },
  {
   "cell_type": "markdown",
   "metadata": {},
   "source": [
    "Let's now split out our training (everything prior to the validation gameweek) and validation (6 gameweeks from the validation gameweek)."
   ]
  },
  {
   "cell_type": "code",
   "execution_count": 15,
   "metadata": {},
   "outputs": [],
   "source": [
    "# split out training and validation sets\n",
    "X_train = X_df.iloc[train_idx]\n",
    "y_train = y.iloc[train_idx]\n",
    "X_test = X_df.iloc[valid_idx]\n",
    "y_test = y.iloc[valid_idx]"
   ]
  },
  {
   "cell_type": "markdown",
   "metadata": {},
   "source": [
    "We can now create the RandomForestRegessor with set parameters, train using the training data, and look at the error on the validation set."
   ]
  },
  {
   "cell_type": "code",
   "execution_count": 16,
   "metadata": {},
   "outputs": [],
   "source": [
    "def rf(xs, y, n_estimators=40, max_samples=50_000,\n",
    "       max_features=0.5, min_samples_leaf=5, **kwargs):\n",
    "    return RandomForestRegressor(n_jobs=-1, n_estimators=n_estimators,\n",
    "        max_samples=max_samples, max_features=max_features,\n",
    "        min_samples_leaf=min_samples_leaf, oob_score=True).fit(xs, y)"
   ]
  },
  {
   "cell_type": "code",
   "execution_count": 17,
   "metadata": {},
   "outputs": [],
   "source": [
    "# fit training data\n",
    "m = rf(X_train, y_train.values.ravel())"
   ]
  },
  {
   "cell_type": "code",
   "execution_count": 18,
   "metadata": {},
   "outputs": [
    {
     "data": {
      "text/plain": [
       "0.865911"
      ]
     },
     "execution_count": 18,
     "metadata": {},
     "output_type": "execute_result"
    }
   ],
   "source": [
    "# predict validation set and output mean absolute error\n",
    "mae(m.predict(X_test), y_test.values.ravel())\n",
    "# mae(m.predict(X_test[X_test['minutes'] > 0]), y_test[X_test['minutes'] > 0].values.ravel())"
   ]
  },
  {
   "cell_type": "markdown",
   "metadata": {},
   "source": [
    "Right away this looks like it's a significant improvement on the simple model, good to see. Let's go ahead and use the same approach with validation across the whole of the 2019/20 season."
   ]
  },
  {
   "cell_type": "code",
   "execution_count": 39,
   "metadata": {},
   "outputs": [],
   "source": [
    "def rf_season(df, valid_season='1920'):\n",
    "    # empty list for scores\n",
    "    scores = []\n",
    "    valid_len = 6\n",
    "    \n",
    "    for valid_gw in range(1,40-valid_len):\n",
    "        # create dataset with adjusted post-validation lag numbers\n",
    "        train_valid_df, train_idx, valid_idx = create_lag_train(df, cat_vars, cont_vars, \n",
    "                                                                player_lag_vars, team_lag_vars, dep_var,\n",
    "                                                                valid_season, valid_gw, valid_len)\n",
    "        \n",
    "        train_valid_df[team_lag_vars + player_lag_vars] = train_valid_df[team_lag_vars + player_lag_vars].fillna(0)\n",
    "        \n",
    "        # split out dependent variable\n",
    "        X, y = train_valid_df[cat_vars + cont_vars + team_lag_vars + player_lag_vars].copy(), train_valid_df[dep_var].copy()\n",
    "        \n",
    "        # since position is categorical, it should be a string\n",
    "        X['position'] = X['position'].apply(str)\n",
    "\n",
    "        # need to transform season\n",
    "        enc = LabelEncoder()\n",
    "        X['season'] = enc.fit_transform(X['season'])\n",
    "        X_dict = X.to_dict(\"records\")\n",
    "\n",
    "        # Create the DictVectorizer object: dv\n",
    "        dv = DictVectorizer(sparse=False, separator='_')\n",
    "\n",
    "        # Apply dv on df: df_encoded\n",
    "        X_encoded = dv.fit_transform(X_dict)\n",
    "        X_df = pd.DataFrame(X_encoded, columns=dv.feature_names_)\n",
    "        \n",
    "        # split out training and validation sets\n",
    "        X_train = X_df.iloc[train_idx]\n",
    "        y_train = y.iloc[train_idx]\n",
    "        X_test = X_df.iloc[valid_idx]\n",
    "        y_test = y.iloc[valid_idx]\n",
    "        \n",
    "        m = rf(X_train, y_train.values.ravel()) \n",
    "        preds, targs = m.predict(X_test), y_test.values.ravel()\n",
    "        gw_mae = mae(preds, targs)\n",
    "        print(\"GW%d MAE: %f\" % (valid_gw, gw_mae))\n",
    "        \n",
    "        scores.append(gw_mae)\n",
    "        \n",
    "    return scores"
   ]
  },
  {
   "cell_type": "code",
   "execution_count": 40,
   "metadata": {},
   "outputs": [
    {
     "name": "stdout",
     "output_type": "stream",
     "text": [
      "GW1 MAE: 1.077141\n",
      "GW2 MAE: 1.047597\n",
      "GW3 MAE: 1.045916\n",
      "GW4 MAE: 0.996283\n",
      "GW5 MAE: 1.001852\n",
      "GW6 MAE: 1.008389\n",
      "GW7 MAE: 0.975421\n",
      "GW8 MAE: 0.983200\n",
      "GW9 MAE: 0.962144\n",
      "GW10 MAE: 0.972289\n",
      "GW11 MAE: 0.964272\n",
      "GW12 MAE: 0.944218\n",
      "GW13 MAE: 0.960362\n",
      "GW14 MAE: 0.936839\n",
      "GW15 MAE: 0.916257\n",
      "GW16 MAE: 0.897852\n",
      "GW17 MAE: 0.881068\n",
      "GW18 MAE: 0.864787\n",
      "GW19 MAE: 0.862956\n",
      "GW20 MAE: 0.866022\n",
      "GW21 MAE: 0.874795\n",
      "GW22 MAE: 0.865928\n",
      "GW23 MAE: 0.889512\n",
      "GW24 MAE: 0.871454\n",
      "GW25 MAE: 0.860991\n",
      "GW26 MAE: 0.839611\n",
      "GW27 MAE: 0.854496\n",
      "GW28 MAE: 0.855356\n",
      "GW29 MAE: 0.826999\n",
      "GW30 MAE: 0.847180\n",
      "GW31 MAE: 0.839788\n",
      "GW32 MAE: 0.836650\n",
      "GW33 MAE: 0.815653\n"
     ]
    }
   ],
   "source": [
    "scores = rf_season(lag_train_df)"
   ]
  },
  {
   "cell_type": "code",
   "execution_count": 41,
   "metadata": {},
   "outputs": [
    {
     "data": {
      "image/png": "[encoded data removed]",
      "text/plain": [
       "<Figure size 432x288 with 1 Axes>"
      ]
     },
     "metadata": {
      "needs_background": "light"
     },
     "output_type": "display_data"
    }
   ],
   "source": [
    "plt.plot(scores)\n",
    "plt.ylabel('GW MAE')\n",
    "plt.xlabel('GW')\n",
    "plt.text(15, 1, 'Season Avg MAE: %.2f' % np.mean(scores), bbox={'facecolor':'white', 'alpha':1, 'pad':5})\n",
    "plt.show()"
   ]
  },
  {
   "cell_type": "code",
   "execution_count": 42,
   "metadata": {},
   "outputs": [],
   "source": [
    "# r_mse(m.predict(X_test[X_test['minutes'] > 0]), y_test[X_test['minutes'] > 0].values.ravel())"
   ]
  },
  {
   "cell_type": "markdown",
   "metadata": {},
   "source": [
    "Looking across the whole season we see about a 10% improvement versus the simple model. Also interesting is that the performance again improves as the season progresses - this makes sense, more data about each of teams and players (particularly new ones) means improved ability to predict the next 6 gameweeks.\n",
    "\n",
    "Let's add these validation scores to our comparison dataset."
   ]
  },
  {
   "cell_type": "code",
   "execution_count": 6,
   "metadata": {},
   "outputs": [],
   "source": [
    "model_validation_scores = pd.read_csv(path/'charts/model_validation_scores.csv', index_col=0)\n",
    "model_validation_scores['random_forest'] = scores\n",
    "model_validation_scores.to_csv(path/'charts/model_validation_scores.csv')"
   ]
  },
  {
   "cell_type": "markdown",
   "metadata": {},
   "source": [
    "A feature of the random forest algorithm is that we can see how often features are being used in trees. This will give us an indication of how important each feature is i.e. is it predictive of todal points scored. Simple models are usually better, so this also gives us a way of seeing if there are any features that are not particularly useful, and can therefore be removed."
   ]
  },
  {
   "cell_type": "code",
   "execution_count": 23,
   "metadata": {},
   "outputs": [],
   "source": [
    "def rf_feat_importance(m, df):\n",
    "    return pd.DataFrame({'cols':df.columns, 'imp':m.feature_importances_}\n",
    "                       ).sort_values('imp', ascending=False)"
   ]
  },
  {
   "cell_type": "code",
   "execution_count": 24,
   "metadata": {},
   "outputs": [
    {
     "data": {
      "text/html": [
       "<div>\n",
       "<style scoped>\n",
       "    .dataframe tbody tr th:only-of-type {\n",
       "        vertical-align: middle;\n",
       "    }\n",
       "\n",
       "    .dataframe tbody tr th {\n",
       "        vertical-align: top;\n",
       "    }\n",
       "\n",
       "    .dataframe thead th {\n",
       "        text-align: right;\n",
       "    }\n",
       "</style>\n",
       "<table border=\"1\" class=\"dataframe\">\n",
       "  <thead>\n",
       "    <tr style=\"text-align: right;\">\n",
       "      <th></th>\n",
       "      <th>cols</th>\n",
       "      <th>imp</th>\n",
       "    </tr>\n",
       "  </thead>\n",
       "  <tbody>\n",
       "    <tr>\n",
       "      <td>1</td>\n",
       "      <td>minutes</td>\n",
       "      <td>0.401124</td>\n",
       "    </tr>\n",
       "    <tr>\n",
       "      <td>2</td>\n",
       "      <td>minutes_last_1</td>\n",
       "      <td>0.057948</td>\n",
       "    </tr>\n",
       "    <tr>\n",
       "      <td>4</td>\n",
       "      <td>minutes_last_2</td>\n",
       "      <td>0.053338</td>\n",
       "    </tr>\n",
       "    <tr>\n",
       "      <td>78</td>\n",
       "      <td>total_points_pg_last_all</td>\n",
       "      <td>0.043413</td>\n",
       "    </tr>\n",
       "    <tr>\n",
       "      <td>92</td>\n",
       "      <td>total_points_team_pg_last_all_opponent</td>\n",
       "      <td>0.030597</td>\n",
       "    </tr>\n",
       "    <tr>\n",
       "      <td>5</td>\n",
       "      <td>minutes_last_3</td>\n",
       "      <td>0.026281</td>\n",
       "    </tr>\n",
       "    <tr>\n",
       "      <td>91</td>\n",
       "      <td>total_points_team_pg_last_all</td>\n",
       "      <td>0.022125</td>\n",
       "    </tr>\n",
       "    <tr>\n",
       "      <td>73</td>\n",
       "      <td>total_points_pg_last_10</td>\n",
       "      <td>0.019638</td>\n",
       "    </tr>\n",
       "    <tr>\n",
       "      <td>8</td>\n",
       "      <td>minutes_last_all</td>\n",
       "      <td>0.019612</td>\n",
       "    </tr>\n",
       "    <tr>\n",
       "      <td>81</td>\n",
       "      <td>total_points_team_pg_last_10_opponent</td>\n",
       "      <td>0.018710</td>\n",
       "    </tr>\n",
       "    <tr>\n",
       "      <td>80</td>\n",
       "      <td>total_points_team_pg_last_10</td>\n",
       "      <td>0.017603</td>\n",
       "    </tr>\n",
       "    <tr>\n",
       "      <td>90</td>\n",
       "      <td>total_points_team_pg_last_5_opponent</td>\n",
       "      <td>0.015438</td>\n",
       "    </tr>\n",
       "    <tr>\n",
       "      <td>87</td>\n",
       "      <td>total_points_team_pg_last_4</td>\n",
       "      <td>0.014369</td>\n",
       "    </tr>\n",
       "    <tr>\n",
       "      <td>82</td>\n",
       "      <td>total_points_team_pg_last_1_opponent</td>\n",
       "      <td>0.014366</td>\n",
       "    </tr>\n",
       "    <tr>\n",
       "      <td>3</td>\n",
       "      <td>minutes_last_10</td>\n",
       "      <td>0.014328</td>\n",
       "    </tr>\n",
       "    <tr>\n",
       "      <td>89</td>\n",
       "      <td>total_points_team_pg_last_5</td>\n",
       "      <td>0.014130</td>\n",
       "    </tr>\n",
       "    <tr>\n",
       "      <td>84</td>\n",
       "      <td>total_points_team_pg_last_2_opponent</td>\n",
       "      <td>0.014042</td>\n",
       "    </tr>\n",
       "    <tr>\n",
       "      <td>0</td>\n",
       "      <td>gw</td>\n",
       "      <td>0.014018</td>\n",
       "    </tr>\n",
       "    <tr>\n",
       "      <td>79</td>\n",
       "      <td>total_points_team_pg_last_1</td>\n",
       "      <td>0.013981</td>\n",
       "    </tr>\n",
       "    <tr>\n",
       "      <td>77</td>\n",
       "      <td>total_points_pg_last_5</td>\n",
       "      <td>0.013816</td>\n",
       "    </tr>\n",
       "    <tr>\n",
       "      <td>88</td>\n",
       "      <td>total_points_team_pg_last_4_opponent</td>\n",
       "      <td>0.013796</td>\n",
       "    </tr>\n",
       "    <tr>\n",
       "      <td>83</td>\n",
       "      <td>total_points_team_pg_last_2</td>\n",
       "      <td>0.013791</td>\n",
       "    </tr>\n",
       "    <tr>\n",
       "      <td>86</td>\n",
       "      <td>total_points_team_pg_last_3_opponent</td>\n",
       "      <td>0.013431</td>\n",
       "    </tr>\n",
       "    <tr>\n",
       "      <td>85</td>\n",
       "      <td>total_points_team_pg_last_3</td>\n",
       "      <td>0.013258</td>\n",
       "    </tr>\n",
       "    <tr>\n",
       "      <td>75</td>\n",
       "      <td>total_points_pg_last_3</td>\n",
       "      <td>0.012415</td>\n",
       "    </tr>\n",
       "    <tr>\n",
       "      <td>76</td>\n",
       "      <td>total_points_pg_last_4</td>\n",
       "      <td>0.011685</td>\n",
       "    </tr>\n",
       "    <tr>\n",
       "      <td>74</td>\n",
       "      <td>total_points_pg_last_2</td>\n",
       "      <td>0.011422</td>\n",
       "    </tr>\n",
       "    <tr>\n",
       "      <td>72</td>\n",
       "      <td>total_points_pg_last_1</td>\n",
       "      <td>0.009397</td>\n",
       "    </tr>\n",
       "    <tr>\n",
       "      <td>7</td>\n",
       "      <td>minutes_last_5</td>\n",
       "      <td>0.009116</td>\n",
       "    </tr>\n",
       "    <tr>\n",
       "      <td>6</td>\n",
       "      <td>minutes_last_4</td>\n",
       "      <td>0.008190</td>\n",
       "    </tr>\n",
       "    <tr>\n",
       "      <td>93</td>\n",
       "      <td>was_home</td>\n",
       "      <td>0.006137</td>\n",
       "    </tr>\n",
       "    <tr>\n",
       "      <td>39</td>\n",
       "      <td>position_2</td>\n",
       "      <td>0.005415</td>\n",
       "    </tr>\n",
       "  </tbody>\n",
       "</table>\n",
       "</div>"
      ],
      "text/plain": [
       "                                      cols       imp\n",
       "1                                  minutes  0.401124\n",
       "2                           minutes_last_1  0.057948\n",
       "4                           minutes_last_2  0.053338\n",
       "78                total_points_pg_last_all  0.043413\n",
       "92  total_points_team_pg_last_all_opponent  0.030597\n",
       "5                           minutes_last_3  0.026281\n",
       "91           total_points_team_pg_last_all  0.022125\n",
       "73                 total_points_pg_last_10  0.019638\n",
       "8                         minutes_last_all  0.019612\n",
       "81   total_points_team_pg_last_10_opponent  0.018710\n",
       "80            total_points_team_pg_last_10  0.017603\n",
       "90    total_points_team_pg_last_5_opponent  0.015438\n",
       "87             total_points_team_pg_last_4  0.014369\n",
       "82    total_points_team_pg_last_1_opponent  0.014366\n",
       "3                          minutes_last_10  0.014328\n",
       "89             total_points_team_pg_last_5  0.014130\n",
       "84    total_points_team_pg_last_2_opponent  0.014042\n",
       "0                                       gw  0.014018\n",
       "79             total_points_team_pg_last_1  0.013981\n",
       "77                  total_points_pg_last_5  0.013816\n",
       "88    total_points_team_pg_last_4_opponent  0.013796\n",
       "83             total_points_team_pg_last_2  0.013791\n",
       "86    total_points_team_pg_last_3_opponent  0.013431\n",
       "85             total_points_team_pg_last_3  0.013258\n",
       "75                  total_points_pg_last_3  0.012415\n",
       "76                  total_points_pg_last_4  0.011685\n",
       "74                  total_points_pg_last_2  0.011422\n",
       "72                  total_points_pg_last_1  0.009397\n",
       "7                           minutes_last_5  0.009116\n",
       "6                           minutes_last_4  0.008190\n",
       "93                                was_home  0.006137\n",
       "39                              position_2  0.005415"
      ]
     },
     "execution_count": 24,
     "metadata": {},
     "output_type": "execute_result"
    }
   ],
   "source": [
    "fi = rf_feat_importance(m, X_train)\n",
    "fi[:32]"
   ]
  },
  {
   "cell_type": "code",
   "execution_count": 25,
   "metadata": {},
   "outputs": [
    {
     "data": {
      "image/png": "[encoded data removed]",
      "text/plain": [
       "<Figure size 864x504 with 1 Axes>"
      ]
     },
     "metadata": {
      "needs_background": "light"
     },
     "output_type": "display_data"
    }
   ],
   "source": [
    "def plot_fi(fi):\n",
    "    return fi.plot('cols', 'imp', 'barh', figsize=(12,7), legend=False).invert_yaxis()\n",
    "\n",
    "plot_fi(fi[:30]);"
   ]
  },
  {
   "cell_type": "markdown",
   "metadata": {},
   "source": [
    "At the moment this algorithm is given minutes played in the gameweek so it's unsurprising that this is by far the most important feature - the more minutes a player plays, the more opportunity to score points. But strictly speaking we don't actually have this information prior to a gameweek (in practice it is estimated using previous minutes and injury status), so we can ignore it for now.\n",
    "\n",
    "Below that the top features are:\n",
    "1. minutes_last_1 - number of minutes in the last fixture for the player\n",
    "2. total_points_pg_last_all - the player's average points per game in all of history (since start of 2016/17 season)\n",
    "3. minutes_last_2 - number of minutes in the last two fixtures for the player\n",
    "4. total_points_team_pg_last_all_opponent - the opposition's average points per game in all of history\n",
    "5. minutes_last_3 - number of minutes in the last three fixtures for the player\n",
    "6. total_points_team_pg_last_all - the player's team's average points per game in all of history\n",
    "7. total_points_pg_last_10 - the player's average points per game in the last 10 fixtures\n",
    "8. total_points_pg_last_1 - the player's average points per game in the last fixture\n",
    "\n",
    "This is interesting. It seems to be saying that the amount of minutes a player has played recently and their underlying ability to score points in all of history, along with their team's and opponent team's points scoring in all of history, is most important.\n",
    "\n",
    "Recent performance (i.e. 'form') is also important, but to a lesser extent.\n",
    "\n",
    "It also shows that the lag features are far more useful than the categorical features such as team, opponent and position. Again not too surprising since information on these categories are already captured in the lag features.\n",
    "\n",
    "Let's test this... we can remove anything with a feature importance of less than 0.005 and see how the model performs on the original 2019/20 week 20 validation point (going from 94 features to just 32)."
   ]
  },
  {
   "cell_type": "code",
   "execution_count": 26,
   "metadata": {},
   "outputs": [
    {
     "data": {
      "text/plain": [
       "32"
      ]
     },
     "execution_count": 26,
     "metadata": {},
     "output_type": "execute_result"
    }
   ],
   "source": [
    "to_keep = fi[fi.imp>0.005].cols\n",
    "len(to_keep)"
   ]
  },
  {
   "cell_type": "code",
   "execution_count": 27,
   "metadata": {},
   "outputs": [
    {
     "data": {
      "text/plain": [
       "94"
      ]
     },
     "execution_count": 27,
     "metadata": {},
     "output_type": "execute_result"
    }
   ],
   "source": [
    "len(X_train.columns)"
   ]
  },
  {
   "cell_type": "code",
   "execution_count": 28,
   "metadata": {},
   "outputs": [],
   "source": [
    "X_train_imp = X_train[to_keep]\n",
    "X_test_imp = X_test[to_keep]"
   ]
  },
  {
   "cell_type": "code",
   "execution_count": 29,
   "metadata": {},
   "outputs": [],
   "source": [
    "m = rf(X_train_imp, y_train.values.ravel())"
   ]
  },
  {
   "cell_type": "code",
   "execution_count": 30,
   "metadata": {},
   "outputs": [
    {
     "data": {
      "text/plain": [
       "0.87014"
      ]
     },
     "execution_count": 30,
     "metadata": {},
     "output_type": "execute_result"
    }
   ],
   "source": [
    "mae(m.predict(X_test_imp), y_test.values.ravel())\n",
    "# mae(m.predict(X_train_imp), y_train.values.ravel())"
   ]
  },
  {
   "cell_type": "markdown",
   "metadata": {},
   "source": [
    "Very similar albeit slightly lower (less than 1% worse) than previously, and still a long way ahead of the simple model.\n",
    "\n",
    "Continuing our thinking about improving/simplifying the model features, we can also look to see if there are any similar features - quite often we will find that some features are so similar that some of them may be redundant.\n",
    "\n",
    "The following function determines the similarity between columns in a dataset and visualises it using a dendrogram."
   ]
  },
  {
   "cell_type": "code",
   "execution_count": 36,
   "metadata": {},
   "outputs": [],
   "source": [
    "def cluster_columns(df, figsize=(10,6), font_size=12):\n",
    "    corr = np.round(sp.stats.spearmanr(df).correlation, 4)\n",
    "    corr_condensed = hc.distance.squareform(1-corr)\n",
    "    z = hc.linkage(corr_condensed, method='average')\n",
    "    fig = plt.figure(figsize=figsize)\n",
    "    hc.dendrogram(z, labels=df.columns, orientation='left', leaf_font_size=font_size)\n",
    "    plt.show()"
   ]
  },
  {
   "cell_type": "code",
   "execution_count": 37,
   "metadata": {},
   "outputs": [
    {
     "data": {
      "image/png": "[encoded data removed]",
      "text/plain": [
       "<Figure size 720x432 with 1 Axes>"
      ]
     },
     "metadata": {
      "needs_background": "light"
     },
     "output_type": "display_data"
    }
   ],
   "source": [
    "cluster_columns(X_train_imp)"
   ]
  },
  {
   "cell_type": "markdown",
   "metadata": {},
   "source": [
    "We can see that our lagging features are somewhat similar - absolutely expected since, for example, minutes_last_5 is equal to minutes_last_4 + minutes 5 games ago. They are still different enough to be of value separately, but it does make me wonder whether separating out each historic game in some way (up to a point) would be valuable."
   ]
  },
  {
   "cell_type": "markdown",
   "metadata": {},
   "source": [
    "A final useful tool we can use is partial dependency plots. These try to look at the impact of single features on the dependent variable (points scored). "
   ]
  },
  {
   "cell_type": "code",
   "execution_count": 58,
   "metadata": {},
   "outputs": [
    {
     "data": {
      "image/png": "[encoded data removed]",
      "text/plain": [
       "<Figure size 864x216 with 4 Axes>"
      ]
     },
     "metadata": {
      "needs_background": "light"
     },
     "output_type": "display_data"
    }
   ],
   "source": [
    "fig,ax = plt.subplots(figsize=(12, 3))\n",
    "plot_partial_dependence(m, X_test, ['total_points_pg_last_all', \n",
    "                                    'total_points_team_pg_last_all_opponent',\n",
    "                                    'total_points_pg_last_1'],\n",
    "                        grid_resolution=20, ax=ax);"
   ]
  },
  {
   "cell_type": "markdown",
   "metadata": {},
   "source": [
    "Again, these make sense. The higher a player's historic points per game (defined as 90 minutes) is, the higher we predict their score will be. Conversely, the higher their opposition's historic points per game, the harder they are as an opponent and the lower their predicted score will be.\n",
    "\n",
    "Looking at the player's most recent game, again the higher their score, the more it will push up our prediction (the impact of their 'form'), but the relationship is far weaker than the player's underlying per minute scoring stats.\n",
    "\n",
    "Here we just try to look at features in isolation, there will lots of interactions going on between features that improve performance. For example, a player may have a high 'total_points_pg_last_1' from the previous fixture but only played 5 minutes in total - in this case the algorithm is likely to have learned that a high 'total_points_pg_last_1' coupled with a low 'minutes_last_1' is not an indicator that the player will score higher in the next fixture.\n",
    "\n",
    "Ok, now we can move onto the next algorithm - xgboost."
   ]
  },
  {
   "cell_type": "code",
   "execution_count": null,
   "metadata": {},
   "outputs": [],
   "source": []
  }
 ],
 "metadata": {
  "kernelspec": {
   "display_name": "Python 3",
   "language": "python",
   "name": "python3"
  },
  "language_info": {
   "codemirror_mode": {
    "name": "ipython",
    "version": 3
   },
   "file_extension": ".py",
   "mimetype": "text/x-python",
   "name": "python",
   "nbconvert_exporter": "python",
   "pygments_lexer": "ipython3",
   "version": "3.7.9"
  }
 },
 "nbformat": 4,
 "nbformat_minor": 4
}
