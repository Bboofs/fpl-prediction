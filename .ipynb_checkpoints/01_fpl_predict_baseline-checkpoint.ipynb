{
 "cells": [
  {
   "cell_type": "code",
   "execution_count": 3,
   "metadata": {},
   "outputs": [],
   "source": [
    "import pandas as pd\n",
    "import numpy as np\n",
    "from pathlib import Path\n",
    "from helpers import *"
   ]
  },
  {
   "cell_type": "code",
   "execution_count": 4,
   "metadata": {},
   "outputs": [],
   "source": [
    "# path to project directory\n",
    "path = Path('./')"
   ]
  },
  {
   "cell_type": "code",
   "execution_count": 5,
   "metadata": {},
   "outputs": [],
   "source": [
    "# read in training dataset\n",
    "train_df = pd.read_csv(path/'data/train_v4.csv', index_col=0, dtype={'season':str})"
   ]
  },
  {
   "cell_type": "markdown",
   "metadata": {},
   "source": [
    "A baseline model is an effective way to see whether more sophisticated approaches actually have more predictive power.\n",
    "\n",
    "The approach we will take is very straightforward: a player's predicted score is simply the points scored per minute for every minute played in history, multiplied by the actual number of minutes played in the gameweek being predicted (note that, at the moment, the predicted number of minutes is not included in the model).\n",
    "\n",
    "We'll start by using the player_lag_features function to obtain the points per game (90 minutes) for all games in history at each gameweek for each player."
   ]
  },
  {
   "cell_type": "code",
   "execution_count": 6,
   "metadata": {},
   "outputs": [],
   "source": [
    "# add all lag points scored to training set\n",
    "train_df, player_lag_vars = player_lag_features(train_df, ['total_points'], ['all'])"
   ]
  },
  {
   "cell_type": "markdown",
   "metadata": {},
   "source": [
    "Our baseline model function generates predictions using the above approach for a given validation point (i.e. which gameweek the validation starts) and validation length (how many gameweeks will we include, from the validation point). If a player has no history then we just assume that they will score 0 points.\n",
    "\n",
    "We return the predictions and actuals to allow easy performance assessment."
   ]
  },
  {
   "cell_type": "code",
   "execution_count": 15,
   "metadata": {},
   "outputs": [],
   "source": [
    "def simple_model(df, valid_season, valid_gw, valid_len):\n",
    "    valid_start, valid_end = validation_season_idx(df, valid_season, [valid_gw], valid_len)[0]\n",
    "    \n",
    "    train_idx = range(valid_start)\n",
    "    valid_idx = range(valid_start, valid_end + 1)    \n",
    "    \n",
    "    train = df.iloc[train_idx]\n",
    "    valid = df[['player', 'gw', 'season', 'minutes', 'total_points']].iloc[valid_idx]\n",
    "    \n",
    "    season_point = valid['season'].iloc[0]\n",
    "    gw_point = valid['gw'].iloc[0]\n",
    "    \n",
    "    # get player total per game average at validation point\n",
    "    player_points_pg = df[(df['season'] == season_point) & \n",
    "                          (df['gw'] == gw_point)][['player', 'total_points_pg_last_all']]\n",
    "    \n",
    "    pred_df = valid.merge(player_points_pg, on='player', how='left')   \n",
    "    pred_df.fillna(0, inplace=True)\n",
    "    preds = pred_df['total_points_pg_last_all'] * pred_df['minutes'] / 90\n",
    "    targs = pred_df['total_points']\n",
    "    \n",
    "    return preds, targs"
   ]
  },
  {
   "cell_type": "markdown",
   "metadata": {},
   "source": [
    "We can ahead and use this model to make some predictions."
   ]
  },
  {
   "cell_type": "code",
   "execution_count": 16,
   "metadata": {},
   "outputs": [],
   "source": [
    "# set validation start at gameweek 20 in the 2019/20 season\n",
    "# validate 6 gameweek's of predictions\n",
    "valid_season = '1920'\n",
    "valid_gw = 20\n",
    "valid_len = 6\n",
    "\n",
    "# make predictions\n",
    "preds, targs = simple_model(train_df, valid_season, valid_gw, valid_len)"
   ]
  },
  {
   "cell_type": "markdown",
   "metadata": {},
   "source": [
    "And calculate the root mean squared error for all predictions"
   ]
  },
  {
   "cell_type": "code",
   "execution_count": 17,
   "metadata": {},
   "outputs": [
    {
     "data": {
      "text/plain": [
       "1.904038"
      ]
     },
     "execution_count": 17,
     "metadata": {},
     "output_type": "execute_result"
    }
   ],
   "source": [
    "# calculate rsme\n",
    "r_mse(preds, targs)"
   ]
  },
  {
   "cell_type": "markdown",
   "metadata": {},
   "source": [
    "It's worth running little tests to make check for errors. In this case we can perform the same prediction using a slightly more direct way (not using any indexes)."
   ]
  },
  {
   "cell_type": "code",
   "execution_count": 18,
   "metadata": {},
   "outputs": [],
   "source": [
    "# we can calculate the same predictions directly using the season and gameweek\n",
    "# to check the above function \n",
    "# get player total per game average at validation point\n",
    "player_points_pg = train_df[(train_df['season'] == '1920') & \n",
    "                            (train_df['gw'] == valid_gw)][['player', 'total_points_pg_last_all']]\n",
    "\n",
    "valid_df = train_df[(train_df['season'] == '1920') \n",
    "                    & (train_df['gw'] > valid_gw - 1)\n",
    "                    & (train_df['gw'] < valid_gw + 6)][['player', 'minutes', 'total_points']]\n",
    "\n",
    "pred_df = valid_df.merge(player_points_pg, on='player', how='left')\n",
    "pred_df['pred'] = pred_df['total_points_pg_last_all'] * pred_df['minutes'] / 90\n",
    "pred_df.fillna(0, inplace=True)"
   ]
  },
  {
   "cell_type": "code",
   "execution_count": 19,
   "metadata": {},
   "outputs": [
    {
     "data": {
      "text/plain": [
       "1.904038"
      ]
     },
     "execution_count": 19,
     "metadata": {},
     "output_type": "execute_result"
    }
   ],
   "source": [
    "# calculate rmse\n",
    "r_mse(pred_df['pred'], pred_df['total_points'])"
   ]
  },
  {
   "cell_type": "markdown",
   "metadata": {},
   "source": [
    "The two error values should equal. The intention is to introduce more of these tests in a more robust software engineering way (i.e. unit tests) in the future.\n",
    "\n",
    "In the above model we use the lag points per game values from the first validation gameweek, since these contain information for everything up to but not including the validation gameweek. Since these lag variables are calculated for each gameweek, it is important not to use them for predictions being made more than 1 gameweek after the validation point. The above model gives us a useful way to create a new training dataset that avoids this problem, and just sets lag features to be equal to the first valition gameweek for all subsequent gameweeks.\n",
    "\n",
    "This can then be used to train and validate some more sophisticated modeling."
   ]
  },
  {
   "cell_type": "code",
   "execution_count": 3,
   "metadata": {},
   "outputs": [],
   "source": [
    "# We can adapt this approach to also create validation sets with lag features\n",
    "# When making predictions for gw +2 and beyond we cannot use those weeks's lag features\n",
    "# This would be leakage if we did\n",
    "# Instead, each subsequent validation week should have the same lag values as the first\n",
    "def create_lag_train(df, cat_vars, cont_vars, lag_vars, dep_var, valid_season, valid_gw, valid_len):\n",
    "\n",
    "    # get all the lag data for the current season up to the first validation gameweek\n",
    "    player_lag_vals = df[(df['season'] == valid_season) & \n",
    "                         (df['gw'] <= valid_gw)][['player', 'gw'] + lag_vars]\n",
    "    \n",
    "    # get the last avaialable lag data for each player\n",
    "    # for most it will be the first validation week\n",
    "    # but sometimes teams have blank gameweeks\n",
    "    # in these cases it will be the previous gameweek\n",
    "    player_lag_vals = player_lag_vals[player_lag_vals['gw'] == player_lag_vals.groupby('player')['gw'].transform('max')]\n",
    "    player_lag_vals = player_lag_vals.drop('gw', axis=1)\n",
    "\n",
    "    # get the validation start and end indexes\n",
    "    valid_start, valid_end = validation_season_idx(df, valid_season, [valid_gw], valid_len)[0]\n",
    "    train_idx = range(valid_start)\n",
    "    valid_idx = range(valid_start, valid_end + 1)    \n",
    "\n",
    "    # split out train and validation sets\n",
    "    # do not include lag vars in validation set\n",
    "    train = df[['player'] + cat_vars + cont_vars + lag_vars + dep_var].iloc[train_idx]\n",
    "    valid = df[['player'] + cat_vars + cont_vars + dep_var].iloc[valid_idx]\n",
    "\n",
    "    # add in lag vars\n",
    "    # will be the same for all validation gameweeks\n",
    "    valid = valid.merge(player_lag_vals, on='player', how='left')\n",
    "    \n",
    "    # concatenate train and test again\n",
    "    lag_train_df = pd.concat([train, valid]).reset_index()\n",
    "\n",
    "    return lag_train_df, train_idx, valid_idx"
   ]
  },
  {
   "cell_type": "markdown",
   "metadata": {},
   "source": [
    "The arguments for this function also includes the categorical, continuous and lagging features that we want to include in our model - this fits nicely with the APIs for the algorithms that we will subsequently be applying."
   ]
  },
  {
   "cell_type": "code",
   "execution_count": 22,
   "metadata": {},
   "outputs": [],
   "source": [
    "# variables to include\n",
    "# lag variables are already generated in the player_lag_features function, but can be changed\n",
    "cat_vars = ['gw', 'season']\n",
    "cont_vars = ['minutes']\n",
    "dep_var = ['total_points']\n",
    "\n",
    "lag_train_df = create_lag_train(train_df, cat_vars, cont_vars, player_lag_vars, valid_season, valid_gw, valid_len)"
   ]
  },
  {
   "cell_type": "markdown",
   "metadata": {},
   "source": [
    "We can do a quick quick to make sure that the lag variables are the same for gameweeks 20-25"
   ]
  },
  {
   "cell_type": "code",
   "execution_count": 26,
   "metadata": {},
   "outputs": [
    {
     "data": {
      "text/html": [
       "<div>\n",
       "<style scoped>\n",
       "    .dataframe tbody tr th:only-of-type {\n",
       "        vertical-align: middle;\n",
       "    }\n",
       "\n",
       "    .dataframe tbody tr th {\n",
       "        vertical-align: top;\n",
       "    }\n",
       "\n",
       "    .dataframe thead th {\n",
       "        text-align: right;\n",
       "    }\n",
       "</style>\n",
       "<table border=\"1\" class=\"dataframe\">\n",
       "  <thead>\n",
       "    <tr style=\"text-align: right;\">\n",
       "      <th></th>\n",
       "      <th>index</th>\n",
       "      <th>player</th>\n",
       "      <th>gw</th>\n",
       "      <th>season</th>\n",
       "      <th>minutes</th>\n",
       "      <th>total_points_pg_last_all</th>\n",
       "      <th>total_points</th>\n",
       "    </tr>\n",
       "  </thead>\n",
       "  <tbody>\n",
       "    <tr>\n",
       "      <th>76699</th>\n",
       "      <td>76699</td>\n",
       "      <td>Mohamed_Salah</td>\n",
       "      <td>16</td>\n",
       "      <td>1920</td>\n",
       "      <td>90</td>\n",
       "      <td>7.996931</td>\n",
       "      <td>13</td>\n",
       "    </tr>\n",
       "    <tr>\n",
       "      <th>77163</th>\n",
       "      <td>77163</td>\n",
       "      <td>Mohamed_Salah</td>\n",
       "      <td>17</td>\n",
       "      <td>1920</td>\n",
       "      <td>90</td>\n",
       "      <td>8.058961</td>\n",
       "      <td>16</td>\n",
       "    </tr>\n",
       "    <tr>\n",
       "      <th>78202</th>\n",
       "      <td>78202</td>\n",
       "      <td>Mohamed_Salah</td>\n",
       "      <td>19</td>\n",
       "      <td>1920</td>\n",
       "      <td>69</td>\n",
       "      <td>8.156212</td>\n",
       "      <td>3</td>\n",
       "    </tr>\n",
       "    <tr>\n",
       "      <th>78784</th>\n",
       "      <td>394</td>\n",
       "      <td>Mohamed_Salah</td>\n",
       "      <td>20</td>\n",
       "      <td>1920</td>\n",
       "      <td>90</td>\n",
       "      <td>8.116743</td>\n",
       "      <td>3</td>\n",
       "    </tr>\n",
       "    <tr>\n",
       "      <th>79369</th>\n",
       "      <td>979</td>\n",
       "      <td>Mohamed_Salah</td>\n",
       "      <td>21</td>\n",
       "      <td>1920</td>\n",
       "      <td>90</td>\n",
       "      <td>8.116743</td>\n",
       "      <td>10</td>\n",
       "    </tr>\n",
       "    <tr>\n",
       "      <th>79960</th>\n",
       "      <td>1570</td>\n",
       "      <td>Mohamed_Salah</td>\n",
       "      <td>22</td>\n",
       "      <td>1920</td>\n",
       "      <td>90</td>\n",
       "      <td>8.116743</td>\n",
       "      <td>6</td>\n",
       "    </tr>\n",
       "    <tr>\n",
       "      <th>80757</th>\n",
       "      <td>2367</td>\n",
       "      <td>Mohamed_Salah</td>\n",
       "      <td>23</td>\n",
       "      <td>1920</td>\n",
       "      <td>90</td>\n",
       "      <td>8.116743</td>\n",
       "      <td>7</td>\n",
       "    </tr>\n",
       "    <tr>\n",
       "      <th>81236</th>\n",
       "      <td>2846</td>\n",
       "      <td>Mohamed_Salah</td>\n",
       "      <td>24</td>\n",
       "      <td>1920</td>\n",
       "      <td>84</td>\n",
       "      <td>8.116743</td>\n",
       "      <td>2</td>\n",
       "    </tr>\n",
       "    <tr>\n",
       "      <th>81237</th>\n",
       "      <td>2847</td>\n",
       "      <td>Mohamed_Salah</td>\n",
       "      <td>24</td>\n",
       "      <td>1920</td>\n",
       "      <td>90</td>\n",
       "      <td>8.116743</td>\n",
       "      <td>14</td>\n",
       "    </tr>\n",
       "    <tr>\n",
       "      <th>81870</th>\n",
       "      <td>3480</td>\n",
       "      <td>Mohamed_Salah</td>\n",
       "      <td>25</td>\n",
       "      <td>1920</td>\n",
       "      <td>90</td>\n",
       "      <td>8.116743</td>\n",
       "      <td>16</td>\n",
       "    </tr>\n",
       "  </tbody>\n",
       "</table>\n",
       "</div>"
      ],
      "text/plain": [
       "       index         player  gw season  minutes  total_points_pg_last_all  \\\n",
       "76699  76699  Mohamed_Salah  16   1920       90                  7.996931   \n",
       "77163  77163  Mohamed_Salah  17   1920       90                  8.058961   \n",
       "78202  78202  Mohamed_Salah  19   1920       69                  8.156212   \n",
       "78784    394  Mohamed_Salah  20   1920       90                  8.116743   \n",
       "79369    979  Mohamed_Salah  21   1920       90                  8.116743   \n",
       "79960   1570  Mohamed_Salah  22   1920       90                  8.116743   \n",
       "80757   2367  Mohamed_Salah  23   1920       90                  8.116743   \n",
       "81236   2846  Mohamed_Salah  24   1920       84                  8.116743   \n",
       "81237   2847  Mohamed_Salah  24   1920       90                  8.116743   \n",
       "81870   3480  Mohamed_Salah  25   1920       90                  8.116743   \n",
       "\n",
       "       total_points  \n",
       "76699            13  \n",
       "77163            16  \n",
       "78202             3  \n",
       "78784             3  \n",
       "79369            10  \n",
       "79960             6  \n",
       "80757             7  \n",
       "81236             2  \n",
       "81237            14  \n",
       "81870            16  "
      ]
     },
     "execution_count": 26,
     "metadata": {},
     "output_type": "execute_result"
    }
   ],
   "source": [
    "# check features for a player\n",
    "lag_train_df[lag_train_df['player'] == 'Mohamed_Salah'].tail(10)"
   ]
  },
  {
   "cell_type": "code",
   "execution_count": null,
   "metadata": {},
   "outputs": [],
   "source": []
  }
 ],
 "metadata": {
  "kernelspec": {
   "display_name": "Python 3",
   "language": "python",
   "name": "python3"
  },
  "language_info": {
   "codemirror_mode": {
    "name": "ipython",
    "version": 3
   },
   "file_extension": ".py",
   "mimetype": "text/x-python",
   "name": "python",
   "nbconvert_exporter": "python",
   "pygments_lexer": "ipython3",
   "version": "3.7.6"
  }
 },
 "nbformat": 4,
 "nbformat_minor": 4
}
