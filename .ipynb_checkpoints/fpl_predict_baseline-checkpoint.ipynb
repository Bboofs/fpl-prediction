{
 "cells": [
  {
   "cell_type": "code",
   "execution_count": 1,
   "metadata": {},
   "outputs": [],
   "source": [
    "import pandas as pd\n",
    "import numpy as np\n",
    "from pathlib import Path\n",
    "from helpers import *"
   ]
  },
  {
   "cell_type": "code",
   "execution_count": 2,
   "metadata": {},
   "outputs": [],
   "source": [
    "# path to project directory\n",
    "path = Path('./')"
   ]
  },
  {
   "cell_type": "code",
   "execution_count": 3,
   "metadata": {},
   "outputs": [],
   "source": [
    "# read in training dataset\n",
    "train_df = pd.read_csv(path/'data/train_v4.csv', index_col=0, dtype={'season':str})"
   ]
  },
  {
   "cell_type": "code",
   "execution_count": 4,
   "metadata": {},
   "outputs": [],
   "source": [
    "# add all lag points scored to training set\n",
    "train_df, player_lag_vars = player_lag_features(train_df, ['total_points'], ['all', 1, 2])"
   ]
  },
  {
   "cell_type": "code",
   "execution_count": 5,
   "metadata": {},
   "outputs": [],
   "source": [
    "# lets grab some indexes for a validation set starting at gw 20 in 2019/20 season\n",
    "valid_season = '1920'\n",
    "valid_gw = 20\n",
    "valid_len = 6"
   ]
  },
  {
   "cell_type": "code",
   "execution_count": 6,
   "metadata": {},
   "outputs": [],
   "source": [
    "def simple_model(df, valid_season, valid_gw, valid_len):\n",
    "    valid_start, valid_end = validation_season_idx(df, valid_season, [valid_gw], valid_len)[0]\n",
    "    \n",
    "    train_idx = range(valid_start)\n",
    "    valid_idx = range(valid_start, valid_end + 1)    \n",
    "    \n",
    "    train = df.iloc[train_idx]\n",
    "    valid = df[['player', 'gw', 'season', 'minutes', 'total_points']].iloc[valid_idx]\n",
    "    \n",
    "    season_point = valid['season'].iloc[0]\n",
    "    gw_point = valid['gw'].iloc[0]\n",
    "    \n",
    "    # get player total per game average at validation point\n",
    "    player_points_pg = train_df[(train_df['season'] == season_point) & \n",
    "                                (train_df['gw'] == gw_point)][['player', 'total_points_pg_last_all']]\n",
    "    \n",
    "    pred_df = valid.merge(player_points_pg, on='player', how='left')   \n",
    "    pred_df.fillna(0, inplace=True)\n",
    "    preds = pred_df['total_points_pg_last_all'] * pred_df['minutes'] / 90\n",
    "    targs = pred_df['total_points']\n",
    "    \n",
    "    return preds, targs"
   ]
  },
  {
   "cell_type": "code",
   "execution_count": 7,
   "metadata": {},
   "outputs": [],
   "source": [
    "preds, targs = simple_model(train_df, valid_season, valid_gw, valid_len)"
   ]
  },
  {
   "cell_type": "code",
   "execution_count": 8,
   "metadata": {},
   "outputs": [
    {
     "data": {
      "text/plain": [
       "1.904038"
      ]
     },
     "execution_count": 8,
     "metadata": {},
     "output_type": "execute_result"
    }
   ],
   "source": [
    "r_mse(preds, targs)"
   ]
  },
  {
   "cell_type": "code",
   "execution_count": 9,
   "metadata": {},
   "outputs": [],
   "source": [
    "# we can calculate the same predictions directly using the season and gameweek\n",
    "# to check the above function \n",
    "# get player total per game average at validation point\n",
    "player_points_pg = train_df[(train_df['season'] == '1920') & \n",
    "                            (train_df['gw'] == valid_gw)][['player', 'total_points_pg_last_all']]\n",
    "\n",
    "valid_df = train_df[(train_df['season'] == '1920') \n",
    "                    & (train_df['gw'] > valid_gw - 1)\n",
    "                    & (train_df['gw'] < valid_gw + 6)][['player', 'minutes', 'total_points']]\n",
    "\n",
    "pred_df = valid_df.merge(player_points_pg, on='player', how='left')\n",
    "pred_df['pred'] = pred_df['total_points_pg_last_all'] * pred_df['minutes'] / 90\n",
    "pred_df.fillna(0, inplace=True)"
   ]
  },
  {
   "cell_type": "code",
   "execution_count": 10,
   "metadata": {},
   "outputs": [
    {
     "data": {
      "text/plain": [
       "1.904038"
      ]
     },
     "execution_count": 10,
     "metadata": {},
     "output_type": "execute_result"
    }
   ],
   "source": [
    "r_mse(pred_df['pred'], pred_df['total_points'])"
   ]
  },
  {
   "cell_type": "code",
   "execution_count": 11,
   "metadata": {},
   "outputs": [],
   "source": [
    "# player_df = train_df[(train_df['season'] == valid_season) & \n",
    "#          (train_df['gw'] <= valid_gw)][['player', 'gw'] + player_lag_vars]\n",
    "\n",
    "# player_vals = player_df[player_df['gw'] == player_df.groupby('player')['gw'].transform('max')]\n",
    "\n",
    "# player_vals = player_vals.drop('gw', axis=1)\n",
    "\n",
    "# player_vals"
   ]
  },
  {
   "cell_type": "code",
   "execution_count": 12,
   "metadata": {},
   "outputs": [],
   "source": [
    "# cat_vars = ['gw', 'season']\n",
    "# cont_vars = ['minutes']\n",
    "# dep_var = ['total_points']\n",
    "\n",
    "# valid_start, valid_end = validation_season_idx(train_df, valid_season, [valid_gw], valid_len)[0]\n",
    "\n",
    "# train_idx = range(valid_start)\n",
    "# valid_idx = range(valid_start, valid_end + 1)    \n",
    "\n",
    "# train = train_df[['player'] + cat_vars + cont_vars + player_lag_vars + dep_var].iloc[train_idx]\n",
    "# valid = train_df[['player'] + cat_vars + cont_vars + dep_var].iloc[valid_idx]\n",
    "\n",
    "# valid = valid.merge(player_vals, on='player', how='left')\n",
    "\n",
    "# ## NEXT: create the proper validation set with replaced values"
   ]
  },
  {
   "cell_type": "code",
   "execution_count": 13,
   "metadata": {},
   "outputs": [],
   "source": [
    "# lag_train_df = pd.concat([train, valid]).reset_index()\n",
    "# lag_train_df"
   ]
  },
  {
   "cell_type": "code",
   "execution_count": 16,
   "metadata": {},
   "outputs": [],
   "source": [
    "# We can adapt this approach to also create validation sets with lag features\n",
    "# When making predictions for gw +2 and beyond we cannot use those weeks's lag features\n",
    "# This would be leakage if we did\n",
    "# Instead, each subsequent validation week should have the same lag values as the first\n",
    "def create_lag_train(df, cat_vars, cont_vars, lag_vars, valid_season, valid_gw, valid_len):\n",
    "\n",
    "    # get all the lag data for the current season up to the first validation gameweek\n",
    "    player_lag_vals = df[(df['season'] == valid_season) & \n",
    "                         (df['gw'] <= valid_gw)][['player', 'gw'] + player_lag_vars]\n",
    "    \n",
    "    # get the last avaialable lag data for each player\n",
    "    # for most it will be the first validation week\n",
    "    # but sometimes teams have blank gameweeks\n",
    "    # in these cases it will be the previous gameweek\n",
    "    player_lag_vals = player_lag_vals[player_lag_vals['gw'] == player_lag_vals.groupby('player')['gw'].transform('max')]\n",
    "    player_lag_vals = player_lag_vals.drop('gw', axis=1)\n",
    "\n",
    "    # get the validation start and end indexes\n",
    "    valid_start, valid_end = validation_season_idx(train_df, valid_season, [valid_gw], valid_len)[0]\n",
    "    train_idx = range(valid_start)\n",
    "    valid_idx = range(valid_start, valid_end + 1)    \n",
    "\n",
    "    # split out train and validation sets\n",
    "    # do not include lag vars in validation set\n",
    "    train = df[['player'] + cat_vars + cont_vars + player_lag_vars + dep_var].iloc[train_idx]\n",
    "    valid = df[['player'] + cat_vars + cont_vars + dep_var].iloc[valid_idx]\n",
    "\n",
    "    # add in lag vars\n",
    "    # will be the same for all validation gameweeks\n",
    "    valid = valid.merge(player_lag_vals, on='player', how='left')\n",
    "    \n",
    "    # concatenate train and test again\n",
    "    lag_train_df = pd.concat([train, valid]).reset_index()\n",
    "\n",
    "    return lag_train_df"
   ]
  },
  {
   "cell_type": "code",
   "execution_count": 17,
   "metadata": {},
   "outputs": [
    {
     "data": {
      "text/html": [
       "<div>\n",
       "<style scoped>\n",
       "    .dataframe tbody tr th:only-of-type {\n",
       "        vertical-align: middle;\n",
       "    }\n",
       "\n",
       "    .dataframe tbody tr th {\n",
       "        vertical-align: top;\n",
       "    }\n",
       "\n",
       "    .dataframe thead th {\n",
       "        text-align: right;\n",
       "    }\n",
       "</style>\n",
       "<table border=\"1\" class=\"dataframe\">\n",
       "  <thead>\n",
       "    <tr style=\"text-align: right;\">\n",
       "      <th></th>\n",
       "      <th>index</th>\n",
       "      <th>player</th>\n",
       "      <th>gw</th>\n",
       "      <th>season</th>\n",
       "      <th>minutes</th>\n",
       "      <th>total_points_pg_last_all</th>\n",
       "      <th>total_points_pg_last_1</th>\n",
       "      <th>total_points_pg_last_2</th>\n",
       "      <th>total_points</th>\n",
       "    </tr>\n",
       "  </thead>\n",
       "  <tbody>\n",
       "    <tr>\n",
       "      <th>0</th>\n",
       "      <td>0</td>\n",
       "      <td>Aaron_Cresswell</td>\n",
       "      <td>1</td>\n",
       "      <td>1617</td>\n",
       "      <td>0</td>\n",
       "      <td>NaN</td>\n",
       "      <td>NaN</td>\n",
       "      <td>NaN</td>\n",
       "      <td>0</td>\n",
       "    </tr>\n",
       "    <tr>\n",
       "      <th>1</th>\n",
       "      <td>1</td>\n",
       "      <td>Aaron_Lennon</td>\n",
       "      <td>1</td>\n",
       "      <td>1617</td>\n",
       "      <td>15</td>\n",
       "      <td>NaN</td>\n",
       "      <td>NaN</td>\n",
       "      <td>NaN</td>\n",
       "      <td>1</td>\n",
       "    </tr>\n",
       "    <tr>\n",
       "      <th>2</th>\n",
       "      <td>2</td>\n",
       "      <td>Aaron_Ramsey</td>\n",
       "      <td>1</td>\n",
       "      <td>1617</td>\n",
       "      <td>60</td>\n",
       "      <td>NaN</td>\n",
       "      <td>NaN</td>\n",
       "      <td>NaN</td>\n",
       "      <td>2</td>\n",
       "    </tr>\n",
       "    <tr>\n",
       "      <th>3</th>\n",
       "      <td>3</td>\n",
       "      <td>Abdoulaye_Doucouré</td>\n",
       "      <td>1</td>\n",
       "      <td>1617</td>\n",
       "      <td>0</td>\n",
       "      <td>NaN</td>\n",
       "      <td>NaN</td>\n",
       "      <td>NaN</td>\n",
       "      <td>0</td>\n",
       "    </tr>\n",
       "    <tr>\n",
       "      <th>4</th>\n",
       "      <td>4</td>\n",
       "      <td>Abdul Rahman_Baba</td>\n",
       "      <td>1</td>\n",
       "      <td>1617</td>\n",
       "      <td>0</td>\n",
       "      <td>NaN</td>\n",
       "      <td>NaN</td>\n",
       "      <td>NaN</td>\n",
       "      <td>0</td>\n",
       "    </tr>\n",
       "    <tr>\n",
       "      <th>...</th>\n",
       "      <td>...</td>\n",
       "      <td>...</td>\n",
       "      <td>...</td>\n",
       "      <td>...</td>\n",
       "      <td>...</td>\n",
       "      <td>...</td>\n",
       "      <td>...</td>\n",
       "      <td>...</td>\n",
       "      <td>...</td>\n",
       "    </tr>\n",
       "    <tr>\n",
       "      <th>82049</th>\n",
       "      <td>3659</td>\n",
       "      <td>Yoshinori_Muto</td>\n",
       "      <td>25</td>\n",
       "      <td>1920</td>\n",
       "      <td>0</td>\n",
       "      <td>4.320000</td>\n",
       "      <td>NaN</td>\n",
       "      <td>NaN</td>\n",
       "      <td>0</td>\n",
       "    </tr>\n",
       "    <tr>\n",
       "      <th>82050</th>\n",
       "      <td>3660</td>\n",
       "      <td>Youri_Tielemans</td>\n",
       "      <td>25</td>\n",
       "      <td>1920</td>\n",
       "      <td>79</td>\n",
       "      <td>4.447674</td>\n",
       "      <td>2.000000</td>\n",
       "      <td>2.168675</td>\n",
       "      <td>9</td>\n",
       "    </tr>\n",
       "    <tr>\n",
       "      <th>82051</th>\n",
       "      <td>3661</td>\n",
       "      <td>Yves_Bissouma</td>\n",
       "      <td>25</td>\n",
       "      <td>1920</td>\n",
       "      <td>0</td>\n",
       "      <td>2.302017</td>\n",
       "      <td>12.857143</td>\n",
       "      <td>2.195122</td>\n",
       "      <td>0</td>\n",
       "    </tr>\n",
       "    <tr>\n",
       "      <th>82052</th>\n",
       "      <td>3662</td>\n",
       "      <td>Çaglar_Söyüncü</td>\n",
       "      <td>25</td>\n",
       "      <td>1920</td>\n",
       "      <td>90</td>\n",
       "      <td>3.546372</td>\n",
       "      <td>0.000000</td>\n",
       "      <td>0.000000</td>\n",
       "      <td>1</td>\n",
       "    </tr>\n",
       "    <tr>\n",
       "      <th>82053</th>\n",
       "      <td>3663</td>\n",
       "      <td>Ørjan_Nyland</td>\n",
       "      <td>25</td>\n",
       "      <td>1920</td>\n",
       "      <td>0</td>\n",
       "      <td>2.195122</td>\n",
       "      <td>NaN</td>\n",
       "      <td>NaN</td>\n",
       "      <td>0</td>\n",
       "    </tr>\n",
       "  </tbody>\n",
       "</table>\n",
       "<p>82054 rows × 9 columns</p>\n",
       "</div>"
      ],
      "text/plain": [
       "       index              player  gw season  minutes  \\\n",
       "0          0     Aaron_Cresswell   1   1617        0   \n",
       "1          1        Aaron_Lennon   1   1617       15   \n",
       "2          2        Aaron_Ramsey   1   1617       60   \n",
       "3          3  Abdoulaye_Doucouré   1   1617        0   \n",
       "4          4   Abdul Rahman_Baba   1   1617        0   \n",
       "...      ...                 ...  ..    ...      ...   \n",
       "82049   3659      Yoshinori_Muto  25   1920        0   \n",
       "82050   3660     Youri_Tielemans  25   1920       79   \n",
       "82051   3661       Yves_Bissouma  25   1920        0   \n",
       "82052   3662      Çaglar_Söyüncü  25   1920       90   \n",
       "82053   3663        Ørjan_Nyland  25   1920        0   \n",
       "\n",
       "       total_points_pg_last_all  total_points_pg_last_1  \\\n",
       "0                           NaN                     NaN   \n",
       "1                           NaN                     NaN   \n",
       "2                           NaN                     NaN   \n",
       "3                           NaN                     NaN   \n",
       "4                           NaN                     NaN   \n",
       "...                         ...                     ...   \n",
       "82049                  4.320000                     NaN   \n",
       "82050                  4.447674                2.000000   \n",
       "82051                  2.302017               12.857143   \n",
       "82052                  3.546372                0.000000   \n",
       "82053                  2.195122                     NaN   \n",
       "\n",
       "       total_points_pg_last_2  total_points  \n",
       "0                         NaN             0  \n",
       "1                         NaN             1  \n",
       "2                         NaN             2  \n",
       "3                         NaN             0  \n",
       "4                         NaN             0  \n",
       "...                       ...           ...  \n",
       "82049                     NaN             0  \n",
       "82050                2.168675             9  \n",
       "82051                2.195122             0  \n",
       "82052                0.000000             1  \n",
       "82053                     NaN             0  \n",
       "\n",
       "[82054 rows x 9 columns]"
      ]
     },
     "execution_count": 17,
     "metadata": {},
     "output_type": "execute_result"
    }
   ],
   "source": [
    "cat_vars = ['gw', 'season']\n",
    "cont_vars = ['minutes']\n",
    "dep_var = ['total_points']\n",
    "\n",
    "create_lag_train(train_df, cat_vars, cont_vars, player_lag_vars, valid_season, valid_gw, valid_len)"
   ]
  },
  {
   "cell_type": "code",
   "execution_count": null,
   "metadata": {},
   "outputs": [],
   "source": []
  }
 ],
 "metadata": {
  "kernelspec": {
   "display_name": "Python 3",
   "language": "python",
   "name": "python3"
  },
  "language_info": {
   "codemirror_mode": {
    "name": "ipython",
    "version": 3
   },
   "file_extension": ".py",
   "mimetype": "text/x-python",
   "name": "python",
   "nbconvert_exporter": "python",
   "pygments_lexer": "ipython3",
   "version": "3.7.6"
  }
 },
 "nbformat": 4,
 "nbformat_minor": 4
}
