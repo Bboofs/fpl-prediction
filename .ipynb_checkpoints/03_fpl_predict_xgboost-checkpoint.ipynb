{
 "cells": [
  {
   "cell_type": "code",
   "execution_count": 67,
   "metadata": {},
   "outputs": [],
   "source": [
    "import xgboost as xgb\n",
    "from sklearn.metrics import mean_squared_error\n",
    "import pandas as pd\n",
    "import numpy as np\n",
    "from pathlib import Path\n",
    "from sklearn.preprocessing import LabelEncoder, OneHotEncoder\n",
    "from sklearn.model_selection import train_test_split, RandomizedSearchCV, PredefinedSplit\n",
    "from sklearn.feature_extraction import DictVectorizer\n",
    "from scipy.stats import uniform, randint\n",
    "from matplotlib import pyplot as plt\n",
    "from helpers import *"
   ]
  },
  {
   "cell_type": "code",
   "execution_count": 30,
   "metadata": {},
   "outputs": [],
   "source": [
    "# path to project directory\n",
    "path = Path('./')"
   ]
  },
  {
   "cell_type": "code",
   "execution_count": 31,
   "metadata": {},
   "outputs": [],
   "source": [
    "# read in training dataset\n",
    "train_df = pd.read_csv(path/'data/train_v4.csv', index_col=0, dtype={'season':str})"
   ]
  },
  {
   "cell_type": "markdown",
   "metadata": {},
   "source": [
    "## XGBoost model\n",
    "\n",
    "XGboost is another ensemble tree-based predictive algorithm that performs well across a range of applications. Preparation of the data is very similar to the random forest approach.\n",
    "\n",
    "Again this is a time series problem, where metrics from recent time periods can be predicitve, wo we need to add in window features (e.g. points scored last gameweek)."
   ]
  },
  {
   "cell_type": "code",
   "execution_count": 160,
   "metadata": {},
   "outputs": [],
   "source": [
    "# add a bunch of player lag features\n",
    "lag_train_df, team_lag_vars = team_lag_features(train_df, ['total_points'], ['all', 1, 2, 3, 4, 5, 10])\n",
    "lag_train_df, player_lag_vars = player_lag_features(lag_train_df, ['total_points'], \n",
    "                                                    ['all', 1, 2, 3, 4, 5, 10])"
   ]
  },
  {
   "cell_type": "markdown",
   "metadata": {},
   "source": [
    "We have introduced a number of lag (window) features for each player's points per game, their team's points per game and the opposition team's points per game over the previous 1, 2, 3, 4, 5, 10 and all gameweeks.\n",
    "\n",
    "Next we can set the validation point and length as well as the categorical and continuous features we'll be using to predict the dependent variable, total points for each game. These are used in the create_lag_train function to get an our training set (including appropriate lag values in the validation set).\n",
    "\n",
    "The gameweeks and seasons are ordered, so we want to have them as ordered categories with the correct order (2016-17 is before 2017-18 etc.)."
   ]
  },
  {
   "cell_type": "code",
   "execution_count": 161,
   "metadata": {},
   "outputs": [],
   "source": [
    "# set validaton point/length and categorical/continuous variables\n",
    "valid_season = '1920'\n",
    "valid_gw = 20\n",
    "valid_len = 6\n",
    "# cat_vars = ['season', 'position', 'team', 'opponent_team', 'was_home']\n",
    "cat_vars = ['season', 'position', 'was_home']\n",
    "cont_vars = ['gw', 'minutes']\n",
    "dep_var = ['total_points']"
   ]
  },
  {
   "cell_type": "code",
   "execution_count": 162,
   "metadata": {},
   "outputs": [],
   "source": [
    "# we want to set gw and season as ordered categorical variables\n",
    "# need lists with ordered categories\n",
    "ordered_gws = list(range(1,39))\n",
    "ordered_seasons = ['1617', '1718', '1819', '1920']\n",
    "\n",
    "# set as categories with correct order \n",
    "lag_train_df['gw'] = lag_train_df['gw'].astype('category')\n",
    "lag_train_df['season'] = lag_train_df['season'].astype('category')\n",
    "\n",
    "lag_train_df['gw'].cat.set_categories(ordered_gws, ordered=True, inplace=True)\n",
    "lag_train_df['season'].cat.set_categories(ordered_seasons, ordered=True, inplace=True)"
   ]
  },
  {
   "cell_type": "code",
   "execution_count": 163,
   "metadata": {},
   "outputs": [],
   "source": [
    "# create dataset with adjusted post-validation lag numbers\n",
    "train_valid_df, train_idx, valid_idx = create_lag_train(lag_train_df, \n",
    "                                                      cat_vars, cont_vars, \n",
    "                                                      player_lag_vars, team_lag_vars, dep_var,\n",
    "                                                      valid_season, valid_gw, valid_len)"
   ]
  },
  {
   "cell_type": "code",
   "execution_count": 164,
   "metadata": {},
   "outputs": [
    {
     "name": "stdout",
     "output_type": "stream",
     "text": [
      "<class 'pandas.core.frame.DataFrame'>\n",
      "RangeIndex: 82054 entries, 0 to 82053\n",
      "Data columns (total 37 columns):\n",
      "gw                                        82054 non-null category\n",
      "minutes                                   82054 non-null int64\n",
      "minutes_last_1                            81953 non-null float64\n",
      "minutes_last_10                           81953 non-null float64\n",
      "minutes_last_2                            81953 non-null float64\n",
      "minutes_last_3                            81953 non-null float64\n",
      "minutes_last_4                            81953 non-null float64\n",
      "minutes_last_5                            81953 non-null float64\n",
      "minutes_last_all                          81953 non-null float64\n",
      "opponent_team                             82054 non-null object\n",
      "player                                    82054 non-null object\n",
      "position                                  82054 non-null int64\n",
      "season                                    82054 non-null category\n",
      "team                                      82054 non-null object\n",
      "total_points                              82054 non-null int64\n",
      "total_points_pg_last_1                    37877 non-null float64\n",
      "total_points_pg_last_10                   57642 non-null float64\n",
      "total_points_pg_last_2                    44331 non-null float64\n",
      "total_points_pg_last_3                    47806 non-null float64\n",
      "total_points_pg_last_4                    50291 non-null float64\n",
      "total_points_pg_last_5                    52086 non-null float64\n",
      "total_points_pg_last_all                  68666 non-null float64\n",
      "total_points_team_pg_last_1               81297 non-null float64\n",
      "total_points_team_pg_last_10              81297 non-null float64\n",
      "total_points_team_pg_last_10_opponent     81295 non-null float64\n",
      "total_points_team_pg_last_1_opponent      81295 non-null float64\n",
      "total_points_team_pg_last_2               81297 non-null float64\n",
      "total_points_team_pg_last_2_opponent      81295 non-null float64\n",
      "total_points_team_pg_last_3               81297 non-null float64\n",
      "total_points_team_pg_last_3_opponent      81295 non-null float64\n",
      "total_points_team_pg_last_4               81297 non-null float64\n",
      "total_points_team_pg_last_4_opponent      81295 non-null float64\n",
      "total_points_team_pg_last_5               81297 non-null float64\n",
      "total_points_team_pg_last_5_opponent      81295 non-null float64\n",
      "total_points_team_pg_last_all             81297 non-null float64\n",
      "total_points_team_pg_last_all_opponent    81295 non-null float64\n",
      "was_home                                  82054 non-null bool\n",
      "dtypes: bool(1), category(2), float64(28), int64(3), object(3)\n",
      "memory usage: 21.5+ MB\n"
     ]
    }
   ],
   "source": [
    "# take a look at the dataframe\n",
    "train_valid_df.info()"
   ]
  },
  {
   "cell_type": "markdown",
   "metadata": {},
   "source": [
    "We can now build the input (X) and dependent (y) variable datasets. Again this includes encoding the categorical features so that each level is represented in it's own column (e.g. postition_1, position_2, etc.)."
   ]
  },
  {
   "cell_type": "code",
   "execution_count": 165,
   "metadata": {},
   "outputs": [],
   "source": [
    "# split out dependent variable\n",
    "X, y = train_valid_df[cat_vars + cont_vars + player_lag_vars + team_lag_vars].copy(), train_valid_df[dep_var].copy()"
   ]
  },
  {
   "cell_type": "code",
   "execution_count": 166,
   "metadata": {},
   "outputs": [],
   "source": [
    "# since position is categorical, it should be a string\n",
    "X['position'] = X['position'].apply(str)\n",
    "\n",
    "# need to transform season\n",
    "enc = LabelEncoder()\n",
    "X['season'] = enc.fit_transform(X['season'])\n",
    "X_dict = X.to_dict(\"records\")\n",
    "\n",
    "# Create the DictVectorizer object: dv\n",
    "dv = DictVectorizer(sparse=False, separator='_')\n",
    "\n",
    "# Apply dv on df: df_encoded\n",
    "X_encoded = dv.fit_transform(X_dict)\n",
    "\n",
    "X_df = pd.DataFrame(X_encoded, columns=dv.feature_names_)"
   ]
  },
  {
   "cell_type": "markdown",
   "metadata": {},
   "source": [
    "You can see the resulting dataset with the categorical features split out into levels. This can now be used in the XGBoost API."
   ]
  },
  {
   "cell_type": "code",
   "execution_count": 167,
   "metadata": {},
   "outputs": [
    {
     "name": "stdout",
     "output_type": "stream",
     "text": [
      "<class 'pandas.core.frame.DataFrame'>\n",
      "RangeIndex: 82054 entries, 0 to 82053\n",
      "Data columns (total 36 columns):\n",
      "gw                                        82054 non-null float64\n",
      "minutes                                   82054 non-null float64\n",
      "minutes_last_1                            81953 non-null float64\n",
      "minutes_last_10                           81953 non-null float64\n",
      "minutes_last_2                            81953 non-null float64\n",
      "minutes_last_3                            81953 non-null float64\n",
      "minutes_last_4                            81953 non-null float64\n",
      "minutes_last_5                            81953 non-null float64\n",
      "minutes_last_all                          81953 non-null float64\n",
      "position_1                                82054 non-null float64\n",
      "position_2                                82054 non-null float64\n",
      "position_3                                82054 non-null float64\n",
      "position_4                                82054 non-null float64\n",
      "season                                    82054 non-null float64\n",
      "total_points_pg_last_1                    37877 non-null float64\n",
      "total_points_pg_last_10                   57642 non-null float64\n",
      "total_points_pg_last_2                    44331 non-null float64\n",
      "total_points_pg_last_3                    47806 non-null float64\n",
      "total_points_pg_last_4                    50291 non-null float64\n",
      "total_points_pg_last_5                    52086 non-null float64\n",
      "total_points_pg_last_all                  68666 non-null float64\n",
      "total_points_team_pg_last_1               81297 non-null float64\n",
      "total_points_team_pg_last_10              81297 non-null float64\n",
      "total_points_team_pg_last_10_opponent     81295 non-null float64\n",
      "total_points_team_pg_last_1_opponent      81295 non-null float64\n",
      "total_points_team_pg_last_2               81297 non-null float64\n",
      "total_points_team_pg_last_2_opponent      81295 non-null float64\n",
      "total_points_team_pg_last_3               81297 non-null float64\n",
      "total_points_team_pg_last_3_opponent      81295 non-null float64\n",
      "total_points_team_pg_last_4               81297 non-null float64\n",
      "total_points_team_pg_last_4_opponent      81295 non-null float64\n",
      "total_points_team_pg_last_5               81297 non-null float64\n",
      "total_points_team_pg_last_5_opponent      81295 non-null float64\n",
      "total_points_team_pg_last_all             81297 non-null float64\n",
      "total_points_team_pg_last_all_opponent    81295 non-null float64\n",
      "was_home                                  82054 non-null float64\n",
      "dtypes: float64(36)\n",
      "memory usage: 22.5 MB\n"
     ]
    }
   ],
   "source": [
    "X_df.info()"
   ]
  },
  {
   "cell_type": "code",
   "execution_count": 168,
   "metadata": {},
   "outputs": [
    {
     "name": "stdout",
     "output_type": "stream",
     "text": [
      "<class 'pandas.core.frame.DataFrame'>\n",
      "RangeIndex: 82054 entries, 0 to 82053\n",
      "Data columns (total 28 columns):\n",
      "minutes_last_all                          81953 non-null float64\n",
      "minutes_last_1                            81953 non-null float64\n",
      "minutes_last_2                            81953 non-null float64\n",
      "minutes_last_3                            81953 non-null float64\n",
      "minutes_last_4                            81953 non-null float64\n",
      "minutes_last_5                            81953 non-null float64\n",
      "minutes_last_10                           81953 non-null float64\n",
      "total_points_pg_last_all                  68666 non-null float64\n",
      "total_points_pg_last_1                    37877 non-null float64\n",
      "total_points_pg_last_2                    44331 non-null float64\n",
      "total_points_pg_last_3                    47806 non-null float64\n",
      "total_points_pg_last_4                    50291 non-null float64\n",
      "total_points_pg_last_5                    52086 non-null float64\n",
      "total_points_pg_last_10                   57642 non-null float64\n",
      "total_points_team_pg_last_all             81297 non-null float64\n",
      "total_points_team_pg_last_1               81297 non-null float64\n",
      "total_points_team_pg_last_2               81297 non-null float64\n",
      "total_points_team_pg_last_3               81297 non-null float64\n",
      "total_points_team_pg_last_4               81297 non-null float64\n",
      "total_points_team_pg_last_5               81297 non-null float64\n",
      "total_points_team_pg_last_10              81297 non-null float64\n",
      "total_points_team_pg_last_all_opponent    81295 non-null float64\n",
      "total_points_team_pg_last_1_opponent      81295 non-null float64\n",
      "total_points_team_pg_last_2_opponent      81295 non-null float64\n",
      "total_points_team_pg_last_3_opponent      81295 non-null float64\n",
      "total_points_team_pg_last_4_opponent      81295 non-null float64\n",
      "total_points_team_pg_last_5_opponent      81295 non-null float64\n",
      "total_points_team_pg_last_10_opponent     81295 non-null float64\n",
      "dtypes: float64(28)\n",
      "memory usage: 17.5 MB\n"
     ]
    }
   ],
   "source": [
    "X[player_lag_vars + team_lag_vars].info()"
   ]
  },
  {
   "cell_type": "markdown",
   "metadata": {},
   "source": [
    "Once again we need to split out the validation set and use it after training to create predictions and calculate the error.\n",
    "\n",
    "Finally we instatiate an XGBRegressor (since the dependent variable is continuous) and do a single train with arbitrary parameters."
   ]
  },
  {
   "cell_type": "code",
   "execution_count": 209,
   "metadata": {},
   "outputs": [],
   "source": [
    "# split out training and validation sets\n",
    "X_train = X_df.iloc[train_idx]\n",
    "y_train = y.iloc[train_idx]\n",
    "X_test = X_df.iloc[valid_idx]\n",
    "y_test = y.iloc[valid_idx]"
   ]
  },
  {
   "cell_type": "code",
   "execution_count": 206,
   "metadata": {},
   "outputs": [],
   "source": [
    "# X_train_mins = X_train[X_train['minutes'] > 10]\n",
    "# y_train_mins = y_train[X_train['minutes'] > 10]\n",
    "# X_test_mins = X_test[X_test['minutes'] > 10]\n",
    "# y_test_mins = y_test[X_test['minutes'] > 10]"
   ]
  },
  {
   "cell_type": "code",
   "execution_count": 64,
   "metadata": {},
   "outputs": [],
   "source": [
    "def xgb___(xs, y, gamma=0.3, learning_rate=0.08, max_depth=4, \n",
    "        n_estimators=50, subsample=0.7, **kwargs):\n",
    "    return RandomForestRegressor(n_jobs=-1, gamma=gamma,\n",
    "        learning_rate=learning_rate, max_depth=max-depth,\n",
    "        n_estimators=n_estimators, subsample=subsample).fit(xs, y)"
   ]
  },
  {
   "cell_type": "code",
   "execution_count": 214,
   "metadata": {},
   "outputs": [
    {
     "name": "stdout",
     "output_type": "stream",
     "text": [
      "RMSE: 1.781489\n"
     ]
    }
   ],
   "source": [
    "# instatiate and train XGB Regressor\n",
    "# print result\n",
    "# xg_reg = xgb.XGBRegressor(gamma=0.05, learning_rate=0.08, max_depth=5, n_estimators=75, subsample=0.7)\n",
    "xg_reg = xgb.XGBRegressor(objective=\"reg:squarederror\", \n",
    "                          gamma=0.3, learning_rate=0.08, max_depth=4, n_estimators=50, subsample=0.7)\n",
    "\n",
    "xg_reg.fit(X_train, y_train)\n",
    "preds = xg_reg.predict(X_test)\n",
    "print(\"RMSE: %f\" % (r_mse(preds, y_test['total_points'])))"
   ]
  },
  {
   "cell_type": "code",
   "execution_count": 217,
   "metadata": {},
   "outputs": [
    {
     "data": {
      "text/plain": [
       "0.847815"
      ]
     },
     "execution_count": 217,
     "metadata": {},
     "output_type": "execute_result"
    }
   ],
   "source": [
    "mae(preds, y_test['total_points'])\n",
    "# mae(preds[X_test['minutes'] > 0], y_test[X_test['minutes'] > 0]['total_points'])"
   ]
  },
  {
   "cell_type": "markdown",
   "metadata": {},
   "source": [
    "This is another clear improvement on the previous best (random forest), but perhaps it can be improved by doing a parameter search.\n",
    "\n",
    "To do this we will first define the grid of parameters to be searched."
   ]
  },
  {
   "cell_type": "code",
   "execution_count": 44,
   "metadata": {},
   "outputs": [],
   "source": [
    "# parameter search space\n",
    "params = {#\"colsample_bytree\": uniform(0.7, 0.3),\n",
    "          \"gamma\": uniform(0, 0.5),\n",
    "          \"learning_rate\": uniform(0.003, 0.3), # default 0.1 \n",
    "          \"max_depth\": randint(2, 6), # default 3\n",
    "          \"n_estimators\": randint(25, 200), # default 100\n",
    "          \"subsample\": uniform(0.6, 0.4)}"
   ]
  },
  {
   "cell_type": "markdown",
   "metadata": {},
   "source": [
    "In this case we will pass both train and validation parts of the dataset, along with a series telling the XGBRegressor object which rows to use for training, and which for validation."
   ]
  },
  {
   "cell_type": "code",
   "execution_count": 45,
   "metadata": {},
   "outputs": [],
   "source": [
    "X_train = X_df\n",
    "y_train = y\n",
    "test_fold = np.repeat([-1, 0], [valid_idx[0], valid_idx[-1] - valid_idx[0] + 1])\n",
    "ps = PredefinedSplit(test_fold)"
   ]
  },
  {
   "cell_type": "markdown",
   "metadata": {},
   "source": [
    "We can then again instatiate the XGBRegressor object, but this time pass it to a randomised search validation object, along with the parameter grid, validation splits, and number of iterations we want to run.\n",
    "\n",
    "We then fit this to the training data - 25 random parameter selections will be made and the best parameters for the validation set can be found (may take a few minutes to run)."
   ]
  },
  {
   "cell_type": "code",
   "execution_count": 47,
   "metadata": {},
   "outputs": [
    {
     "name": "stdout",
     "output_type": "stream",
     "text": [
      "Fitting 1 folds for each of 100 candidates, totalling 100 fits\n"
     ]
    },
    {
     "name": "stderr",
     "output_type": "stream",
     "text": [
      "[Parallel(n_jobs=1)]: Using backend SequentialBackend with 1 concurrent workers.\n",
      "[Parallel(n_jobs=1)]: Done 100 out of 100 | elapsed: 26.3min finished\n"
     ]
    },
    {
     "name": "stdout",
     "output_type": "stream",
     "text": [
      "Best parameters found:  {'gamma': 0.42452228760659744, 'learning_rate': 0.04758380750072459, 'max_depth': 4, 'n_estimators': 171, 'subsample': 0.6041370221508194}\n",
      "Lowest RMSE found:  1.7784402375112303\n"
     ]
    }
   ],
   "source": [
    "# Instantiate the regressor: gbm\n",
    "gbm = xgb.XGBRegressor(objective=\"reg:squarederror\")\n",
    "\n",
    "# Perform random search: grid_mse\n",
    "randomized_mse = RandomizedSearchCV(estimator=gbm, \n",
    "                            param_distributions=params, \n",
    "                            scoring=\"neg_mean_squared_error\", \n",
    "                            n_iter=100, \n",
    "                            cv=ps, \n",
    "                            verbose=1)\n",
    "\n",
    "# Fit randomized_mse to the data\n",
    "randomized_mse.fit(X_train, y_train)\n",
    "\n",
    "# Print the best parameters and lowest RMSE\n",
    "print(\"Best parameters found: \", randomized_mse.best_params_)\n",
    "print(\"Lowest RMSE found: \", np.sqrt(np.abs(randomized_mse.best_score_)))"
   ]
  },
  {
   "cell_type": "code",
   "execution_count": 86,
   "metadata": {},
   "outputs": [
    {
     "data": {
      "text/plain": [
       "0.83527"
      ]
     },
     "execution_count": 86,
     "metadata": {},
     "output_type": "execute_result"
    }
   ],
   "source": [
    "preds = randomized_mse.predict(X_test)\n",
    "mae(preds, y_test['total_points'])"
   ]
  },
  {
   "cell_type": "markdown",
   "metadata": {},
   "source": [
    "Another reasonable improvement on the above."
   ]
  },
  {
   "cell_type": "markdown",
   "metadata": {},
   "source": [
    "The XGBoost package also allows us to look at features importance, just like with Random Forest in sklearn."
   ]
  },
  {
   "cell_type": "code",
   "execution_count": 45,
   "metadata": {},
   "outputs": [
    {
     "data": {
      "image/png": "[encoded data removed]",
      "text/plain": [
       "<Figure size 432x288 with 1 Axes>"
      ]
     },
     "metadata": {
      "needs_background": "light"
     },
     "output_type": "display_data"
    }
   ],
   "source": [
    "xgb.plot_importance(xg_reg, max_num_features=15)\n",
    "plt.show()"
   ]
  },
  {
   "cell_type": "markdown",
   "metadata": {},
   "source": [
    "The top features look similar to previously, which is what we'd expect.\n",
    "\n",
    "Now we can go ahead and run validation across the whole 2019/20 season."
   ]
  },
  {
   "cell_type": "code",
   "execution_count": 49,
   "metadata": {},
   "outputs": [],
   "source": [
    "def xgb_season(df, valid_season='1920'):\n",
    "    # empty list for scores\n",
    "    scores = []\n",
    "    valid_len = 6\n",
    "\n",
    "    for valid_gw in range(1,34):\n",
    "        # create dataset with adjusted post-validation lag numbers\n",
    "        train_valid_df, train_idx, valid_idx = create_lag_train(lag_train_df, \n",
    "                                                        cat_vars, cont_vars, \n",
    "                                                        player_lag_vars, team_lag_vars, dep_var,\n",
    "                                                        valid_season, valid_gw, valid_len)\n",
    "\n",
    "        X, y = train_valid_df[cat_vars + cont_vars + player_lag_vars + team_lag_vars].copy(), train_valid_df[dep_var].copy()\n",
    "\n",
    "        # since position is categorical, it should be a string\n",
    "        X['position'] = X['position'].apply(str)\n",
    "\n",
    "        # need to transform season\n",
    "        enc = LabelEncoder()\n",
    "        X['season'] = enc.fit_transform(X['season'])\n",
    "        X_dict = X.to_dict(\"records\")\n",
    "\n",
    "        # Create the DictVectorizer object: dv\n",
    "        dv = DictVectorizer(sparse=False, separator='_')\n",
    "\n",
    "        # Apply dv on df: df_encoded\n",
    "        X_encoded = dv.fit_transform(X_dict)\n",
    "\n",
    "        X_df = pd.DataFrame(X_encoded, columns=dv.feature_names_)\n",
    "\n",
    "        # split out training and validation sets\n",
    "        X_train = X_df.iloc[train_idx]\n",
    "        y_train = y.iloc[train_idx]\n",
    "        X_test = X_df.iloc[valid_idx]\n",
    "        y_test = y.iloc[valid_idx]\n",
    "\n",
    "        # instatiate and train XGB Regressor\n",
    "        # xg_reg = xgb.XGBRegressor(gamma=0.05, learning_rate=0.08, max_depth=5, n_estimators=75, subsample=0.7)\n",
    "        xg_reg = xgb.XGBRegressor(objective=\"reg:squarederror\",\n",
    "                                  gamma=0.42, learning_rate=0.047, max_depth=4, n_estimators=171, subsample=0.6)\n",
    "\n",
    "        xg_reg.fit(X_train, y_train)\n",
    "        preds = xg_reg.predict(X_test)\n",
    "        gw_mae = mae(preds, y_test['total_points'])\n",
    "        print(\"GW%d MAE: %f\" % (valid_gw, gw_mae))\n",
    "\n",
    "        scores.append(gw_mae)\n",
    "        \n",
    "    return scores\n"
   ]
  },
  {
   "cell_type": "code",
   "execution_count": 50,
   "metadata": {},
   "outputs": [
    {
     "name": "stdout",
     "output_type": "stream",
     "text": [
      "GW1 MAE: 1.021820\n",
      "GW2 MAE: 1.000417\n",
      "GW3 MAE: 1.014818\n",
      "GW4 MAE: 0.962099\n",
      "GW5 MAE: 0.990377\n",
      "GW6 MAE: 1.001582\n",
      "GW7 MAE: 0.970430\n",
      "GW8 MAE: 0.983534\n",
      "GW9 MAE: 0.957087\n",
      "GW10 MAE: 0.972183\n",
      "GW11 MAE: 0.964617\n",
      "GW12 MAE: 0.945771\n",
      "GW13 MAE: 0.945942\n",
      "GW14 MAE: 0.933869\n",
      "GW15 MAE: 0.904744\n",
      "GW16 MAE: 0.889615\n",
      "GW17 MAE: 0.868028\n",
      "GW18 MAE: 0.867757\n",
      "GW19 MAE: 0.851423\n",
      "GW20 MAE: 0.851141\n",
      "GW21 MAE: 0.862401\n",
      "GW22 MAE: 0.848762\n",
      "GW23 MAE: 0.863959\n",
      "GW24 MAE: 0.861853\n",
      "GW25 MAE: 0.856602\n",
      "GW26 MAE: 0.830153\n",
      "GW27 MAE: 0.834965\n",
      "GW28 MAE: 0.834843\n",
      "GW29 MAE: 0.819144\n",
      "GW30 MAE: 0.835185\n",
      "GW31 MAE: 0.818470\n",
      "GW32 MAE: 0.820157\n",
      "GW33 MAE: 0.796688\n"
     ]
    }
   ],
   "source": [
    "scores = xgb_season(lag_train_df)"
   ]
  },
  {
   "cell_type": "code",
   "execution_count": 51,
   "metadata": {},
   "outputs": [
    {
     "data": {
      "image/png": "[encoded data removed]",
      "text/plain": [
       "<Figure size 432x288 with 1 Axes>"
      ]
     },
     "metadata": {
      "needs_background": "light"
     },
     "output_type": "display_data"
    }
   ],
   "source": [
    "plt.plot(scores)\n",
    "plt.ylabel('GW MAE')\n",
    "plt.xlabel('GW')\n",
    "plt.text(15, 1, 'Season Avg MAE: %.2f' % np.mean(scores), bbox={'facecolor':'white', 'alpha':1, 'pad':5})\n",
    "plt.show()"
   ]
  },
  {
   "cell_type": "markdown",
   "metadata": {},
   "source": [
    "It appears that the improvement is sustained across the whole season, which is good to see, and we see the same improvement in performance across the season.\n",
    "\n",
    "Finally, in the next notebook we'll move away from tree-based algorithms and try a neural network with embeddings."
   ]
  },
  {
   "cell_type": "code",
   "execution_count": null,
   "metadata": {},
   "outputs": [],
   "source": []
  }
 ],
 "metadata": {
  "kernelspec": {
   "display_name": "Python 3",
   "language": "python",
   "name": "python3"
  },
  "language_info": {
   "codemirror_mode": {
    "name": "ipython",
    "version": 3
   },
   "file_extension": ".py",
   "mimetype": "text/x-python",
   "name": "python",
   "nbconvert_exporter": "python",
   "pygments_lexer": "ipython3",
   "version": "3.7.4"
  }
 },
 "nbformat": 4,
 "nbformat_minor": 2
}
